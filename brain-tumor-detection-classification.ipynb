{
 "cells": [
  {
   "cell_type": "markdown",
   "id": "791397ba",
   "metadata": {
    "papermill": {
     "duration": 0.013291,
     "end_time": "2022-06-19T07:27:25.762207",
     "exception": false,
     "start_time": "2022-06-19T07:27:25.748916",
     "status": "completed"
    },
    "tags": []
   },
   "source": [
    "# What are Brain Tumors?"
   ]
  },
  {
   "cell_type": "markdown",
   "id": "a853775f",
   "metadata": {
    "papermill": {
     "duration": 0.013107,
     "end_time": "2022-06-19T07:27:25.786824",
     "exception": false,
     "start_time": "2022-06-19T07:27:25.773717",
     "status": "completed"
    },
    "tags": []
   },
   "source": [
    "A brain tumor is a mass or growth of abnormal cells in your brain.\n",
    "\n",
    "Many different types of brain tumors exist. Some brain tumors are noncancerous (benign), and some brain tumors are cancerous (malignant). Brain tumors can begin in your brain (primary brain tumors), or cancer can begin in other parts of your body and spread to your brain as secondary (metastatic) brain tumors."
   ]
  },
  {
   "cell_type": "markdown",
   "id": "21b3140c",
   "metadata": {
    "papermill": {
     "duration": 0.013879,
     "end_time": "2022-06-19T07:27:25.815125",
     "exception": false,
     "start_time": "2022-06-19T07:27:25.801246",
     "status": "completed"
    },
    "tags": []
   },
   "source": [
    "<div>\n",
    "<img src=\"https://www.mayoclinic.org/-/media/kcms/gbs/patient-consumer/images/2014/10/30/15/17/mcdc7_brain_cancer-8col.jpg\" alt=\"brain_tumor_image\" style=\"width: 300px;\"/>\n",
    "</div>"
   ]
  },
  {
   "cell_type": "markdown",
   "id": "051c17be",
   "metadata": {
    "papermill": {
     "duration": 0.011171,
     "end_time": "2022-06-19T07:27:25.838721",
     "exception": false,
     "start_time": "2022-06-19T07:27:25.827550",
     "status": "completed"
    },
    "tags": []
   },
   "source": [
    "## In this Notebook we speak about 4 types of Brain Tumors"
   ]
  },
  {
   "cell_type": "markdown",
   "id": "03085fcc",
   "metadata": {
    "papermill": {
     "duration": 0.011151,
     "end_time": "2022-06-19T07:27:25.861922",
     "exception": false,
     "start_time": "2022-06-19T07:27:25.850771",
     "status": "completed"
    },
    "tags": []
   },
   "source": [
    "### 1. Glioma\n",
    "\n",
    "Glioma is a type of tumor that occurs in the brain and spinal cord. Gliomas begin in the gluey supportive cells (glial cells) that surround nerve cells and help them function. Three types of glial cells can produce tumors. A glioma can affect your brain function and be life-threatening depending on its location and rate of growth.\n",
    "Gliomas are one of the most common types of primary brain tumors."
   ]
  },
  {
   "cell_type": "markdown",
   "id": "8c7683c1",
   "metadata": {
    "papermill": {
     "duration": 0.011287,
     "end_time": "2022-06-19T07:27:25.885456",
     "exception": false,
     "start_time": "2022-06-19T07:27:25.874169",
     "status": "completed"
    },
    "tags": []
   },
   "source": [
    "<div>\n",
    "    <img src=\"https://assets.cureus.com/uploads/figure/file/164887/lightbox_0a114f70280b11eb8f411b16d840121c-final-2.png\" style=\"width:600px;\"/>\n",
    "</div>"
   ]
  },
  {
   "cell_type": "markdown",
   "id": "f4f26c7f",
   "metadata": {
    "papermill": {
     "duration": 0.0111,
     "end_time": "2022-06-19T07:27:25.908045",
     "exception": false,
     "start_time": "2022-06-19T07:27:25.896945",
     "status": "completed"
    },
    "tags": []
   },
   "source": [
    "### 2. Meningioma\n",
    "\n",
    "A meningioma is a tumor that arises from the meninges — the membranes that surround the brain and spinal cord. Although not technically a brain tumor, it is included in this category because it may compress or squeeze the adjacent brain, nerves and vessels. Meningioma is the most common type of tumor that forms in the head.\n",
    "Most meningiomas grow very slowly, often over many years without causing symptoms. But sometimes, their effects on nearby brain tissue, nerves or vessels may cause serious disability."
   ]
  },
  {
   "cell_type": "markdown",
   "id": "4a3e191b",
   "metadata": {
    "papermill": {
     "duration": 0.013976,
     "end_time": "2022-06-19T07:27:25.933559",
     "exception": false,
     "start_time": "2022-06-19T07:27:25.919583",
     "status": "completed"
    },
    "tags": []
   },
   "source": [
    "<div>\n",
    "    <img src=\"https://encrypted-tbn0.gstatic.com/images?q=tbn:ANd9GcTjOeFTen8qxZfMRwXKXQlwUN0TWkMPMvzfig&usqp=CAU\" style=\"width:700px;\">\n",
    "</div>"
   ]
  },
  {
   "cell_type": "markdown",
   "id": "a66a1811",
   "metadata": {
    "papermill": {
     "duration": 0.011938,
     "end_time": "2022-06-19T07:27:25.957070",
     "exception": false,
     "start_time": "2022-06-19T07:27:25.945132",
     "status": "completed"
    },
    "tags": []
   },
   "source": [
    "### 3. Pituitary Tumors (Adenoma)\n",
    "\n",
    "Pituitary tumors are abnormal growths that develop in your pituitary gland. Some pituitary tumors result in too much of the hormones that regulate important functions of your body. Some pituitary tumors can cause your pituitary gland to produce lower levels of hormones. Most pituitary tumors are noncancerous (benign) growths (adenomas). Adenomas remain in your pituitary gland or surrounding tissues and don't spread to other parts of your body."
   ]
  },
  {
   "cell_type": "markdown",
   "id": "7a4eb2a6",
   "metadata": {
    "papermill": {
     "duration": 0.011782,
     "end_time": "2022-06-19T07:27:25.981414",
     "exception": false,
     "start_time": "2022-06-19T07:27:25.969632",
     "status": "completed"
    },
    "tags": []
   },
   "source": [
    "<div>\n",
    "    <img src=\"https://assets.cureus.com/uploads/figure/file/71851/lightbox_0e62470096cb11e989a2d7e4904c7be4-Figure-2a.png\" style=\"width:500px;\"/>\n",
    "</div>"
   ]
  },
  {
   "cell_type": "code",
   "execution_count": 1,
   "id": "3bfb1aab",
   "metadata": {
    "_cell_guid": "b1076dfc-b9ad-4769-8c92-a6c4dae69d19",
    "_uuid": "8f2839f25d086af736a60e9eeb907d3b93b6e0e5",
    "execution": {
     "iopub.execute_input": "2022-06-19T07:27:26.007302Z",
     "iopub.status.busy": "2022-06-19T07:27:26.006408Z",
     "iopub.status.idle": "2022-06-19T07:27:26.019623Z",
     "shell.execute_reply": "2022-06-19T07:27:26.018188Z"
    },
    "papermill": {
     "duration": 0.02957,
     "end_time": "2022-06-19T07:27:26.022597",
     "exception": false,
     "start_time": "2022-06-19T07:27:25.993027",
     "status": "completed"
    },
    "tags": []
   },
   "outputs": [],
   "source": [
    "# This Python 3 environment comes with many helpful analytics libraries installed\n",
    "# It is defined by the kaggle/python Docker image: https://github.com/kaggle/docker-python\n",
    "# For example, here's several helpful packages to load\n",
    "\n",
    "# import numpy as np # linear algebra\n",
    "# import pandas as pd # data processing, CSV file I/O (e.g. pd.read_csv)\n",
    "\n",
    "# Input data files are available in the read-only \"../input/\" directory\n",
    "# For example, running this (by clicking run or pressing Shift+Enter) will list all files under the input directory\n",
    "\n",
    "import os\n",
    "# for dirname, _, filenames in os.walk('/kaggle/input'):\n",
    "#     for filename in filenames:\n",
    "#         print(os.path.join(dirname, filename))\n",
    "\n",
    "# You can write up to 20GB to the current directory (/kaggle/working/) that gets preserved as output when you create a version using \"Save & Run All\" \n",
    "# You can also write temporary files to /kaggle/temp/, but they won't be saved outside of the current session"
   ]
  },
  {
   "cell_type": "markdown",
   "id": "2c789cd9",
   "metadata": {
    "papermill": {
     "duration": 0.011136,
     "end_time": "2022-06-19T07:27:26.045505",
     "exception": false,
     "start_time": "2022-06-19T07:27:26.034369",
     "status": "completed"
    },
    "tags": []
   },
   "source": [
    "## Importing the Libraries"
   ]
  },
  {
   "cell_type": "code",
   "execution_count": 2,
   "id": "400d2702",
   "metadata": {
    "execution": {
     "iopub.execute_input": "2022-06-19T07:27:26.070560Z",
     "iopub.status.busy": "2022-06-19T07:27:26.070062Z",
     "iopub.status.idle": "2022-06-19T07:27:33.531543Z",
     "shell.execute_reply": "2022-06-19T07:27:33.530522Z"
    },
    "papermill": {
     "duration": 7.477376,
     "end_time": "2022-06-19T07:27:33.534363",
     "exception": false,
     "start_time": "2022-06-19T07:27:26.056987",
     "status": "completed"
    },
    "tags": []
   },
   "outputs": [],
   "source": [
    "import numpy as np\n",
    "import pandas as pd\n",
    "import matplotlib.pyplot as plt\n",
    "import tensorflow as tf\n",
    "from tensorflow.keras.preprocessing import image\n",
    "from tensorflow.keras.preprocessing.image import ImageDataGenerator\n",
    "from tensorflow.keras.models import Sequential\n",
    "from tensorflow.keras.layers import Conv2D\n",
    "from tensorflow.keras.layers import MaxPool2D\n",
    "from tensorflow.keras.layers import Flatten\n",
    "from tensorflow.keras.layers import Dense\n",
    "from tensorflow.keras.activations import relu\n",
    "from tensorflow.keras.activations import softmax\n",
    "from tensorflow.keras.initializers import HeNormal\n",
    "from tensorflow.keras.initializers import HeUniform\n",
    "from tensorflow.keras.layers import Dropout\n",
    "from tensorflow.keras.optimizers import Adam\n",
    "from tensorflow.keras.callbacks import EarlyStopping"
   ]
  },
  {
   "cell_type": "markdown",
   "id": "2f037257",
   "metadata": {
    "papermill": {
     "duration": 0.011296,
     "end_time": "2022-06-19T07:27:33.557385",
     "exception": false,
     "start_time": "2022-06-19T07:27:33.546089",
     "status": "completed"
    },
    "tags": []
   },
   "source": [
    "## Preparing the Dataset"
   ]
  },
  {
   "cell_type": "markdown",
   "id": "655c487a",
   "metadata": {
    "papermill": {
     "duration": 0.011036,
     "end_time": "2022-06-19T07:27:33.579941",
     "exception": false,
     "start_time": "2022-06-19T07:27:33.568905",
     "status": "completed"
    },
    "tags": []
   },
   "source": [
    "### Preparing Training Images"
   ]
  },
  {
   "cell_type": "code",
   "execution_count": 3,
   "id": "2d37c2b7",
   "metadata": {
    "execution": {
     "iopub.execute_input": "2022-06-19T07:27:33.605099Z",
     "iopub.status.busy": "2022-06-19T07:27:33.604249Z",
     "iopub.status.idle": "2022-06-19T07:27:33.610539Z",
     "shell.execute_reply": "2022-06-19T07:27:33.609308Z"
    },
    "papermill": {
     "duration": 0.021604,
     "end_time": "2022-06-19T07:27:33.612868",
     "exception": false,
     "start_time": "2022-06-19T07:27:33.591264",
     "status": "completed"
    },
    "tags": []
   },
   "outputs": [],
   "source": [
    "train_data_gen = ImageDataGenerator(rescale=1./255,\n",
    "                                    shear_range=0.2,\n",
    "                                    rotation_range=2,\n",
    "                                    zoom_range=0.2,\n",
    "                                    horizontal_flip=True,\n",
    "                                    vertical_flip=True)"
   ]
  },
  {
   "cell_type": "code",
   "execution_count": 4,
   "id": "4876d9cb",
   "metadata": {
    "execution": {
     "iopub.execute_input": "2022-06-19T07:27:33.639686Z",
     "iopub.status.busy": "2022-06-19T07:27:33.639205Z",
     "iopub.status.idle": "2022-06-19T07:27:38.978577Z",
     "shell.execute_reply": "2022-06-19T07:27:38.977005Z"
    },
    "papermill": {
     "duration": 5.35634,
     "end_time": "2022-06-19T07:27:38.982518",
     "exception": false,
     "start_time": "2022-06-19T07:27:33.626178",
     "status": "completed"
    },
    "tags": []
   },
   "outputs": [
    {
     "name": "stdout",
     "output_type": "stream",
     "text": [
      "Found 5712 images belonging to 4 classes.\n"
     ]
    }
   ],
   "source": [
    "training_set = train_data_gen.flow_from_directory(directory=\"../input/brain-tumor-mri-dataset/Training\",\n",
    "                                                  target_size=(192,192),\n",
    "                                                  class_mode='categorical',\n",
    "                                                  batch_size=32)"
   ]
  },
  {
   "cell_type": "markdown",
   "id": "38e5579e",
   "metadata": {
    "papermill": {
     "duration": 0.011113,
     "end_time": "2022-06-19T07:27:39.006004",
     "exception": false,
     "start_time": "2022-06-19T07:27:38.994891",
     "status": "completed"
    },
    "tags": []
   },
   "source": [
    "### Preparing Validation Images"
   ]
  },
  {
   "cell_type": "code",
   "execution_count": 5,
   "id": "4164f5d8",
   "metadata": {
    "execution": {
     "iopub.execute_input": "2022-06-19T07:27:39.031580Z",
     "iopub.status.busy": "2022-06-19T07:27:39.030409Z",
     "iopub.status.idle": "2022-06-19T07:27:39.036479Z",
     "shell.execute_reply": "2022-06-19T07:27:39.035428Z"
    },
    "papermill": {
     "duration": 0.020826,
     "end_time": "2022-06-19T07:27:39.038399",
     "exception": false,
     "start_time": "2022-06-19T07:27:39.017573",
     "status": "completed"
    },
    "tags": []
   },
   "outputs": [],
   "source": [
    "validation_data_gen = ImageDataGenerator(rescale=1./255)"
   ]
  },
  {
   "cell_type": "code",
   "execution_count": 6,
   "id": "8e380bd0",
   "metadata": {
    "execution": {
     "iopub.execute_input": "2022-06-19T07:27:39.065220Z",
     "iopub.status.busy": "2022-06-19T07:27:39.064522Z",
     "iopub.status.idle": "2022-06-19T07:27:39.280105Z",
     "shell.execute_reply": "2022-06-19T07:27:39.278481Z"
    },
    "papermill": {
     "duration": 0.232268,
     "end_time": "2022-06-19T07:27:39.282686",
     "exception": false,
     "start_time": "2022-06-19T07:27:39.050418",
     "status": "completed"
    },
    "tags": []
   },
   "outputs": [
    {
     "name": "stdout",
     "output_type": "stream",
     "text": [
      "Found 1311 images belonging to 4 classes.\n"
     ]
    }
   ],
   "source": [
    "validation_set = validation_data_gen.flow_from_directory(directory=\"../input/brain-tumor-mri-dataset/Testing\",\n",
    "                                                        target_size=(192,192),\n",
    "                                                        class_mode='categorical',\n",
    "                                                        batch_size=32)"
   ]
  },
  {
   "cell_type": "markdown",
   "id": "a265c56e",
   "metadata": {
    "papermill": {
     "duration": 0.011181,
     "end_time": "2022-06-19T07:27:39.306411",
     "exception": false,
     "start_time": "2022-06-19T07:27:39.295230",
     "status": "completed"
    },
    "tags": []
   },
   "source": [
    "### How the dataset looks ?"
   ]
  },
  {
   "cell_type": "code",
   "execution_count": 7,
   "id": "8e2baecb",
   "metadata": {
    "execution": {
     "iopub.execute_input": "2022-06-19T07:27:39.331663Z",
     "iopub.status.busy": "2022-06-19T07:27:39.331171Z",
     "iopub.status.idle": "2022-06-19T07:27:39.915014Z",
     "shell.execute_reply": "2022-06-19T07:27:39.913797Z"
    },
    "papermill": {
     "duration": 0.599594,
     "end_time": "2022-06-19T07:27:39.917713",
     "exception": false,
     "start_time": "2022-06-19T07:27:39.318119",
     "status": "completed"
    },
    "tags": []
   },
   "outputs": [],
   "source": [
    "imgs, labels = next(training_set)"
   ]
  },
  {
   "cell_type": "code",
   "execution_count": 8,
   "id": "2e0d024c",
   "metadata": {
    "execution": {
     "iopub.execute_input": "2022-06-19T07:27:39.943871Z",
     "iopub.status.busy": "2022-06-19T07:27:39.942673Z",
     "iopub.status.idle": "2022-06-19T07:27:39.949652Z",
     "shell.execute_reply": "2022-06-19T07:27:39.948803Z"
    },
    "papermill": {
     "duration": 0.022704,
     "end_time": "2022-06-19T07:27:39.952143",
     "exception": false,
     "start_time": "2022-06-19T07:27:39.929439",
     "status": "completed"
    },
    "tags": []
   },
   "outputs": [],
   "source": [
    "def plotImages(images_arr):\n",
    "    fig, axes = plt.subplots(1, 10, figsize=(20,20))\n",
    "    axes = axes.flatten()\n",
    "    for img, ax in zip(images_arr, axes):\n",
    "        ax.imshow(img)\n",
    "        ax.axis('off')\n",
    "    plt.tight_layout()\n",
    "    plt.show()"
   ]
  },
  {
   "cell_type": "code",
   "execution_count": 9,
   "id": "e1e27b03",
   "metadata": {
    "execution": {
     "iopub.execute_input": "2022-06-19T07:27:39.978261Z",
     "iopub.status.busy": "2022-06-19T07:27:39.977447Z",
     "iopub.status.idle": "2022-06-19T07:27:40.912184Z",
     "shell.execute_reply": "2022-06-19T07:27:40.911199Z"
    },
    "papermill": {
     "duration": 0.955637,
     "end_time": "2022-06-19T07:27:40.919755",
     "exception": false,
     "start_time": "2022-06-19T07:27:39.964118",
     "status": "completed"
    },
    "tags": []
   },
   "outputs": [
    {
     "data": {
      "image/png": "[encoded data removed]",
      "text/plain": [
       "<Figure size 1440x1440 with 10 Axes>"
      ]
     },
     "metadata": {
      "needs_background": "light"
     },
     "output_type": "display_data"
    },
    {
     "name": "stdout",
     "output_type": "stream",
     "text": [
      "[[0. 0. 1. 0.]\n",
      " [0. 1. 0. 0.]\n",
      " [0. 0. 1. 0.]\n",
      " [0. 0. 1. 0.]\n",
      " [0. 0. 1. 0.]\n",
      " [0. 0. 0. 1.]\n",
      " [0. 1. 0. 0.]\n",
      " [0. 0. 0. 1.]\n",
      " [0. 1. 0. 0.]\n",
      " [1. 0. 0. 0.]\n",
      " [0. 0. 0. 1.]\n",
      " [0. 1. 0. 0.]\n",
      " [0. 0. 1. 0.]\n",
      " [0. 0. 1. 0.]\n",
      " [0. 0. 0. 1.]\n",
      " [1. 0. 0. 0.]\n",
      " [1. 0. 0. 0.]\n",
      " [0. 0. 0. 1.]\n",
      " [0. 0. 1. 0.]\n",
      " [1. 0. 0. 0.]\n",
      " [1. 0. 0. 0.]\n",
      " [0. 0. 1. 0.]\n",
      " [0. 0. 1. 0.]\n",
      " [0. 0. 1. 0.]\n",
      " [0. 0. 1. 0.]\n",
      " [0. 1. 0. 0.]\n",
      " [0. 0. 1. 0.]\n",
      " [0. 0. 1. 0.]\n",
      " [0. 0. 1. 0.]\n",
      " [1. 0. 0. 0.]\n",
      " [0. 1. 0. 0.]\n",
      " [1. 0. 0. 0.]]\n"
     ]
    }
   ],
   "source": [
    "plotImages(imgs)\n",
    "print(labels)"
   ]
  },
  {
   "cell_type": "markdown",
   "id": "6efa6926",
   "metadata": {
    "papermill": {
     "duration": 0.015114,
     "end_time": "2022-06-19T07:27:40.951221",
     "exception": false,
     "start_time": "2022-06-19T07:27:40.936107",
     "status": "completed"
    },
    "tags": []
   },
   "source": [
    "## Building a Convolutional Neural Network"
   ]
  },
  {
   "cell_type": "code",
   "execution_count": 10,
   "id": "6bae59a1",
   "metadata": {
    "execution": {
     "iopub.execute_input": "2022-06-19T07:27:40.984869Z",
     "iopub.status.busy": "2022-06-19T07:27:40.983758Z",
     "iopub.status.idle": "2022-06-19T07:27:41.056472Z",
     "shell.execute_reply": "2022-06-19T07:27:41.054943Z"
    },
    "papermill": {
     "duration": 0.091931,
     "end_time": "2022-06-19T07:27:41.058589",
     "exception": false,
     "start_time": "2022-06-19T07:27:40.966658",
     "status": "completed"
    },
    "tags": []
   },
   "outputs": [
    {
     "name": "stderr",
     "output_type": "stream",
     "text": [
      "2022-06-19 07:27:41.032681: I tensorflow/core/common_runtime/process_util.cc:146] Creating new thread pool with default inter op setting: 2. Tune using inter_op_parallelism_threads for best performance.\n"
     ]
    }
   ],
   "source": [
    "model = Sequential()"
   ]
  },
  {
   "cell_type": "code",
   "execution_count": 11,
   "id": "e236e6b4",
   "metadata": {
    "execution": {
     "iopub.execute_input": "2022-06-19T07:27:41.092646Z",
     "iopub.status.busy": "2022-06-19T07:27:41.091603Z",
     "iopub.status.idle": "2022-06-19T07:27:41.160729Z",
     "shell.execute_reply": "2022-06-19T07:27:41.159648Z"
    },
    "papermill": {
     "duration": 0.088731,
     "end_time": "2022-06-19T07:27:41.163398",
     "exception": false,
     "start_time": "2022-06-19T07:27:41.074667",
     "status": "completed"
    },
    "tags": []
   },
   "outputs": [],
   "source": [
    "model.add(Conv2D(filters=32,\n",
    "                 kernel_size=3,\n",
    "                 activation=relu,\n",
    "                 input_shape=[192, 192, 3]))"
   ]
  },
  {
   "cell_type": "code",
   "execution_count": 12,
   "id": "5effb6b0",
   "metadata": {
    "execution": {
     "iopub.execute_input": "2022-06-19T07:27:41.197454Z",
     "iopub.status.busy": "2022-06-19T07:27:41.196700Z",
     "iopub.status.idle": "2022-06-19T07:27:41.213349Z",
     "shell.execute_reply": "2022-06-19T07:27:41.212266Z"
    },
    "papermill": {
     "duration": 0.036643,
     "end_time": "2022-06-19T07:27:41.215955",
     "exception": false,
     "start_time": "2022-06-19T07:27:41.179312",
     "status": "completed"
    },
    "tags": []
   },
   "outputs": [],
   "source": [
    "model.add(Conv2D(filters=32,\n",
    "                 kernel_size=3,\n",
    "                 activation=relu))"
   ]
  },
  {
   "cell_type": "code",
   "execution_count": 13,
   "id": "e13f5a63",
   "metadata": {
    "execution": {
     "iopub.execute_input": "2022-06-19T07:27:41.250201Z",
     "iopub.status.busy": "2022-06-19T07:27:41.249453Z",
     "iopub.status.idle": "2022-06-19T07:27:41.253422Z",
     "shell.execute_reply": "2022-06-19T07:27:41.252709Z"
    },
    "papermill": {
     "duration": 0.023709,
     "end_time": "2022-06-19T07:27:41.255371",
     "exception": false,
     "start_time": "2022-06-19T07:27:41.231662",
     "status": "completed"
    },
    "tags": []
   },
   "outputs": [],
   "source": [
    "# model.add(Conv2D(filters=32,\n",
    "#                  kernel_size=3,\n",
    "#                  activation='relu'))"
   ]
  },
  {
   "cell_type": "code",
   "execution_count": 14,
   "id": "0a7f7bd2",
   "metadata": {
    "execution": {
     "iopub.execute_input": "2022-06-19T07:27:41.291900Z",
     "iopub.status.busy": "2022-06-19T07:27:41.291118Z",
     "iopub.status.idle": "2022-06-19T07:27:41.301558Z",
     "shell.execute_reply": "2022-06-19T07:27:41.300661Z"
    },
    "papermill": {
     "duration": 0.031141,
     "end_time": "2022-06-19T07:27:41.303922",
     "exception": false,
     "start_time": "2022-06-19T07:27:41.272781",
     "status": "completed"
    },
    "tags": []
   },
   "outputs": [],
   "source": [
    "model.add(MaxPool2D(pool_size=2,\n",
    "                    strides=2,\n",
    "                    padding='valid'))"
   ]
  },
  {
   "cell_type": "code",
   "execution_count": 15,
   "id": "0e00d040",
   "metadata": {
    "execution": {
     "iopub.execute_input": "2022-06-19T07:27:41.337715Z",
     "iopub.status.busy": "2022-06-19T07:27:41.336948Z",
     "iopub.status.idle": "2022-06-19T07:27:41.353280Z",
     "shell.execute_reply": "2022-06-19T07:27:41.352315Z"
    },
    "papermill": {
     "duration": 0.035907,
     "end_time": "2022-06-19T07:27:41.355621",
     "exception": false,
     "start_time": "2022-06-19T07:27:41.319714",
     "status": "completed"
    },
    "tags": []
   },
   "outputs": [],
   "source": [
    "model.add(Conv2D(filters=64,\n",
    "                 kernel_size=3,\n",
    "                 activation=relu))"
   ]
  },
  {
   "cell_type": "code",
   "execution_count": 16,
   "id": "9b405f3c",
   "metadata": {
    "execution": {
     "iopub.execute_input": "2022-06-19T07:27:41.390119Z",
     "iopub.status.busy": "2022-06-19T07:27:41.389326Z",
     "iopub.status.idle": "2022-06-19T07:27:41.393662Z",
     "shell.execute_reply": "2022-06-19T07:27:41.392566Z"
    },
    "papermill": {
     "duration": 0.024377,
     "end_time": "2022-06-19T07:27:41.395878",
     "exception": false,
     "start_time": "2022-06-19T07:27:41.371501",
     "status": "completed"
    },
    "tags": []
   },
   "outputs": [],
   "source": [
    "# model.add(Conv2D(filters=64,\n",
    "#                  kernel_size=3,\n",
    "#                  activation=relu))"
   ]
  },
  {
   "cell_type": "code",
   "execution_count": 17,
   "id": "d94468e3",
   "metadata": {
    "execution": {
     "iopub.execute_input": "2022-06-19T07:27:41.429860Z",
     "iopub.status.busy": "2022-06-19T07:27:41.429117Z",
     "iopub.status.idle": "2022-06-19T07:27:41.438164Z",
     "shell.execute_reply": "2022-06-19T07:27:41.437260Z"
    },
    "papermill": {
     "duration": 0.02899,
     "end_time": "2022-06-19T07:27:41.440881",
     "exception": false,
     "start_time": "2022-06-19T07:27:41.411891",
     "status": "completed"
    },
    "tags": []
   },
   "outputs": [],
   "source": [
    "model.add(MaxPool2D(pool_size=2,\n",
    "                    strides=2,\n",
    "                    padding='valid'))"
   ]
  },
  {
   "cell_type": "code",
   "execution_count": 18,
   "id": "14bb910a",
   "metadata": {
    "execution": {
     "iopub.execute_input": "2022-06-19T07:27:41.474904Z",
     "iopub.status.busy": "2022-06-19T07:27:41.474154Z",
     "iopub.status.idle": "2022-06-19T07:27:41.484663Z",
     "shell.execute_reply": "2022-06-19T07:27:41.483874Z"
    },
    "papermill": {
     "duration": 0.030195,
     "end_time": "2022-06-19T07:27:41.487018",
     "exception": false,
     "start_time": "2022-06-19T07:27:41.456823",
     "status": "completed"
    },
    "tags": []
   },
   "outputs": [],
   "source": [
    "model.add(Flatten())"
   ]
  },
  {
   "cell_type": "code",
   "execution_count": 19,
   "id": "9481b670",
   "metadata": {
    "execution": {
     "iopub.execute_input": "2022-06-19T07:27:41.521146Z",
     "iopub.status.busy": "2022-06-19T07:27:41.520393Z",
     "iopub.status.idle": "2022-06-19T07:27:41.712894Z",
     "shell.execute_reply": "2022-06-19T07:27:41.711641Z"
    },
    "papermill": {
     "duration": 0.213063,
     "end_time": "2022-06-19T07:27:41.716088",
     "exception": false,
     "start_time": "2022-06-19T07:27:41.503025",
     "status": "completed"
    },
    "tags": []
   },
   "outputs": [],
   "source": [
    "model.add(Dense(units=64,\n",
    "                activation=relu,\n",
    "                use_bias=True,\n",
    "                kernel_initializer=HeNormal()))"
   ]
  },
  {
   "cell_type": "code",
   "execution_count": 20,
   "id": "db5ec84a",
   "metadata": {
    "execution": {
     "iopub.execute_input": "2022-06-19T07:27:41.751697Z",
     "iopub.status.busy": "2022-06-19T07:27:41.750963Z",
     "iopub.status.idle": "2022-06-19T07:27:41.762815Z",
     "shell.execute_reply": "2022-06-19T07:27:41.761941Z"
    },
    "papermill": {
     "duration": 0.032568,
     "end_time": "2022-06-19T07:27:41.765261",
     "exception": false,
     "start_time": "2022-06-19T07:27:41.732693",
     "status": "completed"
    },
    "tags": []
   },
   "outputs": [],
   "source": [
    "model.add(Dropout(0.4))"
   ]
  },
  {
   "cell_type": "code",
   "execution_count": 21,
   "id": "171e41c9",
   "metadata": {
    "execution": {
     "iopub.execute_input": "2022-06-19T07:27:41.799637Z",
     "iopub.status.busy": "2022-06-19T07:27:41.798882Z",
     "iopub.status.idle": "2022-06-19T07:27:41.816245Z",
     "shell.execute_reply": "2022-06-19T07:27:41.815458Z"
    },
    "papermill": {
     "duration": 0.037397,
     "end_time": "2022-06-19T07:27:41.818765",
     "exception": false,
     "start_time": "2022-06-19T07:27:41.781368",
     "status": "completed"
    },
    "tags": []
   },
   "outputs": [],
   "source": [
    "model.add(Dense(units=64,\n",
    "                activation=relu,\n",
    "                use_bias=True,\n",
    "                kernel_initializer=HeUniform()))"
   ]
  },
  {
   "cell_type": "code",
   "execution_count": 22,
   "id": "f3fea563",
   "metadata": {
    "execution": {
     "iopub.execute_input": "2022-06-19T07:27:41.852200Z",
     "iopub.status.busy": "2022-06-19T07:27:41.851512Z",
     "iopub.status.idle": "2022-06-19T07:27:41.866839Z",
     "shell.execute_reply": "2022-06-19T07:27:41.865964Z"
    },
    "papermill": {
     "duration": 0.034879,
     "end_time": "2022-06-19T07:27:41.869347",
     "exception": false,
     "start_time": "2022-06-19T07:27:41.834468",
     "status": "completed"
    },
    "tags": []
   },
   "outputs": [],
   "source": [
    "model.add(Dense(units=4,\n",
    "                activation=softmax))"
   ]
  },
  {
   "cell_type": "code",
   "execution_count": 23,
   "id": "3dd9fd4f",
   "metadata": {
    "execution": {
     "iopub.execute_input": "2022-06-19T07:27:41.902992Z",
     "iopub.status.busy": "2022-06-19T07:27:41.902350Z",
     "iopub.status.idle": "2022-06-19T07:27:41.909554Z",
     "shell.execute_reply": "2022-06-19T07:27:41.908639Z"
    },
    "papermill": {
     "duration": 0.027225,
     "end_time": "2022-06-19T07:27:41.912332",
     "exception": false,
     "start_time": "2022-06-19T07:27:41.885107",
     "status": "completed"
    },
    "tags": []
   },
   "outputs": [
    {
     "name": "stdout",
     "output_type": "stream",
     "text": [
      "Model: \"sequential\"\n",
      "_________________________________________________________________\n",
      "Layer (type)                 Output Shape              Param #   \n",
      "=================================================================\n",
      "conv2d (Conv2D)              (None, 190, 190, 32)      896       \n",
      "_________________________________________________________________\n",
      "conv2d_1 (Conv2D)            (None, 188, 188, 32)      9248      \n",
      "_________________________________________________________________\n",
      "max_pooling2d (MaxPooling2D) (None, 94, 94, 32)        0         \n",
      "_________________________________________________________________\n",
      "conv2d_2 (Conv2D)            (None, 92, 92, 64)        18496     \n",
      "_________________________________________________________________\n",
      "max_pooling2d_1 (MaxPooling2 (None, 46, 46, 64)        0         \n",
      "_________________________________________________________________\n",
      "flatten (Flatten)            (None, 135424)            0         \n",
      "_________________________________________________________________\n",
      "dense (Dense)                (None, 64)                8667200   \n",
      "_________________________________________________________________\n",
      "dropout (Dropout)            (None, 64)                0         \n",
      "_________________________________________________________________\n",
      "dense_1 (Dense)              (None, 64)                4160      \n",
      "_________________________________________________________________\n",
      "dense_2 (Dense)              (None, 4)                 260       \n",
      "=================================================================\n",
      "Total params: 8,700,260\n",
      "Trainable params: 8,700,260\n",
      "Non-trainable params: 0\n",
      "_________________________________________________________________\n"
     ]
    }
   ],
   "source": [
    "model.summary()"
   ]
  },
  {
   "cell_type": "code",
   "execution_count": 24,
   "id": "80600cf9",
   "metadata": {
    "execution": {
     "iopub.execute_input": "2022-06-19T07:27:41.947905Z",
     "iopub.status.busy": "2022-06-19T07:27:41.947126Z",
     "iopub.status.idle": "2022-06-19T07:27:41.964739Z",
     "shell.execute_reply": "2022-06-19T07:27:41.963930Z"
    },
    "papermill": {
     "duration": 0.038281,
     "end_time": "2022-06-19T07:27:41.967158",
     "exception": false,
     "start_time": "2022-06-19T07:27:41.928877",
     "status": "completed"
    },
    "tags": []
   },
   "outputs": [],
   "source": [
    "model.compile(optimizer=Adam(),loss='categorical_crossentropy',metrics=['accuracy'])"
   ]
  },
  {
   "cell_type": "code",
   "execution_count": 25,
   "id": "1aec2ee8",
   "metadata": {
    "execution": {
     "iopub.execute_input": "2022-06-19T07:27:42.001590Z",
     "iopub.status.busy": "2022-06-19T07:27:42.000769Z",
     "iopub.status.idle": "2022-06-19T07:27:42.005078Z",
     "shell.execute_reply": "2022-06-19T07:27:42.004263Z"
    },
    "papermill": {
     "duration": 0.023919,
     "end_time": "2022-06-19T07:27:42.007123",
     "exception": false,
     "start_time": "2022-06-19T07:27:41.983204",
     "status": "completed"
    },
    "tags": []
   },
   "outputs": [],
   "source": [
    "# early_stopper = EarlyStopping(\n",
    "#     monitor='val_loss',\n",
    "#     min_delta=0,\n",
    "#     patience=0,\n",
    "#     verbose=0,\n",
    "#     mode='auto',\n",
    "#     baseline=None,\n",
    "#     restore_best_weights=False\n",
    "# )"
   ]
  },
  {
   "cell_type": "code",
   "execution_count": 26,
   "id": "f3cc32d8",
   "metadata": {
    "execution": {
     "iopub.execute_input": "2022-06-19T07:27:42.040743Z",
     "iopub.status.busy": "2022-06-19T07:27:42.040228Z",
     "iopub.status.idle": "2022-06-19T07:53:56.716151Z",
     "shell.execute_reply": "2022-06-19T07:53:56.713262Z"
    },
    "papermill": {
     "duration": 1574.697602,
     "end_time": "2022-06-19T07:53:56.720495",
     "exception": false,
     "start_time": "2022-06-19T07:27:42.022893",
     "status": "completed"
    },
    "tags": []
   },
   "outputs": [
    {
     "name": "stderr",
     "output_type": "stream",
     "text": [
      "2022-06-19 07:27:42.568260: I tensorflow/compiler/mlir/mlir_graph_optimization_pass.cc:185] None of the MLIR Optimization Passes are enabled (registered 2)\n"
     ]
    },
    {
     "name": "stdout",
     "output_type": "stream",
     "text": [
      "Epoch 1/5\n",
      "179/179 [==============================] - 286s 2s/step - loss: 1.0612 - accuracy: 0.5103 - val_loss: 1.3037 - val_accuracy: 0.5011\n",
      "Epoch 2/5\n",
      "179/179 [==============================] - 282s 2s/step - loss: 0.7869 - accuracy: 0.6619 - val_loss: 0.6638 - val_accuracy: 0.7178\n",
      "Epoch 3/5\n",
      "179/179 [==============================] - 278s 2s/step - loss: 0.6922 - accuracy: 0.7127 - val_loss: 0.5950 - val_accuracy: 0.7582\n",
      "Epoch 4/5\n",
      "179/179 [==============================] - 275s 2s/step - loss: 0.6411 - accuracy: 0.7398 - val_loss: 0.6767 - val_accuracy: 0.7307\n",
      "Epoch 5/5\n",
      "179/179 [==============================] - 286s 2s/step - loss: 0.5907 - accuracy: 0.7579 - val_loss: 0.5998 - val_accuracy: 0.7590\n"
     ]
    }
   ],
   "source": [
    "model_history = model.fit(x=training_set,validation_data=validation_set,epochs=5,verbose=1,use_multiprocessing=True)"
   ]
  },
  {
   "cell_type": "code",
   "execution_count": 27,
   "id": "8a94c62c",
   "metadata": {
    "execution": {
     "iopub.execute_input": "2022-06-19T07:53:57.075107Z",
     "iopub.status.busy": "2022-06-19T07:53:57.074154Z",
     "iopub.status.idle": "2022-06-19T07:53:57.084125Z",
     "shell.execute_reply": "2022-06-19T07:53:57.083201Z"
    },
    "papermill": {
     "duration": 0.09723,
     "end_time": "2022-06-19T07:53:57.086482",
     "exception": false,
     "start_time": "2022-06-19T07:53:56.989252",
     "status": "completed"
    },
    "tags": []
   },
   "outputs": [
    {
     "data": {
      "text/plain": [
       "dict_keys(['loss', 'accuracy', 'val_loss', 'val_accuracy'])"
      ]
     },
     "execution_count": 27,
     "metadata": {},
     "output_type": "execute_result"
    }
   ],
   "source": [
    "model_history.history.keys()"
   ]
  },
  {
   "cell_type": "code",
   "execution_count": 28,
   "id": "2b49b24c",
   "metadata": {
    "execution": {
     "iopub.execute_input": "2022-06-19T07:53:57.263089Z",
     "iopub.status.busy": "2022-06-19T07:53:57.262209Z",
     "iopub.status.idle": "2022-06-19T07:53:57.329696Z",
     "shell.execute_reply": "2022-06-19T07:53:57.328600Z"
    },
    "papermill": {
     "duration": 0.156013,
     "end_time": "2022-06-19T07:53:57.332531",
     "exception": false,
     "start_time": "2022-06-19T07:53:57.176518",
     "status": "completed"
    },
    "tags": []
   },
   "outputs": [
    {
     "data": {
      "text/plain": [
       "[array([[[[ 1.22221611e-01,  4.37749643e-03, -8.77560824e-02,\n",
       "           -6.55233115e-02, -3.84738785e-04, -1.10367328e-01,\n",
       "           -5.79531305e-04, -1.41821012e-01, -5.10939173e-02,\n",
       "            9.22920108e-02,  1.00838311e-01,  2.27108244e-02,\n",
       "           -1.27856493e-01, -2.46514585e-02,  1.19233073e-03,\n",
       "            4.48900126e-02,  1.06723770e-01, -6.09922297e-02,\n",
       "           -1.22240046e-04,  1.38785005e-01, -1.02777764e-01,\n",
       "            1.04656719e-01, -1.12994313e-01,  4.72289771e-02,\n",
       "           -3.76838967e-02, -7.46815056e-02, -8.65338594e-02,\n",
       "            1.24638453e-01, -1.48644401e-02, -1.14311166e-01,\n",
       "           -6.78478181e-02, -2.29650121e-02],\n",
       "          [-3.51018310e-02,  1.15292571e-01,  7.58133084e-02,\n",
       "            2.42819008e-03,  3.84494178e-02,  9.29046720e-02,\n",
       "           -6.72764182e-02,  8.35169330e-02,  4.14559208e-02,\n",
       "           -3.77152227e-02,  1.06553055e-01,  4.01914865e-02,\n",
       "            6.41088784e-02,  8.11987892e-02, -9.55666527e-02,\n",
       "           -7.99635723e-02,  9.14305598e-02,  1.29451483e-01,\n",
       "           -8.90935808e-02, -1.08376391e-01, -4.77558933e-02,\n",
       "            9.31415334e-02,  1.15698921e-02, -9.51390434e-03,\n",
       "           -9.54075307e-02,  7.87028149e-02, -4.11761627e-02,\n",
       "            5.46640307e-02, -1.05498523e-01, -2.03320384e-02,\n",
       "            4.23706584e-02,  1.75724644e-02],\n",
       "          [ 5.41358329e-02, -5.65370843e-02, -1.28088117e-01,\n",
       "            1.05191298e-01,  1.28640622e-01,  1.27266407e-01,\n",
       "            1.81611031e-02,  3.73932794e-02, -1.26343295e-01,\n",
       "            5.31599224e-02, -2.43699234e-02,  3.62704173e-02,\n",
       "            5.41166775e-02,  2.21230052e-02, -4.47632372e-02,\n",
       "           -2.35322732e-02, -7.01254830e-02,  1.18205720e-03,\n",
       "            1.06758401e-01,  6.33709431e-02,  7.95506611e-02,\n",
       "            4.38898392e-02, -3.05176266e-02,  1.23560699e-02,\n",
       "            1.21355727e-01, -7.23420503e-03,  7.58439377e-02,\n",
       "            7.72229880e-02, -6.78822249e-02,  1.00620039e-01,\n",
       "           -1.02542965e-02, -1.36529759e-01]],\n",
       " \n",
       "         [[ 5.38977869e-02, -4.45584860e-03, -8.84608626e-02,\n",
       "           -1.09123841e-01,  7.03865811e-02,  1.43570542e-01,\n",
       "            7.52781257e-02,  3.49920727e-02,  9.87024009e-02,\n",
       "            1.08691864e-01, -7.23240897e-02, -8.64617229e-02,\n",
       "           -4.74751480e-02, -5.47836870e-02, -8.14361423e-02,\n",
       "            5.05875051e-02, -3.49644572e-02,  9.80423614e-02,\n",
       "           -7.92929158e-03,  5.78400074e-03, -1.34798065e-01,\n",
       "            6.15707785e-02,  9.47246980e-03, -1.26279697e-01,\n",
       "           -1.39916509e-01, -1.16565935e-01,  2.23426111e-02,\n",
       "           -6.58803433e-02, -3.37292254e-03, -4.22860533e-02,\n",
       "           -2.61852164e-02,  5.05981483e-02],\n",
       "          [ 3.65423933e-02, -1.80984195e-02,  1.33526802e-01,\n",
       "            1.05449930e-02,  7.67490864e-02,  5.64601757e-02,\n",
       "           -9.38037261e-02, -9.59809497e-03, -2.11354643e-02,\n",
       "            5.33375852e-02, -8.71745124e-02, -5.80800250e-02,\n",
       "           -1.48953930e-01,  7.21300170e-02,  6.68921545e-02,\n",
       "            8.72561634e-02,  1.29939318e-01, -8.73146504e-02,\n",
       "            5.60434908e-02,  7.49051273e-02,  1.93048045e-02,\n",
       "           -5.63797094e-02,  1.43291038e-02, -1.39373258e-01,\n",
       "           -9.37508419e-03,  2.10046745e-03,  6.08774498e-02,\n",
       "           -2.20107418e-02, -8.75125900e-02, -4.61112708e-03,\n",
       "           -3.87749150e-02, -1.65225267e-01],\n",
       "          [ 2.29462832e-02,  1.34778947e-01,  1.23811141e-01,\n",
       "           -8.17472860e-02, -7.56777301e-02,  4.95220199e-02,\n",
       "           -6.00643605e-02,  1.62134022e-02,  9.98562574e-03,\n",
       "            6.50518686e-02, -7.79476315e-02,  7.39374161e-02,\n",
       "           -1.40237957e-01,  6.74117357e-02,  9.53464359e-02,\n",
       "           -4.93573509e-02, -7.19887987e-02,  1.62995502e-01,\n",
       "           -9.46738869e-02, -1.15272485e-01,  2.38727406e-02,\n",
       "            2.57882215e-02,  8.26740265e-02, -8.51553008e-02,\n",
       "           -3.97360809e-02,  6.83911145e-02, -1.79737005e-02,\n",
       "           -7.71141052e-02, -1.42257884e-01, -1.29121423e-01,\n",
       "            4.47852630e-03, -1.22301742e-01]],\n",
       " \n",
       "         [[ 9.84880254e-02,  9.21521708e-02,  1.49724916e-01,\n",
       "            1.21755801e-01, -4.99345325e-02, -4.11904827e-02,\n",
       "            1.40655562e-01, -2.47059613e-02,  1.09539390e-01,\n",
       "           -9.12339315e-02,  2.60636564e-02,  1.08662345e-01,\n",
       "            8.64836946e-02,  1.23259977e-01,  1.40560344e-01,\n",
       "            7.06130117e-02, -7.42130503e-02,  1.10456787e-01,\n",
       "            8.85864869e-02,  6.13670833e-02,  4.14893627e-02,\n",
       "            9.69249979e-02,  1.03201441e-01, -1.16443478e-01,\n",
       "            1.39460459e-01,  4.29959521e-02,  3.42495106e-02,\n",
       "           -9.25661772e-02, -7.22000003e-02,  1.11597627e-01,\n",
       "            1.07227482e-01, -1.39934942e-01],\n",
       "          [-1.28808588e-01,  7.27660507e-02,  5.43787330e-02,\n",
       "           -9.31955799e-02, -1.04003854e-01,  8.77357721e-02,\n",
       "           -1.09777562e-01,  1.02915846e-01, -6.50164708e-02,\n",
       "           -8.30930993e-02, -1.27134830e-01, -5.05502746e-02,\n",
       "            3.05928532e-02, -2.29553804e-02,  2.13637594e-02,\n",
       "           -6.15545548e-02, -5.42470068e-02, -9.72303078e-02,\n",
       "           -1.09355263e-01, -2.29935572e-02, -1.32466331e-01,\n",
       "            1.83520615e-02,  1.14356637e-01,  6.79140016e-02,\n",
       "           -1.18744299e-01,  4.77468744e-02, -1.30541325e-01,\n",
       "           -1.26730010e-01, -2.06123721e-02,  1.84340067e-02,\n",
       "            1.31857097e-01, -2.59767585e-02],\n",
       "          [ 7.74955228e-02,  9.46047753e-02, -1.53892888e-02,\n",
       "            1.14943117e-01,  5.87246791e-02, -1.15217105e-01,\n",
       "            3.56599092e-02,  4.22428772e-02, -3.46764363e-02,\n",
       "            1.35777757e-01,  1.14290426e-02,  3.10382750e-02,\n",
       "           -7.93880224e-02, -1.26953453e-01,  4.98822443e-02,\n",
       "            8.46047327e-02,  2.06482504e-02,  2.96430215e-02,\n",
       "           -1.07471786e-01, -1.05947144e-01, -1.09140091e-01,\n",
       "           -7.52632692e-02,  1.11505680e-01,  1.30861253e-01,\n",
       "            1.25702620e-01,  4.94326791e-03,  3.54368128e-02,\n",
       "            1.21030226e-01, -1.21801235e-01,  5.59543595e-02,\n",
       "           -7.70762041e-02, -1.44379353e-02]]],\n",
       " \n",
       " \n",
       "        [[[-1.11435354e-01,  1.07639819e-01,  1.08839327e-03,\n",
       "           -8.53004083e-02, -5.84458895e-02,  2.38156673e-02,\n",
       "           -7.58699402e-02, -1.39111444e-01, -1.21927314e-01,\n",
       "            7.00824037e-02, -7.92523399e-02, -1.72088630e-02,\n",
       "           -6.96873516e-02, -1.46983132e-01, -1.36203110e-01,\n",
       "            5.88762201e-02, -1.28054366e-01, -3.17460075e-02,\n",
       "           -1.18678361e-01, -3.34013589e-02, -7.08594397e-02,\n",
       "           -1.23507984e-01, -2.02645771e-02, -1.61096022e-01,\n",
       "           -3.94519195e-02,  5.22541068e-02,  6.61435649e-02,\n",
       "           -9.09720138e-02, -3.29661481e-02,  7.68440068e-02,\n",
       "           -4.37083654e-02, -1.39291063e-01],\n",
       "          [-6.57698652e-03,  6.04555756e-02,  6.86913207e-02,\n",
       "            1.20043337e-01, -1.17876373e-01, -1.16793260e-01,\n",
       "            2.45841569e-03, -7.85751566e-02, -7.48242289e-02,\n",
       "           -1.09597348e-01,  4.86849062e-02, -9.03772488e-02,\n",
       "            3.48596014e-02, -9.32952762e-02, -1.22148909e-01,\n",
       "            8.87331963e-02, -1.11075509e-02,  3.16213816e-02,\n",
       "           -1.02760799e-01,  1.35614127e-01,  1.50456158e-02,\n",
       "           -6.66488288e-03, -2.93759629e-02,  1.00363217e-01,\n",
       "            8.43862519e-02,  1.08851187e-01, -9.95611101e-02,\n",
       "            1.17104478e-01,  3.31027806e-02,  1.48661718e-01,\n",
       "           -9.50895175e-02, -1.75565198e-01],\n",
       "          [-1.96353788e-03, -1.07712865e-01,  4.22259793e-02,\n",
       "            7.13912919e-02,  4.85298544e-04, -2.99139321e-02,\n",
       "            6.61766231e-02, -4.10738625e-02, -2.64645163e-02,\n",
       "            6.53373003e-02, -5.50007448e-02,  5.84698133e-02,\n",
       "            1.05610609e-01, -3.11732087e-02, -2.08690315e-02,\n",
       "           -5.37154265e-02, -2.80790310e-02, -8.95630345e-02,\n",
       "            6.35967255e-02,  1.32060170e-01,  1.52781848e-02,\n",
       "           -1.25535026e-01, -8.40954706e-02, -1.43089697e-01,\n",
       "           -1.44015521e-01,  1.32655486e-01,  1.40567139e-01,\n",
       "            1.03662558e-01,  1.22753292e-01,  1.06980942e-01,\n",
       "            8.37979605e-04, -9.54394042e-02]],\n",
       " \n",
       "         [[ 1.02242395e-01, -5.79162464e-02,  1.30057231e-01,\n",
       "           -5.00884093e-03, -9.20454934e-02, -3.38715315e-02,\n",
       "           -1.37433335e-02,  5.45130074e-02,  1.79011419e-01,\n",
       "            1.13190688e-01, -1.36739656e-01,  1.05555028e-01,\n",
       "           -3.78397219e-02,  1.43561885e-01,  1.27604723e-01,\n",
       "            1.03439510e-01, -7.61567056e-02,  9.55260471e-02,\n",
       "            4.05452140e-02,  3.10907215e-02, -1.17591366e-01,\n",
       "            1.06864825e-01, -7.77796805e-02,  9.64648649e-03,\n",
       "           -5.39559983e-02, -7.78843164e-02,  1.14935033e-01,\n",
       "            8.86583421e-03,  4.60917689e-02,  7.34496722e-03,\n",
       "            1.74067095e-02, -1.27156958e-01],\n",
       "          [-1.79343745e-02, -7.56250974e-03,  8.18662122e-02,\n",
       "           -1.26545265e-01, -4.62649278e-02,  7.54324393e-03,\n",
       "            8.62755626e-02,  4.33048904e-02, -4.52943565e-03,\n",
       "            9.66489688e-02, -9.94376391e-02,  1.11112721e-01,\n",
       "           -6.14495017e-02,  4.77485172e-02, -1.38205901e-01,\n",
       "            3.52448262e-02,  9.46122035e-02,  1.16280377e-01,\n",
       "            1.08681485e-01,  1.30947575e-01,  7.07074162e-03,\n",
       "           -9.42718834e-02,  1.23411372e-01, -5.02773747e-02,\n",
       "           -2.82129794e-02, -6.74161017e-02, -1.04433201e-01,\n",
       "           -1.16888158e-01, -5.63764609e-02, -8.97717923e-02,\n",
       "            4.78289947e-02,  2.52849441e-02],\n",
       "          [-3.76916006e-02,  1.51493549e-02, -1.22784385e-02,\n",
       "           -1.10931031e-01,  8.08242485e-02,  1.10723324e-01,\n",
       "            6.12094775e-02,  6.11626916e-02,  6.57854900e-02,\n",
       "            8.24215561e-02, -1.41640648e-01,  1.79166198e-02,\n",
       "            6.55110925e-02,  9.67125967e-03, -1.40041813e-01,\n",
       "            8.86316970e-02,  9.66504030e-03,  8.28422680e-02,\n",
       "            1.00592718e-01,  1.19662657e-01, -1.32988468e-01,\n",
       "            5.07184789e-02,  1.31132975e-01,  5.67562878e-03,\n",
       "            4.33217064e-02,  7.07426947e-03,  5.30324802e-02,\n",
       "           -4.14475836e-02,  5.51541373e-02, -1.19973451e-01,\n",
       "           -8.98112133e-02, -2.14408245e-03]],\n",
       " \n",
       "         [[-1.28242105e-01,  1.16924204e-01, -1.36359921e-02,\n",
       "           -1.21261679e-01, -1.76114395e-01,  1.90235451e-02,\n",
       "            1.24855675e-02,  6.96948022e-02,  5.65659851e-02,\n",
       "           -2.77736373e-02,  4.71748225e-03, -4.73999865e-02,\n",
       "           -1.21508971e-01, -9.61833969e-02, -1.09337032e-01,\n",
       "           -5.89371659e-02,  2.68049203e-02,  1.24095514e-01,\n",
       "           -7.60371312e-02, -1.10825054e-01,  8.71027932e-02,\n",
       "           -1.22671388e-01, -1.29340306e-01, -1.42756626e-02,\n",
       "           -1.75143685e-02,  1.15052924e-01,  4.87687625e-02,\n",
       "           -1.46890149e-01, -5.24011999e-02,  3.93346213e-02,\n",
       "           -1.55273184e-01, -8.09135064e-02],\n",
       "          [ 8.53763893e-02,  1.15933865e-01, -8.22593421e-02,\n",
       "           -5.32196760e-02, -3.16626057e-02,  1.22364841e-01,\n",
       "            4.91083525e-02,  3.17284465e-02, -1.34200692e-01,\n",
       "           -2.85302494e-02,  2.30419766e-02,  7.95059502e-02,\n",
       "            2.09276695e-02, -9.79856029e-02,  1.31170779e-01,\n",
       "           -1.04751758e-01,  4.78314087e-02, -8.41047615e-02,\n",
       "           -9.09463391e-02, -8.36151913e-02,  7.83554837e-02,\n",
       "            1.06880873e-01,  3.02319452e-02, -1.30969077e-01,\n",
       "           -1.33767471e-01, -8.58605206e-02,  7.54453475e-03,\n",
       "           -1.05318494e-01, -1.01257533e-01, -1.02713600e-01,\n",
       "           -3.11344699e-03, -6.97203130e-02],\n",
       "          [ 3.68910283e-02,  9.54417661e-02,  5.04771173e-02,\n",
       "            1.96280330e-02, -1.26201689e-01, -6.37233928e-02,\n",
       "           -3.64214815e-02,  9.81130674e-02, -8.07556324e-03,\n",
       "            3.26529555e-02, -1.23383306e-01,  8.61826688e-02,\n",
       "           -7.00528547e-02, -1.15824200e-01,  8.58294815e-02,\n",
       "           -3.27813439e-02,  1.28874317e-01, -1.16253812e-02,\n",
       "            3.13311704e-02, -1.30146056e-01, -1.29399180e-01,\n",
       "            6.44490123e-02, -1.23906799e-01,  1.18832804e-01,\n",
       "           -1.32869035e-01,  2.02659592e-02,  5.75040244e-02,\n",
       "           -2.94731315e-02,  1.03088535e-01,  1.17051668e-01,\n",
       "           -3.27717811e-02, -7.31241005e-03]]],\n",
       " \n",
       " \n",
       "        [[[ 1.31932646e-02, -2.99475882e-02, -1.12868577e-01,\n",
       "            1.20965272e-01,  4.34331223e-02, -1.17131211e-01,\n",
       "           -7.57547840e-03,  3.65895629e-02, -9.57200006e-02,\n",
       "           -9.50034801e-03,  1.28020570e-01, -1.28352314e-01,\n",
       "            1.24280110e-01, -5.25753312e-02,  3.98938358e-02,\n",
       "            4.10592603e-03, -9.81523022e-02, -1.66018959e-02,\n",
       "            8.82055014e-02, -3.18969623e-03, -2.91222204e-02,\n",
       "           -1.52945891e-01,  6.85617477e-02, -1.35584459e-01,\n",
       "            3.04565709e-02, -6.80042282e-02, -3.32743186e-03,\n",
       "            8.02744702e-02, -1.72097106e-02, -1.30020633e-01,\n",
       "            9.31436270e-02, -1.57192618e-01],\n",
       "          [ 4.94751036e-02, -2.38788873e-02, -6.67978227e-02,\n",
       "           -3.58441100e-02,  8.58698338e-02, -9.02113020e-02,\n",
       "           -9.63300765e-02,  3.38864625e-02,  9.08986181e-02,\n",
       "           -1.02668563e-02,  9.75689590e-02, -1.18184999e-01,\n",
       "            1.46212295e-01, -4.02691886e-02, -1.43005773e-01,\n",
       "           -7.57632479e-02, -9.02783796e-02, -1.28192037e-01,\n",
       "           -1.17237292e-01, -1.14375763e-01, -3.50902672e-03,\n",
       "           -1.07626431e-01, -1.37277633e-01,  6.08040066e-03,\n",
       "            9.21629369e-02, -1.17167652e-01, -8.11929852e-02,\n",
       "           -2.85906419e-02,  9.98032317e-02, -4.66707684e-02,\n",
       "           -2.27834359e-02, -1.32478759e-01],\n",
       "          [-4.75100540e-02,  8.34513362e-03,  8.71796682e-02,\n",
       "           -2.95746364e-02,  4.90221865e-02, -7.88629353e-02,\n",
       "           -9.85920578e-02, -1.33940548e-01, -1.27182275e-01,\n",
       "           -7.73437992e-02, -2.26196228e-03,  7.94806518e-03,\n",
       "            3.10815722e-02,  2.33500898e-02, -6.94630444e-02,\n",
       "            9.51359570e-02, -3.77222151e-03,  7.64491409e-02,\n",
       "           -1.98930223e-02, -1.15612801e-02, -6.46835119e-02,\n",
       "           -1.00349169e-03, -8.54896829e-02,  1.22768037e-01,\n",
       "           -8.81761611e-02,  9.88463387e-02, -9.00551956e-03,\n",
       "            8.08523297e-02,  1.78923253e-02, -3.24135721e-02,\n",
       "            3.99283357e-02,  6.86193630e-02]],\n",
       " \n",
       "         [[ 6.71537220e-02,  1.10577740e-01,  1.20996505e-01,\n",
       "            6.49508014e-02, -6.54446110e-02,  3.86029258e-02,\n",
       "            1.10574082e-01,  5.07923402e-02,  1.09203987e-01,\n",
       "            7.72841871e-02, -7.15753809e-02, -8.45090523e-02,\n",
       "           -4.42570075e-02, -7.80549496e-02, -1.38265386e-01,\n",
       "           -4.26690951e-02, -3.19272690e-02, -7.96619207e-02,\n",
       "            1.30573139e-01, -9.57892165e-02,  1.13196978e-02,\n",
       "           -2.80814115e-02, -4.22097109e-02, -4.12821248e-02,\n",
       "            7.92581588e-02,  1.46859512e-01,  8.53608130e-04,\n",
       "            1.65321808e-02, -4.59209979e-02, -6.38004392e-02,\n",
       "            1.14241906e-01, -6.39424175e-02],\n",
       "          [ 9.51713696e-03, -4.23036069e-02, -3.76682132e-02,\n",
       "            4.02972363e-02, -1.90739006e-01, -1.04357056e-01,\n",
       "           -1.32425487e-01,  1.02517933e-01,  9.75988135e-02,\n",
       "           -1.00061312e-01,  1.52392343e-01,  5.29721640e-02,\n",
       "            3.73839699e-02, -6.05873875e-02, -1.10406466e-01,\n",
       "            6.42375275e-02,  1.10111877e-01, -1.24240786e-01,\n",
       "            1.29583851e-01,  3.02801710e-02, -8.22203755e-02,\n",
       "            4.39917669e-02,  3.96838523e-02,  1.21936806e-01,\n",
       "           -9.55421291e-03, -2.18172893e-02, -1.27383396e-01,\n",
       "           -1.20708250e-01,  6.64063618e-02, -1.59960091e-01,\n",
       "            1.20492205e-01, -1.69124585e-02],\n",
       "          [-5.22469461e-04,  1.20747155e-02, -9.34092999e-02,\n",
       "           -6.09885529e-02, -1.45703658e-01, -8.35686028e-02,\n",
       "           -9.71436277e-02, -1.00723684e-01, -9.25655887e-02,\n",
       "            2.19668038e-02,  4.31027338e-02,  1.35285065e-01,\n",
       "           -1.87384593e-03,  7.40148276e-02,  1.85060240e-02,\n",
       "           -5.29996715e-02,  3.17656845e-02,  2.23120372e-03,\n",
       "           -8.07982236e-02,  1.05147243e-01,  1.22814044e-01,\n",
       "           -4.74829003e-02,  5.61419353e-02, -3.89212416e-03,\n",
       "            7.19210133e-02,  1.40209749e-01,  9.57014132e-03,\n",
       "           -1.20588276e-03, -1.36524066e-01, -1.27535060e-01,\n",
       "           -1.16625682e-01, -9.73293930e-02]],\n",
       " \n",
       "         [[ 1.11604571e-01, -6.86023682e-02,  1.11888036e-01,\n",
       "           -2.67522093e-02, -5.69765195e-02, -2.07423419e-02,\n",
       "           -4.57577482e-02, -7.05935061e-02,  8.11708393e-04,\n",
       "           -1.97504386e-02,  1.38484770e-02,  4.99429628e-02,\n",
       "            1.50001561e-02,  4.90735751e-03, -1.89126207e-04,\n",
       "            7.64473677e-02, -1.80865526e-02, -1.41167819e-01,\n",
       "           -8.37355405e-02, -1.06787875e-01,  6.10671267e-02,\n",
       "           -8.90130270e-03, -5.59119135e-02,  4.14502136e-02,\n",
       "            3.92410010e-02,  3.92764155e-03,  1.31227016e-01,\n",
       "           -1.09408818e-01, -1.41703308e-01,  3.10787614e-02,\n",
       "           -1.12578414e-01, -2.25779340e-02],\n",
       "          [-1.19950317e-01,  1.30641395e-02,  1.36163995e-01,\n",
       "            2.48185471e-02, -9.08151418e-02, -1.11522414e-01,\n",
       "           -9.98331085e-02,  2.17527822e-02, -1.09881267e-01,\n",
       "            9.33994800e-02,  9.29746553e-02, -7.10198656e-02,\n",
       "           -3.97250131e-02,  1.24847300e-01,  4.88851890e-02,\n",
       "            4.33816873e-02,  8.47194046e-02, -1.03764124e-01,\n",
       "            2.16556769e-02,  1.13228271e-02,  9.96747166e-02,\n",
       "            1.34300604e-01, -1.33368671e-01,  1.04414985e-01,\n",
       "           -4.26405445e-02, -1.10068507e-01,  5.58870845e-02,\n",
       "            1.27794564e-01, -7.96062052e-02, -1.56221846e-02,\n",
       "            2.21181270e-02, -1.18112318e-01],\n",
       "          [-9.93319526e-02, -1.00063480e-01,  1.38430879e-01,\n",
       "           -1.33604810e-01, -6.65273666e-02, -1.07394077e-01,\n",
       "           -1.27146304e-01,  4.15658131e-02, -3.03901471e-02,\n",
       "           -1.13547333e-01,  1.24162950e-01,  7.73768406e-03,\n",
       "           -1.00323237e-01, -1.47297736e-02,  1.30952433e-01,\n",
       "           -3.11358348e-02,  1.05572701e-01, -1.28306642e-01,\n",
       "           -1.45474514e-02, -1.21682703e-01, -9.87254754e-02,\n",
       "           -7.02259690e-02,  4.87446450e-02,  1.31258011e-01,\n",
       "            6.50368631e-02,  6.03220128e-02, -8.93186852e-02,\n",
       "            9.33808982e-02,  9.31755677e-02, -7.76941329e-02,\n",
       "           -9.33629274e-02, -6.66241422e-02]]]], dtype=float32),\n",
       " array([-0.04113302, -0.01687024, -0.05682206, -0.01231128,  0.01442758,\n",
       "        -0.00691444, -0.01288815, -0.00439118, -0.00919051, -0.05212788,\n",
       "         0.00934928, -0.00398108,  0.01263976, -0.00988863,  0.00029845,\n",
       "        -0.01898438, -0.05173841,  0.00420898, -0.00803476,  0.00312137,\n",
       "        -0.02007365, -0.00173107,  0.00531225,  0.00184983,  0.00027083,\n",
       "        -0.06528571, -0.03854536,  0.00656192, -0.02174186,  0.00041244,\n",
       "        -0.00023582,  0.05095707], dtype=float32),\n",
       " array([[[[-0.07456204,  0.00764686, -0.09595209, ...,  0.0614787 ,\n",
       "            0.07579625, -0.00812144],\n",
       "          [ 0.05892075, -0.06584969,  0.02253807, ...,  0.04460086,\n",
       "           -0.05789944, -0.04015253],\n",
       "          [-0.09444214,  0.00480589, -0.01649447, ..., -0.0795085 ,\n",
       "            0.07955796,  0.08054783],\n",
       "          ...,\n",
       "          [ 0.10129166, -0.09457352, -0.06469116, ...,  0.11330821,\n",
       "            0.05037135, -0.0261444 ],\n",
       "          [ 0.07549074,  0.00110636,  0.04371423, ...,  0.1741513 ,\n",
       "            0.05435942,  0.0054582 ],\n",
       "          [ 0.04288583,  0.09383245, -0.01510289, ..., -0.07814686,\n",
       "           -0.07078597,  0.06194984]],\n",
       " \n",
       "         [[-0.02344937,  0.04888954,  0.02772436, ..., -0.03493883,\n",
       "            0.00742316,  0.02408905],\n",
       "          [-0.02624284,  0.03901199, -0.09622853, ...,  0.08324801,\n",
       "            0.01039151, -0.02269525],\n",
       "          [ 0.04860471, -0.09197197, -0.0725597 , ..., -0.09028833,\n",
       "           -0.03173476, -0.01834838],\n",
       "          ...,\n",
       "          [-0.05498873, -0.04790287,  0.01226675, ...,  0.03028142,\n",
       "           -0.06271093,  0.0587001 ],\n",
       "          [ 0.09205274,  0.14919278, -0.06812429, ...,  0.180344  ,\n",
       "           -0.10503272, -0.06000228],\n",
       "          [-0.07106394,  0.04788417,  0.10812875, ...,  0.02129892,\n",
       "           -0.06032342, -0.084162  ]],\n",
       " \n",
       "         [[-0.07431934, -0.01129699, -0.05819822, ...,  0.04767076,\n",
       "            0.01563681,  0.04404307],\n",
       "          [ 0.03293421, -0.03575904,  0.0134561 , ..., -0.02678411,\n",
       "           -0.09560543, -0.09179616],\n",
       "          [ 0.0125673 , -0.01956786,  0.00965976, ..., -0.03299309,\n",
       "            0.08592882,  0.07970014],\n",
       "          ...,\n",
       "          [ 0.11776312,  0.10124265,  0.04697069, ...,  0.07427439,\n",
       "           -0.10897245, -0.05477063],\n",
       "          [ 0.09404493,  0.04572602,  0.07931717, ...,  0.08955783,\n",
       "           -0.0893717 ,  0.03586957],\n",
       "          [-0.11466005, -0.14047176,  0.01337592, ..., -0.05404394,\n",
       "           -0.00343143, -0.06191204]]],\n",
       " \n",
       " \n",
       "        [[[ 0.0599358 , -0.04101805,  0.01164669, ...,  0.0781201 ,\n",
       "           -0.06758308,  0.07365251],\n",
       "          [-0.01678782, -0.02066701,  0.0266344 , ..., -0.0591432 ,\n",
       "           -0.0779326 , -0.09308913],\n",
       "          [ 0.04842572, -0.11841556, -0.10304802, ...,  0.02774116,\n",
       "           -0.06365458, -0.06370591],\n",
       "          ...,\n",
       "          [ 0.00916412,  0.0464908 ,  0.02911047, ..., -0.02916036,\n",
       "            0.01269986, -0.05097875],\n",
       "          [-0.00692026,  0.09697381,  0.09545518, ..., -0.03930033,\n",
       "           -0.08592518, -0.03963093],\n",
       "          [-0.0595029 ,  0.01517414, -0.05681149, ...,  0.09812517,\n",
       "            0.00616233, -0.05035857]],\n",
       " \n",
       "         [[ 0.08185596, -0.03646999,  0.01202488, ..., -0.07660796,\n",
       "            0.06755253,  0.06986061],\n",
       "          [ 0.08491926, -0.08255585,  0.08432086, ...,  0.04434033,\n",
       "           -0.02246425, -0.12132134],\n",
       "          [ 0.02286277, -0.01303704,  0.06754892, ..., -0.11329859,\n",
       "            0.02793433, -0.11184773],\n",
       "          ...,\n",
       "          [-0.00678567,  0.04829634, -0.09873223, ..., -0.05743396,\n",
       "           -0.0528101 ,  0.05844459],\n",
       "          [ 0.01822256, -0.05392694,  0.03996594, ...,  0.15480866,\n",
       "            0.00979987,  0.06771966],\n",
       "          [-0.04627907, -0.02182576, -0.06792551, ..., -0.01349465,\n",
       "            0.10830184, -0.04880096]],\n",
       " \n",
       "         [[ 0.00234112,  0.0552794 ,  0.06933056, ...,  0.05575067,\n",
       "            0.03753022, -0.05157749],\n",
       "          [ 0.04347781, -0.03536782,  0.03901846, ..., -0.07042206,\n",
       "            0.01218893, -0.11789466],\n",
       "          [ 0.04097611, -0.01005004, -0.04179355, ...,  0.05190644,\n",
       "           -0.09911379, -0.05798098],\n",
       "          ...,\n",
       "          [-0.04344337,  0.12319404,  0.00063775, ...,  0.09279324,\n",
       "           -0.03947061,  0.05749568],\n",
       "          [-0.08657779, -0.06927352,  0.02789488, ...,  0.09716069,\n",
       "           -0.02726261,  0.03763181],\n",
       "          [-0.07272743, -0.09803005,  0.04037193, ..., -0.11007551,\n",
       "           -0.03293158,  0.03885756]]],\n",
       " \n",
       " \n",
       "        [[[-0.08927725, -0.05468615,  0.02300435, ...,  0.08004038,\n",
       "            0.03888857, -0.03499401],\n",
       "          [ 0.01555676, -0.04288635,  0.04855542, ..., -0.02172388,\n",
       "           -0.07914224, -0.03095487],\n",
       "          [ 0.00227354, -0.01957382,  0.00080938, ..., -0.05325457,\n",
       "           -0.03871857,  0.00985192],\n",
       "          ...,\n",
       "          [-0.0545731 ,  0.06344938,  0.05496627, ...,  0.04897362,\n",
       "           -0.00417336, -0.03383997],\n",
       "          [-0.01386917,  0.08546353, -0.01310528, ..., -0.12609941,\n",
       "           -0.09254418, -0.00380466],\n",
       "          [ 0.00415165,  0.12599137, -0.01361415, ...,  0.0268614 ,\n",
       "            0.07986201, -0.03441002]],\n",
       " \n",
       "         [[-0.07107382,  0.02717732, -0.0434892 , ..., -0.0969179 ,\n",
       "           -0.10362172, -0.11070263],\n",
       "          [-0.0855932 , -0.08944514,  0.08935063, ...,  0.02220806,\n",
       "            0.06676532, -0.10624825],\n",
       "          [-0.1040379 ,  0.01673783,  0.07389234, ...,  0.08491603,\n",
       "           -0.04051299, -0.02367206],\n",
       "          ...,\n",
       "          [-0.06821893, -0.02781206, -0.0255119 , ..., -0.09904657,\n",
       "           -0.0394652 , -0.02272015],\n",
       "          [-0.03915102,  0.02922525,  0.08835898, ..., -0.07505781,\n",
       "           -0.0241752 , -0.10243642],\n",
       "          [-0.00772319, -0.03226022,  0.10018446, ..., -0.04048195,\n",
       "            0.11639789,  0.02963904]],\n",
       " \n",
       "         [[ 0.03082924, -0.01478049,  0.00592311, ..., -0.10372788,\n",
       "            0.07453049,  0.07022823],\n",
       "          [ 0.01031568,  0.00395267, -0.06665771, ...,  0.07498448,\n",
       "           -0.10526113, -0.0273654 ],\n",
       "          [ 0.04969364,  0.07701246, -0.06016959, ..., -0.04947401,\n",
       "            0.05784795,  0.06136335],\n",
       "          ...,\n",
       "          [ 0.00486845,  0.05082193, -0.12130466, ..., -0.0455687 ,\n",
       "           -0.00232462,  0.00400167],\n",
       "          [-0.08357076, -0.06951593, -0.06041357, ...,  0.16072276,\n",
       "            0.00187244, -0.09089512],\n",
       "          [-0.07061412, -0.04843885,  0.00507097, ...,  0.095012  ,\n",
       "           -0.07196528, -0.08452017]]]], dtype=float32),\n",
       " array([-0.00721496, -0.04186204, -0.00724828,  0.00058129, -0.02456373,\n",
       "        -0.01490364,  0.00827186, -0.01359424,  0.00774373, -0.02322767,\n",
       "        -0.01307507, -0.00949396, -0.00432465, -0.02032106, -0.01043628,\n",
       "        -0.018682  , -0.01984932, -0.02456696,  0.00665705, -0.01208154,\n",
       "         0.02621079, -0.01392524, -0.08429477,  0.00428779,  0.03241993,\n",
       "        -0.0110347 ,  0.02399123, -0.00168759, -0.00848833, -0.0219641 ,\n",
       "        -0.00819317, -0.02912914], dtype=float32),\n",
       " array([[[[-6.69313669e-02,  8.56448710e-02,  1.35706449e-02, ...,\n",
       "            1.95599976e-03,  2.78119417e-03,  3.46739925e-02],\n",
       "          [ 6.31754994e-02, -7.67463259e-03, -5.28072566e-02, ...,\n",
       "           -7.32649788e-02, -9.23151374e-02, -9.13254693e-02],\n",
       "          [-2.77029704e-02,  6.89735264e-02, -6.07752707e-03, ...,\n",
       "           -4.57279421e-02, -5.95323518e-02,  6.68522576e-03],\n",
       "          ...,\n",
       "          [-4.47361842e-02, -9.31121781e-02,  4.13642451e-03, ...,\n",
       "           -6.88941851e-02, -4.17835303e-02,  2.91763023e-02],\n",
       "          [-4.25200211e-03,  6.47994131e-02, -6.28272742e-02, ...,\n",
       "            3.88659462e-02, -8.03910568e-02,  5.73515408e-02],\n",
       "          [ 6.47210851e-02, -7.54033253e-02,  4.52914275e-02, ...,\n",
       "           -2.77354866e-02,  4.98211160e-02, -9.56632197e-02]],\n",
       " \n",
       "         [[-3.17890495e-02, -2.49881521e-02,  4.47457992e-02, ...,\n",
       "           -6.97073564e-02,  1.04699349e-02,  1.06972530e-01],\n",
       "          [-1.73999369e-02,  4.46336046e-02, -4.90856394e-02, ...,\n",
       "            5.70967346e-02,  8.81884694e-02,  6.33094534e-02],\n",
       "          [ 6.79022372e-02, -2.37993319e-02, -9.37653333e-03, ...,\n",
       "           -5.64777246e-03,  2.78840344e-02, -4.56245467e-02],\n",
       "          ...,\n",
       "          [ 1.24436645e-02, -2.49739923e-02,  3.42095159e-02, ...,\n",
       "           -6.70801997e-02,  3.33503559e-02,  1.76094845e-02],\n",
       "          [ 4.29602750e-02,  4.66012582e-03,  7.12921843e-02, ...,\n",
       "            2.78168004e-02, -3.60567980e-02, -2.21995953e-02],\n",
       "          [ 2.99308188e-02,  2.77049821e-02,  4.69446108e-02, ...,\n",
       "            2.86676735e-02, -3.76893207e-02, -3.57173011e-02]],\n",
       " \n",
       "         [[-5.46887927e-02, -7.97616914e-02,  2.47287247e-02, ...,\n",
       "           -7.63548119e-03, -8.52704644e-02,  6.66697696e-02],\n",
       "          [ 6.61440417e-02,  8.08113739e-02,  2.94781309e-02, ...,\n",
       "            6.36826307e-02,  6.66965218e-03,  1.46891147e-01],\n",
       "          [ 2.32187808e-02,  7.77930319e-02,  1.19053787e-02, ...,\n",
       "           -7.31717944e-02, -1.49914250e-02, -5.23144081e-02],\n",
       "          ...,\n",
       "          [-3.31129786e-03, -4.64046821e-02, -5.77861518e-02, ...,\n",
       "           -5.43561056e-02,  3.92336957e-03,  4.45269793e-02],\n",
       "          [ 2.38023587e-02, -5.06286249e-02,  3.55961882e-02, ...,\n",
       "            7.15878308e-02, -3.23053151e-02, -3.37095149e-02],\n",
       "          [-2.36667451e-02,  4.33710068e-02, -8.39056745e-02, ...,\n",
       "            3.74345705e-02, -1.09642288e-02,  5.58698513e-02]]],\n",
       " \n",
       " \n",
       "        [[[ 7.36822486e-02,  5.76986521e-02, -8.16646814e-02, ...,\n",
       "            2.54275370e-03, -1.06843613e-01, -1.28552057e-02],\n",
       "          [-4.45860252e-02, -8.14769045e-03, -4.97960821e-02, ...,\n",
       "            4.33061691e-03, -7.61511326e-02, -1.46171406e-01],\n",
       "          [ 6.18167631e-02, -2.90099084e-02, -4.72585149e-02, ...,\n",
       "           -7.75267929e-02,  2.49175224e-02,  2.83703040e-02],\n",
       "          ...,\n",
       "          [-3.26870312e-03, -6.09967485e-02, -6.24675527e-02, ...,\n",
       "           -7.34907612e-02,  4.31185663e-02, -4.13275063e-02],\n",
       "          [ 4.58494797e-02,  5.79050742e-02,  7.38669783e-02, ...,\n",
       "            2.76567508e-02,  4.14176285e-02, -8.15587565e-02],\n",
       "          [ 1.59095377e-02, -4.78881337e-02, -7.39830062e-02, ...,\n",
       "            5.94554394e-02,  3.78978848e-02, -3.77342291e-02]],\n",
       " \n",
       "         [[-2.36138888e-02, -4.82108444e-02,  1.59461424e-02, ...,\n",
       "           -4.11737859e-02,  4.31204550e-02,  1.01850018e-01],\n",
       "          [ 2.22229101e-02,  3.92765962e-02, -1.52083682e-02, ...,\n",
       "           -1.21694682e-02,  1.03179052e-01,  6.33961111e-02],\n",
       "          [ 1.38031691e-02,  7.81659186e-02, -1.46627016e-02, ...,\n",
       "           -7.33111426e-02,  4.82973270e-03, -1.55565972e-02],\n",
       "          ...,\n",
       "          [-6.23520687e-02, -5.54576181e-02,  3.41100693e-02, ...,\n",
       "            4.45252806e-02, -7.71505013e-02, -9.75842699e-02],\n",
       "          [ 5.37661500e-02, -7.85635263e-02, -3.27796377e-02, ...,\n",
       "            1.00823035e-02,  1.83381941e-02, -7.82869980e-02],\n",
       "          [ 5.73908091e-02,  3.67976762e-02,  2.59473622e-02, ...,\n",
       "           -3.75270769e-02,  1.52370907e-04, -4.48531955e-02]],\n",
       " \n",
       "         [[ 3.91210467e-02, -2.92865317e-02, -2.01440994e-02, ...,\n",
       "           -5.66012822e-02,  6.64378423e-03,  1.47773884e-02],\n",
       "          [-4.24423404e-02,  1.71222109e-02,  2.87828892e-02, ...,\n",
       "           -2.04189587e-02,  6.87801614e-02,  1.17834993e-01],\n",
       "          [-5.51168546e-02, -4.58607078e-02, -4.14777286e-02, ...,\n",
       "           -4.00802828e-02, -2.93512698e-02,  7.97507837e-02],\n",
       "          ...,\n",
       "          [-8.29597339e-02, -3.52377817e-02, -3.05683706e-02, ...,\n",
       "            1.44593390e-02, -3.63905951e-02,  1.47090210e-02],\n",
       "          [ 3.88539657e-02, -2.40597245e-03,  1.07469689e-03, ...,\n",
       "            2.65614744e-02, -1.61705185e-02, -4.03645774e-03],\n",
       "          [-4.24636714e-03,  1.27447117e-02,  6.83228821e-02, ...,\n",
       "           -6.88959435e-02, -6.64649457e-02, -1.39821777e-02]]],\n",
       " \n",
       " \n",
       "        [[[ 4.08432148e-02,  2.21797097e-02,  1.51082026e-02, ...,\n",
       "           -8.56692940e-02, -2.56320238e-02,  4.15101349e-02],\n",
       "          [ 3.74721028e-02, -1.14769647e-02,  5.56030087e-02, ...,\n",
       "           -3.59658785e-02, -2.47340873e-02, -1.28987849e-01],\n",
       "          [-8.47398788e-02,  3.65446173e-02,  3.68694402e-02, ...,\n",
       "            4.44315672e-02,  4.36912291e-02, -2.69072540e-02],\n",
       "          ...,\n",
       "          [-9.25032143e-03,  7.18461648e-02,  4.72129248e-02, ...,\n",
       "            6.31828234e-02, -8.60404223e-02,  3.95024642e-02],\n",
       "          [ 7.05758557e-02, -1.96495708e-02, -4.96925600e-02, ...,\n",
       "            5.98375425e-02, -4.99834754e-02, -7.62852728e-02],\n",
       "          [ 7.07740546e-05, -9.10310373e-02, -5.77564910e-03, ...,\n",
       "           -4.61539850e-02,  7.79149160e-02, -8.77480060e-02]],\n",
       " \n",
       "         [[-9.05544907e-02,  2.03897860e-02,  7.83880241e-03, ...,\n",
       "            3.01461406e-02,  1.81331448e-02,  1.56843953e-03],\n",
       "          [-4.91764769e-02, -5.99457845e-02, -7.77238458e-02, ...,\n",
       "           -1.76185761e-02,  4.19747783e-03,  2.53074430e-02],\n",
       "          [ 5.13693132e-02,  3.93142812e-02, -2.21095774e-02, ...,\n",
       "           -4.03754860e-02, -2.14870013e-02,  5.80247045e-02],\n",
       "          ...,\n",
       "          [-8.14544931e-02, -6.43192679e-02, -4.64295894e-02, ...,\n",
       "            6.39365911e-02,  3.21932808e-02,  3.05150338e-02],\n",
       "          [-5.02698757e-02, -5.55931740e-02, -6.39339015e-02, ...,\n",
       "            7.21069425e-02, -6.19609766e-02, -2.59036329e-02],\n",
       "          [-9.98189673e-03, -1.00405209e-01,  3.51845287e-02, ...,\n",
       "            6.08430896e-03,  3.40276025e-02, -7.09335087e-03]],\n",
       " \n",
       "         [[-4.21592183e-02,  8.08516443e-02, -3.98556106e-02, ...,\n",
       "            3.79737318e-02, -1.46937510e-02,  3.29337791e-02],\n",
       "          [-5.95199540e-02,  6.04823343e-02, -7.10575432e-02, ...,\n",
       "            2.07740366e-02,  8.64045247e-02, -4.05112244e-02],\n",
       "          [ 2.07299124e-02,  3.06858029e-02,  2.38549355e-02, ...,\n",
       "            9.07839835e-02, -1.92907844e-02,  6.24500476e-02],\n",
       "          ...,\n",
       "          [-7.54710361e-02, -1.03208445e-01,  1.19939055e-02, ...,\n",
       "            1.72200147e-02, -2.43659317e-02,  6.32764027e-02],\n",
       "          [-1.67619660e-02, -6.81489259e-02, -5.31427823e-02, ...,\n",
       "           -1.63624547e-02,  2.53918264e-02, -2.61880998e-02],\n",
       "          [ 4.09392565e-02,  6.26836158e-03, -5.07728234e-02, ...,\n",
       "           -3.26168090e-02,  2.70804446e-02, -2.32071336e-02]]]],\n",
       "       dtype=float32),\n",
       " array([-0.01455545, -0.03093264, -0.01232995, -0.01975296, -0.03203773,\n",
       "         0.01192277, -0.02836967, -0.0258572 , -0.0318919 ,  0.05479873,\n",
       "        -0.02385123, -0.00382248, -0.02369376, -0.04136064, -0.0092926 ,\n",
       "        -0.04747463, -0.04843305, -0.0098351 , -0.00967184, -0.04685513,\n",
       "        -0.04934816, -0.00956918, -0.01080678, -0.0315571 , -0.04513612,\n",
       "        -0.02371681, -0.03796001, -0.01938385, -0.0011558 , -0.02062357,\n",
       "        -0.0340896 , -0.01100111, -0.04736603, -0.02205458, -0.01291779,\n",
       "        -0.03335095, -0.01533368, -0.03964372, -0.00986362, -0.02357389,\n",
       "        -0.00846802, -0.02802869, -0.01435068, -0.00764931, -0.01080138,\n",
       "        -0.02423231, -0.01991419, -0.0475607 , -0.00813309, -0.02810468,\n",
       "         0.00432769, -0.01940442,  0.02148971, -0.01735822, -0.02986092,\n",
       "        -0.03336602, -0.03620757,  0.04371669, -0.02328113, -0.02173614,\n",
       "        -0.01769717, -0.01137564, -0.03850017, -0.04314403], dtype=float32),\n",
       " array([[-2.4006372e-04, -7.9002082e-03, -5.4344395e-04, ...,\n",
       "         -7.7874451e-03,  5.0159320e-03,  1.7952202e-03],\n",
       "        [ 3.8119087e-03,  8.2362111e-04, -1.2869327e-02, ...,\n",
       "         -4.2408723e-03,  6.6948691e-03,  7.0489352e-03],\n",
       "        [ 5.8908161e-04, -8.7023212e-04, -7.5204950e-03, ...,\n",
       "          3.0972837e-03, -4.6890313e-03,  1.4321930e-03],\n",
       "        ...,\n",
       "        [ 6.2541883e-03, -2.8256129e-03, -9.5092291e-03, ...,\n",
       "          9.8564231e-04,  4.1731107e-03,  4.5613693e-03],\n",
       "        [-7.0167072e-05,  5.8903801e-03, -6.1428705e-03, ...,\n",
       "         -2.0834681e-04, -2.8710481e-04,  9.8926965e-03],\n",
       "        [ 9.2810229e-04, -7.1342997e-03, -1.0514597e-03, ...,\n",
       "          3.2436778e-03, -1.9235145e-02,  7.1717896e-03]], dtype=float32),\n",
       " array([-0.00600039, -0.00600484, -0.00600517,  0.0623222 , -0.03315641,\n",
       "        -0.00418049, -0.01712247,  0.00607938, -0.0005132 ,  0.04381654,\n",
       "        -0.00600428, -0.05167838, -0.00890872,  0.02295636, -0.01028984,\n",
       "        -0.00600448, -0.04608078, -0.019411  , -0.00784209, -0.0060036 ,\n",
       "        -0.0060474 , -0.00742102,  0.01551247, -0.00522613, -0.00641594,\n",
       "        -0.00325588, -0.01159955, -0.00600532, -0.00599019, -0.00667941,\n",
       "        -0.006005  , -0.00600403,  0.00441226, -0.00555332, -0.006005  ,\n",
       "        -0.00570542, -0.02574012, -0.00899001, -0.00453262,  0.01788387,\n",
       "        -0.00353538, -0.00600516, -0.00600516, -0.00665396, -0.03937864,\n",
       "        -0.02938942, -0.06686768,  0.05695401, -0.00600442, -0.00600523,\n",
       "        -0.01051014, -0.00600491, -0.00275757, -0.00908523, -0.00118446,\n",
       "         0.0029366 , -0.01111069, -0.00562727, -0.04744908, -0.00555842,\n",
       "        -0.01035491, -0.00600151, -0.01496156, -0.00600179], dtype=float32),\n",
       " array([[ 0.17074683,  0.14615852, -0.17007364, ...,  0.02812496,\n",
       "          0.09233679, -0.12578474],\n",
       "        [-0.00814034,  0.26231086, -0.23253906, ...,  0.28375787,\n",
       "          0.14403749, -0.17498788],\n",
       "        [ 0.04656248,  0.0468455 ,  0.23965265, ...,  0.29687652,\n",
       "          0.15656847,  0.16733877],\n",
       "        ...,\n",
       "        [ 0.14251451,  0.12763728,  0.2397996 , ..., -0.00543737,\n",
       "         -0.15289657,  0.19672325],\n",
       "        [ 0.07648226,  0.18107767,  0.11600853, ...,  0.09486113,\n",
       "         -0.22070089,  0.24042918],\n",
       "        [-0.11476848,  0.17562988,  0.14041421, ...,  0.24670781,\n",
       "          0.20186587,  0.14901873]], dtype=float32),\n",
       " array([-0.09489975, -0.13850315,  0.07111115,  0.08449339, -0.12652099,\n",
       "        -0.14932181,  0.05117719, -0.09536017, -0.0137139 , -0.04956514,\n",
       "        -0.01031736, -0.11883293,  0.105063  ,  0.12258553, -0.00964975,\n",
       "        -0.0123733 ,  0.2716736 ,  0.17959   , -0.05198828, -0.07059458,\n",
       "         0.09902012,  0.04894893,  0.18652302,  0.14311755,  0.07290505,\n",
       "         0.1028424 ,  0.169749  ,  0.05844017,  0.11530758, -0.03363966,\n",
       "        -0.1040642 ,  0.1045467 , -0.06682388, -0.05298302,  0.00937522,\n",
       "         0.02814771,  0.01317253,  0.13357595,  0.09843298,  0.01973644,\n",
       "        -0.08185794,  0.12365095, -0.07071318, -0.11196385,  0.09677265,\n",
       "         0.16815029,  0.23399873, -0.05599444,  0.07772098,  0.0019043 ,\n",
       "        -0.00334498,  0.04301675,  0.08486981, -0.04660987, -0.05249156,\n",
       "        -0.08788515,  0.0388255 , -0.02472307,  0.21903159, -0.01201029,\n",
       "         0.0281629 ,  0.01137773, -0.07837129,  0.10049524], dtype=float32),\n",
       " array([[ 0.11286504, -0.20224369,  0.14319764, -0.26987082],\n",
       "        [-0.24015954,  0.06571545,  0.14184777, -0.30879793],\n",
       "        [-0.06799237, -0.11362949,  0.01728031,  0.12869294],\n",
       "        [ 0.29555294, -0.09721828, -0.08060489, -0.09529722],\n",
       "        [-0.04775797,  0.02780793,  0.28814074, -0.02299299],\n",
       "        [ 0.03827633,  0.10183646,  0.2063964 , -0.21727704],\n",
       "        [ 0.02673629,  0.21136928, -0.18953079, -0.286634  ],\n",
       "        [ 0.07555887,  0.10978904,  0.07024341, -0.2049927 ],\n",
       "        [ 0.23656072, -0.22749586,  0.01525196, -0.30005187],\n",
       "        [ 0.1994353 , -0.11773243,  0.20572624,  0.07040834],\n",
       "        [ 0.23141466, -0.01742907,  0.1683801 , -0.2689701 ],\n",
       "        [-0.17327054, -0.04423661,  0.15230589, -0.04001168],\n",
       "        [ 0.0664781 ,  0.15147033, -0.18502381,  0.3357984 ],\n",
       "        [ 0.05295623,  0.15953551, -0.17630138,  0.19495586],\n",
       "        [ 0.02386869,  0.06057349,  0.17488316,  0.18586482],\n",
       "        [-0.23989657,  0.15733194, -0.02526572, -0.1495674 ],\n",
       "        [-0.0682207 , -0.00862441, -0.44476423, -0.02143675],\n",
       "        [ 0.279648  ,  0.19067408, -0.11574486,  0.16069794],\n",
       "        [ 0.14144681,  0.2852213 ,  0.22883356,  0.29822704],\n",
       "        [-0.28410873,  0.00842394,  0.24749349, -0.20849864],\n",
       "        [-0.327304  ,  0.02811727, -0.04335976,  0.18421601],\n",
       "        [ 0.06418083,  0.03991154, -0.12725423, -0.01921844],\n",
       "        [ 0.14442593,  0.03730324, -0.17746036,  0.1915968 ],\n",
       "        [ 0.19108975,  0.14853586, -0.09377398,  0.28266653],\n",
       "        [ 0.21646027, -0.2845885 , -0.22425559, -0.30482358],\n",
       "        [-0.10726406,  0.2802365 , -0.09580789,  0.05439838],\n",
       "        [ 0.11843275,  0.00544069, -0.3264309 , -0.1903192 ],\n",
       "        [ 0.25562343,  0.30427766,  0.21854924, -0.33708408],\n",
       "        [ 0.1483674 ,  0.02945585, -0.23894587, -0.21593358],\n",
       "        [-0.23782003, -0.23914367,  0.06689044, -0.05818788],\n",
       "        [ 0.08835028, -0.23900399,  0.3052654 , -0.02181567],\n",
       "        [ 0.11094896, -0.07076161,  0.06151948,  0.24858122],\n",
       "        [-0.10166597,  0.15806128,  0.30351165,  0.16479291],\n",
       "        [ 0.05073185, -0.07917081,  0.03107521, -0.07774071],\n",
       "        [-0.38506663, -0.2043128 , -0.20075002, -0.23655936],\n",
       "        [-0.13308975, -0.17810144,  0.0257385 ,  0.15739773],\n",
       "        [ 0.22990456, -0.26496372,  0.00889364, -0.03637403],\n",
       "        [-0.2547577 ,  0.18510497, -0.02622802,  0.3563881 ],\n",
       "        [ 0.05300531,  0.00271607, -0.23257469,  0.24799947],\n",
       "        [-0.33222046,  0.30384612, -0.11614696, -0.18935116],\n",
       "        [-0.11452481, -0.04896356,  0.17894834,  0.08286338],\n",
       "        [-0.06462421,  0.31166083, -0.21662734,  0.12897106],\n",
       "        [-0.03510804,  0.12225024,  0.31917468, -0.18763623],\n",
       "        [ 0.05205282, -0.1063382 ,  0.16572148, -0.0814676 ],\n",
       "        [ 0.1936193 ,  0.24878964,  0.09664731, -0.30116558],\n",
       "        [ 0.04816717,  0.18304205, -0.28360143,  0.3065554 ],\n",
       "        [ 0.09533372,  0.29354855, -0.35386795, -0.2290294 ],\n",
       "        [ 0.14984314, -0.15303077,  0.1359186 , -0.18945485],\n",
       "        [ 0.2057264 , -0.34959802, -0.1979043 ,  0.26646322],\n",
       "        [-0.1044894 , -0.09341326,  0.17869443,  0.24378504],\n",
       "        [ 0.14319342, -0.22207229,  0.18233556,  0.23527454],\n",
       "        [-0.26467055, -0.05996987, -0.26587933, -0.11691778],\n",
       "        [ 0.07706096,  0.11847913, -0.15960984, -0.00438617],\n",
       "        [-0.2855878 ,  0.00342085, -0.04068704, -0.22530143],\n",
       "        [ 0.05518357, -0.1607041 ,  0.19162758,  0.13118558],\n",
       "        [-0.01269416,  0.10207979,  0.31265348, -0.19729044],\n",
       "        [-0.12036305,  0.21248682, -0.30342016, -0.0985601 ],\n",
       "        [-0.18339203,  0.1593971 , -0.04280153, -0.06905673],\n",
       "        [ 0.09793351,  0.19912814, -0.36129248,  0.13126306],\n",
       "        [ 0.09173014,  0.13191044,  0.12270533,  0.27646914],\n",
       "        [ 0.0957686 , -0.2512992 , -0.269729  , -0.10627077],\n",
       "        [ 0.05428194, -0.3152776 , -0.02336891, -0.06227122],\n",
       "        [-0.15843575, -0.12758943, -0.04432327, -0.05146923],\n",
       "        [-0.23486751,  0.23281834, -0.18806478,  0.1363311 ]],\n",
       "       dtype=float32),\n",
       " array([ 0.06422371,  0.02497897, -0.17117672,  0.11072791], dtype=float32)]"
      ]
     },
     "execution_count": 28,
     "metadata": {},
     "output_type": "execute_result"
    }
   ],
   "source": [
    "model.get_weights()"
   ]
  },
  {
   "cell_type": "code",
   "execution_count": 29,
   "id": "46a97c6d",
   "metadata": {
    "execution": {
     "iopub.execute_input": "2022-06-19T07:53:57.501868Z",
     "iopub.status.busy": "2022-06-19T07:53:57.501344Z",
     "iopub.status.idle": "2022-06-19T07:53:57.773777Z",
     "shell.execute_reply": "2022-06-19T07:53:57.772460Z"
    },
    "papermill": {
     "duration": 0.359426,
     "end_time": "2022-06-19T07:53:57.776219",
     "exception": false,
     "start_time": "2022-06-19T07:53:57.416793",
     "status": "completed"
    },
    "tags": []
   },
   "outputs": [
    {
     "data": {
      "image/png": "[encoded data removed]",
      "text/plain": [
       "<Figure size 432x288 with 1 Axes>"
      ]
     },
     "metadata": {
      "needs_background": "light"
     },
     "output_type": "display_data"
    }
   ],
   "source": [
    "plt.plot(model_history.history['accuracy'])\n",
    "plt.plot(model_history.history['val_accuracy'])\n",
    "plt.title('Accuracy of the model')\n",
    "plt.xlabel('Epochs')\n",
    "plt.ylabel('Accuracy')\n",
    "plt.legend(['train','test'],loc='upper left')\n",
    "plt.show()"
   ]
  },
  {
   "cell_type": "code",
   "execution_count": 30,
   "id": "4db89584",
   "metadata": {
    "execution": {
     "iopub.execute_input": "2022-06-19T07:53:57.943570Z",
     "iopub.status.busy": "2022-06-19T07:53:57.943115Z",
     "iopub.status.idle": "2022-06-19T07:53:58.179602Z",
     "shell.execute_reply": "2022-06-19T07:53:58.178331Z"
    },
    "papermill": {
     "duration": 0.32375,
     "end_time": "2022-06-19T07:53:58.182053",
     "exception": false,
     "start_time": "2022-06-19T07:53:57.858303",
     "status": "completed"
    },
    "tags": []
   },
   "outputs": [
    {
     "data": {
      "image/png": "[encoded data removed]",
      "text/plain": [
       "<Figure size 432x288 with 1 Axes>"
      ]
     },
     "metadata": {
      "needs_background": "light"
     },
     "output_type": "display_data"
    }
   ],
   "source": [
    "plt.plot(model_history.history['loss'])\n",
    "plt.plot(model_history.history['val_loss'])\n",
    "plt.title('Loss of the model')\n",
    "plt.xlabel('Epochs')\n",
    "plt.ylabel('Loss')\n",
    "plt.legend(['train','test'],loc='upper left')\n",
    "plt.show()"
   ]
  }
 ],
 "metadata": {
  "kernelspec": {
   "display_name": "Python 3",
   "language": "python",
   "name": "python3"
  },
  "language_info": {
   "codemirror_mode": {
    "name": "ipython",
    "version": 3
   },
   "file_extension": ".py",
   "mimetype": "text/x-python",
   "name": "python",
   "nbconvert_exporter": "python",
   "pygments_lexer": "ipython3",
   "version": "3.7.12"
  },
  "papermill": {
   "default_parameters": {},
   "duration": 1608.969604,
   "end_time": "2022-06-19T07:54:01.735412",
   "environment_variables": {},
   "exception": null,
   "input_path": "__notebook__.ipynb",
   "output_path": "__notebook__.ipynb",
   "parameters": {},
   "start_time": "2022-06-19T07:27:12.765808",
   "version": "2.3.4"
  }
 },
 "nbformat": 4,
 "nbformat_minor": 5
}
