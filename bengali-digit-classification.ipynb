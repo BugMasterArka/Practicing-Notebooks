{
 "cells": [
  {
   "cell_type": "markdown",
   "id": "057b2e88",
   "metadata": {
    "papermill": {
     "duration": 0.018231,
     "end_time": "2022-06-10T21:09:04.979933",
     "exception": false,
     "start_time": "2022-06-10T21:09:04.961702",
     "status": "completed"
    },
    "tags": []
   },
   "source": [
    "## Importing the Libraries"
   ]
  },
  {
   "cell_type": "code",
   "execution_count": 1,
   "id": "df57ed6d",
   "metadata": {
    "execution": {
     "iopub.execute_input": "2022-06-10T21:09:05.016047Z",
     "iopub.status.busy": "2022-06-10T21:09:05.015351Z",
     "iopub.status.idle": "2022-06-10T21:09:11.324378Z",
     "shell.execute_reply": "2022-06-10T21:09:11.323019Z"
    },
    "papermill": {
     "duration": 6.330272,
     "end_time": "2022-06-10T21:09:11.327006",
     "exception": false,
     "start_time": "2022-06-10T21:09:04.996734",
     "status": "completed"
    },
    "tags": []
   },
   "outputs": [],
   "source": [
    "import numpy as np\n",
    "from keras.preprocessing import image\n",
    "import tensorflow as tf\n",
    "from keras.preprocessing.image import ImageDataGenerator\n",
    "import matplotlib.pyplot as plt"
   ]
  },
  {
   "cell_type": "markdown",
   "id": "69db8ecd",
   "metadata": {
    "papermill": {
     "duration": 0.018042,
     "end_time": "2022-06-10T21:09:11.363687",
     "exception": false,
     "start_time": "2022-06-10T21:09:11.345645",
     "status": "completed"
    },
    "tags": []
   },
   "source": [
    "## Data Preprocessing"
   ]
  },
  {
   "cell_type": "code",
   "execution_count": 2,
   "id": "c822d330",
   "metadata": {
    "execution": {
     "iopub.execute_input": "2022-06-10T21:09:11.401219Z",
     "iopub.status.busy": "2022-06-10T21:09:11.400404Z",
     "iopub.status.idle": "2022-06-10T21:09:11.405150Z",
     "shell.execute_reply": "2022-06-10T21:09:11.404106Z"
    },
    "papermill": {
     "duration": 0.026467,
     "end_time": "2022-06-10T21:09:11.407841",
     "exception": false,
     "start_time": "2022-06-10T21:09:11.381374",
     "status": "completed"
    },
    "tags": []
   },
   "outputs": [],
   "source": [
    "directory = \"../input/bengali-digits/bengali_digits\""
   ]
  },
  {
   "cell_type": "markdown",
   "id": "675e5882",
   "metadata": {
    "papermill": {
     "duration": 0.016857,
     "end_time": "2022-06-10T21:09:11.449236",
     "exception": false,
     "start_time": "2022-06-10T21:09:11.432379",
     "status": "completed"
    },
    "tags": []
   },
   "source": [
    "### Training Data"
   ]
  },
  {
   "cell_type": "code",
   "execution_count": 3,
   "id": "100023c0",
   "metadata": {
    "execution": {
     "iopub.execute_input": "2022-06-10T21:09:11.485715Z",
     "iopub.status.busy": "2022-06-10T21:09:11.484788Z",
     "iopub.status.idle": "2022-06-10T21:09:21.472473Z",
     "shell.execute_reply": "2022-06-10T21:09:21.471320Z"
    },
    "papermill": {
     "duration": 10.008609,
     "end_time": "2022-06-10T21:09:21.474803",
     "exception": false,
     "start_time": "2022-06-10T21:09:11.466194",
     "status": "completed"
    },
    "tags": []
   },
   "outputs": [
    {
     "name": "stdout",
     "output_type": "stream",
     "text": [
      "Found 15620 files belonging to 10 classes.\n",
      "Using 11715 files for training.\n"
     ]
    },
    {
     "name": "stderr",
     "output_type": "stream",
     "text": [
      "2022-06-10 21:09:21.352409: I tensorflow/core/common_runtime/process_util.cc:146] Creating new thread pool with default inter op setting: 2. Tune using inter_op_parallelism_threads for best performance.\n"
     ]
    }
   ],
   "source": [
    "training = tf.keras.utils.image_dataset_from_directory(\n",
    "    directory,\n",
    "    labels=\"inferred\",\n",
    "    label_mode=\"categorical\",\n",
    "    class_names=None,\n",
    "    color_mode=\"rgb\",\n",
    "    batch_size=32,\n",
    "    image_size=(64, 64),\n",
    "    shuffle=True,\n",
    "    seed=0,\n",
    "    validation_split=0.25,\n",
    "    subset=\"training\",\n",
    "    interpolation=\"bilinear\"\n",
    ")"
   ]
  },
  {
   "cell_type": "code",
   "execution_count": 4,
   "id": "6190ac5b",
   "metadata": {
    "execution": {
     "iopub.execute_input": "2022-06-10T21:09:21.509918Z",
     "iopub.status.busy": "2022-06-10T21:09:21.509350Z",
     "iopub.status.idle": "2022-06-10T21:09:21.513676Z",
     "shell.execute_reply": "2022-06-10T21:09:21.512970Z"
    },
    "papermill": {
     "duration": 0.024135,
     "end_time": "2022-06-10T21:09:21.515677",
     "exception": false,
     "start_time": "2022-06-10T21:09:21.491542",
     "status": "completed"
    },
    "scrolled": true,
    "tags": []
   },
   "outputs": [],
   "source": [
    "# train_gen = ImageDataGenerator(rescale = 1./255,\n",
    "#                               shear_range = 0.3,\n",
    "#                               zoom_range = 0.2,\n",
    "#                               horizontal_flip = True)\n",
    "# training_set = train_gen.flow_from_directory('D:/bengali digit classification/bengali_digits/train',\n",
    "#                                             target_size = (64, 64),\n",
    "#                                             batch_size = 30,\n",
    "#                                             class_mode = 'categorical')"
   ]
  },
  {
   "cell_type": "markdown",
   "id": "f6390e80",
   "metadata": {
    "papermill": {
     "duration": 0.017071,
     "end_time": "2022-06-10T21:09:21.549362",
     "exception": false,
     "start_time": "2022-06-10T21:09:21.532291",
     "status": "completed"
    },
    "tags": []
   },
   "source": [
    "### Testing Data"
   ]
  },
  {
   "cell_type": "code",
   "execution_count": 5,
   "id": "30685cba",
   "metadata": {
    "execution": {
     "iopub.execute_input": "2022-06-10T21:09:21.585034Z",
     "iopub.status.busy": "2022-06-10T21:09:21.584605Z",
     "iopub.status.idle": "2022-06-10T21:09:26.053132Z",
     "shell.execute_reply": "2022-06-10T21:09:26.052160Z"
    },
    "papermill": {
     "duration": 4.489305,
     "end_time": "2022-06-10T21:09:26.055591",
     "exception": false,
     "start_time": "2022-06-10T21:09:21.566286",
     "status": "completed"
    },
    "tags": []
   },
   "outputs": [
    {
     "name": "stdout",
     "output_type": "stream",
     "text": [
      "Found 15620 files belonging to 10 classes.\n",
      "Using 3905 files for validation.\n"
     ]
    }
   ],
   "source": [
    "validation = tf.keras.utils.image_dataset_from_directory(\n",
    "    directory,\n",
    "    labels=\"inferred\",\n",
    "    label_mode=\"categorical\",\n",
    "    class_names=None,\n",
    "    color_mode=\"rgb\",\n",
    "    batch_size=32,\n",
    "    image_size=(64, 64),\n",
    "    shuffle=True,\n",
    "    seed=0,\n",
    "    validation_split=0.25,\n",
    "    subset=\"validation\",\n",
    "    interpolation=\"bilinear\"\n",
    ")"
   ]
  },
  {
   "cell_type": "code",
   "execution_count": 6,
   "id": "b914823b",
   "metadata": {
    "execution": {
     "iopub.execute_input": "2022-06-10T21:09:26.099002Z",
     "iopub.status.busy": "2022-06-10T21:09:26.098296Z",
     "iopub.status.idle": "2022-06-10T21:09:26.102956Z",
     "shell.execute_reply": "2022-06-10T21:09:26.102062Z"
    },
    "papermill": {
     "duration": 0.027346,
     "end_time": "2022-06-10T21:09:26.104934",
     "exception": false,
     "start_time": "2022-06-10T21:09:26.077588",
     "status": "completed"
    },
    "tags": []
   },
   "outputs": [],
   "source": [
    "# test_gen = ImageDataGenerator(rescale = 1./255)\n",
    "# test_set = test_gen.flow_from_directory('D:/bengali digit classification/bengali_digits/test',\n",
    "#                                        target_size = (64, 64),\n",
    "#                                        batch_size = 30,\n",
    "#                                        class_mode = 'categorical')"
   ]
  },
  {
   "cell_type": "markdown",
   "id": "4eb234cc",
   "metadata": {
    "papermill": {
     "duration": 0.016589,
     "end_time": "2022-06-10T21:09:26.138610",
     "exception": false,
     "start_time": "2022-06-10T21:09:26.122021",
     "status": "completed"
    },
    "tags": []
   },
   "source": [
    "## Building the Convolutional Neural Network"
   ]
  },
  {
   "cell_type": "markdown",
   "id": "461d13b0",
   "metadata": {
    "papermill": {
     "duration": 0.016458,
     "end_time": "2022-06-10T21:09:26.172521",
     "exception": false,
     "start_time": "2022-06-10T21:09:26.156063",
     "status": "completed"
    },
    "tags": []
   },
   "source": [
    "### Initializing the CNN"
   ]
  },
  {
   "cell_type": "code",
   "execution_count": 7,
   "id": "e17b4dbd",
   "metadata": {
    "execution": {
     "iopub.execute_input": "2022-06-10T21:09:26.207228Z",
     "iopub.status.busy": "2022-06-10T21:09:26.206807Z",
     "iopub.status.idle": "2022-06-10T21:09:26.231298Z",
     "shell.execute_reply": "2022-06-10T21:09:26.230592Z"
    },
    "papermill": {
     "duration": 0.044404,
     "end_time": "2022-06-10T21:09:26.233564",
     "exception": false,
     "start_time": "2022-06-10T21:09:26.189160",
     "status": "completed"
    },
    "tags": []
   },
   "outputs": [],
   "source": [
    "cnn = tf.keras.models.Sequential()"
   ]
  },
  {
   "cell_type": "markdown",
   "id": "5f74b2e4",
   "metadata": {
    "papermill": {
     "duration": 0.016307,
     "end_time": "2022-06-10T21:09:26.266709",
     "exception": false,
     "start_time": "2022-06-10T21:09:26.250402",
     "status": "completed"
    },
    "tags": []
   },
   "source": [
    "### Adding The first Convolution Layer"
   ]
  },
  {
   "cell_type": "code",
   "execution_count": 8,
   "id": "1c81180f",
   "metadata": {
    "execution": {
     "iopub.execute_input": "2022-06-10T21:09:26.301741Z",
     "iopub.status.busy": "2022-06-10T21:09:26.301099Z",
     "iopub.status.idle": "2022-06-10T21:09:26.511595Z",
     "shell.execute_reply": "2022-06-10T21:09:26.510612Z"
    },
    "papermill": {
     "duration": 0.230833,
     "end_time": "2022-06-10T21:09:26.514089",
     "exception": false,
     "start_time": "2022-06-10T21:09:26.283256",
     "status": "completed"
    },
    "tags": []
   },
   "outputs": [],
   "source": [
    "cnn.add(tf.keras.layers.Conv2D(filters=32,kernel_size=3,activation='relu',input_shape=[64, 64, 3]))"
   ]
  },
  {
   "cell_type": "markdown",
   "id": "c37f6aab",
   "metadata": {
    "papermill": {
     "duration": 0.016668,
     "end_time": "2022-06-10T21:09:26.547642",
     "exception": false,
     "start_time": "2022-06-10T21:09:26.530974",
     "status": "completed"
    },
    "tags": []
   },
   "source": [
    "### Adding the first Max Pooling Layer"
   ]
  },
  {
   "cell_type": "code",
   "execution_count": 9,
   "id": "78cdea39",
   "metadata": {
    "execution": {
     "iopub.execute_input": "2022-06-10T21:09:26.583030Z",
     "iopub.status.busy": "2022-06-10T21:09:26.582615Z",
     "iopub.status.idle": "2022-06-10T21:09:26.592261Z",
     "shell.execute_reply": "2022-06-10T21:09:26.591340Z"
    },
    "papermill": {
     "duration": 0.030174,
     "end_time": "2022-06-10T21:09:26.594503",
     "exception": false,
     "start_time": "2022-06-10T21:09:26.564329",
     "status": "completed"
    },
    "tags": []
   },
   "outputs": [],
   "source": [
    "cnn.add(tf.keras.layers.MaxPool2D(pool_size=2,strides=2))"
   ]
  },
  {
   "cell_type": "markdown",
   "id": "1c068089",
   "metadata": {
    "papermill": {
     "duration": 0.01638,
     "end_time": "2022-06-10T21:09:26.627956",
     "exception": false,
     "start_time": "2022-06-10T21:09:26.611576",
     "status": "completed"
    },
    "tags": []
   },
   "source": [
    "### Adding the second Convolution Layer"
   ]
  },
  {
   "cell_type": "code",
   "execution_count": 10,
   "id": "fbfcc85e",
   "metadata": {
    "execution": {
     "iopub.execute_input": "2022-06-10T21:09:26.663257Z",
     "iopub.status.busy": "2022-06-10T21:09:26.662837Z",
     "iopub.status.idle": "2022-06-10T21:09:26.677188Z",
     "shell.execute_reply": "2022-06-10T21:09:26.676369Z"
    },
    "papermill": {
     "duration": 0.034176,
     "end_time": "2022-06-10T21:09:26.679270",
     "exception": false,
     "start_time": "2022-06-10T21:09:26.645094",
     "status": "completed"
    },
    "tags": []
   },
   "outputs": [],
   "source": [
    "cnn.add(tf.keras.layers.Conv2D(filters=32,kernel_size=3,activation='relu'))"
   ]
  },
  {
   "cell_type": "markdown",
   "id": "29b66d32",
   "metadata": {
    "papermill": {
     "duration": 0.016282,
     "end_time": "2022-06-10T21:09:26.712244",
     "exception": false,
     "start_time": "2022-06-10T21:09:26.695962",
     "status": "completed"
    },
    "tags": []
   },
   "source": [
    "### Adding the second Max Pooling Layer"
   ]
  },
  {
   "cell_type": "code",
   "execution_count": 11,
   "id": "e113a28c",
   "metadata": {
    "execution": {
     "iopub.execute_input": "2022-06-10T21:09:26.747796Z",
     "iopub.status.busy": "2022-06-10T21:09:26.747129Z",
     "iopub.status.idle": "2022-06-10T21:09:26.754923Z",
     "shell.execute_reply": "2022-06-10T21:09:26.754201Z"
    },
    "papermill": {
     "duration": 0.027937,
     "end_time": "2022-06-10T21:09:26.757143",
     "exception": false,
     "start_time": "2022-06-10T21:09:26.729206",
     "status": "completed"
    },
    "tags": []
   },
   "outputs": [],
   "source": [
    "cnn.add(tf.keras.layers.MaxPool2D(pool_size=2,strides=2))"
   ]
  },
  {
   "cell_type": "code",
   "execution_count": 12,
   "id": "10645836",
   "metadata": {
    "execution": {
     "iopub.execute_input": "2022-06-10T21:09:26.792613Z",
     "iopub.status.busy": "2022-06-10T21:09:26.791979Z",
     "iopub.status.idle": "2022-06-10T21:09:26.805921Z",
     "shell.execute_reply": "2022-06-10T21:09:26.804932Z"
    },
    "papermill": {
     "duration": 0.034345,
     "end_time": "2022-06-10T21:09:26.808365",
     "exception": false,
     "start_time": "2022-06-10T21:09:26.774020",
     "status": "completed"
    },
    "tags": []
   },
   "outputs": [],
   "source": [
    "cnn.add(tf.keras.layers.Conv2D(filters=32,kernel_size=3,activation='relu'))"
   ]
  },
  {
   "cell_type": "code",
   "execution_count": 13,
   "id": "7f6d1ae2",
   "metadata": {
    "execution": {
     "iopub.execute_input": "2022-06-10T21:09:26.843750Z",
     "iopub.status.busy": "2022-06-10T21:09:26.842851Z",
     "iopub.status.idle": "2022-06-10T21:09:26.852074Z",
     "shell.execute_reply": "2022-06-10T21:09:26.851126Z"
    },
    "papermill": {
     "duration": 0.028853,
     "end_time": "2022-06-10T21:09:26.854031",
     "exception": false,
     "start_time": "2022-06-10T21:09:26.825178",
     "status": "completed"
    },
    "tags": []
   },
   "outputs": [],
   "source": [
    "cnn.add(tf.keras.layers.MaxPool2D(pool_size=2,strides=2))"
   ]
  },
  {
   "cell_type": "markdown",
   "id": "35c4f10a",
   "metadata": {
    "papermill": {
     "duration": 0.016568,
     "end_time": "2022-06-10T21:09:26.887449",
     "exception": false,
     "start_time": "2022-06-10T21:09:26.870881",
     "status": "completed"
    },
    "tags": []
   },
   "source": [
    "### Adding the Flattening Layer"
   ]
  },
  {
   "cell_type": "code",
   "execution_count": 14,
   "id": "1ca55721",
   "metadata": {
    "execution": {
     "iopub.execute_input": "2022-06-10T21:09:26.922054Z",
     "iopub.status.busy": "2022-06-10T21:09:26.921629Z",
     "iopub.status.idle": "2022-06-10T21:09:26.931368Z",
     "shell.execute_reply": "2022-06-10T21:09:26.930423Z"
    },
    "papermill": {
     "duration": 0.029544,
     "end_time": "2022-06-10T21:09:26.933541",
     "exception": false,
     "start_time": "2022-06-10T21:09:26.903997",
     "status": "completed"
    },
    "tags": []
   },
   "outputs": [],
   "source": [
    "cnn.add(tf.keras.layers.Flatten())"
   ]
  },
  {
   "cell_type": "markdown",
   "id": "c37c0046",
   "metadata": {
    "papermill": {
     "duration": 0.016387,
     "end_time": "2022-06-10T21:09:26.966610",
     "exception": false,
     "start_time": "2022-06-10T21:09:26.950223",
     "status": "completed"
    },
    "tags": []
   },
   "source": [
    "### Adding the First Fully Connected Layer"
   ]
  },
  {
   "cell_type": "code",
   "execution_count": 15,
   "id": "ff6b4e37",
   "metadata": {
    "execution": {
     "iopub.execute_input": "2022-06-10T21:09:27.001773Z",
     "iopub.status.busy": "2022-06-10T21:09:27.001147Z",
     "iopub.status.idle": "2022-06-10T21:09:27.015651Z",
     "shell.execute_reply": "2022-06-10T21:09:27.014967Z"
    },
    "papermill": {
     "duration": 0.034598,
     "end_time": "2022-06-10T21:09:27.017762",
     "exception": false,
     "start_time": "2022-06-10T21:09:26.983164",
     "status": "completed"
    },
    "tags": []
   },
   "outputs": [],
   "source": [
    "cnn.add(tf.keras.layers.Dense(units=64,activation='relu'))"
   ]
  },
  {
   "cell_type": "markdown",
   "id": "dde6a3f9",
   "metadata": {
    "papermill": {
     "duration": 0.016855,
     "end_time": "2022-06-10T21:09:27.051501",
     "exception": false,
     "start_time": "2022-06-10T21:09:27.034646",
     "status": "completed"
    },
    "tags": []
   },
   "source": [
    "### Adding a Dropout Layer"
   ]
  },
  {
   "cell_type": "code",
   "execution_count": 16,
   "id": "171b9213",
   "metadata": {
    "execution": {
     "iopub.execute_input": "2022-06-10T21:09:27.086564Z",
     "iopub.status.busy": "2022-06-10T21:09:27.085986Z",
     "iopub.status.idle": "2022-06-10T21:09:27.096036Z",
     "shell.execute_reply": "2022-06-10T21:09:27.095281Z"
    },
    "papermill": {
     "duration": 0.030186,
     "end_time": "2022-06-10T21:09:27.098331",
     "exception": false,
     "start_time": "2022-06-10T21:09:27.068145",
     "status": "completed"
    },
    "tags": []
   },
   "outputs": [],
   "source": [
    "cnn.add(tf.keras.layers.Dropout(0.2))"
   ]
  },
  {
   "cell_type": "markdown",
   "id": "8aa17135",
   "metadata": {
    "papermill": {
     "duration": 0.016287,
     "end_time": "2022-06-10T21:09:27.131755",
     "exception": false,
     "start_time": "2022-06-10T21:09:27.115468",
     "status": "completed"
    },
    "tags": []
   },
   "source": [
    "### Adding the Second Fully Connected Layer"
   ]
  },
  {
   "cell_type": "code",
   "execution_count": 17,
   "id": "96746bd5",
   "metadata": {
    "execution": {
     "iopub.execute_input": "2022-06-10T21:09:27.166804Z",
     "iopub.status.busy": "2022-06-10T21:09:27.166209Z",
     "iopub.status.idle": "2022-06-10T21:09:27.178891Z",
     "shell.execute_reply": "2022-06-10T21:09:27.178114Z"
    },
    "papermill": {
     "duration": 0.032872,
     "end_time": "2022-06-10T21:09:27.181175",
     "exception": false,
     "start_time": "2022-06-10T21:09:27.148303",
     "status": "completed"
    },
    "tags": []
   },
   "outputs": [],
   "source": [
    "cnn.add(tf.keras.layers.Dense(units=64,activation='relu'))"
   ]
  },
  {
   "cell_type": "markdown",
   "id": "37621a25",
   "metadata": {
    "papermill": {
     "duration": 0.016287,
     "end_time": "2022-06-10T21:09:27.214172",
     "exception": false,
     "start_time": "2022-06-10T21:09:27.197885",
     "status": "completed"
    },
    "tags": []
   },
   "source": [
    "### Adding another Dropout Layer"
   ]
  },
  {
   "cell_type": "code",
   "execution_count": 18,
   "id": "32bea7f5",
   "metadata": {
    "execution": {
     "iopub.execute_input": "2022-06-10T21:09:27.249760Z",
     "iopub.status.busy": "2022-06-10T21:09:27.249182Z",
     "iopub.status.idle": "2022-06-10T21:09:27.256785Z",
     "shell.execute_reply": "2022-06-10T21:09:27.256165Z"
    },
    "papermill": {
     "duration": 0.027488,
     "end_time": "2022-06-10T21:09:27.258708",
     "exception": false,
     "start_time": "2022-06-10T21:09:27.231220",
     "status": "completed"
    },
    "tags": []
   },
   "outputs": [],
   "source": [
    "cnn.add(tf.keras.layers.Dropout(0.2))"
   ]
  },
  {
   "cell_type": "code",
   "execution_count": 19,
   "id": "fbe91b23",
   "metadata": {
    "execution": {
     "iopub.execute_input": "2022-06-10T21:09:27.293779Z",
     "iopub.status.busy": "2022-06-10T21:09:27.293193Z",
     "iopub.status.idle": "2022-06-10T21:09:27.305889Z",
     "shell.execute_reply": "2022-06-10T21:09:27.305212Z"
    },
    "papermill": {
     "duration": 0.032655,
     "end_time": "2022-06-10T21:09:27.308002",
     "exception": false,
     "start_time": "2022-06-10T21:09:27.275347",
     "status": "completed"
    },
    "tags": []
   },
   "outputs": [],
   "source": [
    "cnn.add(tf.keras.layers.Dense(units=64,activation='relu'))"
   ]
  },
  {
   "cell_type": "markdown",
   "id": "97e36211",
   "metadata": {
    "papermill": {
     "duration": 0.016223,
     "end_time": "2022-06-10T21:09:27.341382",
     "exception": false,
     "start_time": "2022-06-10T21:09:27.325159",
     "status": "completed"
    },
    "tags": []
   },
   "source": [
    "### Adding the Output Layer"
   ]
  },
  {
   "cell_type": "code",
   "execution_count": 20,
   "id": "a0d8d3c1",
   "metadata": {
    "execution": {
     "iopub.execute_input": "2022-06-10T21:09:27.376404Z",
     "iopub.status.busy": "2022-06-10T21:09:27.375831Z",
     "iopub.status.idle": "2022-06-10T21:09:27.389327Z",
     "shell.execute_reply": "2022-06-10T21:09:27.388156Z"
    },
    "papermill": {
     "duration": 0.033753,
     "end_time": "2022-06-10T21:09:27.391752",
     "exception": false,
     "start_time": "2022-06-10T21:09:27.357999",
     "status": "completed"
    },
    "tags": []
   },
   "outputs": [],
   "source": [
    "cnn.add(tf.keras.layers.Dense(units=10,activation='softmax'))"
   ]
  },
  {
   "cell_type": "markdown",
   "id": "17edc7fa",
   "metadata": {
    "papermill": {
     "duration": 0.016467,
     "end_time": "2022-06-10T21:09:27.425141",
     "exception": false,
     "start_time": "2022-06-10T21:09:27.408674",
     "status": "completed"
    },
    "tags": []
   },
   "source": [
    "### Adding Early Stopping Clause"
   ]
  },
  {
   "cell_type": "code",
   "execution_count": 21,
   "id": "ed7af024",
   "metadata": {
    "execution": {
     "iopub.execute_input": "2022-06-10T21:09:27.459742Z",
     "iopub.status.busy": "2022-06-10T21:09:27.459331Z",
     "iopub.status.idle": "2022-06-10T21:09:27.464894Z",
     "shell.execute_reply": "2022-06-10T21:09:27.463972Z"
    },
    "papermill": {
     "duration": 0.025426,
     "end_time": "2022-06-10T21:09:27.467031",
     "exception": false,
     "start_time": "2022-06-10T21:09:27.441605",
     "status": "completed"
    },
    "tags": []
   },
   "outputs": [],
   "source": [
    "early_stop = tf.keras.callbacks.EarlyStopping(\n",
    "    monitor=\"val_accuracy\",\n",
    "    min_delta=0.0001,\n",
    "    patience=3,\n",
    "    verbose=1,\n",
    "    mode=\"auto\",\n",
    "    baseline=None,\n",
    "    restore_best_weights=True,\n",
    ")"
   ]
  },
  {
   "cell_type": "markdown",
   "id": "602d82f0",
   "metadata": {
    "papermill": {
     "duration": 0.016251,
     "end_time": "2022-06-10T21:09:27.500230",
     "exception": false,
     "start_time": "2022-06-10T21:09:27.483979",
     "status": "completed"
    },
    "tags": []
   },
   "source": [
    "## Training the Model"
   ]
  },
  {
   "cell_type": "markdown",
   "id": "57d6a966",
   "metadata": {
    "papermill": {
     "duration": 0.016336,
     "end_time": "2022-06-10T21:09:27.532994",
     "exception": false,
     "start_time": "2022-06-10T21:09:27.516658",
     "status": "completed"
    },
    "tags": []
   },
   "source": [
    "### Compiling the CNN"
   ]
  },
  {
   "cell_type": "code",
   "execution_count": 22,
   "id": "b519d8f1",
   "metadata": {
    "execution": {
     "iopub.execute_input": "2022-06-10T21:09:27.568296Z",
     "iopub.status.busy": "2022-06-10T21:09:27.567315Z",
     "iopub.status.idle": "2022-06-10T21:09:27.580830Z",
     "shell.execute_reply": "2022-06-10T21:09:27.580135Z"
    },
    "papermill": {
     "duration": 0.033316,
     "end_time": "2022-06-10T21:09:27.582894",
     "exception": false,
     "start_time": "2022-06-10T21:09:27.549578",
     "status": "completed"
    },
    "tags": []
   },
   "outputs": [],
   "source": [
    "cnn.compile(optimizer='adam',loss='categorical_crossentropy',metrics=['accuracy'])"
   ]
  },
  {
   "cell_type": "markdown",
   "id": "b3eeb276",
   "metadata": {
    "papermill": {
     "duration": 0.016534,
     "end_time": "2022-06-10T21:09:27.616141",
     "exception": false,
     "start_time": "2022-06-10T21:09:27.599607",
     "status": "completed"
    },
    "tags": []
   },
   "source": [
    "### Fitting the Model"
   ]
  },
  {
   "cell_type": "code",
   "execution_count": 23,
   "id": "2b4f2495",
   "metadata": {
    "execution": {
     "iopub.execute_input": "2022-06-10T21:09:27.651450Z",
     "iopub.status.busy": "2022-06-10T21:09:27.650521Z",
     "iopub.status.idle": "2022-06-10T21:12:47.837994Z",
     "shell.execute_reply": "2022-06-10T21:12:47.837177Z"
    },
    "papermill": {
     "duration": 200.207735,
     "end_time": "2022-06-10T21:12:47.840547",
     "exception": false,
     "start_time": "2022-06-10T21:09:27.632812",
     "status": "completed"
    },
    "tags": []
   },
   "outputs": [
    {
     "name": "stdout",
     "output_type": "stream",
     "text": [
      "Epoch 1/9\n"
     ]
    },
    {
     "name": "stderr",
     "output_type": "stream",
     "text": [
      "2022-06-10 21:09:28.195300: I tensorflow/compiler/mlir/mlir_graph_optimization_pass.cc:185] None of the MLIR Optimization Passes are enabled (registered 2)\n"
     ]
    },
    {
     "name": "stdout",
     "output_type": "stream",
     "text": [
      "367/367 [==============================] - 25s 64ms/step - loss: 2.3198 - accuracy: 0.3403 - val_loss: 1.0327 - val_accuracy: 0.6822\n",
      "Epoch 2/9\n",
      "367/367 [==============================] - 19s 52ms/step - loss: 0.8954 - accuracy: 0.7228 - val_loss: 0.4912 - val_accuracy: 0.8497\n",
      "Epoch 3/9\n",
      "367/367 [==============================] - 19s 51ms/step - loss: 0.5594 - accuracy: 0.8131 - val_loss: 0.3485 - val_accuracy: 0.8889\n",
      "Epoch 4/9\n",
      "367/367 [==============================] - 19s 51ms/step - loss: 0.4276 - accuracy: 0.8606 - val_loss: 0.3228 - val_accuracy: 0.8917\n",
      "Epoch 5/9\n",
      "367/367 [==============================] - 18s 50ms/step - loss: 0.3540 - accuracy: 0.8858 - val_loss: 0.2706 - val_accuracy: 0.9157\n",
      "Epoch 6/9\n",
      "367/367 [==============================] - 18s 49ms/step - loss: 0.3250 - accuracy: 0.8970 - val_loss: 0.2561 - val_accuracy: 0.9168\n",
      "Epoch 7/9\n",
      "367/367 [==============================] - 19s 52ms/step - loss: 0.2763 - accuracy: 0.9105 - val_loss: 0.2434 - val_accuracy: 0.9219\n",
      "Epoch 8/9\n",
      "367/367 [==============================] - 18s 50ms/step - loss: 0.2517 - accuracy: 0.9176 - val_loss: 0.2482 - val_accuracy: 0.9252\n",
      "Epoch 9/9\n",
      "367/367 [==============================] - 19s 52ms/step - loss: 0.2340 - accuracy: 0.9289 - val_loss: 0.2335 - val_accuracy: 0.9270\n"
     ]
    }
   ],
   "source": [
    "model_history=cnn.fit(x=training,validation_data=validation,epochs=9,callbacks=early_stop)"
   ]
  },
  {
   "cell_type": "code",
   "execution_count": 24,
   "id": "40385329",
   "metadata": {
    "execution": {
     "iopub.execute_input": "2022-06-10T21:12:48.120652Z",
     "iopub.status.busy": "2022-06-10T21:12:48.119999Z",
     "iopub.status.idle": "2022-06-10T21:12:48.127952Z",
     "shell.execute_reply": "2022-06-10T21:12:48.126993Z"
    },
    "papermill": {
     "duration": 0.151594,
     "end_time": "2022-06-10T21:12:48.130197",
     "exception": false,
     "start_time": "2022-06-10T21:12:47.978603",
     "status": "completed"
    },
    "tags": []
   },
   "outputs": [
    {
     "data": {
      "text/plain": [
       "dict_keys(['loss', 'accuracy', 'val_loss', 'val_accuracy'])"
      ]
     },
     "execution_count": 24,
     "metadata": {},
     "output_type": "execute_result"
    }
   ],
   "source": [
    "model_history.history.keys()"
   ]
  },
  {
   "cell_type": "code",
   "execution_count": 25,
   "id": "74ba1c11",
   "metadata": {
    "execution": {
     "iopub.execute_input": "2022-06-10T21:12:48.410468Z",
     "iopub.status.busy": "2022-06-10T21:12:48.409611Z",
     "iopub.status.idle": "2022-06-10T21:12:48.652233Z",
     "shell.execute_reply": "2022-06-10T21:12:48.651078Z"
    },
    "papermill": {
     "duration": 0.386221,
     "end_time": "2022-06-10T21:12:48.654603",
     "exception": false,
     "start_time": "2022-06-10T21:12:48.268382",
     "status": "completed"
    },
    "tags": []
   },
   "outputs": [
    {
     "data": {
      "image/png": "[encoded data removed]",
      "text/plain": [
       "<Figure size 432x288 with 1 Axes>"
      ]
     },
     "metadata": {
      "needs_background": "light"
     },
     "output_type": "display_data"
    }
   ],
   "source": [
    "plt.plot(model_history.history['accuracy'])\n",
    "plt.plot(model_history.history['val_accuracy'])\n",
    "plt.title('Accuracy of the model')\n",
    "plt.xlabel('Epochs')\n",
    "plt.ylabel('Accuracy')\n",
    "plt.legend(['train','test'],loc='upper left')\n",
    "plt.show()"
   ]
  },
  {
   "cell_type": "code",
   "execution_count": 26,
   "id": "26bf1cbe",
   "metadata": {
    "execution": {
     "iopub.execute_input": "2022-06-10T21:12:48.933087Z",
     "iopub.status.busy": "2022-06-10T21:12:48.932674Z",
     "iopub.status.idle": "2022-06-10T21:12:49.085961Z",
     "shell.execute_reply": "2022-06-10T21:12:49.084955Z"
    },
    "papermill": {
     "duration": 0.294907,
     "end_time": "2022-06-10T21:12:49.088246",
     "exception": false,
     "start_time": "2022-06-10T21:12:48.793339",
     "status": "completed"
    },
    "tags": []
   },
   "outputs": [
    {
     "data": {
      "image/png": "[encoded data removed]",
      "text/plain": [
       "<Figure size 432x288 with 1 Axes>"
      ]
     },
     "metadata": {
      "needs_background": "light"
     },
     "output_type": "display_data"
    }
   ],
   "source": [
    "plt.plot(model_history.history['loss'])\n",
    "plt.plot(model_history.history['val_loss'])\n",
    "plt.title('Loss of the model')\n",
    "plt.xlabel('Epochs')\n",
    "plt.ylabel('Loss')\n",
    "plt.legend(['train','test'],loc='upper left')\n",
    "plt.show()"
   ]
  },
  {
   "cell_type": "markdown",
   "id": "db3a9f90",
   "metadata": {
    "papermill": {
     "duration": 0.208004,
     "end_time": "2022-06-10T21:12:49.437234",
     "exception": false,
     "start_time": "2022-06-10T21:12:49.229230",
     "status": "completed"
    },
    "tags": []
   },
   "source": [
    "### Indexing the Output Variables"
   ]
  },
  {
   "cell_type": "code",
   "execution_count": 27,
   "id": "6e06ada7",
   "metadata": {
    "execution": {
     "iopub.execute_input": "2022-06-10T21:12:49.714855Z",
     "iopub.status.busy": "2022-06-10T21:12:49.714476Z",
     "iopub.status.idle": "2022-06-10T21:12:49.719130Z",
     "shell.execute_reply": "2022-06-10T21:12:49.718102Z"
    },
    "papermill": {
     "duration": 0.145885,
     "end_time": "2022-06-10T21:12:49.721032",
     "exception": false,
     "start_time": "2022-06-10T21:12:49.575147",
     "status": "completed"
    },
    "tags": []
   },
   "outputs": [],
   "source": [
    "index = ['0','1','2','3','4','5','6','7','8','9']"
   ]
  },
  {
   "cell_type": "markdown",
   "id": "d245a626",
   "metadata": {
    "papermill": {
     "duration": 0.138416,
     "end_time": "2022-06-10T21:12:49.998717",
     "exception": false,
     "start_time": "2022-06-10T21:12:49.860301",
     "status": "completed"
    },
    "tags": []
   },
   "source": [
    "## Making Predictions"
   ]
  },
  {
   "cell_type": "markdown",
   "id": "454e6b3d",
   "metadata": {
    "papermill": {
     "duration": 0.138054,
     "end_time": "2022-06-10T21:12:50.276050",
     "exception": false,
     "start_time": "2022-06-10T21:12:50.137996",
     "status": "completed"
    },
    "tags": []
   },
   "source": [
    "### Prediction 1 (Number 7)"
   ]
  },
  {
   "cell_type": "code",
   "execution_count": 28,
   "id": "cfbfa9ee",
   "metadata": {
    "execution": {
     "iopub.execute_input": "2022-06-10T21:12:50.554820Z",
     "iopub.status.busy": "2022-06-10T21:12:50.554226Z",
     "iopub.status.idle": "2022-06-10T21:12:50.584034Z",
     "shell.execute_reply": "2022-06-10T21:12:50.583400Z"
    },
    "papermill": {
     "duration": 0.17142,
     "end_time": "2022-06-10T21:12:50.585924",
     "exception": false,
     "start_time": "2022-06-10T21:12:50.414504",
     "status": "completed"
    },
    "tags": []
   },
   "outputs": [
    {
     "data": {
      "image/png": "[encoded data removed]",
      "text/plain": [
       "<PIL.Image.Image image mode=RGB size=64x64>"
      ]
     },
     "execution_count": 28,
     "metadata": {},
     "output_type": "execute_result"
    }
   ],
   "source": [
    "test_image1 = image.load_img('../input/my-validation/user_input_1.png',target_size = (64, 64))\n",
    "test_image1"
   ]
  },
  {
   "cell_type": "code",
   "execution_count": 29,
   "id": "31e73355",
   "metadata": {
    "execution": {
     "iopub.execute_input": "2022-06-10T21:12:50.868169Z",
     "iopub.status.busy": "2022-06-10T21:12:50.867753Z",
     "iopub.status.idle": "2022-06-10T21:12:51.056854Z",
     "shell.execute_reply": "2022-06-10T21:12:51.056163Z"
    },
    "papermill": {
     "duration": 0.333003,
     "end_time": "2022-06-10T21:12:51.059345",
     "exception": false,
     "start_time": "2022-06-10T21:12:50.726342",
     "status": "completed"
    },
    "tags": []
   },
   "outputs": [
    {
     "name": "stdout",
     "output_type": "stream",
     "text": [
      "0\n"
     ]
    }
   ],
   "source": [
    "test_image1 = image.img_to_array(test_image1)\n",
    "test_image1 = np.expand_dims(test_image1,axis=0)\n",
    "result1 = np.argmax(cnn.predict(test_image1/255.0),axis=1)\n",
    "print(index[result1[0]])"
   ]
  },
  {
   "cell_type": "markdown",
   "id": "0d2a9183",
   "metadata": {
    "papermill": {
     "duration": 0.137779,
     "end_time": "2022-06-10T21:12:51.336859",
     "exception": false,
     "start_time": "2022-06-10T21:12:51.199080",
     "status": "completed"
    },
    "tags": []
   },
   "source": [
    "### Prediction 2 (Number 2)"
   ]
  },
  {
   "cell_type": "code",
   "execution_count": 30,
   "id": "af4d82db",
   "metadata": {
    "execution": {
     "iopub.execute_input": "2022-06-10T21:12:51.615759Z",
     "iopub.status.busy": "2022-06-10T21:12:51.615112Z",
     "iopub.status.idle": "2022-06-10T21:12:51.634652Z",
     "shell.execute_reply": "2022-06-10T21:12:51.633939Z"
    },
    "papermill": {
     "duration": 0.161529,
     "end_time": "2022-06-10T21:12:51.636596",
     "exception": false,
     "start_time": "2022-06-10T21:12:51.475067",
     "status": "completed"
    },
    "tags": []
   },
   "outputs": [
    {
     "data": {
      "image/png": "[encoded data removed]",
      "text/plain": [
       "<PIL.Image.Image image mode=RGB size=64x64>"
      ]
     },
     "execution_count": 30,
     "metadata": {},
     "output_type": "execute_result"
    }
   ],
   "source": [
    "test_image2 = image.load_img('../input/my-validation/user_input_2.png',target_size = (64, 64))\n",
    "test_image2"
   ]
  },
  {
   "cell_type": "code",
   "execution_count": 31,
   "id": "0caae546",
   "metadata": {
    "execution": {
     "iopub.execute_input": "2022-06-10T21:12:51.923438Z",
     "iopub.status.busy": "2022-06-10T21:12:51.922578Z",
     "iopub.status.idle": "2022-06-10T21:12:51.984515Z",
     "shell.execute_reply": "2022-06-10T21:12:51.983229Z"
    },
    "papermill": {
     "duration": 0.210338,
     "end_time": "2022-06-10T21:12:51.986591",
     "exception": false,
     "start_time": "2022-06-10T21:12:51.776253",
     "status": "completed"
    },
    "tags": []
   },
   "outputs": [
    {
     "name": "stdout",
     "output_type": "stream",
     "text": [
      "0\n"
     ]
    }
   ],
   "source": [
    "test_image2 = image.img_to_array(test_image2)\n",
    "test_image2 = np.expand_dims(test_image2,axis=0)\n",
    "result2 = np.argmax(cnn.predict(test_image2/255.0),axis=1)\n",
    "print(index[result2[0]])"
   ]
  },
  {
   "cell_type": "markdown",
   "id": "52d2cfd4",
   "metadata": {
    "papermill": {
     "duration": 0.139234,
     "end_time": "2022-06-10T21:12:52.266303",
     "exception": false,
     "start_time": "2022-06-10T21:12:52.127069",
     "status": "completed"
    },
    "tags": []
   },
   "source": [
    "### Prediction 3 (Number 1)"
   ]
  },
  {
   "cell_type": "code",
   "execution_count": 32,
   "id": "60d1160f",
   "metadata": {
    "execution": {
     "iopub.execute_input": "2022-06-10T21:12:52.598854Z",
     "iopub.status.busy": "2022-06-10T21:12:52.598231Z",
     "iopub.status.idle": "2022-06-10T21:12:52.612046Z",
     "shell.execute_reply": "2022-06-10T21:12:52.611418Z"
    },
    "papermill": {
     "duration": 0.208959,
     "end_time": "2022-06-10T21:12:52.613804",
     "exception": false,
     "start_time": "2022-06-10T21:12:52.404845",
     "status": "completed"
    },
    "tags": []
   },
   "outputs": [
    {
     "data": {
      "image/png": "[encoded data removed]",
      "text/plain": [
       "<PIL.Image.Image image mode=RGB size=64x64>"
      ]
     },
     "execution_count": 32,
     "metadata": {},
     "output_type": "execute_result"
    }
   ],
   "source": [
    "test_image3 = image.load_img('../input/my-validation/user_input_3.png',target_size = (64, 64))\n",
    "test_image3"
   ]
  },
  {
   "cell_type": "code",
   "execution_count": 33,
   "id": "5b4c3dd2",
   "metadata": {
    "execution": {
     "iopub.execute_input": "2022-06-10T21:12:52.893153Z",
     "iopub.status.busy": "2022-06-10T21:12:52.892757Z",
     "iopub.status.idle": "2022-06-10T21:12:52.952386Z",
     "shell.execute_reply": "2022-06-10T21:12:52.951245Z"
    },
    "papermill": {
     "duration": 0.20219,
     "end_time": "2022-06-10T21:12:52.954501",
     "exception": false,
     "start_time": "2022-06-10T21:12:52.752311",
     "status": "completed"
    },
    "tags": []
   },
   "outputs": [
    {
     "name": "stdout",
     "output_type": "stream",
     "text": [
      "0\n"
     ]
    }
   ],
   "source": [
    "test_image3 = image.img_to_array(test_image3)\n",
    "test_image3 = np.expand_dims(test_image3,axis=0)\n",
    "result3 = np.argmax(cnn.predict(test_image3/255.0),axis=1)\n",
    "print(index[result3[0]])"
   ]
  },
  {
   "cell_type": "markdown",
   "id": "441abcb4",
   "metadata": {
    "papermill": {
     "duration": 0.138862,
     "end_time": "2022-06-10T21:12:53.233349",
     "exception": false,
     "start_time": "2022-06-10T21:12:53.094487",
     "status": "completed"
    },
    "tags": []
   },
   "source": [
    "### Prediction 4 (Number 8)"
   ]
  },
  {
   "cell_type": "code",
   "execution_count": 34,
   "id": "dea555fa",
   "metadata": {
    "execution": {
     "iopub.execute_input": "2022-06-10T21:12:53.513448Z",
     "iopub.status.busy": "2022-06-10T21:12:53.512872Z",
     "iopub.status.idle": "2022-06-10T21:12:53.529009Z",
     "shell.execute_reply": "2022-06-10T21:12:53.528324Z"
    },
    "papermill": {
     "duration": 0.158884,
     "end_time": "2022-06-10T21:12:53.530889",
     "exception": false,
     "start_time": "2022-06-10T21:12:53.372005",
     "status": "completed"
    },
    "tags": []
   },
   "outputs": [
    {
     "data": {
      "image/png": "[encoded data removed]",
      "text/plain": [
       "<PIL.Image.Image image mode=RGB size=64x64>"
      ]
     },
     "execution_count": 34,
     "metadata": {},
     "output_type": "execute_result"
    }
   ],
   "source": [
    "test_image4 = image.load_img('../input/my-validation/user_input_4.png',target_size = (64, 64))\n",
    "test_image4"
   ]
  },
  {
   "cell_type": "code",
   "execution_count": 35,
   "id": "adeab654",
   "metadata": {
    "execution": {
     "iopub.execute_input": "2022-06-10T21:12:53.811437Z",
     "iopub.status.busy": "2022-06-10T21:12:53.810799Z",
     "iopub.status.idle": "2022-06-10T21:12:53.868404Z",
     "shell.execute_reply": "2022-06-10T21:12:53.867653Z"
    },
    "papermill": {
     "duration": 0.200826,
     "end_time": "2022-06-10T21:12:53.870931",
     "exception": false,
     "start_time": "2022-06-10T21:12:53.670105",
     "status": "completed"
    },
    "tags": []
   },
   "outputs": [
    {
     "name": "stdout",
     "output_type": "stream",
     "text": [
      "0\n"
     ]
    }
   ],
   "source": [
    "test_image4 = image.img_to_array(test_image4)\n",
    "test_image4 = np.expand_dims(test_image4,axis=0)\n",
    "result4 = np.argmax(cnn.predict(test_image4/255.0),axis=1)\n",
    "print(index[result4[0]])"
   ]
  },
  {
   "cell_type": "markdown",
   "id": "e6c90f67",
   "metadata": {
    "papermill": {
     "duration": 0.141692,
     "end_time": "2022-06-10T21:12:54.154522",
     "exception": false,
     "start_time": "2022-06-10T21:12:54.012830",
     "status": "completed"
    },
    "tags": []
   },
   "source": [
    "### Prediction 5 (Number 5)"
   ]
  },
  {
   "cell_type": "code",
   "execution_count": 36,
   "id": "dfb92964",
   "metadata": {
    "execution": {
     "iopub.execute_input": "2022-06-10T21:12:54.436676Z",
     "iopub.status.busy": "2022-06-10T21:12:54.436299Z",
     "iopub.status.idle": "2022-06-10T21:12:54.453935Z",
     "shell.execute_reply": "2022-06-10T21:12:54.452812Z"
    },
    "papermill": {
     "duration": 0.160873,
     "end_time": "2022-06-10T21:12:54.456155",
     "exception": false,
     "start_time": "2022-06-10T21:12:54.295282",
     "status": "completed"
    },
    "tags": []
   },
   "outputs": [
    {
     "data": {
      "image/png": "[encoded data removed]",
      "text/plain": [
       "<PIL.Image.Image image mode=RGB size=64x64>"
      ]
     },
     "execution_count": 36,
     "metadata": {},
     "output_type": "execute_result"
    }
   ],
   "source": [
    "test_image5 = image.load_img('../input/my-validation/user_input_5.png',target_size = (64, 64))\n",
    "test_image5"
   ]
  },
  {
   "cell_type": "code",
   "execution_count": 37,
   "id": "f93c9af8",
   "metadata": {
    "execution": {
     "iopub.execute_input": "2022-06-10T21:12:54.738700Z",
     "iopub.status.busy": "2022-06-10T21:12:54.738059Z",
     "iopub.status.idle": "2022-06-10T21:12:54.802852Z",
     "shell.execute_reply": "2022-06-10T21:12:54.802172Z"
    },
    "papermill": {
     "duration": 0.209297,
     "end_time": "2022-06-10T21:12:54.805617",
     "exception": false,
     "start_time": "2022-06-10T21:12:54.596320",
     "status": "completed"
    },
    "tags": []
   },
   "outputs": [
    {
     "name": "stdout",
     "output_type": "stream",
     "text": [
      "0\n"
     ]
    }
   ],
   "source": [
    "test_image5 = image.img_to_array(test_image5)\n",
    "test_image5 = np.expand_dims(test_image5,axis=0)\n",
    "result5 = np.argmax(cnn.predict(test_image5/255.0),axis=1)\n",
    "print(index[result5[0]])"
   ]
  },
  {
   "cell_type": "markdown",
   "id": "d3fce59e",
   "metadata": {
    "papermill": {
     "duration": 0.165193,
     "end_time": "2022-06-10T21:12:55.113328",
     "exception": false,
     "start_time": "2022-06-10T21:12:54.948135",
     "status": "completed"
    },
    "tags": []
   },
   "source": [
    "### Prediction 6 (Number 2)"
   ]
  },
  {
   "cell_type": "code",
   "execution_count": 38,
   "id": "ebd1eb62",
   "metadata": {
    "execution": {
     "iopub.execute_input": "2022-06-10T21:12:55.402923Z",
     "iopub.status.busy": "2022-06-10T21:12:55.402217Z",
     "iopub.status.idle": "2022-06-10T21:12:55.419007Z",
     "shell.execute_reply": "2022-06-10T21:12:55.418225Z"
    },
    "papermill": {
     "duration": 0.164506,
     "end_time": "2022-06-10T21:12:55.421275",
     "exception": false,
     "start_time": "2022-06-10T21:12:55.256769",
     "status": "completed"
    },
    "tags": []
   },
   "outputs": [
    {
     "data": {
      "image/png": "[encoded data removed]",
      "text/plain": [
       "<PIL.Image.Image image mode=RGB size=64x64>"
      ]
     },
     "execution_count": 38,
     "metadata": {},
     "output_type": "execute_result"
    }
   ],
   "source": [
    "test_image6 = image.load_img('../input/my-validation/user_input_6.png',target_size = (64, 64))\n",
    "test_image6"
   ]
  },
  {
   "cell_type": "code",
   "execution_count": 39,
   "id": "05c27b7f",
   "metadata": {
    "execution": {
     "iopub.execute_input": "2022-06-10T21:12:55.715814Z",
     "iopub.status.busy": "2022-06-10T21:12:55.714941Z",
     "iopub.status.idle": "2022-06-10T21:12:55.784313Z",
     "shell.execute_reply": "2022-06-10T21:12:55.783006Z"
    },
    "papermill": {
     "duration": 0.220807,
     "end_time": "2022-06-10T21:12:55.786391",
     "exception": false,
     "start_time": "2022-06-10T21:12:55.565584",
     "status": "completed"
    },
    "tags": []
   },
   "outputs": [
    {
     "name": "stdout",
     "output_type": "stream",
     "text": [
      "0\n"
     ]
    }
   ],
   "source": [
    "test_image6 = image.img_to_array(test_image6)\n",
    "test_image6 = np.expand_dims(test_image6,axis=0)\n",
    "result6 = np.argmax(cnn.predict(test_image6/255.0),axis=1)\n",
    "print(index[result6[0]])"
   ]
  },
  {
   "cell_type": "markdown",
   "id": "9ab5fc46",
   "metadata": {
    "papermill": {
     "duration": 0.197203,
     "end_time": "2022-06-10T21:12:56.124686",
     "exception": false,
     "start_time": "2022-06-10T21:12:55.927483",
     "status": "completed"
    },
    "tags": []
   },
   "source": [
    "### Prediction 7 (Number 4 [P.S. - This is actually an english 8])"
   ]
  },
  {
   "cell_type": "code",
   "execution_count": 40,
   "id": "dc8f6e98",
   "metadata": {
    "execution": {
     "iopub.execute_input": "2022-06-10T21:12:56.407955Z",
     "iopub.status.busy": "2022-06-10T21:12:56.407298Z",
     "iopub.status.idle": "2022-06-10T21:12:56.423663Z",
     "shell.execute_reply": "2022-06-10T21:12:56.422997Z"
    },
    "papermill": {
     "duration": 0.160232,
     "end_time": "2022-06-10T21:12:56.425677",
     "exception": false,
     "start_time": "2022-06-10T21:12:56.265445",
     "status": "completed"
    },
    "tags": []
   },
   "outputs": [
    {
     "data": {
      "image/png": "[encoded data removed]",
      "text/plain": [
       "<PIL.Image.Image image mode=RGB size=64x64>"
      ]
     },
     "execution_count": 40,
     "metadata": {},
     "output_type": "execute_result"
    }
   ],
   "source": [
    "test_image7 = image.load_img('../input/my-validation/user_input_7.png',target_size = (64, 64))\n",
    "test_image7"
   ]
  },
  {
   "cell_type": "code",
   "execution_count": 41,
   "id": "c717d55a",
   "metadata": {
    "execution": {
     "iopub.execute_input": "2022-06-10T21:12:56.714913Z",
     "iopub.status.busy": "2022-06-10T21:12:56.714495Z",
     "iopub.status.idle": "2022-06-10T21:12:56.775513Z",
     "shell.execute_reply": "2022-06-10T21:12:56.774190Z"
    },
    "papermill": {
     "duration": 0.206836,
     "end_time": "2022-06-10T21:12:56.778041",
     "exception": false,
     "start_time": "2022-06-10T21:12:56.571205",
     "status": "completed"
    },
    "tags": []
   },
   "outputs": [
    {
     "name": "stdout",
     "output_type": "stream",
     "text": [
      "0\n"
     ]
    }
   ],
   "source": [
    "test_image7 = image.img_to_array(test_image7)\n",
    "test_image7 = np.expand_dims(test_image7,axis=0)\n",
    "result7 = np.argmax(cnn.predict(test_image7/255.0),axis=1)\n",
    "print(index[result7[0]])"
   ]
  },
  {
   "cell_type": "markdown",
   "id": "6dc1a947",
   "metadata": {
    "papermill": {
     "duration": 0.140404,
     "end_time": "2022-06-10T21:12:57.060681",
     "exception": false,
     "start_time": "2022-06-10T21:12:56.920277",
     "status": "completed"
    },
    "tags": []
   },
   "source": [
    "## Making a Drawing Pad for User Input"
   ]
  },
  {
   "cell_type": "code",
   "execution_count": 42,
   "id": "b660f37b",
   "metadata": {
    "execution": {
     "iopub.execute_input": "2022-06-10T21:12:57.342251Z",
     "iopub.status.busy": "2022-06-10T21:12:57.341285Z",
     "iopub.status.idle": "2022-06-10T21:12:57.346448Z",
     "shell.execute_reply": "2022-06-10T21:12:57.345487Z"
    },
    "papermill": {
     "duration": 0.147731,
     "end_time": "2022-06-10T21:12:57.348453",
     "exception": false,
     "start_time": "2022-06-10T21:12:57.200722",
     "status": "completed"
    },
    "tags": []
   },
   "outputs": [],
   "source": [
    "# from PIL import ImageTk, Image, ImageDraw\n",
    "# import PIL\n",
    "# from tkinter import *\n",
    "\n",
    "# width = 500  # canvas width\n",
    "# height = 500 # canvas height\n",
    "# center = height//2\n",
    "# white = (255, 255, 255) # canvas back\n",
    "\n",
    "# def save():\n",
    "#     # save image to hard drive\n",
    "#     filename = \"D:/bengali digit classification/bengali_digits/validate/user_input_drawn.jpg\"\n",
    "#     output_image.save(filename)\n",
    "\n",
    "# def paint(event):\n",
    "#     x1, y1 = (event.x - 1), (event.y - 1)\n",
    "#     x2, y2 = (event.x + 1), (event.y + 1)\n",
    "#     canvas.create_oval(x1, y1, x2, y2, fill=\"black\",width=20)\n",
    "#     draw.line([x1, y1, x2, y2],fill=\"black\",width=20)\n",
    "\n",
    "# master = Tk()\n",
    "\n",
    "# # create a tkinter canvas to draw on\n",
    "# canvas = Canvas(master, width=width, height=height, bg='white')\n",
    "# canvas.pack()\n",
    "\n",
    "# # create an empty PIL image and draw object to draw on\n",
    "# output_image = PIL.Image.new(\"RGB\", (width, height), white)\n",
    "# draw = ImageDraw.Draw(output_image)\n",
    "# canvas.pack(expand=YES, fill=BOTH)\n",
    "# canvas.bind(\"<B1-Motion>\", paint)\n",
    "\n",
    "# # add a button to save the image\n",
    "# button=Button(text=\"Save\",command=save)\n",
    "# button.pack()\n",
    "\n",
    "# master.mainloop()"
   ]
  },
  {
   "cell_type": "markdown",
   "id": "f7ba6f89",
   "metadata": {
    "papermill": {
     "duration": 0.140482,
     "end_time": "2022-06-10T21:12:57.628083",
     "exception": false,
     "start_time": "2022-06-10T21:12:57.487601",
     "status": "completed"
    },
    "tags": []
   },
   "source": [
    "### Predicting User Input (Number 6)"
   ]
  },
  {
   "cell_type": "code",
   "execution_count": 43,
   "id": "785b683c",
   "metadata": {
    "execution": {
     "iopub.execute_input": "2022-06-10T21:12:57.910842Z",
     "iopub.status.busy": "2022-06-10T21:12:57.910446Z",
     "iopub.status.idle": "2022-06-10T21:12:57.914216Z",
     "shell.execute_reply": "2022-06-10T21:12:57.913235Z"
    },
    "papermill": {
     "duration": 0.147819,
     "end_time": "2022-06-10T21:12:57.916242",
     "exception": false,
     "start_time": "2022-06-10T21:12:57.768423",
     "status": "completed"
    },
    "tags": []
   },
   "outputs": [],
   "source": [
    "# test_image_drawn = image.load_img('D:/bengali digit classification/bengali_digits/validate/user_input_drawn.jpg',target_size = (64, 64))\n",
    "# test_image_drawn"
   ]
  },
  {
   "cell_type": "code",
   "execution_count": 44,
   "id": "5e9c535d",
   "metadata": {
    "execution": {
     "iopub.execute_input": "2022-06-10T21:12:58.199297Z",
     "iopub.status.busy": "2022-06-10T21:12:58.198857Z",
     "iopub.status.idle": "2022-06-10T21:12:58.203144Z",
     "shell.execute_reply": "2022-06-10T21:12:58.202019Z"
    },
    "papermill": {
     "duration": 0.148045,
     "end_time": "2022-06-10T21:12:58.205355",
     "exception": false,
     "start_time": "2022-06-10T21:12:58.057310",
     "status": "completed"
    },
    "tags": []
   },
   "outputs": [],
   "source": [
    "# test_image_drawn = image.img_to_array(test_image_drawn)\n",
    "# test_image_drawn = np.expand_dims(test_image_drawn,axis=0)\n",
    "# result_drawn = np.argmax(cnn.predict(test_image_drawn/255.0),axis=1)\n",
    "# print(index[result_drawn[0]])"
   ]
  },
  {
   "cell_type": "code",
   "execution_count": null,
   "id": "fff8ca52",
   "metadata": {
    "papermill": {
     "duration": 0.139848,
     "end_time": "2022-06-10T21:12:58.489244",
     "exception": false,
     "start_time": "2022-06-10T21:12:58.349396",
     "status": "completed"
    },
    "tags": []
   },
   "outputs": [],
   "source": []
  },
  {
   "cell_type": "code",
   "execution_count": null,
   "id": "30b8880e",
   "metadata": {
    "papermill": {
     "duration": 0.14078,
     "end_time": "2022-06-10T21:12:58.769957",
     "exception": false,
     "start_time": "2022-06-10T21:12:58.629177",
     "status": "completed"
    },
    "tags": []
   },
   "outputs": [],
   "source": []
  }
 ],
 "metadata": {
  "kernelspec": {
   "display_name": "Python 3",
   "language": "python",
   "name": "python3"
  },
  "language_info": {
   "codemirror_mode": {
    "name": "ipython",
    "version": 3
   },
   "file_extension": ".py",
   "mimetype": "text/x-python",
   "name": "python",
   "nbconvert_exporter": "python",
   "pygments_lexer": "ipython3",
   "version": "3.7.12"
  },
  "papermill": {
   "default_parameters": {},
   "duration": 246.815326,
   "end_time": "2022-06-10T21:13:01.910316",
   "environment_variables": {},
   "exception": null,
   "input_path": "__notebook__.ipynb",
   "output_path": "__notebook__.ipynb",
   "parameters": {},
   "start_time": "2022-06-10T21:08:55.094990",
   "version": "2.3.4"
  }
 },
 "nbformat": 4,
 "nbformat_minor": 5
}
