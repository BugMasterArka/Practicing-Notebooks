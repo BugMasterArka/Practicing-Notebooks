{
 "cells": [
  {
   "cell_type": "markdown",
   "id": "0f05afa8",
   "metadata": {
    "papermill": {
     "duration": 0.058832,
     "end_time": "2022-05-04T19:24:05.227628",
     "exception": false,
     "start_time": "2022-05-04T19:24:05.168796",
     "status": "completed"
    },
    "tags": []
   },
   "source": [
    "# 2020 annual CDC survey data of 400k adults related to their health status"
   ]
  },
  {
   "cell_type": "markdown",
   "id": "0e6bf17d",
   "metadata": {
    "papermill": {
     "duration": 0.055764,
     "end_time": "2022-05-04T19:24:05.342275",
     "exception": false,
     "start_time": "2022-05-04T19:24:05.286511",
     "status": "completed"
    },
    "tags": []
   },
   "source": [
    "## What topic does the dataset cover?"
   ]
  },
  {
   "cell_type": "markdown",
   "id": "a2f1c4bb",
   "metadata": {
    "papermill": {
     "duration": 0.056154,
     "end_time": "2022-05-04T19:24:05.455013",
     "exception": false,
     "start_time": "2022-05-04T19:24:05.398859",
     "status": "completed"
    },
    "tags": []
   },
   "source": [
    "According to the CDC, heart disease is one of the leading causes of death for people of most races in the US (African Americans, American Indians and Alaska Natives, and white people). About half of all Americans (47%) have at least 1 of 3 key risk factors for heart disease: high blood pressure, high cholesterol, and smoking. Other key indicator include diabetic status, obesity (high BMI), not getting enough physical activity or drinking too much alcohol. Detecting and preventing the factors that have the greatest impact on heart disease is very important in healthcare. Computational developments, in turn, allow the application of machine learning methods to detect \"patterns\" from the data that can predict a patient's condition."
   ]
  },
  {
   "cell_type": "code",
   "execution_count": 1,
   "id": "34ec08f3",
   "metadata": {
    "_cell_guid": "b1076dfc-b9ad-4769-8c92-a6c4dae69d19",
    "_uuid": "8f2839f25d086af736a60e9eeb907d3b93b6e0e5",
    "execution": {
     "iopub.execute_input": "2022-05-04T19:24:05.569874Z",
     "iopub.status.busy": "2022-05-04T19:24:05.569293Z",
     "iopub.status.idle": "2022-05-04T19:24:05.585162Z",
     "shell.execute_reply": "2022-05-04T19:24:05.584121Z"
    },
    "papermill": {
     "duration": 0.077247,
     "end_time": "2022-05-04T19:24:05.588090",
     "exception": false,
     "start_time": "2022-05-04T19:24:05.510843",
     "status": "completed"
    },
    "tags": []
   },
   "outputs": [
    {
     "name": "stdout",
     "output_type": "stream",
     "text": [
      "/kaggle/input/personal-key-indicators-of-heart-disease/heart_2020_cleaned.csv\n"
     ]
    }
   ],
   "source": [
    "# This Python 3 environment comes with many helpful analytics libraries installed\n",
    "# It is defined by the kaggle/python Docker image: https://github.com/kaggle/docker-python\n",
    "# For example, here's several helpful packages to load\n",
    "\n",
    "import numpy as np # linear algebra\n",
    "import pandas as pd # data processing, CSV file I/O (e.g. pd.read_csv)\n",
    "# \n",
    "# Input data files are available in the read-only \"../input/\" directory\n",
    "# For example, running this (by clicking run or pressing Shift+Enter) will list all files under the input directory\n",
    "\n",
    "import os\n",
    "for dirname, _, filenames in os.walk('/kaggle/input'):\n",
    "    for filename in filenames:\n",
    "        print(os.path.join(dirname, filename))\n",
    "\n",
    "# You can write up to 20GB to the current directory (/kaggle/working/) that gets preserved as output when you create a version using \"Save & Run All\" \n",
    "# You can also write temporary files to /kaggle/temp/, but they won't be saved outside of the current session"
   ]
  },
  {
   "cell_type": "markdown",
   "id": "192b7348",
   "metadata": {
    "papermill": {
     "duration": 0.056764,
     "end_time": "2022-05-04T19:24:05.704888",
     "exception": false,
     "start_time": "2022-05-04T19:24:05.648124",
     "status": "completed"
    },
    "tags": []
   },
   "source": [
    "## Importing the Libraries"
   ]
  },
  {
   "cell_type": "code",
   "execution_count": 2,
   "id": "1d0ca08e",
   "metadata": {
    "execution": {
     "iopub.execute_input": "2022-05-04T19:24:05.820336Z",
     "iopub.status.busy": "2022-05-04T19:24:05.819770Z",
     "iopub.status.idle": "2022-05-04T19:24:07.497208Z",
     "shell.execute_reply": "2022-05-04T19:24:07.495780Z"
    },
    "papermill": {
     "duration": 1.738342,
     "end_time": "2022-05-04T19:24:07.499999",
     "exception": false,
     "start_time": "2022-05-04T19:24:05.761657",
     "status": "completed"
    },
    "tags": []
   },
   "outputs": [],
   "source": [
    "# Libraries for Data Preprocessing\n",
    "import numpy as np\n",
    "import pandas as pd\n",
    "import seaborn as sns\n",
    "from sklearn.preprocessing import LabelEncoder\n",
    "from sklearn.model_selection import train_test_split\n",
    "from sklearn.preprocessing import StandardScaler\n",
    "\n",
    "# Libraries for Classifiers\n",
    "from sklearn.linear_model import LogisticRegression\n",
    "from sklearn.neighbors import KNeighborsClassifier\n",
    "from sklearn.naive_bayes import GaussianNB\n",
    "from sklearn.tree import DecisionTreeClassifier\n",
    "from sklearn.ensemble import RandomForestClassifier\n",
    "from sklearn.model_selection import RandomizedSearchCV\n",
    "from xgboost import XGBClassifier\n",
    "from sklearn.svm import SVC\n",
    "\n",
    "# Libraries for measuring accuracy\n",
    "from sklearn.metrics import accuracy_score\n",
    "from sklearn.metrics import confusion_matrix\n",
    "import matplotlib.pyplot as plt \n",
    "from matplotlib.legend_handler import HandlerBase\n",
    "from matplotlib.text import Text\n",
    "%matplotlib inline"
   ]
  },
  {
   "cell_type": "markdown",
   "id": "d20537c9",
   "metadata": {
    "papermill": {
     "duration": 0.05622,
     "end_time": "2022-05-04T19:24:07.613113",
     "exception": false,
     "start_time": "2022-05-04T19:24:07.556893",
     "status": "completed"
    },
    "tags": []
   },
   "source": [
    "## Importing the Dataset"
   ]
  },
  {
   "cell_type": "code",
   "execution_count": 3,
   "id": "9d35316f",
   "metadata": {
    "execution": {
     "iopub.execute_input": "2022-05-04T19:24:07.728144Z",
     "iopub.status.busy": "2022-05-04T19:24:07.727413Z",
     "iopub.status.idle": "2022-05-04T19:24:08.725748Z",
     "shell.execute_reply": "2022-05-04T19:24:08.724611Z"
    },
    "papermill": {
     "duration": 1.058571,
     "end_time": "2022-05-04T19:24:08.728523",
     "exception": false,
     "start_time": "2022-05-04T19:24:07.669952",
     "status": "completed"
    },
    "tags": []
   },
   "outputs": [
    {
     "data": {
      "text/html": [
       "<div>\n",
       "<style scoped>\n",
       "    .dataframe tbody tr th:only-of-type {\n",
       "        vertical-align: middle;\n",
       "    }\n",
       "\n",
       "    .dataframe tbody tr th {\n",
       "        vertical-align: top;\n",
       "    }\n",
       "\n",
       "    .dataframe thead th {\n",
       "        text-align: right;\n",
       "    }\n",
       "</style>\n",
       "<table border=\"1\" class=\"dataframe\">\n",
       "  <thead>\n",
       "    <tr style=\"text-align: right;\">\n",
       "      <th></th>\n",
       "      <th>HeartDisease</th>\n",
       "      <th>BMI</th>\n",
       "      <th>Smoking</th>\n",
       "      <th>AlcoholDrinking</th>\n",
       "      <th>Stroke</th>\n",
       "      <th>PhysicalHealth</th>\n",
       "      <th>MentalHealth</th>\n",
       "      <th>DiffWalking</th>\n",
       "      <th>Sex</th>\n",
       "      <th>AgeCategory</th>\n",
       "      <th>Race</th>\n",
       "      <th>Diabetic</th>\n",
       "      <th>PhysicalActivity</th>\n",
       "      <th>GenHealth</th>\n",
       "      <th>SleepTime</th>\n",
       "      <th>Asthma</th>\n",
       "      <th>KidneyDisease</th>\n",
       "      <th>SkinCancer</th>\n",
       "    </tr>\n",
       "  </thead>\n",
       "  <tbody>\n",
       "    <tr>\n",
       "      <th>0</th>\n",
       "      <td>No</td>\n",
       "      <td>16.60</td>\n",
       "      <td>Yes</td>\n",
       "      <td>No</td>\n",
       "      <td>No</td>\n",
       "      <td>3.0</td>\n",
       "      <td>30.0</td>\n",
       "      <td>No</td>\n",
       "      <td>Female</td>\n",
       "      <td>55-59</td>\n",
       "      <td>White</td>\n",
       "      <td>Yes</td>\n",
       "      <td>Yes</td>\n",
       "      <td>Very good</td>\n",
       "      <td>5.0</td>\n",
       "      <td>Yes</td>\n",
       "      <td>No</td>\n",
       "      <td>Yes</td>\n",
       "    </tr>\n",
       "    <tr>\n",
       "      <th>1</th>\n",
       "      <td>No</td>\n",
       "      <td>20.34</td>\n",
       "      <td>No</td>\n",
       "      <td>No</td>\n",
       "      <td>Yes</td>\n",
       "      <td>0.0</td>\n",
       "      <td>0.0</td>\n",
       "      <td>No</td>\n",
       "      <td>Female</td>\n",
       "      <td>80 or older</td>\n",
       "      <td>White</td>\n",
       "      <td>No</td>\n",
       "      <td>Yes</td>\n",
       "      <td>Very good</td>\n",
       "      <td>7.0</td>\n",
       "      <td>No</td>\n",
       "      <td>No</td>\n",
       "      <td>No</td>\n",
       "    </tr>\n",
       "    <tr>\n",
       "      <th>2</th>\n",
       "      <td>No</td>\n",
       "      <td>26.58</td>\n",
       "      <td>Yes</td>\n",
       "      <td>No</td>\n",
       "      <td>No</td>\n",
       "      <td>20.0</td>\n",
       "      <td>30.0</td>\n",
       "      <td>No</td>\n",
       "      <td>Male</td>\n",
       "      <td>65-69</td>\n",
       "      <td>White</td>\n",
       "      <td>Yes</td>\n",
       "      <td>Yes</td>\n",
       "      <td>Fair</td>\n",
       "      <td>8.0</td>\n",
       "      <td>Yes</td>\n",
       "      <td>No</td>\n",
       "      <td>No</td>\n",
       "    </tr>\n",
       "    <tr>\n",
       "      <th>3</th>\n",
       "      <td>No</td>\n",
       "      <td>24.21</td>\n",
       "      <td>No</td>\n",
       "      <td>No</td>\n",
       "      <td>No</td>\n",
       "      <td>0.0</td>\n",
       "      <td>0.0</td>\n",
       "      <td>No</td>\n",
       "      <td>Female</td>\n",
       "      <td>75-79</td>\n",
       "      <td>White</td>\n",
       "      <td>No</td>\n",
       "      <td>No</td>\n",
       "      <td>Good</td>\n",
       "      <td>6.0</td>\n",
       "      <td>No</td>\n",
       "      <td>No</td>\n",
       "      <td>Yes</td>\n",
       "    </tr>\n",
       "    <tr>\n",
       "      <th>4</th>\n",
       "      <td>No</td>\n",
       "      <td>23.71</td>\n",
       "      <td>No</td>\n",
       "      <td>No</td>\n",
       "      <td>No</td>\n",
       "      <td>28.0</td>\n",
       "      <td>0.0</td>\n",
       "      <td>Yes</td>\n",
       "      <td>Female</td>\n",
       "      <td>40-44</td>\n",
       "      <td>White</td>\n",
       "      <td>No</td>\n",
       "      <td>Yes</td>\n",
       "      <td>Very good</td>\n",
       "      <td>8.0</td>\n",
       "      <td>No</td>\n",
       "      <td>No</td>\n",
       "      <td>No</td>\n",
       "    </tr>\n",
       "  </tbody>\n",
       "</table>\n",
       "</div>"
      ],
      "text/plain": [
       "  HeartDisease    BMI Smoking AlcoholDrinking Stroke  PhysicalHealth  \\\n",
       "0           No  16.60     Yes              No     No             3.0   \n",
       "1           No  20.34      No              No    Yes             0.0   \n",
       "2           No  26.58     Yes              No     No            20.0   \n",
       "3           No  24.21      No              No     No             0.0   \n",
       "4           No  23.71      No              No     No            28.0   \n",
       "\n",
       "   MentalHealth DiffWalking     Sex  AgeCategory   Race Diabetic  \\\n",
       "0          30.0          No  Female        55-59  White      Yes   \n",
       "1           0.0          No  Female  80 or older  White       No   \n",
       "2          30.0          No    Male        65-69  White      Yes   \n",
       "3           0.0          No  Female        75-79  White       No   \n",
       "4           0.0         Yes  Female        40-44  White       No   \n",
       "\n",
       "  PhysicalActivity  GenHealth  SleepTime Asthma KidneyDisease SkinCancer  \n",
       "0              Yes  Very good        5.0    Yes            No        Yes  \n",
       "1              Yes  Very good        7.0     No            No         No  \n",
       "2              Yes       Fair        8.0    Yes            No         No  \n",
       "3               No       Good        6.0     No            No        Yes  \n",
       "4              Yes  Very good        8.0     No            No         No  "
      ]
     },
     "execution_count": 3,
     "metadata": {},
     "output_type": "execute_result"
    }
   ],
   "source": [
    "# read_csv function is used to read a csv file. It takes the filepath as argument\n",
    "df = pd.read_csv('../input/personal-key-indicators-of-heart-disease/heart_2020_cleaned.csv')\n",
    "# this prints the first 5 rows of the dataset by default\n",
    "df.head()"
   ]
  },
  {
   "cell_type": "markdown",
   "id": "d973600a",
   "metadata": {
    "papermill": {
     "duration": 0.056909,
     "end_time": "2022-05-04T19:24:08.842775",
     "exception": false,
     "start_time": "2022-05-04T19:24:08.785866",
     "status": "completed"
    },
    "tags": []
   },
   "source": [
    "## Changing Grid Style to Dark"
   ]
  },
  {
   "cell_type": "code",
   "execution_count": 4,
   "id": "96ddc7cc",
   "metadata": {
    "execution": {
     "iopub.execute_input": "2022-05-04T19:24:08.958687Z",
     "iopub.status.busy": "2022-05-04T19:24:08.958205Z",
     "iopub.status.idle": "2022-05-04T19:24:08.961987Z",
     "shell.execute_reply": "2022-05-04T19:24:08.961353Z"
    },
    "papermill": {
     "duration": 0.064169,
     "end_time": "2022-05-04T19:24:08.963974",
     "exception": false,
     "start_time": "2022-05-04T19:24:08.899805",
     "status": "completed"
    },
    "tags": []
   },
   "outputs": [],
   "source": [
    "# this changes the style of the plots in seaborn. Changing the grid to dark\n",
    "sns.set_style(\"darkgrid\", {\"grid.color\": \".6\"})"
   ]
  },
  {
   "cell_type": "markdown",
   "id": "5cdbd2da",
   "metadata": {
    "papermill": {
     "duration": 0.058116,
     "end_time": "2022-05-04T19:24:09.080704",
     "exception": false,
     "start_time": "2022-05-04T19:24:09.022588",
     "status": "completed"
    },
    "tags": []
   },
   "source": [
    "## Counting Variation of all Categorical Variables"
   ]
  },
  {
   "cell_type": "code",
   "execution_count": 5,
   "id": "a0600cca",
   "metadata": {
    "execution": {
     "iopub.execute_input": "2022-05-04T19:24:09.198927Z",
     "iopub.status.busy": "2022-05-04T19:24:09.198596Z",
     "iopub.status.idle": "2022-05-04T19:24:16.271502Z",
     "shell.execute_reply": "2022-05-04T19:24:16.270791Z"
    },
    "papermill": {
     "duration": 7.136806,
     "end_time": "2022-05-04T19:24:16.274873",
     "exception": false,
     "start_time": "2022-05-04T19:24:09.138067",
     "status": "completed"
    },
    "tags": []
   },
   "outputs": [
    {
     "data": {
      "image/png": "[encoded data removed]",
      "text/plain": [
       "<Figure size 1440x1440 with 9 Axes>"
      ]
     },
     "metadata": {},
     "output_type": "display_data"
    }
   ],
   "source": [
    "# This list of lists contains all the columns which have binary categorical values\n",
    "colRange = [['Smoking','AlcoholDrinking','Stroke'],['DiffWalking','Sex','PhysicalActivity'],['Asthma','KidneyDisease','SkinCancer']]\n",
    "# This function prints the countplots counting the number of people in each category\n",
    "def printCount(cols):\n",
    "    fig, axes = plt.subplots(3, 3, figsize=(20, 20))\n",
    "    row=0\n",
    "    col=0\n",
    "    p_count=1\n",
    "    for row in range(3):\n",
    "        for col in range(3):\n",
    "            # reads column name from the list\n",
    "            column = colRange[row][col]\n",
    "            # plots the counts of the particular column\n",
    "            sns.countplot(ax=axes[row,col],x=df[column],hue=df['HeartDisease'])\n",
    "            # sets the title of the corresponding plot along with plot number\n",
    "            axes[row,col].set_title(\"Counts of {} (Plot {})\".format(column,p_count))\n",
    "            p_count += 1\n",
    "# Calling the function\n",
    "printCount(colRange)"
   ]
  },
  {
   "cell_type": "markdown",
   "id": "54d70e36",
   "metadata": {
    "papermill": {
     "duration": 0.060888,
     "end_time": "2022-05-04T19:24:16.397407",
     "exception": false,
     "start_time": "2022-05-04T19:24:16.336519",
     "status": "completed"
    },
    "tags": []
   },
   "source": [
    "#### Observation\n",
    "Plot 1 - According to the plot people who smoke have a higher chance of Heart Diseases than people who don't\n",
    "Plot 2 - According to the plot people who do not drink alcohol have a lower of Heart Disease \n",
    "Plot 3 - According to the plot people having Heart Disease have a lower chance of having a Stroke\n",
    "Plot 4 - According to the plot people who do not have any difficulty in walking have a lower chance of Heart Disease \n",
    "Plot 5 - According to the plot Males have a higher chance of Heart Disease than Females\n",
    "Plot 6 - According to the plot People who participate in Physical Activity cause Heart Diseases"
   ]
  },
  {
   "cell_type": "markdown",
   "id": "a1938d8e",
   "metadata": {
    "papermill": {
     "duration": 0.060154,
     "end_time": "2022-05-04T19:24:16.518972",
     "exception": false,
     "start_time": "2022-05-04T19:24:16.458818",
     "status": "completed"
    },
    "tags": []
   },
   "source": [
    "## Checking Heart Disease among Different Races"
   ]
  },
  {
   "cell_type": "code",
   "execution_count": 6,
   "id": "1e609e6e",
   "metadata": {
    "execution": {
     "iopub.execute_input": "2022-05-04T19:24:16.642272Z",
     "iopub.status.busy": "2022-05-04T19:24:16.641807Z",
     "iopub.status.idle": "2022-05-04T19:24:17.557796Z",
     "shell.execute_reply": "2022-05-04T19:24:17.556831Z"
    },
    "papermill": {
     "duration": 0.980122,
     "end_time": "2022-05-04T19:24:17.560490",
     "exception": false,
     "start_time": "2022-05-04T19:24:16.580368",
     "status": "completed"
    },
    "tags": []
   },
   "outputs": [
    {
     "name": "stderr",
     "output_type": "stream",
     "text": [
      "/opt/conda/lib/python3.7/site-packages/seaborn/_decorators.py:43: FutureWarning: Pass the following variable as a keyword arg: x. From version 0.12, the only valid positional argument will be `data`, and passing other arguments without an explicit keyword will result in an error or misinterpretation.\n",
      "  FutureWarning\n"
     ]
    },
    {
     "data": {
      "text/plain": [
       "Text(0.5, 1.0, 'Variation of Heart Disease amoung Races')"
      ]
     },
     "execution_count": 6,
     "metadata": {},
     "output_type": "execute_result"
    },
    {
     "data": {
      "image/png": "[encoded data removed]",
      "text/plain": [
       "<Figure size 864x432 with 1 Axes>"
      ]
     },
     "metadata": {},
     "output_type": "display_data"
    }
   ],
   "source": [
    "# This statement enlarges the image\n",
    "plt.figure(figsize=(12,6))\n",
    "# countplot plots the counts of each type of value in a particular column\n",
    "# hue property is used to color code the counts according to a second categorical variable.\n",
    "# plotting the graph\n",
    "sns.countplot(df['Race'],hue=df['HeartDisease'])\n",
    "plt.title('Variation of Heart Disease amoung Races')"
   ]
  },
  {
   "cell_type": "markdown",
   "id": "8fef1451",
   "metadata": {
    "papermill": {
     "duration": 0.062135,
     "end_time": "2022-05-04T19:24:17.685578",
     "exception": false,
     "start_time": "2022-05-04T19:24:17.623443",
     "status": "completed"
    },
    "tags": []
   },
   "source": [
    "## Checking Spread of Heart Disease among Diabetic People"
   ]
  },
  {
   "cell_type": "code",
   "execution_count": 7,
   "id": "9cb06225",
   "metadata": {
    "execution": {
     "iopub.execute_input": "2022-05-04T19:24:17.812360Z",
     "iopub.status.busy": "2022-05-04T19:24:17.811551Z",
     "iopub.status.idle": "2022-05-04T19:24:18.700321Z",
     "shell.execute_reply": "2022-05-04T19:24:18.699297Z"
    },
    "papermill": {
     "duration": 0.955053,
     "end_time": "2022-05-04T19:24:18.702884",
     "exception": false,
     "start_time": "2022-05-04T19:24:17.747831",
     "status": "completed"
    },
    "tags": []
   },
   "outputs": [
    {
     "name": "stderr",
     "output_type": "stream",
     "text": [
      "/opt/conda/lib/python3.7/site-packages/seaborn/_decorators.py:43: FutureWarning: Pass the following variable as a keyword arg: x. From version 0.12, the only valid positional argument will be `data`, and passing other arguments without an explicit keyword will result in an error or misinterpretation.\n",
      "  FutureWarning\n"
     ]
    },
    {
     "data": {
      "text/plain": [
       "Text(0.5, 1.0, 'Variation of Heart Disease among Diabetic People')"
      ]
     },
     "execution_count": 7,
     "metadata": {},
     "output_type": "execute_result"
    },
    {
     "data": {
      "image/png": "[encoded data removed]",
      "text/plain": [
       "<Figure size 864x432 with 1 Axes>"
      ]
     },
     "metadata": {},
     "output_type": "display_data"
    }
   ],
   "source": [
    "# This statement enlarges the image\n",
    "plt.figure(figsize=(12,6))\n",
    "# plotting the graph\n",
    "sns.countplot(df['Diabetic'],hue=df['HeartDisease'])\n",
    "plt.title('Variation of Heart Disease among Diabetic People')"
   ]
  },
  {
   "cell_type": "markdown",
   "id": "f9dc175c",
   "metadata": {
    "papermill": {
     "duration": 0.065631,
     "end_time": "2022-05-04T19:24:18.832709",
     "exception": false,
     "start_time": "2022-05-04T19:24:18.767078",
     "status": "completed"
    },
    "tags": []
   },
   "source": [
    "## Plotting Variation of BMI with Heart Disease "
   ]
  },
  {
   "cell_type": "code",
   "execution_count": 8,
   "id": "05d21938",
   "metadata": {
    "execution": {
     "iopub.execute_input": "2022-05-04T19:24:18.963498Z",
     "iopub.status.busy": "2022-05-04T19:24:18.963068Z",
     "iopub.status.idle": "2022-05-04T19:24:21.721866Z",
     "shell.execute_reply": "2022-05-04T19:24:21.720853Z"
    },
    "papermill": {
     "duration": 2.827312,
     "end_time": "2022-05-04T19:24:21.724344",
     "exception": false,
     "start_time": "2022-05-04T19:24:18.897032",
     "status": "completed"
    },
    "tags": []
   },
   "outputs": [
    {
     "data": {
      "text/plain": [
       "Text(0.5, 1.0, 'Distribution of BMI Among People')"
      ]
     },
     "execution_count": 8,
     "metadata": {},
     "output_type": "execute_result"
    },
    {
     "data": {
      "image/png": "[encoded data removed]",
      "text/plain": [
       "<Figure size 864x432 with 1 Axes>"
      ]
     },
     "metadata": {},
     "output_type": "display_data"
    }
   ],
   "source": [
    "# This statement enlarges the image\n",
    "plt.figure(figsize=(12,6))\n",
    "# histplot plots the distribution of values in the particular column\n",
    "# kde plots 'kernel distribution estimate' of that particular column\n",
    "# plotting both graph on top of each other\n",
    "sns.histplot(data=df[df['HeartDisease']=='Yes'],x='BMI',kde=True,color='red')\n",
    "sns.histplot(data=df[df['HeartDisease']=='No'],x='BMI',kde=True,color='blue')\n",
    "plt.title('Distribution of BMI Among People')"
   ]
  },
  {
   "cell_type": "markdown",
   "id": "e3f75ccc",
   "metadata": {
    "papermill": {
     "duration": 0.068396,
     "end_time": "2022-05-04T19:24:21.859594",
     "exception": false,
     "start_time": "2022-05-04T19:24:21.791198",
     "status": "completed"
    },
    "tags": []
   },
   "source": [
    "## Checking variation of Physical Health among people with and without Heart Disease"
   ]
  },
  {
   "cell_type": "code",
   "execution_count": 9,
   "id": "730026e0",
   "metadata": {
    "execution": {
     "iopub.execute_input": "2022-05-04T19:24:22.005400Z",
     "iopub.status.busy": "2022-05-04T19:24:22.005039Z",
     "iopub.status.idle": "2022-05-04T19:24:23.851451Z",
     "shell.execute_reply": "2022-05-04T19:24:23.850481Z"
    },
    "papermill": {
     "duration": 1.924253,
     "end_time": "2022-05-04T19:24:23.853736",
     "exception": false,
     "start_time": "2022-05-04T19:24:21.929483",
     "status": "completed"
    },
    "tags": []
   },
   "outputs": [
    {
     "data": {
      "text/plain": [
       "Text(0.5, 1.0, 'Physical Health Pattern')"
      ]
     },
     "execution_count": 9,
     "metadata": {},
     "output_type": "execute_result"
    },
    {
     "data": {
      "image/png": "[encoded data removed]",
      "text/plain": [
       "<Figure size 864x432 with 1 Axes>"
      ]
     },
     "metadata": {},
     "output_type": "display_data"
    }
   ],
   "source": [
    "# This statement enlarges the image\n",
    "plt.figure(figsize=(12,6))\n",
    "# kdeplots show an estimated, smooth distribution of a single numerical variable\n",
    "# plotting both graphs on top of each other\n",
    "sns.kdeplot(df[df['HeartDisease']=='Yes']['PhysicalHealth'],shade=True,color='blue')\n",
    "sns.kdeplot(df[df['HeartDisease']=='No']['PhysicalHealth'],shade=True,color='red')\n",
    "plt.title('Physical Health Pattern')"
   ]
  },
  {
   "cell_type": "markdown",
   "id": "870ee68a",
   "metadata": {
    "papermill": {
     "duration": 0.068429,
     "end_time": "2022-05-04T19:24:23.991635",
     "exception": false,
     "start_time": "2022-05-04T19:24:23.923206",
     "status": "completed"
    },
    "tags": []
   },
   "source": [
    "## Checking Variation of Mental health among people with and without Heart Diseases"
   ]
  },
  {
   "cell_type": "code",
   "execution_count": 10,
   "id": "5b0b8742",
   "metadata": {
    "execution": {
     "iopub.execute_input": "2022-05-04T19:24:24.130758Z",
     "iopub.status.busy": "2022-05-04T19:24:24.130131Z",
     "iopub.status.idle": "2022-05-04T19:24:25.953036Z",
     "shell.execute_reply": "2022-05-04T19:24:25.952062Z"
    },
    "papermill": {
     "duration": 1.895524,
     "end_time": "2022-05-04T19:24:25.955259",
     "exception": false,
     "start_time": "2022-05-04T19:24:24.059735",
     "status": "completed"
    },
    "tags": []
   },
   "outputs": [
    {
     "data": {
      "text/plain": [
       "Text(0.5, 1.0, 'Variation of Mental Health')"
      ]
     },
     "execution_count": 10,
     "metadata": {},
     "output_type": "execute_result"
    },
    {
     "data": {
      "image/png": "[encoded data removed]",
      "text/plain": [
       "<Figure size 864x432 with 1 Axes>"
      ]
     },
     "metadata": {},
     "output_type": "display_data"
    }
   ],
   "source": [
    "# This statement enlarges the image\n",
    "plt.figure(figsize=(12,6))\n",
    "# plotting both graphs on top of each other\n",
    "sns.kdeplot(df[df['HeartDisease']=='Yes']['MentalHealth'],shade=True,color='blue')\n",
    "sns.kdeplot(df[df['HeartDisease']=='No']['MentalHealth'],shade=True,color='red')\n",
    "plt.title('Variation of Mental Health')"
   ]
  },
  {
   "cell_type": "markdown",
   "id": "01456f48",
   "metadata": {
    "papermill": {
     "duration": 0.081575,
     "end_time": "2022-05-04T19:24:26.132295",
     "exception": false,
     "start_time": "2022-05-04T19:24:26.050720",
     "status": "completed"
    },
    "tags": []
   },
   "source": [
    "## Drawing the correlation graph"
   ]
  },
  {
   "cell_type": "code",
   "execution_count": 11,
   "id": "1a531663",
   "metadata": {
    "execution": {
     "iopub.execute_input": "2022-05-04T19:24:26.293676Z",
     "iopub.status.busy": "2022-05-04T19:24:26.293377Z",
     "iopub.status.idle": "2022-05-04T19:24:26.646162Z",
     "shell.execute_reply": "2022-05-04T19:24:26.645286Z"
    },
    "papermill": {
     "duration": 0.434703,
     "end_time": "2022-05-04T19:24:26.649533",
     "exception": false,
     "start_time": "2022-05-04T19:24:26.214830",
     "status": "completed"
    },
    "tags": []
   },
   "outputs": [
    {
     "data": {
      "text/plain": [
       "<AxesSubplot:>"
      ]
     },
     "execution_count": 11,
     "metadata": {},
     "output_type": "execute_result"
    },
    {
     "data": {
      "image/png": "[encoded data removed]",
      "text/plain": [
       "<Figure size 648x432 with 2 Axes>"
      ]
     },
     "metadata": {},
     "output_type": "display_data"
    }
   ],
   "source": [
    "# importing matplotlib library\n",
    "import matplotlib\n",
    "# This statement reduces the size of image\n",
    "plt.figure(figsize=(9,6))\n",
    "# plotting the graph\n",
    "sns.heatmap(df.corr(),annot=True,cmap='coolwarm')"
   ]
  },
  {
   "cell_type": "markdown",
   "id": "24b9c620",
   "metadata": {
    "papermill": {
     "duration": 0.071429,
     "end_time": "2022-05-04T19:24:26.795118",
     "exception": false,
     "start_time": "2022-05-04T19:24:26.723689",
     "status": "completed"
    },
    "tags": []
   },
   "source": [
    "## Checking Columns of the Dataset"
   ]
  },
  {
   "cell_type": "code",
   "execution_count": 12,
   "id": "22c1fb49",
   "metadata": {
    "execution": {
     "iopub.execute_input": "2022-05-04T19:24:26.946013Z",
     "iopub.status.busy": "2022-05-04T19:24:26.944464Z",
     "iopub.status.idle": "2022-05-04T19:24:27.438454Z",
     "shell.execute_reply": "2022-05-04T19:24:27.437186Z"
    },
    "papermill": {
     "duration": 0.571675,
     "end_time": "2022-05-04T19:24:27.441795",
     "exception": false,
     "start_time": "2022-05-04T19:24:26.870120",
     "status": "completed"
    },
    "tags": []
   },
   "outputs": [
    {
     "name": "stdout",
     "output_type": "stream",
     "text": [
      "<class 'pandas.core.frame.DataFrame'>\n",
      "RangeIndex: 319795 entries, 0 to 319794\n",
      "Data columns (total 18 columns):\n",
      " #   Column            Non-Null Count   Dtype  \n",
      "---  ------            --------------   -----  \n",
      " 0   HeartDisease      319795 non-null  object \n",
      " 1   BMI               319795 non-null  float64\n",
      " 2   Smoking           319795 non-null  object \n",
      " 3   AlcoholDrinking   319795 non-null  object \n",
      " 4   Stroke            319795 non-null  object \n",
      " 5   PhysicalHealth    319795 non-null  float64\n",
      " 6   MentalHealth      319795 non-null  float64\n",
      " 7   DiffWalking       319795 non-null  object \n",
      " 8   Sex               319795 non-null  object \n",
      " 9   AgeCategory       319795 non-null  object \n",
      " 10  Race              319795 non-null  object \n",
      " 11  Diabetic          319795 non-null  object \n",
      " 12  PhysicalActivity  319795 non-null  object \n",
      " 13  GenHealth         319795 non-null  object \n",
      " 14  SleepTime         319795 non-null  float64\n",
      " 15  Asthma            319795 non-null  object \n",
      " 16  KidneyDisease     319795 non-null  object \n",
      " 17  SkinCancer        319795 non-null  object \n",
      "dtypes: float64(4), object(14)\n",
      "memory usage: 43.9+ MB\n"
     ]
    }
   ],
   "source": [
    "# the info() function gives information about all the columns in the dataset\n",
    "df.info()"
   ]
  },
  {
   "cell_type": "markdown",
   "id": "fec420d0",
   "metadata": {
    "papermill": {
     "duration": 0.072303,
     "end_time": "2022-05-04T19:24:27.586452",
     "exception": false,
     "start_time": "2022-05-04T19:24:27.514149",
     "status": "completed"
    },
    "tags": []
   },
   "source": [
    "## Checking unique Values in Categorical Columns"
   ]
  },
  {
   "cell_type": "code",
   "execution_count": 13,
   "id": "8fcbe375",
   "metadata": {
    "execution": {
     "iopub.execute_input": "2022-05-04T19:24:27.731805Z",
     "iopub.status.busy": "2022-05-04T19:24:27.731480Z",
     "iopub.status.idle": "2022-05-04T19:24:28.033859Z",
     "shell.execute_reply": "2022-05-04T19:24:28.032593Z"
    },
    "papermill": {
     "duration": 0.378669,
     "end_time": "2022-05-04T19:24:28.036957",
     "exception": false,
     "start_time": "2022-05-04T19:24:27.658288",
     "status": "completed"
    },
    "tags": []
   },
   "outputs": [
    {
     "name": "stdout",
     "output_type": "stream",
     "text": [
      "['Yes' 'No']\n",
      "['No' 'Yes']\n",
      "['No' 'Yes']\n",
      "['No' 'Yes']\n",
      "['Female' 'Male']\n",
      "['55-59' '80 or older' '65-69' '75-79' '40-44' '70-74' '60-64' '50-54'\n",
      " '45-49' '18-24' '35-39' '30-34' '25-29']\n",
      "['White' 'Black' 'Asian' 'American Indian/Alaskan Native' 'Other'\n",
      " 'Hispanic']\n",
      "['Yes' 'No' 'No, borderline diabetes' 'Yes (during pregnancy)']\n",
      "['Yes' 'No']\n",
      "['Very good' 'Fair' 'Good' 'Poor' 'Excellent']\n",
      "['Yes' 'No']\n",
      "['No' 'Yes']\n",
      "['Yes' 'No']\n"
     ]
    }
   ],
   "source": [
    "# the unique() function prints the unique values in a particular column. It is used to check the values in a categorical column.\n",
    "# printing all the unique values of each column \n",
    "print(df['Smoking'].unique())\n",
    "print(df['AlcoholDrinking'].unique())\n",
    "print(df['Stroke'].unique())\n",
    "print(df['DiffWalking'].unique())\n",
    "print(df['Sex'].unique())\n",
    "print(df['AgeCategory'].unique())\n",
    "print(df['Race'].unique())\n",
    "print(df['Diabetic'].unique())\n",
    "print(df['PhysicalActivity'].unique())\n",
    "print(df['GenHealth'].unique())\n",
    "print(df['Asthma'].unique())\n",
    "print(df['KidneyDisease'].unique())\n",
    "print(df['SkinCancer'].unique())"
   ]
  },
  {
   "cell_type": "markdown",
   "id": "50ed09e9",
   "metadata": {
    "papermill": {
     "duration": 0.072021,
     "end_time": "2022-05-04T19:24:28.184244",
     "exception": false,
     "start_time": "2022-05-04T19:24:28.112223",
     "status": "completed"
    },
    "tags": []
   },
   "source": [
    "## Encoding all Binary Categorical Columns"
   ]
  },
  {
   "cell_type": "code",
   "execution_count": 14,
   "id": "efa954d6",
   "metadata": {
    "execution": {
     "iopub.execute_input": "2022-05-04T19:24:28.329816Z",
     "iopub.status.busy": "2022-05-04T19:24:28.329517Z",
     "iopub.status.idle": "2022-05-04T19:24:30.304937Z",
     "shell.execute_reply": "2022-05-04T19:24:30.304095Z"
    },
    "papermill": {
     "duration": 2.050837,
     "end_time": "2022-05-04T19:24:30.307264",
     "exception": false,
     "start_time": "2022-05-04T19:24:28.256427",
     "status": "completed"
    },
    "tags": []
   },
   "outputs": [],
   "source": [
    "# this is a user defined function that encodes the categorical columns\n",
    "def change(col):\n",
    "    if col=='Yes':\n",
    "        return 1\n",
    "    elif col=='No':\n",
    "        return 0\n",
    "# the apply() function puts value of each row one by one in a column to encode that whole column\n",
    "# encoding all categorical columns having binary values\n",
    "df['Smoking'] = df['Smoking'].apply(change)\n",
    "df['AlcoholDrinking'] = df['AlcoholDrinking'].apply(change)\n",
    "df['Stroke'] = df['Stroke'].apply(change)\n",
    "df['DiffWalking'] = df['DiffWalking'].apply(change)\n",
    "df['PhysicalActivity'] = df['PhysicalActivity'].apply(change)\n",
    "df['Asthma'] = df['Asthma'].apply(change)\n",
    "df['KidneyDisease'] = df['KidneyDisease'].apply(change)\n",
    "df['SkinCancer'] = df['SkinCancer'].apply(change)\n",
    "df['HeartDisease'] = df['HeartDisease'].apply(change)"
   ]
  },
  {
   "cell_type": "markdown",
   "id": "9a6cec08",
   "metadata": {
    "papermill": {
     "duration": 0.071702,
     "end_time": "2022-05-04T19:24:30.450708",
     "exception": false,
     "start_time": "2022-05-04T19:24:30.379006",
     "status": "completed"
    },
    "tags": []
   },
   "source": [
    "## Checking State of dataset"
   ]
  },
  {
   "cell_type": "code",
   "execution_count": 15,
   "id": "30675674",
   "metadata": {
    "execution": {
     "iopub.execute_input": "2022-05-04T19:24:30.596516Z",
     "iopub.status.busy": "2022-05-04T19:24:30.596087Z",
     "iopub.status.idle": "2022-05-04T19:24:30.614670Z",
     "shell.execute_reply": "2022-05-04T19:24:30.614086Z"
    },
    "papermill": {
     "duration": 0.094187,
     "end_time": "2022-05-04T19:24:30.616552",
     "exception": false,
     "start_time": "2022-05-04T19:24:30.522365",
     "status": "completed"
    },
    "tags": []
   },
   "outputs": [
    {
     "data": {
      "text/html": [
       "<div>\n",
       "<style scoped>\n",
       "    .dataframe tbody tr th:only-of-type {\n",
       "        vertical-align: middle;\n",
       "    }\n",
       "\n",
       "    .dataframe tbody tr th {\n",
       "        vertical-align: top;\n",
       "    }\n",
       "\n",
       "    .dataframe thead th {\n",
       "        text-align: right;\n",
       "    }\n",
       "</style>\n",
       "<table border=\"1\" class=\"dataframe\">\n",
       "  <thead>\n",
       "    <tr style=\"text-align: right;\">\n",
       "      <th></th>\n",
       "      <th>HeartDisease</th>\n",
       "      <th>BMI</th>\n",
       "      <th>Smoking</th>\n",
       "      <th>AlcoholDrinking</th>\n",
       "      <th>Stroke</th>\n",
       "      <th>PhysicalHealth</th>\n",
       "      <th>MentalHealth</th>\n",
       "      <th>DiffWalking</th>\n",
       "      <th>Sex</th>\n",
       "      <th>AgeCategory</th>\n",
       "      <th>Race</th>\n",
       "      <th>Diabetic</th>\n",
       "      <th>PhysicalActivity</th>\n",
       "      <th>GenHealth</th>\n",
       "      <th>SleepTime</th>\n",
       "      <th>Asthma</th>\n",
       "      <th>KidneyDisease</th>\n",
       "      <th>SkinCancer</th>\n",
       "    </tr>\n",
       "  </thead>\n",
       "  <tbody>\n",
       "    <tr>\n",
       "      <th>0</th>\n",
       "      <td>0</td>\n",
       "      <td>16.60</td>\n",
       "      <td>1</td>\n",
       "      <td>0</td>\n",
       "      <td>0</td>\n",
       "      <td>3.0</td>\n",
       "      <td>30.0</td>\n",
       "      <td>0</td>\n",
       "      <td>Female</td>\n",
       "      <td>55-59</td>\n",
       "      <td>White</td>\n",
       "      <td>Yes</td>\n",
       "      <td>1</td>\n",
       "      <td>Very good</td>\n",
       "      <td>5.0</td>\n",
       "      <td>1</td>\n",
       "      <td>0</td>\n",
       "      <td>1</td>\n",
       "    </tr>\n",
       "    <tr>\n",
       "      <th>1</th>\n",
       "      <td>0</td>\n",
       "      <td>20.34</td>\n",
       "      <td>0</td>\n",
       "      <td>0</td>\n",
       "      <td>1</td>\n",
       "      <td>0.0</td>\n",
       "      <td>0.0</td>\n",
       "      <td>0</td>\n",
       "      <td>Female</td>\n",
       "      <td>80 or older</td>\n",
       "      <td>White</td>\n",
       "      <td>No</td>\n",
       "      <td>1</td>\n",
       "      <td>Very good</td>\n",
       "      <td>7.0</td>\n",
       "      <td>0</td>\n",
       "      <td>0</td>\n",
       "      <td>0</td>\n",
       "    </tr>\n",
       "    <tr>\n",
       "      <th>2</th>\n",
       "      <td>0</td>\n",
       "      <td>26.58</td>\n",
       "      <td>1</td>\n",
       "      <td>0</td>\n",
       "      <td>0</td>\n",
       "      <td>20.0</td>\n",
       "      <td>30.0</td>\n",
       "      <td>0</td>\n",
       "      <td>Male</td>\n",
       "      <td>65-69</td>\n",
       "      <td>White</td>\n",
       "      <td>Yes</td>\n",
       "      <td>1</td>\n",
       "      <td>Fair</td>\n",
       "      <td>8.0</td>\n",
       "      <td>1</td>\n",
       "      <td>0</td>\n",
       "      <td>0</td>\n",
       "    </tr>\n",
       "    <tr>\n",
       "      <th>3</th>\n",
       "      <td>0</td>\n",
       "      <td>24.21</td>\n",
       "      <td>0</td>\n",
       "      <td>0</td>\n",
       "      <td>0</td>\n",
       "      <td>0.0</td>\n",
       "      <td>0.0</td>\n",
       "      <td>0</td>\n",
       "      <td>Female</td>\n",
       "      <td>75-79</td>\n",
       "      <td>White</td>\n",
       "      <td>No</td>\n",
       "      <td>0</td>\n",
       "      <td>Good</td>\n",
       "      <td>6.0</td>\n",
       "      <td>0</td>\n",
       "      <td>0</td>\n",
       "      <td>1</td>\n",
       "    </tr>\n",
       "    <tr>\n",
       "      <th>4</th>\n",
       "      <td>0</td>\n",
       "      <td>23.71</td>\n",
       "      <td>0</td>\n",
       "      <td>0</td>\n",
       "      <td>0</td>\n",
       "      <td>28.0</td>\n",
       "      <td>0.0</td>\n",
       "      <td>1</td>\n",
       "      <td>Female</td>\n",
       "      <td>40-44</td>\n",
       "      <td>White</td>\n",
       "      <td>No</td>\n",
       "      <td>1</td>\n",
       "      <td>Very good</td>\n",
       "      <td>8.0</td>\n",
       "      <td>0</td>\n",
       "      <td>0</td>\n",
       "      <td>0</td>\n",
       "    </tr>\n",
       "  </tbody>\n",
       "</table>\n",
       "</div>"
      ],
      "text/plain": [
       "   HeartDisease    BMI  Smoking  AlcoholDrinking  Stroke  PhysicalHealth  \\\n",
       "0             0  16.60        1                0       0             3.0   \n",
       "1             0  20.34        0                0       1             0.0   \n",
       "2             0  26.58        1                0       0            20.0   \n",
       "3             0  24.21        0                0       0             0.0   \n",
       "4             0  23.71        0                0       0            28.0   \n",
       "\n",
       "   MentalHealth  DiffWalking     Sex  AgeCategory   Race Diabetic  \\\n",
       "0          30.0            0  Female        55-59  White      Yes   \n",
       "1           0.0            0  Female  80 or older  White       No   \n",
       "2          30.0            0    Male        65-69  White      Yes   \n",
       "3           0.0            0  Female        75-79  White       No   \n",
       "4           0.0            1  Female        40-44  White       No   \n",
       "\n",
       "   PhysicalActivity  GenHealth  SleepTime  Asthma  KidneyDisease  SkinCancer  \n",
       "0                 1  Very good        5.0       1              0           1  \n",
       "1                 1  Very good        7.0       0              0           0  \n",
       "2                 1       Fair        8.0       1              0           0  \n",
       "3                 0       Good        6.0       0              0           1  \n",
       "4                 1  Very good        8.0       0              0           0  "
      ]
     },
     "execution_count": 15,
     "metadata": {},
     "output_type": "execute_result"
    }
   ],
   "source": [
    "df.head()"
   ]
  },
  {
   "cell_type": "markdown",
   "id": "98b75879",
   "metadata": {
    "papermill": {
     "duration": 0.071934,
     "end_time": "2022-05-04T19:24:30.760719",
     "exception": false,
     "start_time": "2022-05-04T19:24:30.688785",
     "status": "completed"
    },
    "tags": []
   },
   "source": [
    "## Label Encoding all categorical columns with more than 2 values"
   ]
  },
  {
   "cell_type": "code",
   "execution_count": 16,
   "id": "50da2d03",
   "metadata": {
    "execution": {
     "iopub.execute_input": "2022-05-04T19:24:30.907023Z",
     "iopub.status.busy": "2022-05-04T19:24:30.906526Z",
     "iopub.status.idle": "2022-05-04T19:24:31.419032Z",
     "shell.execute_reply": "2022-05-04T19:24:31.418025Z"
    },
    "papermill": {
     "duration": 0.588525,
     "end_time": "2022-05-04T19:24:31.421452",
     "exception": false,
     "start_time": "2022-05-04T19:24:30.832927",
     "status": "completed"
    },
    "tags": []
   },
   "outputs": [],
   "source": [
    "# making an instance of the label encoder class\n",
    "le = LabelEncoder()\n",
    "# label encoding all the categorical columns that have more than 2 unique values\n",
    "df['Sex']=le.fit_transform(df['Sex'])\n",
    "df['AgeCategory']=le.fit_transform(df['AgeCategory'])\n",
    "df['Race']=le.fit_transform(df['Race'])\n",
    "df['Diabetic']=le.fit_transform(df['Diabetic'])\n",
    "df['GenHealth']=le.fit_transform(df['GenHealth'])"
   ]
  },
  {
   "cell_type": "markdown",
   "id": "5ebb85b3",
   "metadata": {
    "papermill": {
     "duration": 0.072156,
     "end_time": "2022-05-04T19:24:31.566767",
     "exception": false,
     "start_time": "2022-05-04T19:24:31.494611",
     "status": "completed"
    },
    "tags": []
   },
   "source": [
    "## Checking state of Dataset"
   ]
  },
  {
   "cell_type": "code",
   "execution_count": 17,
   "id": "a2534b64",
   "metadata": {
    "execution": {
     "iopub.execute_input": "2022-05-04T19:24:31.714889Z",
     "iopub.status.busy": "2022-05-04T19:24:31.714342Z",
     "iopub.status.idle": "2022-05-04T19:24:31.731577Z",
     "shell.execute_reply": "2022-05-04T19:24:31.730965Z"
    },
    "papermill": {
     "duration": 0.093052,
     "end_time": "2022-05-04T19:24:31.733603",
     "exception": false,
     "start_time": "2022-05-04T19:24:31.640551",
     "status": "completed"
    },
    "tags": []
   },
   "outputs": [
    {
     "data": {
      "text/html": [
       "<div>\n",
       "<style scoped>\n",
       "    .dataframe tbody tr th:only-of-type {\n",
       "        vertical-align: middle;\n",
       "    }\n",
       "\n",
       "    .dataframe tbody tr th {\n",
       "        vertical-align: top;\n",
       "    }\n",
       "\n",
       "    .dataframe thead th {\n",
       "        text-align: right;\n",
       "    }\n",
       "</style>\n",
       "<table border=\"1\" class=\"dataframe\">\n",
       "  <thead>\n",
       "    <tr style=\"text-align: right;\">\n",
       "      <th></th>\n",
       "      <th>HeartDisease</th>\n",
       "      <th>BMI</th>\n",
       "      <th>Smoking</th>\n",
       "      <th>AlcoholDrinking</th>\n",
       "      <th>Stroke</th>\n",
       "      <th>PhysicalHealth</th>\n",
       "      <th>MentalHealth</th>\n",
       "      <th>DiffWalking</th>\n",
       "      <th>Sex</th>\n",
       "      <th>AgeCategory</th>\n",
       "      <th>Race</th>\n",
       "      <th>Diabetic</th>\n",
       "      <th>PhysicalActivity</th>\n",
       "      <th>GenHealth</th>\n",
       "      <th>SleepTime</th>\n",
       "      <th>Asthma</th>\n",
       "      <th>KidneyDisease</th>\n",
       "      <th>SkinCancer</th>\n",
       "    </tr>\n",
       "  </thead>\n",
       "  <tbody>\n",
       "    <tr>\n",
       "      <th>0</th>\n",
       "      <td>0</td>\n",
       "      <td>16.60</td>\n",
       "      <td>1</td>\n",
       "      <td>0</td>\n",
       "      <td>0</td>\n",
       "      <td>3.0</td>\n",
       "      <td>30.0</td>\n",
       "      <td>0</td>\n",
       "      <td>0</td>\n",
       "      <td>7</td>\n",
       "      <td>5</td>\n",
       "      <td>2</td>\n",
       "      <td>1</td>\n",
       "      <td>4</td>\n",
       "      <td>5.0</td>\n",
       "      <td>1</td>\n",
       "      <td>0</td>\n",
       "      <td>1</td>\n",
       "    </tr>\n",
       "    <tr>\n",
       "      <th>1</th>\n",
       "      <td>0</td>\n",
       "      <td>20.34</td>\n",
       "      <td>0</td>\n",
       "      <td>0</td>\n",
       "      <td>1</td>\n",
       "      <td>0.0</td>\n",
       "      <td>0.0</td>\n",
       "      <td>0</td>\n",
       "      <td>0</td>\n",
       "      <td>12</td>\n",
       "      <td>5</td>\n",
       "      <td>0</td>\n",
       "      <td>1</td>\n",
       "      <td>4</td>\n",
       "      <td>7.0</td>\n",
       "      <td>0</td>\n",
       "      <td>0</td>\n",
       "      <td>0</td>\n",
       "    </tr>\n",
       "    <tr>\n",
       "      <th>2</th>\n",
       "      <td>0</td>\n",
       "      <td>26.58</td>\n",
       "      <td>1</td>\n",
       "      <td>0</td>\n",
       "      <td>0</td>\n",
       "      <td>20.0</td>\n",
       "      <td>30.0</td>\n",
       "      <td>0</td>\n",
       "      <td>1</td>\n",
       "      <td>9</td>\n",
       "      <td>5</td>\n",
       "      <td>2</td>\n",
       "      <td>1</td>\n",
       "      <td>1</td>\n",
       "      <td>8.0</td>\n",
       "      <td>1</td>\n",
       "      <td>0</td>\n",
       "      <td>0</td>\n",
       "    </tr>\n",
       "    <tr>\n",
       "      <th>3</th>\n",
       "      <td>0</td>\n",
       "      <td>24.21</td>\n",
       "      <td>0</td>\n",
       "      <td>0</td>\n",
       "      <td>0</td>\n",
       "      <td>0.0</td>\n",
       "      <td>0.0</td>\n",
       "      <td>0</td>\n",
       "      <td>0</td>\n",
       "      <td>11</td>\n",
       "      <td>5</td>\n",
       "      <td>0</td>\n",
       "      <td>0</td>\n",
       "      <td>2</td>\n",
       "      <td>6.0</td>\n",
       "      <td>0</td>\n",
       "      <td>0</td>\n",
       "      <td>1</td>\n",
       "    </tr>\n",
       "    <tr>\n",
       "      <th>4</th>\n",
       "      <td>0</td>\n",
       "      <td>23.71</td>\n",
       "      <td>0</td>\n",
       "      <td>0</td>\n",
       "      <td>0</td>\n",
       "      <td>28.0</td>\n",
       "      <td>0.0</td>\n",
       "      <td>1</td>\n",
       "      <td>0</td>\n",
       "      <td>4</td>\n",
       "      <td>5</td>\n",
       "      <td>0</td>\n",
       "      <td>1</td>\n",
       "      <td>4</td>\n",
       "      <td>8.0</td>\n",
       "      <td>0</td>\n",
       "      <td>0</td>\n",
       "      <td>0</td>\n",
       "    </tr>\n",
       "  </tbody>\n",
       "</table>\n",
       "</div>"
      ],
      "text/plain": [
       "   HeartDisease    BMI  Smoking  AlcoholDrinking  Stroke  PhysicalHealth  \\\n",
       "0             0  16.60        1                0       0             3.0   \n",
       "1             0  20.34        0                0       1             0.0   \n",
       "2             0  26.58        1                0       0            20.0   \n",
       "3             0  24.21        0                0       0             0.0   \n",
       "4             0  23.71        0                0       0            28.0   \n",
       "\n",
       "   MentalHealth  DiffWalking  Sex  AgeCategory  Race  Diabetic  \\\n",
       "0          30.0            0    0            7     5         2   \n",
       "1           0.0            0    0           12     5         0   \n",
       "2          30.0            0    1            9     5         2   \n",
       "3           0.0            0    0           11     5         0   \n",
       "4           0.0            1    0            4     5         0   \n",
       "\n",
       "   PhysicalActivity  GenHealth  SleepTime  Asthma  KidneyDisease  SkinCancer  \n",
       "0                 1          4        5.0       1              0           1  \n",
       "1                 1          4        7.0       0              0           0  \n",
       "2                 1          1        8.0       1              0           0  \n",
       "3                 0          2        6.0       0              0           1  \n",
       "4                 1          4        8.0       0              0           0  "
      ]
     },
     "execution_count": 17,
     "metadata": {},
     "output_type": "execute_result"
    }
   ],
   "source": [
    "df.head()"
   ]
  },
  {
   "cell_type": "markdown",
   "id": "53e262e1",
   "metadata": {
    "papermill": {
     "duration": 0.078518,
     "end_time": "2022-05-04T19:24:31.889168",
     "exception": false,
     "start_time": "2022-05-04T19:24:31.810650",
     "status": "completed"
    },
    "tags": []
   },
   "source": [
    "## Dividing Dataset into Training and Test Set"
   ]
  },
  {
   "cell_type": "code",
   "execution_count": 18,
   "id": "e887ecca",
   "metadata": {
    "execution": {
     "iopub.execute_input": "2022-05-04T19:24:32.044176Z",
     "iopub.status.busy": "2022-05-04T19:24:32.043780Z",
     "iopub.status.idle": "2022-05-04T19:24:32.105275Z",
     "shell.execute_reply": "2022-05-04T19:24:32.104565Z"
    },
    "papermill": {
     "duration": 0.142819,
     "end_time": "2022-05-04T19:24:32.107544",
     "exception": false,
     "start_time": "2022-05-04T19:24:31.964725",
     "status": "completed"
    },
    "tags": []
   },
   "outputs": [],
   "source": [
    "# iloc[] function is used to select values from the dataset\n",
    "# independent variables\n",
    "X = df.iloc[:,1:].values\n",
    "# dependent variable\n",
    "y = df.iloc[:,0].values"
   ]
  },
  {
   "cell_type": "markdown",
   "id": "5526cdf4",
   "metadata": {
    "papermill": {
     "duration": 0.073452,
     "end_time": "2022-05-04T19:24:32.254245",
     "exception": false,
     "start_time": "2022-05-04T19:24:32.180793",
     "status": "completed"
    },
    "tags": []
   },
   "source": [
    "## Splitting dataset into Training and Test Set"
   ]
  },
  {
   "cell_type": "code",
   "execution_count": 19,
   "id": "11c5c952",
   "metadata": {
    "execution": {
     "iopub.execute_input": "2022-05-04T19:24:32.402751Z",
     "iopub.status.busy": "2022-05-04T19:24:32.402189Z",
     "iopub.status.idle": "2022-05-04T19:24:32.499765Z",
     "shell.execute_reply": "2022-05-04T19:24:32.499076Z"
    },
    "papermill": {
     "duration": 0.174398,
     "end_time": "2022-05-04T19:24:32.502098",
     "exception": false,
     "start_time": "2022-05-04T19:24:32.327700",
     "status": "completed"
    },
    "tags": []
   },
   "outputs": [],
   "source": [
    "# train_test_split() is used to divide dataset into training and test set\n",
    "X_train, X_test, y_train, y_test = train_test_split(X, y, test_size=0.2)"
   ]
  },
  {
   "cell_type": "markdown",
   "id": "f7a10bc0",
   "metadata": {
    "papermill": {
     "duration": 0.074005,
     "end_time": "2022-05-04T19:24:32.649552",
     "exception": false,
     "start_time": "2022-05-04T19:24:32.575547",
     "status": "completed"
    },
    "tags": []
   },
   "source": [
    "## Feature Scaling"
   ]
  },
  {
   "cell_type": "code",
   "execution_count": 20,
   "id": "9cb2a593",
   "metadata": {
    "execution": {
     "iopub.execute_input": "2022-05-04T19:24:32.801745Z",
     "iopub.status.busy": "2022-05-04T19:24:32.801153Z",
     "iopub.status.idle": "2022-05-04T19:24:32.900048Z",
     "shell.execute_reply": "2022-05-04T19:24:32.899092Z"
    },
    "papermill": {
     "duration": 0.17813,
     "end_time": "2022-05-04T19:24:32.902396",
     "exception": false,
     "start_time": "2022-05-04T19:24:32.724266",
     "status": "completed"
    },
    "tags": []
   },
   "outputs": [],
   "source": [
    "# declaring an object of standardscaler class\n",
    "sc = StandardScaler()\n",
    "# fit_transform() method first trains the Scaler on dataset and then transforms it between 0 and 1\n",
    "X_train = sc.fit_transform(X_train)\n",
    "# transform() method only transforms the dataset based on what it has learnt on the dataset before\n",
    "X_test = sc.transform(X_test)"
   ]
  },
  {
   "cell_type": "markdown",
   "id": "85e5ace4",
   "metadata": {
    "papermill": {
     "duration": 0.073762,
     "end_time": "2022-05-04T19:24:33.050627",
     "exception": false,
     "start_time": "2022-05-04T19:24:32.976865",
     "status": "completed"
    },
    "tags": []
   },
   "source": [
    "## Training Models"
   ]
  },
  {
   "cell_type": "markdown",
   "id": "2a16cce4",
   "metadata": {
    "papermill": {
     "duration": 0.072957,
     "end_time": "2022-05-04T19:24:33.197093",
     "exception": false,
     "start_time": "2022-05-04T19:24:33.124136",
     "status": "completed"
    },
    "tags": []
   },
   "source": [
    "### 1. Logistic Regression"
   ]
  },
  {
   "cell_type": "code",
   "execution_count": 21,
   "id": "59edce9e",
   "metadata": {
    "execution": {
     "iopub.execute_input": "2022-05-04T19:24:33.346250Z",
     "iopub.status.busy": "2022-05-04T19:24:33.345954Z",
     "iopub.status.idle": "2022-05-04T19:24:33.910608Z",
     "shell.execute_reply": "2022-05-04T19:24:33.909590Z"
    },
    "papermill": {
     "duration": 0.642813,
     "end_time": "2022-05-04T19:24:33.914097",
     "exception": false,
     "start_time": "2022-05-04T19:24:33.271284",
     "status": "completed"
    },
    "tags": []
   },
   "outputs": [
    {
     "name": "stdout",
     "output_type": "stream",
     "text": [
      "[[58037   422]\n",
      " [ 4987   513]]\n",
      "0.9154301974702543\n"
     ]
    }
   ],
   "source": [
    "# declaring a object of Logistic regression class\n",
    "clf1 = LogisticRegression()\n",
    "# fit() function trains the model\n",
    "# fitting the object with the training data\n",
    "clf1.fit(X_train, y_train)\n",
    "# predict() function predicts results from validation data\n",
    "# predicting result using the trained data\n",
    "y_pred1 = clf1.predict(X_test)\n",
    "# confusion_matrix() gives the true_positives, false positives, true negatives, false negatives\n",
    "# making confusion matrix using predicted and given results in validation data\n",
    "cm1=confusion_matrix(y_test,y_pred1)\n",
    "# printing the confusion matrix\n",
    "print(cm1)\n",
    "# accuracy_score() is used to find the accuracy of the model\n",
    "print(accuracy_score(y_test,y_pred1))"
   ]
  },
  {
   "cell_type": "markdown",
   "id": "331bca87",
   "metadata": {
    "papermill": {
     "duration": 0.076312,
     "end_time": "2022-05-04T19:24:34.103701",
     "exception": false,
     "start_time": "2022-05-04T19:24:34.027389",
     "status": "completed"
    },
    "tags": []
   },
   "source": [
    "### 2. K Nearest Neighbors"
   ]
  },
  {
   "cell_type": "code",
   "execution_count": 22,
   "id": "84d8993c",
   "metadata": {
    "execution": {
     "iopub.execute_input": "2022-05-04T19:24:34.256186Z",
     "iopub.status.busy": "2022-05-04T19:24:34.255881Z",
     "iopub.status.idle": "2022-05-04T19:30:36.760530Z",
     "shell.execute_reply": "2022-05-04T19:30:36.759357Z"
    },
    "papermill": {
     "duration": 362.662109,
     "end_time": "2022-05-04T19:30:36.841042",
     "exception": false,
     "start_time": "2022-05-04T19:24:34.178933",
     "status": "completed"
    },
    "tags": []
   },
   "outputs": [
    {
     "name": "stdout",
     "output_type": "stream",
     "text": [
      "[[57196  1263]\n",
      " [ 4774   726]]\n",
      "0.9056114073078065\n"
     ]
    }
   ],
   "source": [
    "# declaring a object of K Neighbors Classifier class\n",
    "clf2 = KNeighborsClassifier()\n",
    "clf2.fit(X_train, y_train)\n",
    "y_pred2 = clf2.predict(X_test)\n",
    "cm2 = confusion_matrix(y_test,y_pred2)\n",
    "print(cm2)\n",
    "print(accuracy_score(y_test,y_pred2))"
   ]
  },
  {
   "cell_type": "markdown",
   "id": "930606db",
   "metadata": {
    "papermill": {
     "duration": 0.074241,
     "end_time": "2022-05-04T19:30:36.990353",
     "exception": false,
     "start_time": "2022-05-04T19:30:36.916112",
     "status": "completed"
    },
    "tags": []
   },
   "source": [
    "### 3. Naive Bayes"
   ]
  },
  {
   "cell_type": "code",
   "execution_count": 23,
   "id": "66f7680e",
   "metadata": {
    "execution": {
     "iopub.execute_input": "2022-05-04T19:30:37.143093Z",
     "iopub.status.busy": "2022-05-04T19:30:37.142066Z",
     "iopub.status.idle": "2022-05-04T19:30:37.279476Z",
     "shell.execute_reply": "2022-05-04T19:30:37.278487Z"
    },
    "papermill": {
     "duration": 0.21701,
     "end_time": "2022-05-04T19:30:37.282414",
     "exception": false,
     "start_time": "2022-05-04T19:30:37.065404",
     "status": "completed"
    },
    "tags": []
   },
   "outputs": [
    {
     "name": "stdout",
     "output_type": "stream",
     "text": [
      "[[51586  6873]\n",
      " [ 2961  2539]]\n",
      "0.8462452508638346\n"
     ]
    }
   ],
   "source": [
    "# declaring a object of GaussianNB class\n",
    "clf3 = GaussianNB()\n",
    "clf3.fit(X_train, y_train)\n",
    "y_pred3 = clf3.predict(X_test)\n",
    "cm3 = confusion_matrix(y_test,y_pred3)\n",
    "print(cm3)\n",
    "print(accuracy_score(y_test,y_pred3))"
   ]
  },
  {
   "cell_type": "markdown",
   "id": "00e83963",
   "metadata": {
    "papermill": {
     "duration": 0.07489,
     "end_time": "2022-05-04T19:30:37.432586",
     "exception": false,
     "start_time": "2022-05-04T19:30:37.357696",
     "status": "completed"
    },
    "tags": []
   },
   "source": [
    "### 4. Support Vector Machine ( Not Recommended due to very long execution time {more than 4 hours} ) "
   ]
  },
  {
   "cell_type": "code",
   "execution_count": 24,
   "id": "015e900d",
   "metadata": {
    "execution": {
     "iopub.execute_input": "2022-05-04T19:30:37.585458Z",
     "iopub.status.busy": "2022-05-04T19:30:37.584678Z",
     "iopub.status.idle": "2022-05-04T19:30:37.588299Z",
     "shell.execute_reply": "2022-05-04T19:30:37.587481Z"
    },
    "papermill": {
     "duration": 0.082014,
     "end_time": "2022-05-04T19:30:37.590290",
     "exception": false,
     "start_time": "2022-05-04T19:30:37.508276",
     "status": "completed"
    },
    "tags": []
   },
   "outputs": [],
   "source": [
    "# clf4 = SVC()\n",
    "# clf4.fit(X_train,y_train)\n",
    "# y_pred4 = clf4.predict(X_test)\n",
    "# cm4 = confusion_matrix(y_test,y_pred4)\n",
    "# print(cm4)\n",
    "# print(accuracy_score(y_test,y_pred4))"
   ]
  },
  {
   "cell_type": "code",
   "execution_count": 25,
   "id": "07d441b6",
   "metadata": {
    "execution": {
     "iopub.execute_input": "2022-05-04T19:30:37.742669Z",
     "iopub.status.busy": "2022-05-04T19:30:37.742026Z",
     "iopub.status.idle": "2022-05-04T19:30:37.745459Z",
     "shell.execute_reply": "2022-05-04T19:30:37.744793Z"
    },
    "papermill": {
     "duration": 0.081416,
     "end_time": "2022-05-04T19:30:37.747426",
     "exception": false,
     "start_time": "2022-05-04T19:30:37.666010",
     "status": "completed"
    },
    "tags": []
   },
   "outputs": [],
   "source": [
    "# rand_grid = {\n",
    "#     'kernel':['linear','poly','rbf','sigmoid'],\n",
    "#     'C':[int(x) for x in np.linspace(start = 2, stop = 10,num = 10)],\n",
    "#     'gamma':[int(x) for x in np.linspace(start = 0.1, stop = 1, num = 5)]\n",
    "# }"
   ]
  },
  {
   "cell_type": "code",
   "execution_count": 26,
   "id": "4fe222fa",
   "metadata": {
    "execution": {
     "iopub.execute_input": "2022-05-04T19:30:37.901366Z",
     "iopub.status.busy": "2022-05-04T19:30:37.900594Z",
     "iopub.status.idle": "2022-05-04T19:30:37.903955Z",
     "shell.execute_reply": "2022-05-04T19:30:37.903340Z"
    },
    "papermill": {
     "duration": 0.082385,
     "end_time": "2022-05-04T19:30:37.905900",
     "exception": false,
     "start_time": "2022-05-04T19:30:37.823515",
     "status": "completed"
    },
    "tags": []
   },
   "outputs": [],
   "source": [
    "# rcv = RandomizedSearchCV(estimator=clf4,param_distributions=rand_grid,n_iter=100,cv=3,verbose=2,random_state=0,n_jobs=-1)\n",
    "# rcv.fit(X_train, y_train)"
   ]
  },
  {
   "cell_type": "code",
   "execution_count": 27,
   "id": "23368048",
   "metadata": {
    "execution": {
     "iopub.execute_input": "2022-05-04T19:30:38.059879Z",
     "iopub.status.busy": "2022-05-04T19:30:38.059314Z",
     "iopub.status.idle": "2022-05-04T19:30:38.062552Z",
     "shell.execute_reply": "2022-05-04T19:30:38.061857Z"
    },
    "papermill": {
     "duration": 0.083411,
     "end_time": "2022-05-04T19:30:38.064593",
     "exception": false,
     "start_time": "2022-05-04T19:30:37.981182",
     "status": "completed"
    },
    "tags": []
   },
   "outputs": [],
   "source": [
    "# print(rcv.best_params_)\n",
    "# print(rcv.best_estimator_)"
   ]
  },
  {
   "cell_type": "markdown",
   "id": "45d5a8fc",
   "metadata": {
    "papermill": {
     "duration": 0.074331,
     "end_time": "2022-05-04T19:30:38.214023",
     "exception": false,
     "start_time": "2022-05-04T19:30:38.139692",
     "status": "completed"
    },
    "tags": []
   },
   "source": [
    "### 5. Decision Tree"
   ]
  },
  {
   "cell_type": "code",
   "execution_count": 28,
   "id": "b21eb79b",
   "metadata": {
    "execution": {
     "iopub.execute_input": "2022-05-04T19:30:38.365641Z",
     "iopub.status.busy": "2022-05-04T19:30:38.365095Z",
     "iopub.status.idle": "2022-05-04T19:30:39.857438Z",
     "shell.execute_reply": "2022-05-04T19:30:39.856544Z"
    },
    "papermill": {
     "duration": 1.571326,
     "end_time": "2022-05-04T19:30:39.860340",
     "exception": false,
     "start_time": "2022-05-04T19:30:38.289014",
     "status": "completed"
    },
    "tags": []
   },
   "outputs": [
    {
     "name": "stdout",
     "output_type": "stream",
     "text": [
      "[[54103  4356]\n",
      " [ 4121  1379]]\n",
      "0.8674619678231367\n"
     ]
    }
   ],
   "source": [
    "# declaring a object of Decision Tree Classifier class\n",
    "clf5 = DecisionTreeClassifier(criterion='entropy')\n",
    "clf5.fit(X_train, y_train)\n",
    "y_pred5 = clf5.predict(X_test)\n",
    "cm5 = confusion_matrix(y_test,y_pred5)\n",
    "print(cm5)\n",
    "print(accuracy_score(y_test,y_pred5))"
   ]
  },
  {
   "cell_type": "markdown",
   "id": "099b01cb",
   "metadata": {
    "papermill": {
     "duration": 0.083996,
     "end_time": "2022-05-04T19:30:40.021865",
     "exception": false,
     "start_time": "2022-05-04T19:30:39.937869",
     "status": "completed"
    },
    "tags": []
   },
   "source": [
    "### 6. Random Forest"
   ]
  },
  {
   "cell_type": "code",
   "execution_count": 29,
   "id": "1cdbfb0d",
   "metadata": {
    "execution": {
     "iopub.execute_input": "2022-05-04T19:30:40.192999Z",
     "iopub.status.busy": "2022-05-04T19:30:40.192430Z",
     "iopub.status.idle": "2022-05-04T19:30:56.902066Z",
     "shell.execute_reply": "2022-05-04T19:30:56.900487Z"
    },
    "papermill": {
     "duration": 16.789074,
     "end_time": "2022-05-04T19:30:56.904607",
     "exception": false,
     "start_time": "2022-05-04T19:30:40.115533",
     "status": "completed"
    },
    "tags": []
   },
   "outputs": [
    {
     "name": "stdout",
     "output_type": "stream",
     "text": [
      "[[57313  1146]\n",
      " [ 4887   613]]\n",
      "0.9056739473725355\n"
     ]
    }
   ],
   "source": [
    "# declaring a object of Random Forest Classifier class\n",
    "clf6 = RandomForestClassifier(criterion='entropy',n_estimators=50)\n",
    "clf6.fit(X_train, y_train)\n",
    "y_pred6 = clf6.predict(X_test)\n",
    "cm6 = confusion_matrix(y_test,y_pred6)\n",
    "print(cm6)\n",
    "print(accuracy_score(y_test,y_pred6))"
   ]
  },
  {
   "cell_type": "markdown",
   "id": "e610aa20",
   "metadata": {
    "papermill": {
     "duration": 0.075256,
     "end_time": "2022-05-04T19:30:57.056770",
     "exception": false,
     "start_time": "2022-05-04T19:30:56.981514",
     "status": "completed"
    },
    "tags": []
   },
   "source": [
    "### Applying Hyperparameter Tuning on Random Forest"
   ]
  },
  {
   "cell_type": "markdown",
   "id": "fe3574fd",
   "metadata": {
    "papermill": {
     "duration": 0.077563,
     "end_time": "2022-05-04T19:30:57.210706",
     "exception": false,
     "start_time": "2022-05-04T19:30:57.133143",
     "status": "completed"
    },
    "tags": []
   },
   "source": [
    "### RandomizedSearchCV"
   ]
  },
  {
   "cell_type": "markdown",
   "id": "65f1635e",
   "metadata": {
    "papermill": {
     "duration": 0.079237,
     "end_time": "2022-05-04T19:30:57.371423",
     "exception": false,
     "start_time": "2022-05-04T19:30:57.292186",
     "status": "completed"
    },
    "tags": []
   },
   "source": [
    "###     a) Making the Parameter Grid"
   ]
  },
  {
   "cell_type": "code",
   "execution_count": 30,
   "id": "b34aa4d0",
   "metadata": {
    "execution": {
     "iopub.execute_input": "2022-05-04T19:30:57.530533Z",
     "iopub.status.busy": "2022-05-04T19:30:57.529890Z",
     "iopub.status.idle": "2022-05-04T19:30:57.538120Z",
     "shell.execute_reply": "2022-05-04T19:30:57.537171Z"
    },
    "papermill": {
     "duration": 0.088374,
     "end_time": "2022-05-04T19:30:57.540331",
     "exception": false,
     "start_time": "2022-05-04T19:30:57.451957",
     "status": "completed"
    },
    "tags": []
   },
   "outputs": [
    {
     "name": "stdout",
     "output_type": "stream",
     "text": [
      "{'n_estimators': [2, 12, 23, 34, 45, 56, 67, 78, 89, 100], 'max_features': ['auto', 'sqrt', 'log2'], 'max_depth': [10, 120, 230, 340, 450, 560, 670, 780, 890, 1000], 'min_samples_split': [2, 5, 7, 10, 12, 14], 'min_samples_leaf': [1, 2, 4, 6, 8], 'criterion': ['entropy', 'gini']}\n"
     ]
    }
   ],
   "source": [
    "# making the set of parameters to test the RandomizedSearchCV \n",
    "param_grid = {\n",
    "    'n_estimators': [int(x) for x in np.linspace(start=2,stop=100,num=10)],\n",
    "    'max_features': ['auto','sqrt','log2'],\n",
    "    'max_depth': [int(x) for x in np.linspace(10,1000,10)],\n",
    "    'min_samples_split': [2,5,7,10,12,14],\n",
    "    'min_samples_leaf': [1,2,4,6,8],\n",
    "    'criterion': ['entropy','gini']\n",
    "}\n",
    "print(param_grid)"
   ]
  },
  {
   "cell_type": "markdown",
   "id": "23936613",
   "metadata": {
    "papermill": {
     "duration": 0.075592,
     "end_time": "2022-05-04T19:30:57.693539",
     "exception": false,
     "start_time": "2022-05-04T19:30:57.617947",
     "status": "completed"
    },
    "tags": []
   },
   "source": [
    "### b) Running RandomizedSearchCV to find best parameters"
   ]
  },
  {
   "cell_type": "code",
   "execution_count": 31,
   "id": "8104e50c",
   "metadata": {
    "execution": {
     "iopub.execute_input": "2022-05-04T19:30:57.849552Z",
     "iopub.status.busy": "2022-05-04T19:30:57.849240Z",
     "iopub.status.idle": "2022-05-04T20:20:07.294827Z",
     "shell.execute_reply": "2022-05-04T20:20:07.293577Z"
    },
    "papermill": {
     "duration": 2949.610461,
     "end_time": "2022-05-04T20:20:07.380333",
     "exception": false,
     "start_time": "2022-05-04T19:30:57.769872",
     "status": "completed"
    },
    "tags": []
   },
   "outputs": [
    {
     "name": "stdout",
     "output_type": "stream",
     "text": [
      "Fitting 5 folds for each of 100 candidates, totalling 500 fits\n",
      "[CV] END criterion=entropy, max_depth=780, max_features=auto, min_samples_leaf=1, min_samples_split=10, n_estimators=23; total time=  10.6s\n",
      "[CV] END criterion=gini, max_depth=450, max_features=log2, min_samples_leaf=1, min_samples_split=5, n_estimators=67; total time=  29.0s\n",
      "[CV] END criterion=gini, max_depth=450, max_features=log2, min_samples_leaf=1, min_samples_split=5, n_estimators=67; total time=  29.1s\n",
      "[CV] END criterion=entropy, max_depth=560, max_features=log2, min_samples_leaf=2, min_samples_split=7, n_estimators=100; total time=  43.0s\n",
      "[CV] END criterion=entropy, max_depth=560, max_features=log2, min_samples_leaf=2, min_samples_split=7, n_estimators=100; total time=  44.0s\n",
      "[CV] END criterion=entropy, max_depth=1000, max_features=sqrt, min_samples_leaf=4, min_samples_split=14, n_estimators=45; total time=  18.1s\n",
      "[CV] END criterion=gini, max_depth=340, max_features=auto, min_samples_leaf=2, min_samples_split=10, n_estimators=23; total time=   9.7s\n",
      "[CV] END criterion=entropy, max_depth=780, max_features=log2, min_samples_leaf=8, min_samples_split=2, n_estimators=12; total time=   5.0s\n",
      "[CV] END criterion=entropy, max_depth=780, max_features=log2, min_samples_leaf=8, min_samples_split=2, n_estimators=12; total time=   4.8s\n",
      "[CV] END criterion=gini, max_depth=560, max_features=auto, min_samples_leaf=2, min_samples_split=14, n_estimators=89; total time=  36.3s\n",
      "[CV] END criterion=gini, max_depth=670, max_features=auto, min_samples_leaf=8, min_samples_split=10, n_estimators=45; total time=  17.7s\n",
      "[CV] END criterion=gini, max_depth=670, max_features=auto, min_samples_leaf=8, min_samples_split=10, n_estimators=45; total time=  17.9s\n",
      "[CV] END criterion=entropy, max_depth=670, max_features=auto, min_samples_leaf=6, min_samples_split=7, n_estimators=100; total time=  40.7s\n",
      "[CV] END criterion=entropy, max_depth=340, max_features=log2, min_samples_leaf=6, min_samples_split=2, n_estimators=56; total time=  22.3s\n",
      "[CV] END criterion=gini, max_depth=10, max_features=auto, min_samples_leaf=6, min_samples_split=7, n_estimators=34; total time=   9.6s\n",
      "[CV] END criterion=gini, max_depth=10, max_features=auto, min_samples_leaf=6, min_samples_split=7, n_estimators=34; total time=   9.4s\n",
      "[CV] END criterion=gini, max_depth=10, max_features=auto, min_samples_leaf=6, min_samples_split=7, n_estimators=34; total time=   9.8s\n",
      "[CV] END criterion=gini, max_depth=120, max_features=log2, min_samples_leaf=4, min_samples_split=10, n_estimators=45; total time=  18.2s\n",
      "[CV] END criterion=gini, max_depth=120, max_features=sqrt, min_samples_leaf=6, min_samples_split=2, n_estimators=78; total time=  30.2s\n",
      "[CV] END criterion=gini, max_depth=340, max_features=sqrt, min_samples_leaf=8, min_samples_split=5, n_estimators=100; total time=  37.9s\n",
      "[CV] END criterion=entropy, max_depth=560, max_features=sqrt, min_samples_leaf=6, min_samples_split=7, n_estimators=78; total time=  29.8s\n",
      "[CV] END criterion=entropy, max_depth=560, max_features=sqrt, min_samples_leaf=6, min_samples_split=7, n_estimators=78; total time=  29.9s\n",
      "[CV] END criterion=entropy, max_depth=450, max_features=auto, min_samples_leaf=8, min_samples_split=2, n_estimators=100; total time=  37.4s\n",
      "[CV] END criterion=gini, max_depth=120, max_features=sqrt, min_samples_leaf=2, min_samples_split=7, n_estimators=12; total time=   5.3s\n",
      "[CV] END criterion=gini, max_depth=120, max_features=sqrt, min_samples_leaf=2, min_samples_split=7, n_estimators=12; total time=   4.8s\n",
      "[CV] END criterion=gini, max_depth=120, max_features=log2, min_samples_leaf=8, min_samples_split=12, n_estimators=100; total time=  37.5s\n",
      "[CV] END criterion=gini, max_depth=120, max_features=log2, min_samples_leaf=8, min_samples_split=12, n_estimators=100; total time=  37.2s\n",
      "[CV] END criterion=entropy, max_depth=340, max_features=auto, min_samples_leaf=6, min_samples_split=10, n_estimators=100; total time=  37.9s\n",
      "[CV] END criterion=entropy, max_depth=670, max_features=auto, min_samples_leaf=1, min_samples_split=14, n_estimators=45; total time=  18.4s\n",
      "[CV] END criterion=gini, max_depth=120, max_features=sqrt, min_samples_leaf=2, min_samples_split=12, n_estimators=100; total time=  39.8s\n",
      "[CV] END criterion=entropy, max_depth=340, max_features=sqrt, min_samples_leaf=2, min_samples_split=14, n_estimators=23; total time=   9.5s\n",
      "[CV] END criterion=gini, max_depth=890, max_features=log2, min_samples_leaf=1, min_samples_split=12, n_estimators=23; total time=   9.5s\n",
      "[CV] END criterion=gini, max_depth=890, max_features=log2, min_samples_leaf=1, min_samples_split=12, n_estimators=23; total time=   9.6s\n",
      "[CV] END criterion=gini, max_depth=670, max_features=log2, min_samples_leaf=8, min_samples_split=7, n_estimators=34; total time=  12.3s\n",
      "[CV] END criterion=gini, max_depth=230, max_features=log2, min_samples_leaf=4, min_samples_split=7, n_estimators=67; total time=  26.0s\n",
      "[CV] END criterion=entropy, max_depth=670, max_features=log2, min_samples_leaf=1, min_samples_split=12, n_estimators=23; total time=  10.1s\n",
      "[CV] END criterion=entropy, max_depth=670, max_features=log2, min_samples_leaf=1, min_samples_split=12, n_estimators=23; total time=  10.6s\n",
      "[CV] END criterion=gini, max_depth=230, max_features=sqrt, min_samples_leaf=1, min_samples_split=10, n_estimators=23; total time=   9.8s\n",
      "[CV] END criterion=entropy, max_depth=560, max_features=auto, min_samples_leaf=6, min_samples_split=10, n_estimators=89; total time=  34.0s\n",
      "[CV] END criterion=entropy, max_depth=560, max_features=auto, min_samples_leaf=6, min_samples_split=10, n_estimators=89; total time=  33.5s\n",
      "[CV] END criterion=entropy, max_depth=1000, max_features=sqrt, min_samples_leaf=1, min_samples_split=14, n_estimators=78; total time=  33.1s\n",
      "[CV] END criterion=entropy, max_depth=230, max_features=sqrt, min_samples_leaf=2, min_samples_split=12, n_estimators=89; total time=  37.2s\n",
      "[CV] END criterion=gini, max_depth=670, max_features=sqrt, min_samples_leaf=6, min_samples_split=14, n_estimators=34; total time=  13.1s\n",
      "[CV] END criterion=gini, max_depth=890, max_features=auto, min_samples_leaf=8, min_samples_split=10, n_estimators=67; total time=  25.6s\n",
      "[CV] END criterion=gini, max_depth=890, max_features=auto, min_samples_leaf=8, min_samples_split=10, n_estimators=67; total time=  26.2s\n",
      "[CV] END criterion=entropy, max_depth=670, max_features=auto, min_samples_leaf=2, min_samples_split=2, n_estimators=89; total time=  37.8s\n",
      "[CV] END criterion=entropy, max_depth=120, max_features=sqrt, min_samples_leaf=6, min_samples_split=5, n_estimators=56; total time=  21.9s\n",
      "[CV] END criterion=gini, max_depth=670, max_features=log2, min_samples_leaf=6, min_samples_split=14, n_estimators=100; total time=  37.5s\n",
      "[CV] END criterion=gini, max_depth=670, max_features=log2, min_samples_leaf=6, min_samples_split=14, n_estimators=100; total time=  37.9s\n",
      "[CV] END criterion=gini, max_depth=670, max_features=auto, min_samples_leaf=8, min_samples_split=12, n_estimators=89; total time=  33.8s\n",
      "[CV] END criterion=entropy, max_depth=450, max_features=log2, min_samples_leaf=4, min_samples_split=5, n_estimators=89; total time=  35.8s\n",
      "[CV] END criterion=entropy, max_depth=450, max_features=log2, min_samples_leaf=4, min_samples_split=5, n_estimators=89; total time=  36.9s\n",
      "[CV] END criterion=entropy, max_depth=10, max_features=auto, min_samples_leaf=1, min_samples_split=7, n_estimators=100; total time=  29.9s\n",
      "[CV] END criterion=gini, max_depth=340, max_features=sqrt, min_samples_leaf=8, min_samples_split=14, n_estimators=56; total time=  21.0s\n",
      "[CV] END criterion=gini, max_depth=10, max_features=log2, min_samples_leaf=4, min_samples_split=7, n_estimators=23; total time=   6.6s\n",
      "[CV] END criterion=gini, max_depth=10, max_features=log2, min_samples_leaf=4, min_samples_split=7, n_estimators=23; total time=   6.5s\n",
      "[CV] END criterion=entropy, max_depth=890, max_features=auto, min_samples_leaf=2, min_samples_split=12, n_estimators=100; total time=  41.2s\n",
      "[CV] END criterion=gini, max_depth=1000, max_features=log2, min_samples_leaf=2, min_samples_split=14, n_estimators=100; total time=  41.0s\n",
      "[CV] END criterion=entropy, max_depth=340, max_features=auto, min_samples_leaf=2, min_samples_split=14, n_estimators=2; total time=   0.8s\n",
      "[CV] END criterion=entropy, max_depth=340, max_features=auto, min_samples_leaf=2, min_samples_split=14, n_estimators=2; total time=   0.9s[CV] END criterion=entropy, max_depth=780, max_features=auto, min_samples_leaf=1, min_samples_split=10, n_estimators=23; total time=  10.8s\n",
      "[CV] END criterion=gini, max_depth=450, max_features=log2, min_samples_leaf=1, min_samples_split=5, n_estimators=67; total time=  29.6s\n",
      "[CV] END criterion=gini, max_depth=670, max_features=sqrt, min_samples_leaf=8, min_samples_split=10, n_estimators=56; total time=  22.7s\n",
      "[CV] END criterion=gini, max_depth=670, max_features=sqrt, min_samples_leaf=8, min_samples_split=10, n_estimators=56; total time=  21.8s\n",
      "[CV] END criterion=entropy, max_depth=560, max_features=log2, min_samples_leaf=2, min_samples_split=7, n_estimators=100; total time=  44.0s\n",
      "[CV] END criterion=gini, max_depth=560, max_features=sqrt, min_samples_leaf=4, min_samples_split=2, n_estimators=23; total time=   9.6s\n",
      "[CV] END criterion=entropy, max_depth=1000, max_features=sqrt, min_samples_leaf=4, min_samples_split=14, n_estimators=45; total time=  18.3s\n",
      "[CV] END criterion=entropy, max_depth=1000, max_features=sqrt, min_samples_leaf=4, min_samples_split=14, n_estimators=45; total time=  18.2s\n",
      "[CV] END criterion=gini, max_depth=340, max_features=auto, min_samples_leaf=2, min_samples_split=10, n_estimators=23; total time=   9.5s\n",
      "[CV] END criterion=entropy, max_depth=780, max_features=log2, min_samples_leaf=8, min_samples_split=2, n_estimators=12; total time=   4.7s\n",
      "[CV] END criterion=entropy, max_depth=780, max_features=log2, min_samples_leaf=8, min_samples_split=2, n_estimators=12; total time=   4.6s\n",
      "[CV] END criterion=gini, max_depth=560, max_features=auto, min_samples_leaf=2, min_samples_split=14, n_estimators=89; total time=  36.9s\n",
      "[CV] END criterion=gini, max_depth=670, max_features=auto, min_samples_leaf=8, min_samples_split=10, n_estimators=45; total time=  17.6s\n",
      "[CV] END criterion=entropy, max_depth=670, max_features=auto, min_samples_leaf=6, min_samples_split=7, n_estimators=100; total time=  40.5s\n",
      "[CV] END criterion=entropy, max_depth=670, max_features=auto, min_samples_leaf=6, min_samples_split=7, n_estimators=100; total time=  40.1s\n",
      "[CV] END criterion=gini, max_depth=10, max_features=auto, min_samples_leaf=6, min_samples_split=7, n_estimators=34; total time=   9.4s\n",
      "[CV] END criterion=gini, max_depth=10, max_features=auto, min_samples_leaf=6, min_samples_split=7, n_estimators=34; total time=   9.3s\n",
      "[CV] END criterion=gini, max_depth=120, max_features=log2, min_samples_leaf=4, min_samples_split=10, n_estimators=45; total time=  18.4s\n",
      "[CV] END criterion=gini, max_depth=120, max_features=log2, min_samples_leaf=4, min_samples_split=10, n_estimators=45; total time=  18.7s\n",
      "[CV] END criterion=gini, max_depth=120, max_features=sqrt, min_samples_leaf=6, min_samples_split=2, n_estimators=78; total time=  31.0s\n",
      "[CV] END criterion=gini, max_depth=340, max_features=sqrt, min_samples_leaf=8, min_samples_split=5, n_estimators=100; total time=  38.8s\n",
      "[CV] END criterion=entropy, max_depth=560, max_features=sqrt, min_samples_leaf=6, min_samples_split=7, n_estimators=78; total time=  31.4s\n",
      "[CV] END criterion=entropy, max_depth=450, max_features=auto, min_samples_leaf=8, min_samples_split=2, n_estimators=100; total time=  38.3s\n",
      "[CV] END criterion=entropy, max_depth=450, max_features=auto, min_samples_leaf=8, min_samples_split=2, n_estimators=100; total time=  38.4s\n",
      "[CV] END criterion=gini, max_depth=120, max_features=log2, min_samples_leaf=8, min_samples_split=12, n_estimators=100; total time=  37.6s\n",
      "[CV] END criterion=entropy, max_depth=340, max_features=auto, min_samples_leaf=6, min_samples_split=10, n_estimators=100; total time=  38.5s\n",
      "[CV] END criterion=entropy, max_depth=670, max_features=auto, min_samples_leaf=1, min_samples_split=14, n_estimators=45; total time=  18.9s\n",
      "[CV] END criterion=entropy, max_depth=670, max_features=auto, min_samples_leaf=1, min_samples_split=14, n_estimators=45; total time=  18.9s\n",
      "[CV] END criterion=gini, max_depth=120, max_features=sqrt, min_samples_leaf=2, min_samples_split=12, n_estimators=100; total time=  40.6s\n",
      "[CV] END criterion=entropy, max_depth=340, max_features=sqrt, min_samples_leaf=2, min_samples_split=14, n_estimators=23; total time=   9.5s\n",
      "[CV] END criterion=entropy, max_depth=340, max_features=sqrt, min_samples_leaf=2, min_samples_split=14, n_estimators=23; total time=   9.5s\n",
      "[CV] END criterion=gini, max_depth=890, max_features=log2, min_samples_leaf=1, min_samples_split=12, n_estimators=23; total time=  10.7s\n",
      "[CV] END criterion=gini, max_depth=670, max_features=log2, min_samples_leaf=8, min_samples_split=7, n_estimators=34; total time=  12.6s\n",
      "[CV] END criterion=gini, max_depth=670, max_features=log2, min_samples_leaf=8, min_samples_split=7, n_estimators=34; total time=  13.2s\n",
      "[CV] END criterion=gini, max_depth=230, max_features=log2, min_samples_leaf=4, min_samples_split=7, n_estimators=67; total time=  26.5s\n",
      "[CV] END criterion=entropy, max_depth=670, max_features=log2, min_samples_leaf=1, min_samples_split=12, n_estimators=23; total time=  11.0s\n",
      "[CV] END criterion=gini, max_depth=230, max_features=sqrt, min_samples_leaf=1, min_samples_split=10, n_estimators=23; total time=  10.3s\n",
      "[CV] END criterion=entropy, max_depth=560, max_features=auto, min_samples_leaf=6, min_samples_split=10, n_estimators=89; total time=  38.2s\n",
      "[CV] END criterion=entropy, max_depth=1000, max_features=sqrt, min_samples_leaf=1, min_samples_split=14, n_estimators=78; total time=  33.4s\n",
      "[CV] END criterion=entropy, max_depth=1000, max_features=sqrt, min_samples_leaf=1, min_samples_split=14, n_estimators=78; total time=  33.5s\n",
      "[CV] END criterion=entropy, max_depth=230, max_features=sqrt, min_samples_leaf=2, min_samples_split=12, n_estimators=89; total time=  38.2s\n",
      "[CV] END criterion=gini, max_depth=670, max_features=sqrt, min_samples_leaf=6, min_samples_split=14, n_estimators=34; total time=  13.8s\n",
      "[CV] END criterion=gini, max_depth=890, max_features=auto, min_samples_leaf=8, min_samples_split=10, n_estimators=67; total time=  27.4s\n",
      "[CV] END criterion=gini, max_depth=230, max_features=auto, min_samples_leaf=1, min_samples_split=7, n_estimators=12; total time=   5.4s\n",
      "[CV] END criterion=entropy, max_depth=670, max_features=auto, min_samples_leaf=2, min_samples_split=2, n_estimators=89; total time=  38.4s\n",
      "[CV] END criterion=entropy, max_depth=120, max_features=sqrt, min_samples_leaf=6, min_samples_split=5, n_estimators=56; total time=  22.7s\n",
      "[CV] END criterion=entropy, max_depth=120, max_features=sqrt, min_samples_leaf=6, min_samples_split=5, n_estimators=56; total time=  22.7s\n",
      "[CV] END criterion=gini, max_depth=670, max_features=log2, min_samples_leaf=6, min_samples_split=14, n_estimators=100; total time=  40.6s\n",
      "[CV] END criterion=entropy, max_depth=670, max_features=log2, min_samples_leaf=1, min_samples_split=10, n_estimators=45; total time=  19.3s\n",
      "[CV] END criterion=gini, max_depth=670, max_features=auto, min_samples_leaf=8, min_samples_split=12, n_estimators=89; total time=  35.0s\n",
      "[CV] END criterion=gini, max_depth=670, max_features=auto, min_samples_leaf=8, min_samples_split=12, n_estimators=89; total time=  33.9s\n",
      "[CV] END criterion=entropy, max_depth=450, max_features=log2, min_samples_leaf=4, min_samples_split=5, n_estimators=89; total time=  38.9s\n",
      "[CV] END criterion=entropy, max_depth=10, max_features=auto, min_samples_leaf=1, min_samples_split=7, n_estimators=100; total time=  29.2s\n",
      "[CV] END criterion=gini, max_depth=340, max_features=sqrt, min_samples_leaf=8, min_samples_split=14, n_estimators=56; total time=  22.3s\n",
      "[CV] END criterion=gini, max_depth=10, max_features=log2, min_samples_leaf=4, min_samples_split=7, n_estimators=23; total time=   7.2s\n",
      "[CV] END criterion=gini, max_depth=10, max_features=log2, min_samples_leaf=4, min_samples_split=7, n_estimators=23; total time=   6.5s\n",
      "[CV] END criterion=entropy, max_depth=890, max_features=auto, min_samples_leaf=2, min_samples_split=12, n_estimators=100; total time=  42.1s\n",
      "[CV] END criterion=gini, max_depth=1000, max_features=log2, min_samples_leaf=2, min_samples_split=14, n_estimators=100; total time=  41.9s\n",
      "[CV] END criterion=entropy, max_depth=340, max_features=auto, min_samples_leaf=2, min_samples_split=14, n_estimators=2; total time=   0.9s\n",
      "[CV] END criterion=entropy, max_depth=340, max_features=auto, min_samples_leaf=2, min_samples_split=14, n_estimators=2; total time=   0.9s[CV] END criterion=entropy, max_depth=780, max_features=auto, min_samples_leaf=1, min_samples_split=10, n_estimators=23; total time=  10.6s\n",
      "[CV] END criterion=entropy, max_depth=780, max_features=auto, min_samples_leaf=1, min_samples_split=10, n_estimators=23; total time=  10.2s\n",
      "[CV] END criterion=gini, max_depth=450, max_features=log2, min_samples_leaf=1, min_samples_split=5, n_estimators=67; total time=  29.3s\n",
      "[CV] END criterion=gini, max_depth=670, max_features=sqrt, min_samples_leaf=8, min_samples_split=10, n_estimators=56; total time=  22.2s\n",
      "[CV] END criterion=entropy, max_depth=560, max_features=log2, min_samples_leaf=2, min_samples_split=7, n_estimators=100; total time=  43.2s\n",
      "[CV] END criterion=gini, max_depth=560, max_features=sqrt, min_samples_leaf=4, min_samples_split=2, n_estimators=23; total time=  10.2s\n",
      "[CV] END criterion=gini, max_depth=560, max_features=sqrt, min_samples_leaf=4, min_samples_split=2, n_estimators=23; total time=   9.3s\n",
      "[CV] END criterion=gini, max_depth=560, max_features=sqrt, min_samples_leaf=4, min_samples_split=2, n_estimators=23; total time=   9.5s\n",
      "[CV] END criterion=entropy, max_depth=1000, max_features=sqrt, min_samples_leaf=4, min_samples_split=14, n_estimators=45; total time=  18.6s\n",
      "[CV] END criterion=gini, max_depth=120, max_features=log2, min_samples_leaf=1, min_samples_split=12, n_estimators=12; total time=   5.1s\n",
      "[CV] END criterion=gini, max_depth=120, max_features=log2, min_samples_leaf=1, min_samples_split=12, n_estimators=12; total time=   5.7s\n",
      "[CV] END criterion=gini, max_depth=340, max_features=auto, min_samples_leaf=2, min_samples_split=10, n_estimators=23; total time=   9.5s\n",
      "[CV] END criterion=gini, max_depth=340, max_features=auto, min_samples_leaf=2, min_samples_split=10, n_estimators=23; total time=   9.5s\n",
      "[CV] END criterion=gini, max_depth=560, max_features=auto, min_samples_leaf=2, min_samples_split=14, n_estimators=89; total time=  36.5s\n",
      "[CV] END criterion=gini, max_depth=670, max_features=auto, min_samples_leaf=8, min_samples_split=10, n_estimators=45; total time=  17.5s\n",
      "[CV] END criterion=gini, max_depth=670, max_features=auto, min_samples_leaf=8, min_samples_split=10, n_estimators=45; total time=  17.8s\n",
      "[CV] END criterion=entropy, max_depth=670, max_features=auto, min_samples_leaf=6, min_samples_split=7, n_estimators=100; total time=  40.9s\n",
      "[CV] END criterion=entropy, max_depth=340, max_features=log2, min_samples_leaf=6, min_samples_split=2, n_estimators=56; total time=  21.8s\n",
      "[CV] END criterion=entropy, max_depth=340, max_features=log2, min_samples_leaf=6, min_samples_split=2, n_estimators=56; total time=  22.6s\n",
      "[CV] END criterion=gini, max_depth=120, max_features=log2, min_samples_leaf=4, min_samples_split=10, n_estimators=45; total time=  18.0s\n",
      "[CV] END criterion=gini, max_depth=120, max_features=sqrt, min_samples_leaf=6, min_samples_split=2, n_estimators=78; total time=  33.2s\n",
      "[CV] END criterion=gini, max_depth=340, max_features=sqrt, min_samples_leaf=8, min_samples_split=5, n_estimators=100; total time=  40.3s\n",
      "[CV] END criterion=gini, max_depth=340, max_features=sqrt, min_samples_leaf=8, min_samples_split=5, n_estimators=100; total time=  38.8s\n",
      "[CV] END criterion=entropy, max_depth=560, max_features=sqrt, min_samples_leaf=6, min_samples_split=7, n_estimators=78; total time=  30.2s\n",
      "[CV] END criterion=entropy, max_depth=450, max_features=auto, min_samples_leaf=8, min_samples_split=2, n_estimators=100; total time=  39.0s\n",
      "[CV] END criterion=gini, max_depth=120, max_features=log2, min_samples_leaf=8, min_samples_split=12, n_estimators=100; total time=  39.0s\n",
      "[CV] END criterion=entropy, max_depth=340, max_features=auto, min_samples_leaf=6, min_samples_split=10, n_estimators=100; total time=  39.8s\n",
      "[CV] END criterion=entropy, max_depth=340, max_features=auto, min_samples_leaf=6, min_samples_split=10, n_estimators=100; total time=  39.2s\n",
      "[CV] END criterion=gini, max_depth=120, max_features=sqrt, min_samples_leaf=2, min_samples_split=12, n_estimators=100; total time=  41.2s\n",
      "[CV] END criterion=entropy, max_depth=340, max_features=sqrt, min_samples_leaf=2, min_samples_split=14, n_estimators=23; total time=   9.3s\n",
      "[CV] END criterion=entropy, max_depth=340, max_features=sqrt, min_samples_leaf=2, min_samples_split=14, n_estimators=23; total time=   9.6s\n",
      "[CV] END criterion=gini, max_depth=890, max_features=log2, min_samples_leaf=1, min_samples_split=12, n_estimators=23; total time=   9.5s\n",
      "[CV] END criterion=gini, max_depth=890, max_features=log2, min_samples_leaf=1, min_samples_split=12, n_estimators=23; total time=  10.4s\n",
      "[CV] END criterion=gini, max_depth=670, max_features=log2, min_samples_leaf=8, min_samples_split=7, n_estimators=34; total time=  13.1s\n",
      "[CV] END criterion=gini, max_depth=230, max_features=log2, min_samples_leaf=4, min_samples_split=7, n_estimators=67; total time=  27.3s\n",
      "[CV] END criterion=entropy, max_depth=670, max_features=log2, min_samples_leaf=1, min_samples_split=12, n_estimators=23; total time=   9.9s\n",
      "[CV] END criterion=entropy, max_depth=670, max_features=log2, min_samples_leaf=1, min_samples_split=12, n_estimators=23; total time=  10.5s\n",
      "[CV] END criterion=gini, max_depth=230, max_features=sqrt, min_samples_leaf=1, min_samples_split=10, n_estimators=23; total time=   9.8s\n",
      "[CV] END criterion=gini, max_depth=230, max_features=sqrt, min_samples_leaf=1, min_samples_split=10, n_estimators=23; total time=   9.8s\n",
      "[CV] END criterion=entropy, max_depth=560, max_features=auto, min_samples_leaf=6, min_samples_split=10, n_estimators=89; total time=  35.0s\n",
      "[CV] END criterion=entropy, max_depth=1000, max_features=sqrt, min_samples_leaf=1, min_samples_split=14, n_estimators=78; total time=  34.0s\n",
      "[CV] END criterion=entropy, max_depth=230, max_features=sqrt, min_samples_leaf=2, min_samples_split=12, n_estimators=89; total time=  37.9s\n",
      "[CV] END criterion=gini, max_depth=670, max_features=sqrt, min_samples_leaf=6, min_samples_split=14, n_estimators=34; total time=  13.2s\n",
      "[CV] END criterion=gini, max_depth=670, max_features=sqrt, min_samples_leaf=6, min_samples_split=14, n_estimators=34; total time=  13.6s\n",
      "[CV] END criterion=gini, max_depth=670, max_features=sqrt, min_samples_leaf=6, min_samples_split=14, n_estimators=34; total time=  13.7s\n",
      "[CV] END criterion=gini, max_depth=890, max_features=auto, min_samples_leaf=8, min_samples_split=10, n_estimators=67; total time=  26.5s\n",
      "[CV] END criterion=gini, max_depth=230, max_features=auto, min_samples_leaf=1, min_samples_split=7, n_estimators=12; total time=   5.5s\n",
      "[CV] END criterion=entropy, max_depth=670, max_features=auto, min_samples_leaf=2, min_samples_split=2, n_estimators=89; total time=  39.0s\n",
      "[CV] END criterion=entropy, max_depth=670, max_features=auto, min_samples_leaf=2, min_samples_split=2, n_estimators=89; total time=  39.1s\n",
      "[CV] END criterion=gini, max_depth=670, max_features=log2, min_samples_leaf=6, min_samples_split=14, n_estimators=100; total time=  40.8s\n",
      "[CV] END criterion=entropy, max_depth=670, max_features=log2, min_samples_leaf=1, min_samples_split=10, n_estimators=45; total time=  19.5s\n",
      "[CV] END criterion=entropy, max_depth=670, max_features=log2, min_samples_leaf=1, min_samples_split=10, n_estimators=45; total time=  19.5s\n",
      "[CV] END criterion=gini, max_depth=670, max_features=auto, min_samples_leaf=8, min_samples_split=12, n_estimators=89; total time=  35.3s\n",
      "[CV] END criterion=entropy, max_depth=450, max_features=log2, min_samples_leaf=4, min_samples_split=5, n_estimators=89; total time=  37.2s\n",
      "[CV] END criterion=entropy, max_depth=10, max_features=auto, min_samples_leaf=1, min_samples_split=7, n_estimators=100; total time=  30.5s\n",
      "[CV] END criterion=entropy, max_depth=10, max_features=auto, min_samples_leaf=1, min_samples_split=7, n_estimators=100; total time=  30.5s\n",
      "[CV] END criterion=gini, max_depth=340, max_features=sqrt, min_samples_leaf=8, min_samples_split=14, n_estimators=56; total time=  22.3s\n",
      "[CV] END criterion=entropy, max_depth=890, max_features=auto, min_samples_leaf=2, min_samples_split=12, n_estimators=100; total time=  41.3s\n",
      "[CV] END criterion=entropy, max_depth=890, max_features=auto, min_samples_leaf=2, min_samples_split=12, n_estimators=100; total time=  42.7s\n",
      "[CV] END criterion=gini, max_depth=1000, max_features=log2, min_samples_leaf=2, min_samples_split=14, n_estimators=100; total time=  40.3s[CV] END criterion=entropy, max_depth=780, max_features=auto, min_samples_leaf=1, min_samples_split=10, n_estimators=23; total time=  11.3s\n",
      "[CV] END criterion=gini, max_depth=450, max_features=log2, min_samples_leaf=1, min_samples_split=5, n_estimators=67; total time=  29.4s\n",
      "[CV] END criterion=gini, max_depth=670, max_features=sqrt, min_samples_leaf=8, min_samples_split=10, n_estimators=56; total time=  22.4s\n",
      "[CV] END criterion=gini, max_depth=670, max_features=sqrt, min_samples_leaf=8, min_samples_split=10, n_estimators=56; total time=  22.5s\n",
      "[CV] END criterion=entropy, max_depth=560, max_features=log2, min_samples_leaf=2, min_samples_split=7, n_estimators=100; total time=  44.6s\n",
      "[CV] END criterion=gini, max_depth=560, max_features=sqrt, min_samples_leaf=4, min_samples_split=2, n_estimators=23; total time=   9.7s\n",
      "[CV] END criterion=entropy, max_depth=1000, max_features=sqrt, min_samples_leaf=4, min_samples_split=14, n_estimators=45; total time=  18.8s\n",
      "[CV] END criterion=gini, max_depth=120, max_features=log2, min_samples_leaf=1, min_samples_split=12, n_estimators=12; total time=   5.2s\n",
      "[CV] END criterion=gini, max_depth=120, max_features=log2, min_samples_leaf=1, min_samples_split=12, n_estimators=12; total time=   5.3s\n",
      "[CV] END criterion=gini, max_depth=120, max_features=log2, min_samples_leaf=1, min_samples_split=12, n_estimators=12; total time=   5.5s\n",
      "[CV] END criterion=gini, max_depth=340, max_features=auto, min_samples_leaf=2, min_samples_split=10, n_estimators=23; total time=   9.5s\n",
      "[CV] END criterion=entropy, max_depth=780, max_features=log2, min_samples_leaf=8, min_samples_split=2, n_estimators=12; total time=   5.2s\n",
      "[CV] END criterion=gini, max_depth=560, max_features=auto, min_samples_leaf=2, min_samples_split=14, n_estimators=89; total time=  36.6s\n",
      "[CV] END criterion=gini, max_depth=560, max_features=auto, min_samples_leaf=2, min_samples_split=14, n_estimators=89; total time=  37.1s\n",
      "[CV] END criterion=entropy, max_depth=670, max_features=auto, min_samples_leaf=6, min_samples_split=7, n_estimators=100; total time=  41.0s\n",
      "[CV] END criterion=entropy, max_depth=340, max_features=log2, min_samples_leaf=6, min_samples_split=2, n_estimators=56; total time=  22.3s\n",
      "[CV] END criterion=entropy, max_depth=340, max_features=log2, min_samples_leaf=6, min_samples_split=2, n_estimators=56; total time=  22.2s\n",
      "[CV] END criterion=gini, max_depth=120, max_features=log2, min_samples_leaf=4, min_samples_split=10, n_estimators=45; total time=  18.0s\n",
      "[CV] END criterion=gini, max_depth=120, max_features=sqrt, min_samples_leaf=6, min_samples_split=2, n_estimators=78; total time=  31.8s\n",
      "[CV] END criterion=gini, max_depth=120, max_features=sqrt, min_samples_leaf=6, min_samples_split=2, n_estimators=78; total time=  31.0s\n",
      "[CV] END criterion=gini, max_depth=340, max_features=sqrt, min_samples_leaf=8, min_samples_split=5, n_estimators=100; total time=  38.1s\n",
      "[CV] END criterion=entropy, max_depth=560, max_features=sqrt, min_samples_leaf=6, min_samples_split=7, n_estimators=78; total time=  30.0s\n",
      "[CV] END criterion=entropy, max_depth=450, max_features=auto, min_samples_leaf=8, min_samples_split=2, n_estimators=100; total time=  38.5s\n",
      "[CV] END criterion=gini, max_depth=120, max_features=sqrt, min_samples_leaf=2, min_samples_split=7, n_estimators=12; total time=   5.0s\n",
      "[CV] END criterion=gini, max_depth=120, max_features=sqrt, min_samples_leaf=2, min_samples_split=7, n_estimators=12; total time=   5.6s\n",
      "[CV] END criterion=gini, max_depth=120, max_features=sqrt, min_samples_leaf=2, min_samples_split=7, n_estimators=12; total time=   4.7s\n",
      "[CV] END criterion=gini, max_depth=120, max_features=log2, min_samples_leaf=8, min_samples_split=12, n_estimators=100; total time=  38.1s\n",
      "[CV] END criterion=entropy, max_depth=340, max_features=auto, min_samples_leaf=6, min_samples_split=10, n_estimators=100; total time=  39.8s\n",
      "[CV] END criterion=entropy, max_depth=670, max_features=auto, min_samples_leaf=1, min_samples_split=14, n_estimators=45; total time=  18.9s\n",
      "[CV] END criterion=entropy, max_depth=670, max_features=auto, min_samples_leaf=1, min_samples_split=14, n_estimators=45; total time=  18.1s\n",
      "[CV] END criterion=gini, max_depth=120, max_features=sqrt, min_samples_leaf=2, min_samples_split=12, n_estimators=100; total time=  40.1s\n",
      "[CV] END criterion=gini, max_depth=120, max_features=sqrt, min_samples_leaf=2, min_samples_split=12, n_estimators=100; total time=  40.8s\n",
      "[CV] END criterion=gini, max_depth=670, max_features=log2, min_samples_leaf=8, min_samples_split=7, n_estimators=34; total time=  13.2s\n",
      "[CV] END criterion=gini, max_depth=230, max_features=log2, min_samples_leaf=4, min_samples_split=7, n_estimators=67; total time=  26.8s\n",
      "[CV] END criterion=gini, max_depth=230, max_features=log2, min_samples_leaf=4, min_samples_split=7, n_estimators=67; total time=  28.7s\n",
      "[CV] END criterion=gini, max_depth=230, max_features=sqrt, min_samples_leaf=1, min_samples_split=10, n_estimators=23; total time=   9.8s\n",
      "[CV] END criterion=entropy, max_depth=560, max_features=auto, min_samples_leaf=6, min_samples_split=10, n_estimators=89; total time=  36.3s\n",
      "[CV] END criterion=entropy, max_depth=1000, max_features=sqrt, min_samples_leaf=1, min_samples_split=14, n_estimators=78; total time=  32.9s\n",
      "[CV] END criterion=entropy, max_depth=230, max_features=sqrt, min_samples_leaf=2, min_samples_split=12, n_estimators=89; total time=  38.5s\n",
      "[CV] END criterion=entropy, max_depth=230, max_features=sqrt, min_samples_leaf=2, min_samples_split=12, n_estimators=89; total time=  36.8s\n",
      "[CV] END criterion=gini, max_depth=890, max_features=auto, min_samples_leaf=8, min_samples_split=10, n_estimators=67; total time=  25.9s\n",
      "[CV] END criterion=gini, max_depth=230, max_features=auto, min_samples_leaf=1, min_samples_split=7, n_estimators=12; total time=   5.5s\n",
      "[CV] END criterion=gini, max_depth=230, max_features=auto, min_samples_leaf=1, min_samples_split=7, n_estimators=12; total time=   5.7s\n",
      "[CV] END criterion=gini, max_depth=230, max_features=auto, min_samples_leaf=1, min_samples_split=7, n_estimators=12; total time=   5.1s\n",
      "[CV] END criterion=entropy, max_depth=670, max_features=auto, min_samples_leaf=2, min_samples_split=2, n_estimators=89; total time=  38.1s\n",
      "[CV] END criterion=entropy, max_depth=120, max_features=sqrt, min_samples_leaf=6, min_samples_split=5, n_estimators=56; total time=  22.0s\n",
      "[CV] END criterion=entropy, max_depth=120, max_features=sqrt, min_samples_leaf=6, min_samples_split=5, n_estimators=56; total time=  22.4s\n",
      "[CV] END criterion=gini, max_depth=670, max_features=log2, min_samples_leaf=6, min_samples_split=14, n_estimators=100; total time=  38.8s\n",
      "[CV] END criterion=entropy, max_depth=670, max_features=log2, min_samples_leaf=1, min_samples_split=10, n_estimators=45; total time=  18.8s\n",
      "[CV] END criterion=entropy, max_depth=670, max_features=log2, min_samples_leaf=1, min_samples_split=10, n_estimators=45; total time=  19.2s\n",
      "[CV] END criterion=gini, max_depth=670, max_features=auto, min_samples_leaf=8, min_samples_split=12, n_estimators=89; total time=  35.0s\n",
      "[CV] END criterion=entropy, max_depth=450, max_features=log2, min_samples_leaf=4, min_samples_split=5, n_estimators=89; total time=  36.5s\n",
      "[CV] END criterion=entropy, max_depth=10, max_features=auto, min_samples_leaf=1, min_samples_split=7, n_estimators=100; total time=  29.0s\n",
      "[CV] END criterion=gini, max_depth=340, max_features=sqrt, min_samples_leaf=8, min_samples_split=14, n_estimators=56; total time=  22.3s\n",
      "[CV] END criterion=gini, max_depth=340, max_features=sqrt, min_samples_leaf=8, min_samples_split=14, n_estimators=56; total time=  21.0s\n",
      "[CV] END criterion=gini, max_depth=10, max_features=log2, min_samples_leaf=4, min_samples_split=7, n_estimators=23; total time=   7.0s\n",
      "[CV] END criterion=entropy, max_depth=890, max_features=auto, min_samples_leaf=2, min_samples_split=12, n_estimators=100; total time=  41.7s\n",
      "[CV] END criterion=gini, max_depth=1000, max_features=log2, min_samples_leaf=2, min_samples_split=14, n_estimators=100; total time=  41.2s\n",
      "[CV] END criterion=gini, max_depth=1000, max_features=log2, min_samples_leaf=2, min_samples_split=14, n_estimators=100; total time=  40.7s\n",
      "[CV] END criterion=entropy, max_depth=780, max_features=sqrt, min_samples_leaf=2, min_samples_split=10, n_estimators=2; total time=   0.9s\n",
      "[CV] END criterion=entropy, max_depth=340, max_features=auto, min_samples_leaf=2, min_samples_split=14, n_estimators=2; total time=   0.9s\n",
      "[CV] END criterion=gini, max_depth=450, max_features=log2, min_samples_leaf=4, min_samples_split=14, n_estimators=45; total time=  18.4s\n",
      "[CV] END criterion=gini, max_depth=450, max_features=log2, min_samples_leaf=4, min_samples_split=14, n_estimators=45; total time=  17.6s\n",
      "[CV] END criterion=entropy, max_depth=780, max_features=sqrt, min_samples_leaf=2, min_samples_split=10, n_estimators=2; total time=   0.8s\n",
      "[CV] END criterion=entropy, max_depth=780, max_features=sqrt, min_samples_leaf=2, min_samples_split=10, n_estimators=2; total time=   0.9s\n",
      "[CV] END criterion=gini, max_depth=560, max_features=auto, min_samples_leaf=4, min_samples_split=2, n_estimators=2; total time=   0.9s\n",
      "[CV] END criterion=gini, max_depth=560, max_features=auto, min_samples_leaf=4, min_samples_split=2, n_estimators=2; total time=   0.8s\n",
      "[CV] END criterion=entropy, max_depth=890, max_features=sqrt, min_samples_leaf=1, min_samples_split=5, n_estimators=100; total time=  43.5s\n",
      "[CV] END criterion=gini, max_depth=450, max_features=sqrt, min_samples_leaf=8, min_samples_split=12, n_estimators=100; total time=  38.1s\n",
      "[CV] END criterion=gini, max_depth=450, max_features=sqrt, min_samples_leaf=8, min_samples_split=12, n_estimators=100; total time=  36.8s\n",
      "[CV] END criterion=entropy, max_depth=340, max_features=log2, min_samples_leaf=1, min_samples_split=7, n_estimators=89; total time=  36.8s\n",
      "[CV] END criterion=gini, max_depth=890, max_features=log2, min_samples_leaf=6, min_samples_split=5, n_estimators=100; total time=  38.3s\n",
      "[CV] END criterion=gini, max_depth=890, max_features=log2, min_samples_leaf=6, min_samples_split=5, n_estimators=100; total time=  37.7s\n",
      "[CV] END criterion=gini, max_depth=230, max_features=auto, min_samples_leaf=4, min_samples_split=10, n_estimators=89; total time=  34.4s\n",
      "[CV] END criterion=gini, max_depth=340, max_features=sqrt, min_samples_leaf=4, min_samples_split=12, n_estimators=56; total time=  21.7s\n",
      "[CV] END criterion=entropy, max_depth=120, max_features=log2, min_samples_leaf=8, min_samples_split=10, n_estimators=78; total time=  29.6s\n",
      "[CV] END criterion=entropy, max_depth=10, max_features=log2, min_samples_leaf=4, min_samples_split=5, n_estimators=78; total time=  20.8s\n",
      "[CV] END criterion=entropy, max_depth=10, max_features=log2, min_samples_leaf=4, min_samples_split=5, n_estimators=78; total time=  21.0s\n",
      "[CV] END criterion=entropy, max_depth=120, max_features=sqrt, min_samples_leaf=1, min_samples_split=12, n_estimators=45; total time=  18.4s\n",
      "[CV] END criterion=gini, max_depth=450, max_features=sqrt, min_samples_leaf=1, min_samples_split=10, n_estimators=100; total time=  41.9s\n",
      "[CV] END criterion=gini, max_depth=670, max_features=log2, min_samples_leaf=2, min_samples_split=10, n_estimators=56; total time=  22.9s\n",
      "[CV] END criterion=gini, max_depth=670, max_features=log2, min_samples_leaf=2, min_samples_split=10, n_estimators=56; total time=  22.5s\n",
      "[CV] END criterion=entropy, max_depth=560, max_features=sqrt, min_samples_leaf=8, min_samples_split=2, n_estimators=100; total time=  37.6s\n",
      "[CV] END criterion=entropy, max_depth=120, max_features=log2, min_samples_leaf=8, min_samples_split=14, n_estimators=56; total time=  20.8s\n",
      "[CV] END criterion=entropy, max_depth=120, max_features=log2, min_samples_leaf=8, min_samples_split=14, n_estimators=56; total time=  21.6s\n",
      "[CV] END criterion=gini, max_depth=340, max_features=log2, min_samples_leaf=8, min_samples_split=14, n_estimators=56; total time=  21.1s\n",
      "[CV] END criterion=gini, max_depth=560, max_features=sqrt, min_samples_leaf=1, min_samples_split=7, n_estimators=78; total time=  33.7s\n",
      "[CV] END criterion=gini, max_depth=120, max_features=sqrt, min_samples_leaf=6, min_samples_split=10, n_estimators=89; total time=  34.3s\n",
      "[CV] END criterion=gini, max_depth=10, max_features=sqrt, min_samples_leaf=2, min_samples_split=14, n_estimators=34; total time=   9.0s\n",
      "[CV] END criterion=gini, max_depth=10, max_features=sqrt, min_samples_leaf=2, min_samples_split=14, n_estimators=34; total time=   9.2s\n",
      "[CV] END criterion=gini, max_depth=450, max_features=sqrt, min_samples_leaf=2, min_samples_split=7, n_estimators=89; total time=  37.4s\n",
      "[CV] END criterion=entropy, max_depth=560, max_features=auto, min_samples_leaf=1, min_samples_split=2, n_estimators=45; total time=  19.8s\n",
      "[CV] END criterion=entropy, max_depth=560, max_features=auto, min_samples_leaf=1, min_samples_split=2, n_estimators=45; total time=  20.4s\n",
      "[CV] END criterion=gini, max_depth=120, max_features=sqrt, min_samples_leaf=4, min_samples_split=2, n_estimators=23; total time=   9.3s\n",
      "[CV] END criterion=entropy, max_depth=10, max_features=sqrt, min_samples_leaf=8, min_samples_split=10, n_estimators=100; total time=  27.6s\n",
      "[CV] END criterion=gini, max_depth=560, max_features=log2, min_samples_leaf=1, min_samples_split=10, n_estimators=100; total time=  43.0s\n",
      "[CV] END criterion=entropy, max_depth=670, max_features=log2, min_samples_leaf=2, min_samples_split=14, n_estimators=67; total time=  27.4s\n",
      "[CV] END criterion=entropy, max_depth=670, max_features=log2, min_samples_leaf=2, min_samples_split=14, n_estimators=67; total time=  27.2s\n",
      "[CV] END criterion=gini, max_depth=340, max_features=sqrt, min_samples_leaf=6, min_samples_split=10, n_estimators=100; total time=  38.5s\n",
      "[CV] END criterion=entropy, max_depth=450, max_features=sqrt, min_samples_leaf=6, min_samples_split=12, n_estimators=56; total time=  21.5s\n",
      "[CV] END criterion=entropy, max_depth=450, max_features=sqrt, min_samples_leaf=6, min_samples_split=12, n_estimators=56; total time=  21.6s\n",
      "[CV] END criterion=gini, max_depth=120, max_features=auto, min_samples_leaf=8, min_samples_split=12, n_estimators=67; total time=  25.8s\n",
      "[CV] END criterion=gini, max_depth=780, max_features=sqrt, min_samples_leaf=2, min_samples_split=7, n_estimators=56; total time=  22.9s\n",
      "[CV] END criterion=entropy, max_depth=230, max_features=auto, min_samples_leaf=2, min_samples_split=2, n_estimators=23; total time=   9.3s\n",
      "[CV] END criterion=gini, max_depth=10, max_features=sqrt, min_samples_leaf=2, min_samples_split=12, n_estimators=100; total time=  28.0s\n",
      "[CV] END criterion=gini, max_depth=10, max_features=sqrt, min_samples_leaf=2, min_samples_split=12, n_estimators=100; total time=  28.1s\n",
      "[CV] END criterion=entropy, max_depth=670, max_features=log2, min_samples_leaf=6, min_samples_split=5, n_estimators=100; total time=  39.9s\n",
      "[CV] END criterion=gini, max_depth=780, max_features=auto, min_samples_leaf=8, min_samples_split=5, n_estimators=45; total time=  16.9s\n",
      "[CV] END criterion=gini, max_depth=670, max_features=log2, min_samples_leaf=1, min_samples_split=7, n_estimators=12; total time=   4.9s\n",
      "[CV] END criterion=entropy, max_depth=230, max_features=log2, min_samples_leaf=4, min_samples_split=2, n_estimators=12; total time=   4.7s\n",
      "[CV] END criterion=entropy, max_depth=230, max_features=log2, min_samples_leaf=4, min_samples_split=2, n_estimators=12; total time=   4.6s\n",
      "[CV] END criterion=entropy, max_depth=450, max_features=auto, min_samples_leaf=6, min_samples_split=12, n_estimators=67; total time=  25.6s\n",
      "[CV] END criterion=entropy, max_depth=780, max_features=sqrt, min_samples_leaf=6, min_samples_split=7, n_estimators=89; total time=  34.6s\n",
      "[CV] END criterion=entropy, max_depth=670, max_features=auto, min_samples_leaf=4, min_samples_split=7, n_estimators=89; total time=  35.3s\n",
      "[CV] END criterion=entropy, max_depth=670, max_features=auto, min_samples_leaf=4, min_samples_split=7, n_estimators=89; total time=  35.5s\n",
      "[CV] END criterion=entropy, max_depth=890, max_features=sqrt, min_samples_leaf=4, min_samples_split=14, n_estimators=89; total time=  35.2s\n",
      "[CV] END criterion=gini, max_depth=780, max_features=log2, min_samples_leaf=1, min_samples_split=2, n_estimators=34; total time=  14.7s\n",
      "[CV] END criterion=gini, max_depth=450, max_features=auto, min_samples_leaf=6, min_samples_split=14, n_estimators=67; total time=  25.0s\n",
      "[CV] END criterion=entropy, max_depth=230, max_features=log2, min_samples_leaf=4, min_samples_split=14, n_estimators=2; total time=   0.8s\n",
      "[CV] END criterion=entropy, max_depth=230, max_features=log2, min_samples_leaf=4, min_samples_split=14, n_estimators=2; total time=   0.8s\n",
      "[CV] END criterion=gini, max_depth=450, max_features=log2, min_samples_leaf=4, min_samples_split=14, n_estimators=45; total time=  18.5s\n",
      "[CV] END criterion=gini, max_depth=450, max_features=log2, min_samples_leaf=4, min_samples_split=14, n_estimators=45; total time=  18.7s\n",
      "[CV] END criterion=gini, max_depth=560, max_features=auto, min_samples_leaf=4, min_samples_split=2, n_estimators=2; total time=   0.9s\n",
      "[CV] END criterion=entropy, max_depth=890, max_features=sqrt, min_samples_leaf=1, min_samples_split=5, n_estimators=100; total time=  45.4s\n",
      "[CV] END criterion=gini, max_depth=450, max_features=sqrt, min_samples_leaf=8, min_samples_split=12, n_estimators=100; total time=  39.4s\n",
      "[CV] END criterion=gini, max_depth=450, max_features=sqrt, min_samples_leaf=8, min_samples_split=12, n_estimators=100; total time=  39.0s\n",
      "[CV] END criterion=entropy, max_depth=340, max_features=log2, min_samples_leaf=1, min_samples_split=7, n_estimators=89; total time=  39.6s\n",
      "[CV] END criterion=gini, max_depth=890, max_features=log2, min_samples_leaf=6, min_samples_split=5, n_estimators=100; total time=  39.7s\n",
      "[CV] END criterion=gini, max_depth=230, max_features=auto, min_samples_leaf=4, min_samples_split=10, n_estimators=89; total time=  35.9s\n",
      "[CV] END criterion=entropy, max_depth=670, max_features=auto, min_samples_leaf=6, min_samples_split=7, n_estimators=2; total time=   0.8s\n",
      "[CV] END criterion=entropy, max_depth=670, max_features=auto, min_samples_leaf=6, min_samples_split=7, n_estimators=2; total time=   0.9s\n",
      "[CV] END criterion=gini, max_depth=670, max_features=auto, min_samples_leaf=1, min_samples_split=2, n_estimators=12; total time=   5.3s\n",
      "[CV] END criterion=gini, max_depth=670, max_features=auto, min_samples_leaf=1, min_samples_split=2, n_estimators=12; total time=   5.3s\n",
      "[CV] END criterion=gini, max_depth=670, max_features=auto, min_samples_leaf=1, min_samples_split=2, n_estimators=12; total time=   5.3s\n",
      "[CV] END criterion=gini, max_depth=340, max_features=sqrt, min_samples_leaf=4, min_samples_split=12, n_estimators=56; total time=  22.4s\n",
      "[CV] END criterion=entropy, max_depth=120, max_features=log2, min_samples_leaf=8, min_samples_split=10, n_estimators=78; total time=  31.5s\n",
      "[CV] END criterion=entropy, max_depth=120, max_features=log2, min_samples_leaf=8, min_samples_split=10, n_estimators=78; total time=  30.5s\n",
      "[CV] END criterion=gini, max_depth=10, max_features=sqrt, min_samples_leaf=4, min_samples_split=7, n_estimators=2; total time=   0.6s\n",
      "[CV] END criterion=gini, max_depth=10, max_features=sqrt, min_samples_leaf=4, min_samples_split=7, n_estimators=2; total time=   0.6s\n",
      "[CV] END criterion=gini, max_depth=10, max_features=sqrt, min_samples_leaf=4, min_samples_split=7, n_estimators=2; total time=   0.6s\n",
      "[CV] END criterion=gini, max_depth=10, max_features=sqrt, min_samples_leaf=4, min_samples_split=7, n_estimators=2; total time=   0.6s\n",
      "[CV] END criterion=gini, max_depth=10, max_features=sqrt, min_samples_leaf=4, min_samples_split=7, n_estimators=2; total time=   0.6s\n",
      "[CV] END criterion=entropy, max_depth=120, max_features=sqrt, min_samples_leaf=1, min_samples_split=12, n_estimators=45; total time=  19.9s\n",
      "[CV] END criterion=entropy, max_depth=120, max_features=sqrt, min_samples_leaf=1, min_samples_split=12, n_estimators=45; total time=  19.1s\n",
      "[CV] END criterion=gini, max_depth=450, max_features=sqrt, min_samples_leaf=1, min_samples_split=10, n_estimators=100; total time=  43.4s\n",
      "[CV] END criterion=gini, max_depth=670, max_features=log2, min_samples_leaf=2, min_samples_split=10, n_estimators=56; total time=  22.4s\n",
      "[CV] END criterion=entropy, max_depth=560, max_features=sqrt, min_samples_leaf=8, min_samples_split=2, n_estimators=100; total time=  38.6s\n",
      "[CV] END criterion=entropy, max_depth=120, max_features=log2, min_samples_leaf=8, min_samples_split=14, n_estimators=56; total time=  21.5s\n",
      "[CV] END criterion=entropy, max_depth=120, max_features=log2, min_samples_leaf=8, min_samples_split=14, n_estimators=56; total time=  22.7s\n",
      "[CV] END criterion=gini, max_depth=340, max_features=log2, min_samples_leaf=8, min_samples_split=14, n_estimators=56; total time=  22.0s\n",
      "[CV] END criterion=gini, max_depth=560, max_features=sqrt, min_samples_leaf=1, min_samples_split=7, n_estimators=78; total time=  33.4s\n",
      "[CV] END criterion=gini, max_depth=120, max_features=sqrt, min_samples_leaf=6, min_samples_split=10, n_estimators=89; total time=  35.9s\n",
      "[CV] END criterion=gini, max_depth=120, max_features=sqrt, min_samples_leaf=6, min_samples_split=10, n_estimators=89; total time=  36.3s\n",
      "[CV] END criterion=gini, max_depth=450, max_features=sqrt, min_samples_leaf=2, min_samples_split=7, n_estimators=89; total time=  37.0s\n",
      "[CV] END criterion=entropy, max_depth=560, max_features=auto, min_samples_leaf=1, min_samples_split=2, n_estimators=45; total time=  20.1s\n",
      "[CV] END criterion=gini, max_depth=120, max_features=sqrt, min_samples_leaf=4, min_samples_split=2, n_estimators=23; total time=   9.8s\n",
      "[CV] END criterion=gini, max_depth=120, max_features=sqrt, min_samples_leaf=4, min_samples_split=2, n_estimators=23; total time=   9.3s\n",
      "[CV] END criterion=entropy, max_depth=10, max_features=sqrt, min_samples_leaf=8, min_samples_split=10, n_estimators=100; total time=  28.5s\n",
      "[CV] END criterion=gini, max_depth=560, max_features=log2, min_samples_leaf=1, min_samples_split=10, n_estimators=100; total time=  43.7s\n",
      "[CV] END criterion=gini, max_depth=560, max_features=log2, min_samples_leaf=1, min_samples_split=10, n_estimators=100; total time=  42.2s\n",
      "[CV] END criterion=gini, max_depth=340, max_features=sqrt, min_samples_leaf=6, min_samples_split=10, n_estimators=100; total time=  39.7s\n",
      "[CV] END criterion=gini, max_depth=340, max_features=sqrt, min_samples_leaf=6, min_samples_split=10, n_estimators=100; total time=  38.9s\n",
      "[CV] END criterion=gini, max_depth=120, max_features=auto, min_samples_leaf=8, min_samples_split=12, n_estimators=67; total time=  26.2s\n",
      "[CV] END criterion=gini, max_depth=780, max_features=sqrt, min_samples_leaf=2, min_samples_split=7, n_estimators=56; total time=  23.6s\n",
      "[CV] END criterion=gini, max_depth=780, max_features=sqrt, min_samples_leaf=2, min_samples_split=7, n_estimators=56; total time=  24.0s\n",
      "[CV] END criterion=entropy, max_depth=230, max_features=auto, min_samples_leaf=2, min_samples_split=2, n_estimators=23; total time=   9.8s\n",
      "[CV] END criterion=gini, max_depth=10, max_features=sqrt, min_samples_leaf=2, min_samples_split=12, n_estimators=100; total time=  29.7s\n",
      "[CV] END criterion=entropy, max_depth=670, max_features=log2, min_samples_leaf=6, min_samples_split=5, n_estimators=100; total time=  41.0s\n",
      "[CV] END criterion=gini, max_depth=780, max_features=auto, min_samples_leaf=8, min_samples_split=5, n_estimators=45; total time=  18.4s\n",
      "[CV] END criterion=gini, max_depth=780, max_features=auto, min_samples_leaf=8, min_samples_split=5, n_estimators=45; total time=  18.0s\n",
      "[CV] END criterion=gini, max_depth=670, max_features=log2, min_samples_leaf=1, min_samples_split=7, n_estimators=12; total time=   5.2s\n",
      "[CV] END criterion=entropy, max_depth=230, max_features=log2, min_samples_leaf=4, min_samples_split=2, n_estimators=12; total time=   4.9s\n",
      "[CV] END criterion=entropy, max_depth=450, max_features=auto, min_samples_leaf=6, min_samples_split=12, n_estimators=67; total time=  27.2s\n",
      "[CV] END criterion=entropy, max_depth=780, max_features=sqrt, min_samples_leaf=6, min_samples_split=7, n_estimators=89; total time=  36.0s\n",
      "[CV] END criterion=entropy, max_depth=670, max_features=auto, min_samples_leaf=4, min_samples_split=7, n_estimators=89; total time=  37.7s\n",
      "[CV] END criterion=entropy, max_depth=890, max_features=sqrt, min_samples_leaf=4, min_samples_split=14, n_estimators=89; total time=  36.3s\n",
      "[CV] END criterion=entropy, max_depth=890, max_features=sqrt, min_samples_leaf=4, min_samples_split=14, n_estimators=89; total time=  36.4s\n",
      "[CV] END criterion=gini, max_depth=780, max_features=log2, min_samples_leaf=1, min_samples_split=2, n_estimators=34; total time=  14.9s\n",
      "[CV] END criterion=gini, max_depth=450, max_features=auto, min_samples_leaf=6, min_samples_split=14, n_estimators=67; total time=  26.9s\n",
      "[CV] END criterion=entropy, max_depth=450, max_features=auto, min_samples_leaf=2, min_samples_split=5, n_estimators=12; total time=   5.1s\n",
      "[CV] END criterion=entropy, max_depth=780, max_features=sqrt, min_samples_leaf=2, min_samples_split=10, n_estimators=2; total time=   1.1s\n",
      "[CV] END criterion=entropy, max_depth=780, max_features=sqrt, min_samples_leaf=2, min_samples_split=10, n_estimators=2; total time=   1.2s\n",
      "[CV] END criterion=gini, max_depth=560, max_features=auto, min_samples_leaf=4, min_samples_split=2, n_estimators=2; total time=   0.8s\n",
      "[CV] END criterion=gini, max_depth=560, max_features=auto, min_samples_leaf=4, min_samples_split=2, n_estimators=2; total time=   0.8s\n",
      "[CV] END criterion=entropy, max_depth=890, max_features=sqrt, min_samples_leaf=1, min_samples_split=5, n_estimators=100; total time=  42.9s\n",
      "[CV] END criterion=entropy, max_depth=890, max_features=sqrt, min_samples_leaf=1, min_samples_split=5, n_estimators=100; total time=  43.9s\n",
      "[CV] END criterion=entropy, max_depth=340, max_features=log2, min_samples_leaf=1, min_samples_split=7, n_estimators=89; total time=  38.8s\n",
      "[CV] END criterion=entropy, max_depth=340, max_features=log2, min_samples_leaf=1, min_samples_split=7, n_estimators=89; total time=  38.1s\n",
      "[CV] END criterion=gini, max_depth=890, max_features=log2, min_samples_leaf=6, min_samples_split=5, n_estimators=100; total time=  39.8s\n",
      "[CV] END criterion=gini, max_depth=230, max_features=auto, min_samples_leaf=4, min_samples_split=10, n_estimators=89; total time=  35.2s\n",
      "[CV] END criterion=entropy, max_depth=670, max_features=auto, min_samples_leaf=6, min_samples_split=7, n_estimators=2; total time=   0.8s\n",
      "[CV] END criterion=entropy, max_depth=670, max_features=auto, min_samples_leaf=6, min_samples_split=7, n_estimators=2; total time=   0.8s\n",
      "[CV] END criterion=entropy, max_depth=670, max_features=auto, min_samples_leaf=6, min_samples_split=7, n_estimators=2; total time=   0.8s\n",
      "[CV] END criterion=gini, max_depth=670, max_features=auto, min_samples_leaf=1, min_samples_split=2, n_estimators=12; total time=   5.3s\n",
      "[CV] END criterion=gini, max_depth=670, max_features=auto, min_samples_leaf=1, min_samples_split=2, n_estimators=12; total time=   5.1s\n",
      "[CV] END criterion=gini, max_depth=340, max_features=sqrt, min_samples_leaf=4, min_samples_split=12, n_estimators=56; total time=  21.6s\n",
      "[CV] END criterion=gini, max_depth=340, max_features=sqrt, min_samples_leaf=4, min_samples_split=12, n_estimators=56; total time=  22.5s\n",
      "[CV] END criterion=entropy, max_depth=120, max_features=log2, min_samples_leaf=8, min_samples_split=10, n_estimators=78; total time=  30.2s\n",
      "[CV] END criterion=entropy, max_depth=10, max_features=log2, min_samples_leaf=4, min_samples_split=5, n_estimators=78; total time=  20.9s\n",
      "[CV] END criterion=entropy, max_depth=120, max_features=sqrt, min_samples_leaf=1, min_samples_split=12, n_estimators=45; total time=  19.0s\n",
      "[CV] END criterion=gini, max_depth=450, max_features=sqrt, min_samples_leaf=1, min_samples_split=10, n_estimators=100; total time=  41.6s\n",
      "[CV] END criterion=gini, max_depth=450, max_features=sqrt, min_samples_leaf=1, min_samples_split=10, n_estimators=100; total time=  41.7s\n",
      "[CV] END criterion=entropy, max_depth=560, max_features=sqrt, min_samples_leaf=8, min_samples_split=2, n_estimators=100; total time=  38.2s\n",
      "[CV] END criterion=entropy, max_depth=560, max_features=sqrt, min_samples_leaf=8, min_samples_split=2, n_estimators=100; total time=  38.6s\n",
      "[CV] END criterion=gini, max_depth=340, max_features=log2, min_samples_leaf=8, min_samples_split=14, n_estimators=56; total time=  21.9s\n",
      "[CV] END criterion=gini, max_depth=560, max_features=sqrt, min_samples_leaf=1, min_samples_split=7, n_estimators=78; total time=  32.8s\n",
      "[CV] END criterion=gini, max_depth=560, max_features=sqrt, min_samples_leaf=1, min_samples_split=7, n_estimators=78; total time=  33.3s\n",
      "[CV] END criterion=gini, max_depth=120, max_features=sqrt, min_samples_leaf=6, min_samples_split=10, n_estimators=89; total time=  34.8s\n",
      "[CV] END criterion=gini, max_depth=10, max_features=sqrt, min_samples_leaf=2, min_samples_split=14, n_estimators=34; total time=  10.0s\n",
      "[CV] END criterion=gini, max_depth=450, max_features=sqrt, min_samples_leaf=2, min_samples_split=7, n_estimators=89; total time=  36.2s\n",
      "[CV] END criterion=entropy, max_depth=560, max_features=auto, min_samples_leaf=1, min_samples_split=2, n_estimators=45; total time=  20.0s\n",
      "[CV] END criterion=entropy, max_depth=560, max_features=auto, min_samples_leaf=1, min_samples_split=2, n_estimators=45; total time=  20.6s\n",
      "[CV] END criterion=entropy, max_depth=10, max_features=sqrt, min_samples_leaf=8, min_samples_split=10, n_estimators=100; total time=  28.2s\n",
      "[CV] END criterion=entropy, max_depth=10, max_features=sqrt, min_samples_leaf=8, min_samples_split=10, n_estimators=100; total time=  28.1s\n",
      "[CV] END criterion=gini, max_depth=560, max_features=log2, min_samples_leaf=1, min_samples_split=10, n_estimators=100; total time=  41.1s\n",
      "[CV] END criterion=entropy, max_depth=670, max_features=log2, min_samples_leaf=2, min_samples_split=14, n_estimators=67; total time=  28.1s\n",
      "[CV] END criterion=gini, max_depth=340, max_features=sqrt, min_samples_leaf=6, min_samples_split=10, n_estimators=100; total time=  39.3s\n",
      "[CV] END criterion=entropy, max_depth=450, max_features=sqrt, min_samples_leaf=6, min_samples_split=12, n_estimators=56; total time=  21.9s\n",
      "[CV] END criterion=entropy, max_depth=450, max_features=sqrt, min_samples_leaf=6, min_samples_split=12, n_estimators=56; total time=  21.6s\n",
      "[CV] END criterion=gini, max_depth=120, max_features=auto, min_samples_leaf=8, min_samples_split=12, n_estimators=67; total time=  26.3s\n",
      "[CV] END criterion=gini, max_depth=780, max_features=sqrt, min_samples_leaf=2, min_samples_split=7, n_estimators=56; total time=  23.5s\n",
      "[CV] END criterion=entropy, max_depth=230, max_features=auto, min_samples_leaf=2, min_samples_split=2, n_estimators=23; total time=   9.7s\n",
      "[CV] END criterion=entropy, max_depth=230, max_features=auto, min_samples_leaf=2, min_samples_split=2, n_estimators=23; total time=   9.8s\n",
      "[CV] END criterion=gini, max_depth=10, max_features=sqrt, min_samples_leaf=2, min_samples_split=12, n_estimators=100; total time=  29.0s\n",
      "[CV] END criterion=entropy, max_depth=670, max_features=log2, min_samples_leaf=6, min_samples_split=5, n_estimators=100; total time=  39.8s\n",
      "[CV] END criterion=gini, max_depth=780, max_features=auto, min_samples_leaf=8, min_samples_split=5, n_estimators=45; total time=  18.1s\n",
      "[CV] END criterion=gini, max_depth=780, max_features=auto, min_samples_leaf=8, min_samples_split=5, n_estimators=45; total time=  17.3s\n",
      "[CV] END criterion=gini, max_depth=670, max_features=log2, min_samples_leaf=1, min_samples_split=7, n_estimators=12; total time=   4.9s\n",
      "[CV] END criterion=entropy, max_depth=230, max_features=log2, min_samples_leaf=4, min_samples_split=2, n_estimators=12; total time=   4.9s\n",
      "[CV] END criterion=entropy, max_depth=450, max_features=auto, min_samples_leaf=6, min_samples_split=12, n_estimators=67; total time=  26.7s\n",
      "[CV] END criterion=entropy, max_depth=450, max_features=auto, min_samples_leaf=6, min_samples_split=12, n_estimators=67; total time=  27.3s\n",
      "[CV] END criterion=entropy, max_depth=780, max_features=sqrt, min_samples_leaf=6, min_samples_split=7, n_estimators=89; total time=  35.1s\n",
      "[CV] END criterion=entropy, max_depth=670, max_features=auto, min_samples_leaf=4, min_samples_split=7, n_estimators=89; total time=  36.0s\n",
      "[CV] END criterion=entropy, max_depth=890, max_features=sqrt, min_samples_leaf=4, min_samples_split=14, n_estimators=89; total time=  36.1s\n",
      "[CV] END criterion=gini, max_depth=780, max_features=log2, min_samples_leaf=1, min_samples_split=2, n_estimators=34; total time=  14.4s\n",
      "[CV] END criterion=gini, max_depth=780, max_features=log2, min_samples_leaf=1, min_samples_split=2, n_estimators=34; total time=  14.8s\n",
      "[CV] END criterion=gini, max_depth=450, max_features=auto, min_samples_leaf=6, min_samples_split=14, n_estimators=67; total time=  26.4s\n",
      "[CV] END criterion=entropy, max_depth=450, max_features=auto, min_samples_leaf=2, min_samples_split=5, n_estimators=12; total time=   5.2s\n",
      "[CV] END criterion=entropy, max_depth=450, max_features=auto, min_samples_leaf=2, min_samples_split=5, n_estimators=12; total time=   5.2s\n",
      "[CV] END criterion=gini, max_depth=120, max_features=log2, min_samples_leaf=6, min_samples_split=10, n_estimators=78; total time=  31.1s\n",
      "[CV] END criterion=gini, max_depth=450, max_features=log2, min_samples_leaf=4, min_samples_split=14, n_estimators=45; total time=  18.3s\n",
      "[CV] END criterion=entropy, max_depth=890, max_features=sqrt, min_samples_leaf=1, min_samples_split=5, n_estimators=100; total time=  45.7s\n",
      "[CV] END criterion=gini, max_depth=450, max_features=sqrt, min_samples_leaf=8, min_samples_split=12, n_estimators=100; total time=  38.7s\n",
      "[CV] END criterion=entropy, max_depth=340, max_features=log2, min_samples_leaf=1, min_samples_split=7, n_estimators=89; total time=  39.0s\n",
      "[CV] END criterion=gini, max_depth=780, max_features=sqrt, min_samples_leaf=8, min_samples_split=14, n_estimators=12; total time=   4.5s\n",
      "[CV] END criterion=gini, max_depth=780, max_features=sqrt, min_samples_leaf=8, min_samples_split=14, n_estimators=12; total time=   4.4s\n",
      "[CV] END criterion=gini, max_depth=780, max_features=sqrt, min_samples_leaf=8, min_samples_split=14, n_estimators=12; total time=   4.3s\n",
      "[CV] END criterion=gini, max_depth=780, max_features=sqrt, min_samples_leaf=8, min_samples_split=14, n_estimators=12; total time=   4.5s\n",
      "[CV] END criterion=gini, max_depth=780, max_features=sqrt, min_samples_leaf=8, min_samples_split=14, n_estimators=12; total time=   4.5s\n",
      "[CV] END criterion=gini, max_depth=890, max_features=log2, min_samples_leaf=6, min_samples_split=5, n_estimators=100; total time=  38.1s\n",
      "[CV] END criterion=gini, max_depth=230, max_features=auto, min_samples_leaf=4, min_samples_split=10, n_estimators=89; total time=  34.4s\n",
      "[CV] END criterion=gini, max_depth=230, max_features=auto, min_samples_leaf=4, min_samples_split=10, n_estimators=89; total time=  34.1s\n",
      "[CV] END criterion=gini, max_depth=340, max_features=sqrt, min_samples_leaf=4, min_samples_split=12, n_estimators=56; total time=  21.3s\n",
      "[CV] END criterion=entropy, max_depth=120, max_features=log2, min_samples_leaf=8, min_samples_split=10, n_estimators=78; total time=  29.8s\n",
      "[CV] END criterion=entropy, max_depth=10, max_features=log2, min_samples_leaf=4, min_samples_split=5, n_estimators=78; total time=  21.8s\n",
      "[CV] END criterion=entropy, max_depth=10, max_features=log2, min_samples_leaf=4, min_samples_split=5, n_estimators=78; total time=  21.7s\n",
      "[CV] END criterion=entropy, max_depth=120, max_features=sqrt, min_samples_leaf=1, min_samples_split=12, n_estimators=45; total time=  18.4s\n",
      "[CV] END criterion=gini, max_depth=450, max_features=sqrt, min_samples_leaf=1, min_samples_split=10, n_estimators=100; total time=  41.4s\n",
      "[CV] END criterion=gini, max_depth=670, max_features=log2, min_samples_leaf=2, min_samples_split=10, n_estimators=56; total time=  22.5s\n",
      "[CV] END criterion=gini, max_depth=670, max_features=log2, min_samples_leaf=2, min_samples_split=10, n_estimators=56; total time=  22.1s\n",
      "[CV] END criterion=entropy, max_depth=560, max_features=sqrt, min_samples_leaf=8, min_samples_split=2, n_estimators=100; total time=  37.7s\n",
      "[CV] END criterion=entropy, max_depth=120, max_features=log2, min_samples_leaf=8, min_samples_split=14, n_estimators=56; total time=  22.0s\n",
      "[CV] END criterion=gini, max_depth=340, max_features=log2, min_samples_leaf=8, min_samples_split=14, n_estimators=56; total time=  21.9s\n",
      "[CV] END criterion=gini, max_depth=340, max_features=log2, min_samples_leaf=8, min_samples_split=14, n_estimators=56; total time=  21.3s\n",
      "[CV] END criterion=gini, max_depth=560, max_features=sqrt, min_samples_leaf=1, min_samples_split=7, n_estimators=78; total time=  32.0s\n",
      "[CV] END criterion=gini, max_depth=120, max_features=sqrt, min_samples_leaf=6, min_samples_split=10, n_estimators=89; total time=  34.1s\n",
      "[CV] END criterion=gini, max_depth=10, max_features=sqrt, min_samples_leaf=2, min_samples_split=14, n_estimators=34; total time=   9.7s\n",
      "[CV] END criterion=gini, max_depth=10, max_features=sqrt, min_samples_leaf=2, min_samples_split=14, n_estimators=34; total time=   9.8s\n",
      "[CV] END criterion=gini, max_depth=450, max_features=sqrt, min_samples_leaf=2, min_samples_split=7, n_estimators=89; total time=  36.9s\n",
      "[CV] END criterion=gini, max_depth=450, max_features=sqrt, min_samples_leaf=2, min_samples_split=7, n_estimators=89; total time=  35.6s\n",
      "[CV] END criterion=gini, max_depth=120, max_features=sqrt, min_samples_leaf=4, min_samples_split=2, n_estimators=23; total time=   9.0s\n",
      "[CV] END criterion=gini, max_depth=120, max_features=sqrt, min_samples_leaf=4, min_samples_split=2, n_estimators=23; total time=   9.1s\n",
      "[CV] END criterion=entropy, max_depth=10, max_features=sqrt, min_samples_leaf=8, min_samples_split=10, n_estimators=100; total time=  28.4s\n",
      "[CV] END criterion=gini, max_depth=560, max_features=log2, min_samples_leaf=1, min_samples_split=10, n_estimators=100; total time=  41.4s\n",
      "[CV] END criterion=entropy, max_depth=670, max_features=log2, min_samples_leaf=2, min_samples_split=14, n_estimators=67; total time=  27.3s\n",
      "[CV] END criterion=entropy, max_depth=670, max_features=log2, min_samples_leaf=2, min_samples_split=14, n_estimators=67; total time=  27.1s\n",
      "[CV] END criterion=gini, max_depth=340, max_features=sqrt, min_samples_leaf=6, min_samples_split=10, n_estimators=100; total time=  38.2s\n",
      "[CV] END criterion=entropy, max_depth=450, max_features=sqrt, min_samples_leaf=6, min_samples_split=12, n_estimators=56; total time=  21.4s\n",
      "[CV] END criterion=gini, max_depth=120, max_features=auto, min_samples_leaf=8, min_samples_split=12, n_estimators=67; total time=  24.6s\n",
      "[CV] END criterion=gini, max_depth=120, max_features=auto, min_samples_leaf=8, min_samples_split=12, n_estimators=67; total time=  25.0s\n",
      "[CV] END criterion=gini, max_depth=780, max_features=sqrt, min_samples_leaf=2, min_samples_split=7, n_estimators=56; total time=  22.6s\n",
      "[CV] END criterion=entropy, max_depth=230, max_features=auto, min_samples_leaf=2, min_samples_split=2, n_estimators=23; total time=   9.5s\n",
      "[CV] END criterion=gini, max_depth=10, max_features=sqrt, min_samples_leaf=2, min_samples_split=12, n_estimators=100; total time=  28.9s\n",
      "[CV] END criterion=entropy, max_depth=670, max_features=log2, min_samples_leaf=6, min_samples_split=5, n_estimators=100; total time=  39.4s\n",
      "[CV] END criterion=entropy, max_depth=670, max_features=log2, min_samples_leaf=6, min_samples_split=5, n_estimators=100; total time=  39.5s\n",
      "[CV] END criterion=gini, max_depth=670, max_features=log2, min_samples_leaf=1, min_samples_split=7, n_estimators=12; total time=   4.9s\n",
      "[CV] END criterion=gini, max_depth=670, max_features=log2, min_samples_leaf=1, min_samples_split=7, n_estimators=12; total time=   5.0s\n",
      "[CV] END criterion=entropy, max_depth=230, max_features=log2, min_samples_leaf=4, min_samples_split=2, n_estimators=12; total time=   4.7s\n",
      "[CV] END criterion=entropy, max_depth=450, max_features=auto, min_samples_leaf=6, min_samples_split=12, n_estimators=67; total time=  26.0s\n",
      "[CV] END criterion=entropy, max_depth=780, max_features=sqrt, min_samples_leaf=6, min_samples_split=7, n_estimators=89; total time=  34.2s\n",
      "[CV] END criterion=entropy, max_depth=780, max_features=sqrt, min_samples_leaf=6, min_samples_split=7, n_estimators=89; total time=  34.7s\n",
      "[CV] END criterion=entropy, max_depth=670, max_features=auto, min_samples_leaf=4, min_samples_split=7, n_estimators=89; total time=  35.0s\n",
      "[CV] END criterion=entropy, max_depth=890, max_features=sqrt, min_samples_leaf=4, min_samples_split=14, n_estimators=89; total time=  35.0s\n",
      "[CV] END criterion=gini, max_depth=780, max_features=log2, min_samples_leaf=1, min_samples_split=2, n_estimators=34; total time=  14.9s\n",
      "[CV] END criterion=gini, max_depth=450, max_features=auto, min_samples_leaf=6, min_samples_split=14, n_estimators=67; total time=  25.6s\n",
      "[CV] END criterion=gini, max_depth=450, max_features=auto, min_samples_leaf=6, min_samples_split=14, n_estimators=67; total time=  25.7s\n",
      "[CV] END criterion=gini, max_depth=120, max_features=log2, min_samples_leaf=6, min_samples_split=10, n_estimators=78; total time=  29.9s\n",
      "[CV] END criterion=gini, max_depth=1000, max_features=sqrt, min_samples_leaf=8, min_samples_split=14, n_estimators=78; total time=  28.8s\n",
      "[CV] END criterion=gini, max_depth=120, max_features=sqrt, min_samples_leaf=6, min_samples_split=10, n_estimators=12; total time=   4.6s\n",
      "[CV] END criterion=gini, max_depth=120, max_features=sqrt, min_samples_leaf=6, min_samples_split=10, n_estimators=12; total time=   4.5s"
     ]
    },
    {
     "data": {
      "text/plain": [
       "RandomizedSearchCV(cv=5,\n",
       "                   estimator=RandomForestClassifier(criterion='entropy',\n",
       "                                                    n_estimators=50),\n",
       "                   n_iter=100, n_jobs=-1,\n",
       "                   param_distributions={'criterion': ['entropy', 'gini'],\n",
       "                                        'max_depth': [10, 120, 230, 340, 450,\n",
       "                                                      560, 670, 780, 890,\n",
       "                                                      1000],\n",
       "                                        'max_features': ['auto', 'sqrt',\n",
       "                                                         'log2'],\n",
       "                                        'min_samples_leaf': [1, 2, 4, 6, 8],\n",
       "                                        'min_samples_split': [2, 5, 7, 10, 12,\n",
       "                                                              14],\n",
       "                                        'n_estimators': [2, 12, 23, 34, 45, 56,\n",
       "                                                         67, 78, 89, 100]},\n",
       "                   verbose=2)"
      ]
     },
     "execution_count": 31,
     "metadata": {},
     "output_type": "execute_result"
    }
   ],
   "source": [
    "# RandomizedSearchCV randomly assigns a best class and checks if it is best by training the model on those parameters\n",
    "# making an object of the RandomizedSearchCV class\n",
    "rcv = RandomizedSearchCV(estimator=clf6,param_distributions=param_grid,n_iter=100,cv=5,verbose=2,n_jobs=-1)\n",
    "# training the RandomizedSearchCV to find the best parameters\n",
    "rcv.fit(X_train,y_train)"
   ]
  },
  {
   "cell_type": "markdown",
   "id": "ae737c8f",
   "metadata": {
    "papermill": {
     "duration": 0.081749,
     "end_time": "2022-05-04T20:20:07.543192",
     "exception": false,
     "start_time": "2022-05-04T20:20:07.461443",
     "status": "completed"
    },
    "tags": []
   },
   "source": [
    "### c) Checking Best Parameters"
   ]
  },
  {
   "cell_type": "code",
   "execution_count": 32,
   "id": "5419a2f7",
   "metadata": {
    "execution": {
     "iopub.execute_input": "2022-05-04T20:20:07.708658Z",
     "iopub.status.busy": "2022-05-04T20:20:07.708190Z",
     "iopub.status.idle": "2022-05-04T20:20:07.714573Z",
     "shell.execute_reply": "2022-05-04T20:20:07.713689Z"
    },
    "papermill": {
     "duration": 0.092004,
     "end_time": "2022-05-04T20:20:07.716617",
     "exception": false,
     "start_time": "2022-05-04T20:20:07.624613",
     "status": "completed"
    },
    "tags": []
   },
   "outputs": [
    {
     "data": {
      "text/plain": [
       "{'n_estimators': 67,\n",
       " 'min_samples_split': 10,\n",
       " 'min_samples_leaf': 8,\n",
       " 'max_features': 'auto',\n",
       " 'max_depth': 890,\n",
       " 'criterion': 'gini'}"
      ]
     },
     "execution_count": 32,
     "metadata": {},
     "output_type": "execute_result"
    }
   ],
   "source": [
    "# this best_params_ attribute prints the best attributes that were found by RandomizedSearchCV\n",
    "rcv.best_params_"
   ]
  },
  {
   "cell_type": "markdown",
   "id": "9fa106f2",
   "metadata": {
    "papermill": {
     "duration": 0.082559,
     "end_time": "2022-05-04T20:20:07.881885",
     "exception": false,
     "start_time": "2022-05-04T20:20:07.799326",
     "status": "completed"
    },
    "tags": []
   },
   "source": [
    "### d) Checking Best Estimator"
   ]
  },
  {
   "cell_type": "code",
   "execution_count": 33,
   "id": "849b5a17",
   "metadata": {
    "execution": {
     "iopub.execute_input": "2022-05-04T20:20:08.050690Z",
     "iopub.status.busy": "2022-05-04T20:20:08.050159Z",
     "iopub.status.idle": "2022-05-04T20:20:08.055495Z",
     "shell.execute_reply": "2022-05-04T20:20:08.054942Z"
    },
    "papermill": {
     "duration": 0.09231,
     "end_time": "2022-05-04T20:20:08.057306",
     "exception": false,
     "start_time": "2022-05-04T20:20:07.964996",
     "status": "completed"
    },
    "tags": []
   },
   "outputs": [
    {
     "data": {
      "text/plain": [
       "RandomForestClassifier(max_depth=890, min_samples_leaf=8, min_samples_split=10,\n",
       "                       n_estimators=67)"
      ]
     },
     "execution_count": 33,
     "metadata": {},
     "output_type": "execute_result"
    }
   ],
   "source": [
    "# this best_estimator_ prints the best model that was found by RandomizedSearchCV\n",
    "rcv.best_estimator_"
   ]
  },
  {
   "cell_type": "markdown",
   "id": "78b2807e",
   "metadata": {
    "papermill": {
     "duration": 0.082257,
     "end_time": "2022-05-04T20:20:08.223726",
     "exception": false,
     "start_time": "2022-05-04T20:20:08.141469",
     "status": "completed"
    },
    "tags": []
   },
   "source": [
    "### e) Training Random Forest with Best Parameters Found"
   ]
  },
  {
   "cell_type": "code",
   "execution_count": 34,
   "id": "773491bb",
   "metadata": {
    "execution": {
     "iopub.execute_input": "2022-05-04T20:20:08.390349Z",
     "iopub.status.busy": "2022-05-04T20:20:08.389789Z",
     "iopub.status.idle": "2022-05-04T20:20:32.947463Z",
     "shell.execute_reply": "2022-05-04T20:20:32.946343Z"
    },
    "papermill": {
     "duration": 24.644484,
     "end_time": "2022-05-04T20:20:32.950322",
     "exception": false,
     "start_time": "2022-05-04T20:20:08.305838",
     "status": "completed"
    },
    "tags": []
   },
   "outputs": [
    {
     "name": "stdout",
     "output_type": "stream",
     "text": [
      "[[58273   186]\n",
      " [ 5210   290]]\n",
      "0.9156334526806236\n"
     ]
    }
   ],
   "source": [
    "# making another object of the Random Forest Classifier to test it with the best parameters\n",
    "clf8 = RandomForestClassifier(criterion='gini',n_estimators=89,max_depth=890,max_features='log2',min_samples_split=2,min_samples_leaf=8)\n",
    "clf8.fit(X_train, y_train)\n",
    "y_pred8 = clf8.predict(X_test)\n",
    "cm8 = confusion_matrix(y_test,y_pred8)\n",
    "print(cm8)\n",
    "print(accuracy_score(y_test,y_pred8))"
   ]
  },
  {
   "cell_type": "markdown",
   "id": "5c34802c",
   "metadata": {
    "papermill": {
     "duration": 0.089129,
     "end_time": "2022-05-04T20:20:33.128644",
     "exception": false,
     "start_time": "2022-05-04T20:20:33.039515",
     "status": "completed"
    },
    "tags": []
   },
   "source": [
    "### 7) XGBoost"
   ]
  },
  {
   "cell_type": "code",
   "execution_count": 35,
   "id": "9e92cde4",
   "metadata": {
    "execution": {
     "iopub.execute_input": "2022-05-04T20:20:33.305051Z",
     "iopub.status.busy": "2022-05-04T20:20:33.304500Z",
     "iopub.status.idle": "2022-05-04T20:20:47.618018Z",
     "shell.execute_reply": "2022-05-04T20:20:47.617366Z"
    },
    "papermill": {
     "duration": 14.402461,
     "end_time": "2022-05-04T20:20:47.620405",
     "exception": false,
     "start_time": "2022-05-04T20:20:33.217944",
     "status": "completed"
    },
    "tags": []
   },
   "outputs": [
    {
     "name": "stderr",
     "output_type": "stream",
     "text": [
      "/opt/conda/lib/python3.7/site-packages/xgboost/sklearn.py:1224: UserWarning: The use of label encoder in XGBClassifier is deprecated and will be removed in a future release. To remove this warning, do the following: 1) Pass option use_label_encoder=False when constructing XGBClassifier object; and 2) Encode your labels (y) as integers starting with 0, i.e. 0, 1, 2, ..., [num_class - 1].\n",
      "  warnings.warn(label_encoder_deprecation_msg, UserWarning)\n"
     ]
    },
    {
     "name": "stdout",
     "output_type": "stream",
     "text": [
      "[20:20:33] WARNING: ../src/learner.cc:1115: Starting in XGBoost 1.3.0, the default evaluation metric used with the objective 'binary:logistic' was changed from 'error' to 'logloss'. Explicitly set eval_metric if you'd like to restore the old behavior.\n",
      "[[58012   447]\n",
      " [ 4944   556]]\n",
      "0.9157116277615347\n"
     ]
    }
   ],
   "source": [
    "# making an object of the XGBoost class \n",
    "clf7 = XGBClassifier()\n",
    "clf7.fit(X_train, y_train)\n",
    "y_pred7 = clf7.predict(X_test)\n",
    "cm7 = confusion_matrix(y_test,y_pred7)\n",
    "print(cm7)\n",
    "print(accuracy_score(y_test,y_pred7))"
   ]
  }
 ],
 "metadata": {
  "kernelspec": {
   "display_name": "Python 3",
   "language": "python",
   "name": "python3"
  },
  "language_info": {
   "codemirror_mode": {
    "name": "ipython",
    "version": 3
   },
   "file_extension": ".py",
   "mimetype": "text/x-python",
   "name": "python",
   "nbconvert_exporter": "python",
   "pygments_lexer": "ipython3",
   "version": "3.7.12"
  },
  "papermill": {
   "default_parameters": {},
   "duration": 3415.611515,
   "end_time": "2022-05-04T20:20:50.331583",
   "environment_variables": {},
   "exception": null,
   "input_path": "__notebook__.ipynb",
   "output_path": "__notebook__.ipynb",
   "parameters": {},
   "start_time": "2022-05-04T19:23:54.720068",
   "version": "2.3.4"
  }
 },
 "nbformat": 4,
 "nbformat_minor": 5
}
