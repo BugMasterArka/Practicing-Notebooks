{
 "cells": [
  {
   "cell_type": "markdown",
   "id": "e5f99b21",
   "metadata": {
    "papermill": {
     "duration": 0.066868,
     "end_time": "2022-05-05T19:48:49.524493",
     "exception": false,
     "start_time": "2022-05-05T19:48:49.457625",
     "status": "completed"
    },
    "tags": []
   },
   "source": [
    "# 2020 annual CDC survey data of 400k adults related to their health status"
   ]
  },
  {
   "cell_type": "markdown",
   "id": "e6a743ae",
   "metadata": {
    "papermill": {
     "duration": 0.060686,
     "end_time": "2022-05-05T19:48:49.652499",
     "exception": false,
     "start_time": "2022-05-05T19:48:49.591813",
     "status": "completed"
    },
    "tags": []
   },
   "source": [
    "## What topic does the dataset cover?"
   ]
  },
  {
   "cell_type": "markdown",
   "id": "2558f605",
   "metadata": {
    "papermill": {
     "duration": 0.06331,
     "end_time": "2022-05-05T19:48:49.780850",
     "exception": false,
     "start_time": "2022-05-05T19:48:49.717540",
     "status": "completed"
    },
    "tags": []
   },
   "source": [
    "According to the CDC, heart disease is one of the leading causes of death for people of most races in the US (African Americans, American Indians and Alaska Natives, and white people). About half of all Americans (47%) have at least 1 of 3 key risk factors for heart disease: high blood pressure, high cholesterol, and smoking. Other key indicator include diabetic status, obesity (high BMI), not getting enough physical activity or drinking too much alcohol. Detecting and preventing the factors that have the greatest impact on heart disease is very important in healthcare. Computational developments, in turn, allow the application of machine learning methods to detect \"patterns\" from the data that can predict a patient's condition."
   ]
  },
  {
   "cell_type": "code",
   "execution_count": 1,
   "id": "0ce329f2",
   "metadata": {
    "_cell_guid": "b1076dfc-b9ad-4769-8c92-a6c4dae69d19",
    "_uuid": "8f2839f25d086af736a60e9eeb907d3b93b6e0e5",
    "execution": {
     "iopub.execute_input": "2022-05-05T19:48:49.913401Z",
     "iopub.status.busy": "2022-05-05T19:48:49.912435Z",
     "iopub.status.idle": "2022-05-05T19:48:49.934082Z",
     "shell.execute_reply": "2022-05-05T19:48:49.933320Z"
    },
    "papermill": {
     "duration": 0.095407,
     "end_time": "2022-05-05T19:48:49.937068",
     "exception": false,
     "start_time": "2022-05-05T19:48:49.841661",
     "status": "completed"
    },
    "tags": []
   },
   "outputs": [
    {
     "name": "stdout",
     "output_type": "stream",
     "text": [
      "/kaggle/input/personal-key-indicators-of-heart-disease/heart_2020_cleaned.csv\n"
     ]
    }
   ],
   "source": [
    "# This Python 3 environment comes with many helpful analytics libraries installed\n",
    "# It is defined by the kaggle/python Docker image: https://github.com/kaggle/docker-python\n",
    "# For example, here's several helpful packages to load\n",
    "\n",
    "import numpy as np # linear algebra\n",
    "import pandas as pd # data processing, CSV file I/O (e.g. pd.read_csv)\n",
    "# \n",
    "# Input data files are available in the read-only \"../input/\" directory\n",
    "# For example, running this (by clicking run or pressing Shift+Enter) will list all files under the input directory\n",
    "\n",
    "import os\n",
    "for dirname, _, filenames in os.walk('/kaggle/input'):\n",
    "    for filename in filenames:\n",
    "        print(os.path.join(dirname, filename))\n",
    "\n",
    "# You can write up to 20GB to the current directory (/kaggle/working/) that gets preserved as output when you create a version using \"Save & Run All\" \n",
    "# You can also write temporary files to /kaggle/temp/, but they won't be saved outside of the current session"
   ]
  },
  {
   "cell_type": "markdown",
   "id": "0adcda4a",
   "metadata": {
    "papermill": {
     "duration": 0.0616,
     "end_time": "2022-05-05T19:48:50.064757",
     "exception": false,
     "start_time": "2022-05-05T19:48:50.003157",
     "status": "completed"
    },
    "tags": []
   },
   "source": [
    "## Importing the Libraries"
   ]
  },
  {
   "cell_type": "code",
   "execution_count": 2,
   "id": "91bdeee2",
   "metadata": {
    "execution": {
     "iopub.execute_input": "2022-05-05T19:48:50.190263Z",
     "iopub.status.busy": "2022-05-05T19:48:50.189701Z",
     "iopub.status.idle": "2022-05-05T19:48:51.875272Z",
     "shell.execute_reply": "2022-05-05T19:48:51.874450Z"
    },
    "papermill": {
     "duration": 1.752152,
     "end_time": "2022-05-05T19:48:51.878156",
     "exception": false,
     "start_time": "2022-05-05T19:48:50.126004",
     "status": "completed"
    },
    "tags": []
   },
   "outputs": [],
   "source": [
    "# Libraries for Data Preprocessing\n",
    "import numpy as np\n",
    "import pandas as pd\n",
    "import seaborn as sns\n",
    "from sklearn.preprocessing import LabelEncoder\n",
    "from sklearn.model_selection import train_test_split\n",
    "from sklearn.preprocessing import StandardScaler\n",
    "\n",
    "# Libraries for Classifiers\n",
    "from sklearn.linear_model import LogisticRegression\n",
    "from sklearn.neighbors import KNeighborsClassifier\n",
    "from sklearn.naive_bayes import GaussianNB\n",
    "from sklearn.tree import DecisionTreeClassifier\n",
    "from sklearn.ensemble import RandomForestClassifier\n",
    "from sklearn.model_selection import RandomizedSearchCV\n",
    "from xgboost import XGBClassifier\n",
    "from sklearn.svm import SVC\n",
    "\n",
    "# Libraries for measuring accuracy\n",
    "from sklearn.metrics import accuracy_score\n",
    "from sklearn.metrics import confusion_matrix\n",
    "import matplotlib.pyplot as plt \n",
    "from matplotlib.legend_handler import HandlerBase\n",
    "from matplotlib.text import Text\n",
    "%matplotlib inline"
   ]
  },
  {
   "cell_type": "markdown",
   "id": "79ccf39f",
   "metadata": {
    "papermill": {
     "duration": 0.061094,
     "end_time": "2022-05-05T19:48:52.002049",
     "exception": false,
     "start_time": "2022-05-05T19:48:51.940955",
     "status": "completed"
    },
    "tags": []
   },
   "source": [
    "## Importing the Dataset"
   ]
  },
  {
   "cell_type": "code",
   "execution_count": 3,
   "id": "e67484c7",
   "metadata": {
    "execution": {
     "iopub.execute_input": "2022-05-05T19:48:52.129037Z",
     "iopub.status.busy": "2022-05-05T19:48:52.128295Z",
     "iopub.status.idle": "2022-05-05T19:48:53.198406Z",
     "shell.execute_reply": "2022-05-05T19:48:53.197389Z"
    },
    "papermill": {
     "duration": 1.136445,
     "end_time": "2022-05-05T19:48:53.200816",
     "exception": false,
     "start_time": "2022-05-05T19:48:52.064371",
     "status": "completed"
    },
    "tags": []
   },
   "outputs": [
    {
     "data": {
      "text/html": [
       "<div>\n",
       "<style scoped>\n",
       "    .dataframe tbody tr th:only-of-type {\n",
       "        vertical-align: middle;\n",
       "    }\n",
       "\n",
       "    .dataframe tbody tr th {\n",
       "        vertical-align: top;\n",
       "    }\n",
       "\n",
       "    .dataframe thead th {\n",
       "        text-align: right;\n",
       "    }\n",
       "</style>\n",
       "<table border=\"1\" class=\"dataframe\">\n",
       "  <thead>\n",
       "    <tr style=\"text-align: right;\">\n",
       "      <th></th>\n",
       "      <th>HeartDisease</th>\n",
       "      <th>BMI</th>\n",
       "      <th>Smoking</th>\n",
       "      <th>AlcoholDrinking</th>\n",
       "      <th>Stroke</th>\n",
       "      <th>PhysicalHealth</th>\n",
       "      <th>MentalHealth</th>\n",
       "      <th>DiffWalking</th>\n",
       "      <th>Sex</th>\n",
       "      <th>AgeCategory</th>\n",
       "      <th>Race</th>\n",
       "      <th>Diabetic</th>\n",
       "      <th>PhysicalActivity</th>\n",
       "      <th>GenHealth</th>\n",
       "      <th>SleepTime</th>\n",
       "      <th>Asthma</th>\n",
       "      <th>KidneyDisease</th>\n",
       "      <th>SkinCancer</th>\n",
       "    </tr>\n",
       "  </thead>\n",
       "  <tbody>\n",
       "    <tr>\n",
       "      <th>0</th>\n",
       "      <td>No</td>\n",
       "      <td>16.60</td>\n",
       "      <td>Yes</td>\n",
       "      <td>No</td>\n",
       "      <td>No</td>\n",
       "      <td>3.0</td>\n",
       "      <td>30.0</td>\n",
       "      <td>No</td>\n",
       "      <td>Female</td>\n",
       "      <td>55-59</td>\n",
       "      <td>White</td>\n",
       "      <td>Yes</td>\n",
       "      <td>Yes</td>\n",
       "      <td>Very good</td>\n",
       "      <td>5.0</td>\n",
       "      <td>Yes</td>\n",
       "      <td>No</td>\n",
       "      <td>Yes</td>\n",
       "    </tr>\n",
       "    <tr>\n",
       "      <th>1</th>\n",
       "      <td>No</td>\n",
       "      <td>20.34</td>\n",
       "      <td>No</td>\n",
       "      <td>No</td>\n",
       "      <td>Yes</td>\n",
       "      <td>0.0</td>\n",
       "      <td>0.0</td>\n",
       "      <td>No</td>\n",
       "      <td>Female</td>\n",
       "      <td>80 or older</td>\n",
       "      <td>White</td>\n",
       "      <td>No</td>\n",
       "      <td>Yes</td>\n",
       "      <td>Very good</td>\n",
       "      <td>7.0</td>\n",
       "      <td>No</td>\n",
       "      <td>No</td>\n",
       "      <td>No</td>\n",
       "    </tr>\n",
       "    <tr>\n",
       "      <th>2</th>\n",
       "      <td>No</td>\n",
       "      <td>26.58</td>\n",
       "      <td>Yes</td>\n",
       "      <td>No</td>\n",
       "      <td>No</td>\n",
       "      <td>20.0</td>\n",
       "      <td>30.0</td>\n",
       "      <td>No</td>\n",
       "      <td>Male</td>\n",
       "      <td>65-69</td>\n",
       "      <td>White</td>\n",
       "      <td>Yes</td>\n",
       "      <td>Yes</td>\n",
       "      <td>Fair</td>\n",
       "      <td>8.0</td>\n",
       "      <td>Yes</td>\n",
       "      <td>No</td>\n",
       "      <td>No</td>\n",
       "    </tr>\n",
       "    <tr>\n",
       "      <th>3</th>\n",
       "      <td>No</td>\n",
       "      <td>24.21</td>\n",
       "      <td>No</td>\n",
       "      <td>No</td>\n",
       "      <td>No</td>\n",
       "      <td>0.0</td>\n",
       "      <td>0.0</td>\n",
       "      <td>No</td>\n",
       "      <td>Female</td>\n",
       "      <td>75-79</td>\n",
       "      <td>White</td>\n",
       "      <td>No</td>\n",
       "      <td>No</td>\n",
       "      <td>Good</td>\n",
       "      <td>6.0</td>\n",
       "      <td>No</td>\n",
       "      <td>No</td>\n",
       "      <td>Yes</td>\n",
       "    </tr>\n",
       "    <tr>\n",
       "      <th>4</th>\n",
       "      <td>No</td>\n",
       "      <td>23.71</td>\n",
       "      <td>No</td>\n",
       "      <td>No</td>\n",
       "      <td>No</td>\n",
       "      <td>28.0</td>\n",
       "      <td>0.0</td>\n",
       "      <td>Yes</td>\n",
       "      <td>Female</td>\n",
       "      <td>40-44</td>\n",
       "      <td>White</td>\n",
       "      <td>No</td>\n",
       "      <td>Yes</td>\n",
       "      <td>Very good</td>\n",
       "      <td>8.0</td>\n",
       "      <td>No</td>\n",
       "      <td>No</td>\n",
       "      <td>No</td>\n",
       "    </tr>\n",
       "  </tbody>\n",
       "</table>\n",
       "</div>"
      ],
      "text/plain": [
       "  HeartDisease    BMI Smoking AlcoholDrinking Stroke  PhysicalHealth  \\\n",
       "0           No  16.60     Yes              No     No             3.0   \n",
       "1           No  20.34      No              No    Yes             0.0   \n",
       "2           No  26.58     Yes              No     No            20.0   \n",
       "3           No  24.21      No              No     No             0.0   \n",
       "4           No  23.71      No              No     No            28.0   \n",
       "\n",
       "   MentalHealth DiffWalking     Sex  AgeCategory   Race Diabetic  \\\n",
       "0          30.0          No  Female        55-59  White      Yes   \n",
       "1           0.0          No  Female  80 or older  White       No   \n",
       "2          30.0          No    Male        65-69  White      Yes   \n",
       "3           0.0          No  Female        75-79  White       No   \n",
       "4           0.0         Yes  Female        40-44  White       No   \n",
       "\n",
       "  PhysicalActivity  GenHealth  SleepTime Asthma KidneyDisease SkinCancer  \n",
       "0              Yes  Very good        5.0    Yes            No        Yes  \n",
       "1              Yes  Very good        7.0     No            No         No  \n",
       "2              Yes       Fair        8.0    Yes            No         No  \n",
       "3               No       Good        6.0     No            No        Yes  \n",
       "4              Yes  Very good        8.0     No            No         No  "
      ]
     },
     "execution_count": 3,
     "metadata": {},
     "output_type": "execute_result"
    }
   ],
   "source": [
    "# read_csv function is used to read a csv file. It takes the filepath as argument\n",
    "df = pd.read_csv('../input/personal-key-indicators-of-heart-disease/heart_2020_cleaned.csv')\n",
    "# this prints the first 5 rows of the dataset by default\n",
    "df.head()"
   ]
  },
  {
   "cell_type": "markdown",
   "id": "761d863a",
   "metadata": {
    "papermill": {
     "duration": 0.071953,
     "end_time": "2022-05-05T19:48:53.348549",
     "exception": false,
     "start_time": "2022-05-05T19:48:53.276596",
     "status": "completed"
    },
    "tags": []
   },
   "source": [
    "## Changing Grid Style to Dark"
   ]
  },
  {
   "cell_type": "code",
   "execution_count": 4,
   "id": "5cfbb64f",
   "metadata": {
    "execution": {
     "iopub.execute_input": "2022-05-05T19:48:53.494773Z",
     "iopub.status.busy": "2022-05-05T19:48:53.493602Z",
     "iopub.status.idle": "2022-05-05T19:48:53.498623Z",
     "shell.execute_reply": "2022-05-05T19:48:53.498000Z"
    },
    "papermill": {
     "duration": 0.082068,
     "end_time": "2022-05-05T19:48:53.500760",
     "exception": false,
     "start_time": "2022-05-05T19:48:53.418692",
     "status": "completed"
    },
    "tags": []
   },
   "outputs": [],
   "source": [
    "# this changes the style of the plots in seaborn. Changing the grid to dark\n",
    "sns.set_style(\"darkgrid\", {\"grid.color\": \".6\"})"
   ]
  },
  {
   "cell_type": "markdown",
   "id": "5783e0b3",
   "metadata": {
    "papermill": {
     "duration": 0.06488,
     "end_time": "2022-05-05T19:48:53.629116",
     "exception": false,
     "start_time": "2022-05-05T19:48:53.564236",
     "status": "completed"
    },
    "tags": []
   },
   "source": [
    "## Counting Variation of all Categorical Variables"
   ]
  },
  {
   "cell_type": "code",
   "execution_count": 5,
   "id": "ada15d2c",
   "metadata": {
    "execution": {
     "iopub.execute_input": "2022-05-05T19:48:53.757433Z",
     "iopub.status.busy": "2022-05-05T19:48:53.757169Z",
     "iopub.status.idle": "2022-05-05T19:49:00.942681Z",
     "shell.execute_reply": "2022-05-05T19:49:00.941712Z"
    },
    "papermill": {
     "duration": 7.253912,
     "end_time": "2022-05-05T19:49:00.945888",
     "exception": false,
     "start_time": "2022-05-05T19:48:53.691976",
     "status": "completed"
    },
    "tags": []
   },
   "outputs": [
    {
     "data": {
      "image/png": "[encoded data removed]",
      "text/plain": [
       "<Figure size 1440x1440 with 9 Axes>"
      ]
     },
     "metadata": {},
     "output_type": "display_data"
    }
   ],
   "source": [
    "# This list of lists contains all the columns which have binary categorical values\n",
    "colRange = [['Smoking','AlcoholDrinking','Stroke'],['DiffWalking','Sex','PhysicalActivity'],['Asthma','KidneyDisease','SkinCancer']]\n",
    "# This function prints the countplots counting the number of people in each category\n",
    "def printCount(cols):\n",
    "    fig, axes = plt.subplots(3, 3, figsize=(20, 20))\n",
    "    row=0\n",
    "    col=0\n",
    "    p_count=1\n",
    "    for row in range(3):\n",
    "        for col in range(3):\n",
    "            # reads column name from the list\n",
    "            column = colRange[row][col]\n",
    "            # plots the counts of the particular column\n",
    "            sns.countplot(ax=axes[row,col],x=df[column],hue=df['HeartDisease'])\n",
    "            # sets the title of the corresponding plot along with plot number\n",
    "            axes[row,col].set_title(\"Counts of {} (Plot {})\".format(column,p_count))\n",
    "            p_count += 1\n",
    "# Calling the function\n",
    "printCount(colRange)"
   ]
  },
  {
   "cell_type": "markdown",
   "id": "75cb6bcc",
   "metadata": {
    "papermill": {
     "duration": 0.066087,
     "end_time": "2022-05-05T19:49:01.077915",
     "exception": false,
     "start_time": "2022-05-05T19:49:01.011828",
     "status": "completed"
    },
    "tags": []
   },
   "source": [
    "#### Observation\n",
    "1. Plot 1 - According to the plot people who smoke have a higher chance of Heart Diseases than people who don't\n",
    "2. Plot 2 - According to the plot people who do not drink alcohol have a lower of Heart Disease \n",
    "3. Plot 3 - According to the plot people having Heart Disease have a lower chance of having a Stroke\n",
    "4. Plot 4 - According to the plot people who do not have any difficulty in walking have a lower chance of Heart Disease \n",
    "5. Plot 5 - According to the plot Males have a higher chance of Heart Disease than Females\n",
    "6. Plot 6 - According to the plot People who participate in Physical Activity cause Heart Diseases\n",
    "7. Plot 7 - According to the plot People who have asthma have a lower chance of Heart Disease"
   ]
  },
  {
   "cell_type": "markdown",
   "id": "8140d1eb",
   "metadata": {
    "papermill": {
     "duration": 0.064551,
     "end_time": "2022-05-05T19:49:01.208722",
     "exception": false,
     "start_time": "2022-05-05T19:49:01.144171",
     "status": "completed"
    },
    "tags": []
   },
   "source": [
    "## Checking Heart Disease among Different Races"
   ]
  },
  {
   "cell_type": "code",
   "execution_count": 6,
   "id": "4454e11f",
   "metadata": {
    "execution": {
     "iopub.execute_input": "2022-05-05T19:49:01.343363Z",
     "iopub.status.busy": "2022-05-05T19:49:01.342750Z",
     "iopub.status.idle": "2022-05-05T19:49:02.206827Z",
     "shell.execute_reply": "2022-05-05T19:49:02.205801Z"
    },
    "papermill": {
     "duration": 0.934551,
     "end_time": "2022-05-05T19:49:02.209613",
     "exception": false,
     "start_time": "2022-05-05T19:49:01.275062",
     "status": "completed"
    },
    "tags": []
   },
   "outputs": [
    {
     "name": "stderr",
     "output_type": "stream",
     "text": [
      "/opt/conda/lib/python3.7/site-packages/seaborn/_decorators.py:43: FutureWarning: Pass the following variable as a keyword arg: x. From version 0.12, the only valid positional argument will be `data`, and passing other arguments without an explicit keyword will result in an error or misinterpretation.\n",
      "  FutureWarning\n"
     ]
    },
    {
     "data": {
      "text/plain": [
       "Text(0.5, 1.0, 'Variation of Heart Disease amoung Races')"
      ]
     },
     "execution_count": 6,
     "metadata": {},
     "output_type": "execute_result"
    },
    {
     "data": {
      "image/png": "[encoded data removed]",
      "text/plain": [
       "<Figure size 864x432 with 1 Axes>"
      ]
     },
     "metadata": {},
     "output_type": "display_data"
    }
   ],
   "source": [
    "# This statement enlarges the image\n",
    "plt.figure(figsize=(12,6))\n",
    "# countplot plots the counts of each type of value in a particular column\n",
    "# hue property is used to color code the counts according to a second categorical variable.\n",
    "# plotting the graph\n",
    "sns.countplot(df['Race'],hue=df['HeartDisease'])\n",
    "plt.title('Variation of Heart Disease amoung Races')"
   ]
  },
  {
   "cell_type": "markdown",
   "id": "9d16dae6",
   "metadata": {
    "papermill": {
     "duration": 0.068338,
     "end_time": "2022-05-05T19:49:02.344910",
     "exception": false,
     "start_time": "2022-05-05T19:49:02.276572",
     "status": "completed"
    },
    "tags": []
   },
   "source": [
    "#### Observation\n",
    "White races have a higher chance of heart disease"
   ]
  },
  {
   "cell_type": "markdown",
   "id": "d6a4900e",
   "metadata": {
    "papermill": {
     "duration": 0.068242,
     "end_time": "2022-05-05T19:49:02.481927",
     "exception": false,
     "start_time": "2022-05-05T19:49:02.413685",
     "status": "completed"
    },
    "tags": []
   },
   "source": [
    "## Checking Spread of Heart Disease among Diabetic People"
   ]
  },
  {
   "cell_type": "code",
   "execution_count": 7,
   "id": "5259057b",
   "metadata": {
    "execution": {
     "iopub.execute_input": "2022-05-05T19:49:02.643840Z",
     "iopub.status.busy": "2022-05-05T19:49:02.643378Z",
     "iopub.status.idle": "2022-05-05T19:49:03.480364Z",
     "shell.execute_reply": "2022-05-05T19:49:03.479494Z"
    },
    "papermill": {
     "duration": 0.921805,
     "end_time": "2022-05-05T19:49:03.482364",
     "exception": false,
     "start_time": "2022-05-05T19:49:02.560559",
     "status": "completed"
    },
    "tags": []
   },
   "outputs": [
    {
     "name": "stderr",
     "output_type": "stream",
     "text": [
      "/opt/conda/lib/python3.7/site-packages/seaborn/_decorators.py:43: FutureWarning: Pass the following variable as a keyword arg: x. From version 0.12, the only valid positional argument will be `data`, and passing other arguments without an explicit keyword will result in an error or misinterpretation.\n",
      "  FutureWarning\n"
     ]
    },
    {
     "data": {
      "text/plain": [
       "Text(0.5, 1.0, 'Variation of Heart Disease among Diabetic People')"
      ]
     },
     "execution_count": 7,
     "metadata": {},
     "output_type": "execute_result"
    },
    {
     "data": {
      "image/png": "[encoded data removed]",
      "text/plain": [
       "<Figure size 864x432 with 1 Axes>"
      ]
     },
     "metadata": {},
     "output_type": "display_data"
    }
   ],
   "source": [
    "# This statement enlarges the image\n",
    "plt.figure(figsize=(12,6))\n",
    "# plotting the graph\n",
    "sns.countplot(df['Diabetic'],hue=df['HeartDisease'])\n",
    "plt.title('Variation of Heart Disease among Diabetic People')"
   ]
  },
  {
   "cell_type": "markdown",
   "id": "a9d1cef0",
   "metadata": {
    "papermill": {
     "duration": 0.068921,
     "end_time": "2022-05-05T19:49:03.621428",
     "exception": false,
     "start_time": "2022-05-05T19:49:03.552507",
     "status": "completed"
    },
    "tags": []
   },
   "source": [
    "#### Observation\n",
    "People with no Diabetes have a higher chance of Heart Disease"
   ]
  },
  {
   "cell_type": "markdown",
   "id": "0786d262",
   "metadata": {
    "papermill": {
     "duration": 0.069071,
     "end_time": "2022-05-05T19:49:03.760391",
     "exception": false,
     "start_time": "2022-05-05T19:49:03.691320",
     "status": "completed"
    },
    "tags": []
   },
   "source": [
    "## Plotting Variation of BMI with Heart Disease "
   ]
  },
  {
   "cell_type": "code",
   "execution_count": 8,
   "id": "6bca8976",
   "metadata": {
    "execution": {
     "iopub.execute_input": "2022-05-05T19:49:03.902201Z",
     "iopub.status.busy": "2022-05-05T19:49:03.901537Z",
     "iopub.status.idle": "2022-05-05T19:49:06.691713Z",
     "shell.execute_reply": "2022-05-05T19:49:06.689565Z"
    },
    "papermill": {
     "duration": 2.863886,
     "end_time": "2022-05-05T19:49:06.694221",
     "exception": false,
     "start_time": "2022-05-05T19:49:03.830335",
     "status": "completed"
    },
    "tags": []
   },
   "outputs": [
    {
     "data": {
      "text/plain": [
       "Text(0.5, 1.0, 'Distribution of BMI Among People')"
      ]
     },
     "execution_count": 8,
     "metadata": {},
     "output_type": "execute_result"
    },
    {
     "data": {
      "image/png": "[encoded data removed]",
      "text/plain": [
       "<Figure size 864x432 with 1 Axes>"
      ]
     },
     "metadata": {},
     "output_type": "display_data"
    }
   ],
   "source": [
    "# This statement enlarges the image\n",
    "plt.figure(figsize=(12,6))\n",
    "# histplot plots the distribution of values in the particular column\n",
    "# kde plots 'kernel distribution estimate' of that particular column\n",
    "# plotting both graph on top of each other\n",
    "sns.histplot(data=df[df['HeartDisease']=='Yes'],x='BMI',kde=True,color='red')\n",
    "sns.histplot(data=df[df['HeartDisease']=='No'],x='BMI',kde=True,color='blue')\n",
    "plt.title('Distribution of BMI Among People')"
   ]
  },
  {
   "cell_type": "markdown",
   "id": "386ae16d",
   "metadata": {
    "papermill": {
     "duration": 0.070846,
     "end_time": "2022-05-05T19:49:06.836525",
     "exception": false,
     "start_time": "2022-05-05T19:49:06.765679",
     "status": "completed"
    },
    "tags": []
   },
   "source": [
    "#### Observation\n",
    "People with heart disease have a higher BMI than people who don't have heart disease"
   ]
  },
  {
   "cell_type": "markdown",
   "id": "9273ed18",
   "metadata": {
    "papermill": {
     "duration": 0.071395,
     "end_time": "2022-05-05T19:49:06.983851",
     "exception": false,
     "start_time": "2022-05-05T19:49:06.912456",
     "status": "completed"
    },
    "tags": []
   },
   "source": [
    "## Checking variation of Physical Health among people with and without Heart Disease"
   ]
  },
  {
   "cell_type": "code",
   "execution_count": 9,
   "id": "dd285004",
   "metadata": {
    "execution": {
     "iopub.execute_input": "2022-05-05T19:49:07.128137Z",
     "iopub.status.busy": "2022-05-05T19:49:07.127864Z",
     "iopub.status.idle": "2022-05-05T19:49:08.991523Z",
     "shell.execute_reply": "2022-05-05T19:49:08.990612Z"
    },
    "papermill": {
     "duration": 1.938714,
     "end_time": "2022-05-05T19:49:08.993807",
     "exception": false,
     "start_time": "2022-05-05T19:49:07.055093",
     "status": "completed"
    },
    "tags": []
   },
   "outputs": [
    {
     "data": {
      "text/plain": [
       "Text(0.5, 1.0, 'Physical Health Pattern')"
      ]
     },
     "execution_count": 9,
     "metadata": {},
     "output_type": "execute_result"
    },
    {
     "data": {
      "image/png": "[encoded data removed]",
      "text/plain": [
       "<Figure size 864x432 with 1 Axes>"
      ]
     },
     "metadata": {},
     "output_type": "display_data"
    }
   ],
   "source": [
    "# This statement enlarges the image\n",
    "plt.figure(figsize=(12,6))\n",
    "# kdeplots show an estimated, smooth distribution of a single numerical variable\n",
    "# plotting both graphs on top of each other\n",
    "sns.kdeplot(df[df['HeartDisease']=='Yes']['PhysicalHealth'],shade=True,color='red')\n",
    "sns.kdeplot(df[df['HeartDisease']=='No']['PhysicalHealth'],shade=True,color='blue')\n",
    "plt.title('Physical Health Pattern')"
   ]
  },
  {
   "cell_type": "markdown",
   "id": "9e7a4f96",
   "metadata": {
    "papermill": {
     "duration": 0.089739,
     "end_time": "2022-05-05T19:49:09.160126",
     "exception": false,
     "start_time": "2022-05-05T19:49:09.070387",
     "status": "completed"
    },
    "tags": []
   },
   "source": [
    "#### Observation\n",
    "People with Heart Disease have a lower Physical Health "
   ]
  },
  {
   "cell_type": "markdown",
   "id": "c71260a7",
   "metadata": {
    "papermill": {
     "duration": 0.089456,
     "end_time": "2022-05-05T19:49:09.339386",
     "exception": false,
     "start_time": "2022-05-05T19:49:09.249930",
     "status": "completed"
    },
    "tags": []
   },
   "source": [
    "## Checking Variation of Mental health among people with and without Heart Diseases"
   ]
  },
  {
   "cell_type": "code",
   "execution_count": 10,
   "id": "51832de4",
   "metadata": {
    "execution": {
     "iopub.execute_input": "2022-05-05T19:49:09.520548Z",
     "iopub.status.busy": "2022-05-05T19:49:09.520045Z",
     "iopub.status.idle": "2022-05-05T19:49:11.321893Z",
     "shell.execute_reply": "2022-05-05T19:49:11.320971Z"
    },
    "papermill": {
     "duration": 1.894966,
     "end_time": "2022-05-05T19:49:11.324091",
     "exception": false,
     "start_time": "2022-05-05T19:49:09.429125",
     "status": "completed"
    },
    "tags": []
   },
   "outputs": [
    {
     "data": {
      "text/plain": [
       "Text(0.5, 1.0, 'Variation of Mental Health')"
      ]
     },
     "execution_count": 10,
     "metadata": {},
     "output_type": "execute_result"
    },
    {
     "data": {
      "image/png": "[encoded data removed]",
      "text/plain": [
       "<Figure size 864x432 with 1 Axes>"
      ]
     },
     "metadata": {},
     "output_type": "display_data"
    }
   ],
   "source": [
    "# This statement enlarges the image\n",
    "plt.figure(figsize=(12,6))\n",
    "# plotting both graphs on top of each other\n",
    "sns.kdeplot(df[df['HeartDisease']=='Yes']['MentalHealth'],shade=True,color='red')\n",
    "sns.kdeplot(df[df['HeartDisease']=='No']['MentalHealth'],shade=True,color='blue')\n",
    "plt.title('Variation of Mental Health')"
   ]
  },
  {
   "cell_type": "markdown",
   "id": "86e75b0a",
   "metadata": {
    "papermill": {
     "duration": 0.074071,
     "end_time": "2022-05-05T19:49:11.472757",
     "exception": false,
     "start_time": "2022-05-05T19:49:11.398686",
     "status": "completed"
    },
    "tags": []
   },
   "source": [
    "#### Observation\n",
    "People with Heart Disease have a lower Mental Health "
   ]
  },
  {
   "cell_type": "markdown",
   "id": "50f51cba",
   "metadata": {
    "papermill": {
     "duration": 0.074161,
     "end_time": "2022-05-05T19:49:11.623008",
     "exception": false,
     "start_time": "2022-05-05T19:49:11.548847",
     "status": "completed"
    },
    "tags": []
   },
   "source": [
    "## Drawing the correlation graph"
   ]
  },
  {
   "cell_type": "code",
   "execution_count": 11,
   "id": "aade91a5",
   "metadata": {
    "execution": {
     "iopub.execute_input": "2022-05-05T19:49:11.776118Z",
     "iopub.status.busy": "2022-05-05T19:49:11.775789Z",
     "iopub.status.idle": "2022-05-05T19:49:12.115606Z",
     "shell.execute_reply": "2022-05-05T19:49:12.114712Z"
    },
    "papermill": {
     "duration": 0.419217,
     "end_time": "2022-05-05T19:49:12.117829",
     "exception": false,
     "start_time": "2022-05-05T19:49:11.698612",
     "status": "completed"
    },
    "tags": []
   },
   "outputs": [
    {
     "data": {
      "text/plain": [
       "<AxesSubplot:>"
      ]
     },
     "execution_count": 11,
     "metadata": {},
     "output_type": "execute_result"
    },
    {
     "data": {
      "image/png": "[encoded data removed]",
      "text/plain": [
       "<Figure size 648x432 with 2 Axes>"
      ]
     },
     "metadata": {},
     "output_type": "display_data"
    }
   ],
   "source": [
    "# importing matplotlib library\n",
    "import matplotlib\n",
    "# This statement reduces the size of image\n",
    "plt.figure(figsize=(9,6))\n",
    "# plotting the graph\n",
    "sns.heatmap(df.corr(),annot=True,cmap='coolwarm')"
   ]
  },
  {
   "cell_type": "markdown",
   "id": "4683ca36",
   "metadata": {
    "papermill": {
     "duration": 0.075764,
     "end_time": "2022-05-05T19:49:12.270060",
     "exception": false,
     "start_time": "2022-05-05T19:49:12.194296",
     "status": "completed"
    },
    "tags": []
   },
   "source": [
    "## Checking Columns of the Dataset"
   ]
  },
  {
   "cell_type": "code",
   "execution_count": 12,
   "id": "3c79aac4",
   "metadata": {
    "execution": {
     "iopub.execute_input": "2022-05-05T19:49:12.426782Z",
     "iopub.status.busy": "2022-05-05T19:49:12.426209Z",
     "iopub.status.idle": "2022-05-05T19:49:12.911394Z",
     "shell.execute_reply": "2022-05-05T19:49:12.910452Z"
    },
    "papermill": {
     "duration": 0.566596,
     "end_time": "2022-05-05T19:49:12.914179",
     "exception": false,
     "start_time": "2022-05-05T19:49:12.347583",
     "status": "completed"
    },
    "tags": []
   },
   "outputs": [
    {
     "name": "stdout",
     "output_type": "stream",
     "text": [
      "<class 'pandas.core.frame.DataFrame'>\n",
      "RangeIndex: 319795 entries, 0 to 319794\n",
      "Data columns (total 18 columns):\n",
      " #   Column            Non-Null Count   Dtype  \n",
      "---  ------            --------------   -----  \n",
      " 0   HeartDisease      319795 non-null  object \n",
      " 1   BMI               319795 non-null  float64\n",
      " 2   Smoking           319795 non-null  object \n",
      " 3   AlcoholDrinking   319795 non-null  object \n",
      " 4   Stroke            319795 non-null  object \n",
      " 5   PhysicalHealth    319795 non-null  float64\n",
      " 6   MentalHealth      319795 non-null  float64\n",
      " 7   DiffWalking       319795 non-null  object \n",
      " 8   Sex               319795 non-null  object \n",
      " 9   AgeCategory       319795 non-null  object \n",
      " 10  Race              319795 non-null  object \n",
      " 11  Diabetic          319795 non-null  object \n",
      " 12  PhysicalActivity  319795 non-null  object \n",
      " 13  GenHealth         319795 non-null  object \n",
      " 14  SleepTime         319795 non-null  float64\n",
      " 15  Asthma            319795 non-null  object \n",
      " 16  KidneyDisease     319795 non-null  object \n",
      " 17  SkinCancer        319795 non-null  object \n",
      "dtypes: float64(4), object(14)\n",
      "memory usage: 43.9+ MB\n"
     ]
    }
   ],
   "source": [
    "# the info() function gives information about all the columns in the dataset\n",
    "df.info()"
   ]
  },
  {
   "cell_type": "markdown",
   "id": "8b28eeb8",
   "metadata": {
    "papermill": {
     "duration": 0.079287,
     "end_time": "2022-05-05T19:49:13.070495",
     "exception": false,
     "start_time": "2022-05-05T19:49:12.991208",
     "status": "completed"
    },
    "tags": []
   },
   "source": [
    "## Checking unique Values in Categorical Columns"
   ]
  },
  {
   "cell_type": "code",
   "execution_count": 13,
   "id": "1088f605",
   "metadata": {
    "execution": {
     "iopub.execute_input": "2022-05-05T19:49:13.226044Z",
     "iopub.status.busy": "2022-05-05T19:49:13.225257Z",
     "iopub.status.idle": "2022-05-05T19:49:13.532468Z",
     "shell.execute_reply": "2022-05-05T19:49:13.531486Z"
    },
    "papermill": {
     "duration": 0.387909,
     "end_time": "2022-05-05T19:49:13.535149",
     "exception": false,
     "start_time": "2022-05-05T19:49:13.147240",
     "status": "completed"
    },
    "tags": []
   },
   "outputs": [
    {
     "name": "stdout",
     "output_type": "stream",
     "text": [
      "['Yes' 'No']\n",
      "['No' 'Yes']\n",
      "['No' 'Yes']\n",
      "['No' 'Yes']\n",
      "['Female' 'Male']\n",
      "['55-59' '80 or older' '65-69' '75-79' '40-44' '70-74' '60-64' '50-54'\n",
      " '45-49' '18-24' '35-39' '30-34' '25-29']\n",
      "['White' 'Black' 'Asian' 'American Indian/Alaskan Native' 'Other'\n",
      " 'Hispanic']\n",
      "['Yes' 'No' 'No, borderline diabetes' 'Yes (during pregnancy)']\n",
      "['Yes' 'No']\n",
      "['Very good' 'Fair' 'Good' 'Poor' 'Excellent']\n",
      "['Yes' 'No']\n",
      "['No' 'Yes']\n",
      "['Yes' 'No']\n"
     ]
    }
   ],
   "source": [
    "# the unique() function prints the unique values in a particular column. It is used to check the values in a categorical column.\n",
    "# printing all the unique values of each column \n",
    "print(df['Smoking'].unique())\n",
    "print(df['AlcoholDrinking'].unique())\n",
    "print(df['Stroke'].unique())\n",
    "print(df['DiffWalking'].unique())\n",
    "print(df['Sex'].unique())\n",
    "print(df['AgeCategory'].unique())\n",
    "print(df['Race'].unique())\n",
    "print(df['Diabetic'].unique())\n",
    "print(df['PhysicalActivity'].unique())\n",
    "print(df['GenHealth'].unique())\n",
    "print(df['Asthma'].unique())\n",
    "print(df['KidneyDisease'].unique())\n",
    "print(df['SkinCancer'].unique())"
   ]
  },
  {
   "cell_type": "markdown",
   "id": "b54eac33",
   "metadata": {
    "papermill": {
     "duration": 0.077399,
     "end_time": "2022-05-05T19:49:13.690804",
     "exception": false,
     "start_time": "2022-05-05T19:49:13.613405",
     "status": "completed"
    },
    "tags": []
   },
   "source": [
    "## Encoding all Binary Categorical Columns"
   ]
  },
  {
   "cell_type": "code",
   "execution_count": 14,
   "id": "6cf4a092",
   "metadata": {
    "execution": {
     "iopub.execute_input": "2022-05-05T19:49:13.867715Z",
     "iopub.status.busy": "2022-05-05T19:49:13.867174Z",
     "iopub.status.idle": "2022-05-05T19:49:15.836096Z",
     "shell.execute_reply": "2022-05-05T19:49:15.835107Z"
    },
    "papermill": {
     "duration": 2.068044,
     "end_time": "2022-05-05T19:49:15.838559",
     "exception": false,
     "start_time": "2022-05-05T19:49:13.770515",
     "status": "completed"
    },
    "tags": []
   },
   "outputs": [],
   "source": [
    "# this is a user defined function that encodes the categorical columns\n",
    "def change(col):\n",
    "    if col=='Yes':\n",
    "        return 1\n",
    "    elif col=='No':\n",
    "        return 0\n",
    "# the apply() function puts value of each row one by one in a column to encode that whole column\n",
    "# encoding all categorical columns having binary values\n",
    "df['Smoking'] = df['Smoking'].apply(change)\n",
    "df['AlcoholDrinking'] = df['AlcoholDrinking'].apply(change)\n",
    "df['Stroke'] = df['Stroke'].apply(change)\n",
    "df['DiffWalking'] = df['DiffWalking'].apply(change)\n",
    "df['PhysicalActivity'] = df['PhysicalActivity'].apply(change)\n",
    "df['Asthma'] = df['Asthma'].apply(change)\n",
    "df['KidneyDisease'] = df['KidneyDisease'].apply(change)\n",
    "df['SkinCancer'] = df['SkinCancer'].apply(change)\n",
    "df['HeartDisease'] = df['HeartDisease'].apply(change)"
   ]
  },
  {
   "cell_type": "markdown",
   "id": "8d7bd7fd",
   "metadata": {
    "papermill": {
     "duration": 0.094009,
     "end_time": "2022-05-05T19:49:16.010851",
     "exception": false,
     "start_time": "2022-05-05T19:49:15.916842",
     "status": "completed"
    },
    "tags": []
   },
   "source": [
    "## Checking State of dataset"
   ]
  },
  {
   "cell_type": "code",
   "execution_count": 15,
   "id": "e2567f03",
   "metadata": {
    "execution": {
     "iopub.execute_input": "2022-05-05T19:49:16.176298Z",
     "iopub.status.busy": "2022-05-05T19:49:16.176032Z",
     "iopub.status.idle": "2022-05-05T19:49:16.196850Z",
     "shell.execute_reply": "2022-05-05T19:49:16.195835Z"
    },
    "papermill": {
     "duration": 0.101105,
     "end_time": "2022-05-05T19:49:16.198907",
     "exception": false,
     "start_time": "2022-05-05T19:49:16.097802",
     "status": "completed"
    },
    "tags": []
   },
   "outputs": [
    {
     "data": {
      "text/html": [
       "<div>\n",
       "<style scoped>\n",
       "    .dataframe tbody tr th:only-of-type {\n",
       "        vertical-align: middle;\n",
       "    }\n",
       "\n",
       "    .dataframe tbody tr th {\n",
       "        vertical-align: top;\n",
       "    }\n",
       "\n",
       "    .dataframe thead th {\n",
       "        text-align: right;\n",
       "    }\n",
       "</style>\n",
       "<table border=\"1\" class=\"dataframe\">\n",
       "  <thead>\n",
       "    <tr style=\"text-align: right;\">\n",
       "      <th></th>\n",
       "      <th>HeartDisease</th>\n",
       "      <th>BMI</th>\n",
       "      <th>Smoking</th>\n",
       "      <th>AlcoholDrinking</th>\n",
       "      <th>Stroke</th>\n",
       "      <th>PhysicalHealth</th>\n",
       "      <th>MentalHealth</th>\n",
       "      <th>DiffWalking</th>\n",
       "      <th>Sex</th>\n",
       "      <th>AgeCategory</th>\n",
       "      <th>Race</th>\n",
       "      <th>Diabetic</th>\n",
       "      <th>PhysicalActivity</th>\n",
       "      <th>GenHealth</th>\n",
       "      <th>SleepTime</th>\n",
       "      <th>Asthma</th>\n",
       "      <th>KidneyDisease</th>\n",
       "      <th>SkinCancer</th>\n",
       "    </tr>\n",
       "  </thead>\n",
       "  <tbody>\n",
       "    <tr>\n",
       "      <th>0</th>\n",
       "      <td>0</td>\n",
       "      <td>16.60</td>\n",
       "      <td>1</td>\n",
       "      <td>0</td>\n",
       "      <td>0</td>\n",
       "      <td>3.0</td>\n",
       "      <td>30.0</td>\n",
       "      <td>0</td>\n",
       "      <td>Female</td>\n",
       "      <td>55-59</td>\n",
       "      <td>White</td>\n",
       "      <td>Yes</td>\n",
       "      <td>1</td>\n",
       "      <td>Very good</td>\n",
       "      <td>5.0</td>\n",
       "      <td>1</td>\n",
       "      <td>0</td>\n",
       "      <td>1</td>\n",
       "    </tr>\n",
       "    <tr>\n",
       "      <th>1</th>\n",
       "      <td>0</td>\n",
       "      <td>20.34</td>\n",
       "      <td>0</td>\n",
       "      <td>0</td>\n",
       "      <td>1</td>\n",
       "      <td>0.0</td>\n",
       "      <td>0.0</td>\n",
       "      <td>0</td>\n",
       "      <td>Female</td>\n",
       "      <td>80 or older</td>\n",
       "      <td>White</td>\n",
       "      <td>No</td>\n",
       "      <td>1</td>\n",
       "      <td>Very good</td>\n",
       "      <td>7.0</td>\n",
       "      <td>0</td>\n",
       "      <td>0</td>\n",
       "      <td>0</td>\n",
       "    </tr>\n",
       "    <tr>\n",
       "      <th>2</th>\n",
       "      <td>0</td>\n",
       "      <td>26.58</td>\n",
       "      <td>1</td>\n",
       "      <td>0</td>\n",
       "      <td>0</td>\n",
       "      <td>20.0</td>\n",
       "      <td>30.0</td>\n",
       "      <td>0</td>\n",
       "      <td>Male</td>\n",
       "      <td>65-69</td>\n",
       "      <td>White</td>\n",
       "      <td>Yes</td>\n",
       "      <td>1</td>\n",
       "      <td>Fair</td>\n",
       "      <td>8.0</td>\n",
       "      <td>1</td>\n",
       "      <td>0</td>\n",
       "      <td>0</td>\n",
       "    </tr>\n",
       "    <tr>\n",
       "      <th>3</th>\n",
       "      <td>0</td>\n",
       "      <td>24.21</td>\n",
       "      <td>0</td>\n",
       "      <td>0</td>\n",
       "      <td>0</td>\n",
       "      <td>0.0</td>\n",
       "      <td>0.0</td>\n",
       "      <td>0</td>\n",
       "      <td>Female</td>\n",
       "      <td>75-79</td>\n",
       "      <td>White</td>\n",
       "      <td>No</td>\n",
       "      <td>0</td>\n",
       "      <td>Good</td>\n",
       "      <td>6.0</td>\n",
       "      <td>0</td>\n",
       "      <td>0</td>\n",
       "      <td>1</td>\n",
       "    </tr>\n",
       "    <tr>\n",
       "      <th>4</th>\n",
       "      <td>0</td>\n",
       "      <td>23.71</td>\n",
       "      <td>0</td>\n",
       "      <td>0</td>\n",
       "      <td>0</td>\n",
       "      <td>28.0</td>\n",
       "      <td>0.0</td>\n",
       "      <td>1</td>\n",
       "      <td>Female</td>\n",
       "      <td>40-44</td>\n",
       "      <td>White</td>\n",
       "      <td>No</td>\n",
       "      <td>1</td>\n",
       "      <td>Very good</td>\n",
       "      <td>8.0</td>\n",
       "      <td>0</td>\n",
       "      <td>0</td>\n",
       "      <td>0</td>\n",
       "    </tr>\n",
       "  </tbody>\n",
       "</table>\n",
       "</div>"
      ],
      "text/plain": [
       "   HeartDisease    BMI  Smoking  AlcoholDrinking  Stroke  PhysicalHealth  \\\n",
       "0             0  16.60        1                0       0             3.0   \n",
       "1             0  20.34        0                0       1             0.0   \n",
       "2             0  26.58        1                0       0            20.0   \n",
       "3             0  24.21        0                0       0             0.0   \n",
       "4             0  23.71        0                0       0            28.0   \n",
       "\n",
       "   MentalHealth  DiffWalking     Sex  AgeCategory   Race Diabetic  \\\n",
       "0          30.0            0  Female        55-59  White      Yes   \n",
       "1           0.0            0  Female  80 or older  White       No   \n",
       "2          30.0            0    Male        65-69  White      Yes   \n",
       "3           0.0            0  Female        75-79  White       No   \n",
       "4           0.0            1  Female        40-44  White       No   \n",
       "\n",
       "   PhysicalActivity  GenHealth  SleepTime  Asthma  KidneyDisease  SkinCancer  \n",
       "0                 1  Very good        5.0       1              0           1  \n",
       "1                 1  Very good        7.0       0              0           0  \n",
       "2                 1       Fair        8.0       1              0           0  \n",
       "3                 0       Good        6.0       0              0           1  \n",
       "4                 1  Very good        8.0       0              0           0  "
      ]
     },
     "execution_count": 15,
     "metadata": {},
     "output_type": "execute_result"
    }
   ],
   "source": [
    "df.head()"
   ]
  },
  {
   "cell_type": "markdown",
   "id": "fb5fb1c3",
   "metadata": {
    "papermill": {
     "duration": 0.086998,
     "end_time": "2022-05-05T19:49:16.363901",
     "exception": false,
     "start_time": "2022-05-05T19:49:16.276903",
     "status": "completed"
    },
    "tags": []
   },
   "source": [
    "## Label Encoding all categorical columns with more than 2 values"
   ]
  },
  {
   "cell_type": "code",
   "execution_count": 16,
   "id": "b16b2043",
   "metadata": {
    "execution": {
     "iopub.execute_input": "2022-05-05T19:49:16.536388Z",
     "iopub.status.busy": "2022-05-05T19:49:16.535422Z",
     "iopub.status.idle": "2022-05-05T19:49:17.051519Z",
     "shell.execute_reply": "2022-05-05T19:49:17.050607Z"
    },
    "papermill": {
     "duration": 0.60989,
     "end_time": "2022-05-05T19:49:17.054238",
     "exception": false,
     "start_time": "2022-05-05T19:49:16.444348",
     "status": "completed"
    },
    "tags": []
   },
   "outputs": [],
   "source": [
    "# making an instance of the label encoder class\n",
    "le = LabelEncoder()\n",
    "# label encoding all the categorical columns that have more than 2 unique values\n",
    "df['Sex']=le.fit_transform(df['Sex'])\n",
    "df['AgeCategory']=le.fit_transform(df['AgeCategory'])\n",
    "df['Race']=le.fit_transform(df['Race'])\n",
    "df['Diabetic']=le.fit_transform(df['Diabetic'])\n",
    "df['GenHealth']=le.fit_transform(df['GenHealth'])"
   ]
  },
  {
   "cell_type": "markdown",
   "id": "05d27dc9",
   "metadata": {
    "papermill": {
     "duration": 0.094201,
     "end_time": "2022-05-05T19:49:17.245981",
     "exception": false,
     "start_time": "2022-05-05T19:49:17.151780",
     "status": "completed"
    },
    "tags": []
   },
   "source": [
    "## Checking state of Dataset"
   ]
  },
  {
   "cell_type": "code",
   "execution_count": 17,
   "id": "1ece1f1e",
   "metadata": {
    "execution": {
     "iopub.execute_input": "2022-05-05T19:49:17.439388Z",
     "iopub.status.busy": "2022-05-05T19:49:17.439127Z",
     "iopub.status.idle": "2022-05-05T19:49:17.458345Z",
     "shell.execute_reply": "2022-05-05T19:49:17.457494Z"
    },
    "papermill": {
     "duration": 0.118357,
     "end_time": "2022-05-05T19:49:17.460398",
     "exception": false,
     "start_time": "2022-05-05T19:49:17.342041",
     "status": "completed"
    },
    "tags": []
   },
   "outputs": [
    {
     "data": {
      "text/html": [
       "<div>\n",
       "<style scoped>\n",
       "    .dataframe tbody tr th:only-of-type {\n",
       "        vertical-align: middle;\n",
       "    }\n",
       "\n",
       "    .dataframe tbody tr th {\n",
       "        vertical-align: top;\n",
       "    }\n",
       "\n",
       "    .dataframe thead th {\n",
       "        text-align: right;\n",
       "    }\n",
       "</style>\n",
       "<table border=\"1\" class=\"dataframe\">\n",
       "  <thead>\n",
       "    <tr style=\"text-align: right;\">\n",
       "      <th></th>\n",
       "      <th>HeartDisease</th>\n",
       "      <th>BMI</th>\n",
       "      <th>Smoking</th>\n",
       "      <th>AlcoholDrinking</th>\n",
       "      <th>Stroke</th>\n",
       "      <th>PhysicalHealth</th>\n",
       "      <th>MentalHealth</th>\n",
       "      <th>DiffWalking</th>\n",
       "      <th>Sex</th>\n",
       "      <th>AgeCategory</th>\n",
       "      <th>Race</th>\n",
       "      <th>Diabetic</th>\n",
       "      <th>PhysicalActivity</th>\n",
       "      <th>GenHealth</th>\n",
       "      <th>SleepTime</th>\n",
       "      <th>Asthma</th>\n",
       "      <th>KidneyDisease</th>\n",
       "      <th>SkinCancer</th>\n",
       "    </tr>\n",
       "  </thead>\n",
       "  <tbody>\n",
       "    <tr>\n",
       "      <th>0</th>\n",
       "      <td>0</td>\n",
       "      <td>16.60</td>\n",
       "      <td>1</td>\n",
       "      <td>0</td>\n",
       "      <td>0</td>\n",
       "      <td>3.0</td>\n",
       "      <td>30.0</td>\n",
       "      <td>0</td>\n",
       "      <td>0</td>\n",
       "      <td>7</td>\n",
       "      <td>5</td>\n",
       "      <td>2</td>\n",
       "      <td>1</td>\n",
       "      <td>4</td>\n",
       "      <td>5.0</td>\n",
       "      <td>1</td>\n",
       "      <td>0</td>\n",
       "      <td>1</td>\n",
       "    </tr>\n",
       "    <tr>\n",
       "      <th>1</th>\n",
       "      <td>0</td>\n",
       "      <td>20.34</td>\n",
       "      <td>0</td>\n",
       "      <td>0</td>\n",
       "      <td>1</td>\n",
       "      <td>0.0</td>\n",
       "      <td>0.0</td>\n",
       "      <td>0</td>\n",
       "      <td>0</td>\n",
       "      <td>12</td>\n",
       "      <td>5</td>\n",
       "      <td>0</td>\n",
       "      <td>1</td>\n",
       "      <td>4</td>\n",
       "      <td>7.0</td>\n",
       "      <td>0</td>\n",
       "      <td>0</td>\n",
       "      <td>0</td>\n",
       "    </tr>\n",
       "    <tr>\n",
       "      <th>2</th>\n",
       "      <td>0</td>\n",
       "      <td>26.58</td>\n",
       "      <td>1</td>\n",
       "      <td>0</td>\n",
       "      <td>0</td>\n",
       "      <td>20.0</td>\n",
       "      <td>30.0</td>\n",
       "      <td>0</td>\n",
       "      <td>1</td>\n",
       "      <td>9</td>\n",
       "      <td>5</td>\n",
       "      <td>2</td>\n",
       "      <td>1</td>\n",
       "      <td>1</td>\n",
       "      <td>8.0</td>\n",
       "      <td>1</td>\n",
       "      <td>0</td>\n",
       "      <td>0</td>\n",
       "    </tr>\n",
       "    <tr>\n",
       "      <th>3</th>\n",
       "      <td>0</td>\n",
       "      <td>24.21</td>\n",
       "      <td>0</td>\n",
       "      <td>0</td>\n",
       "      <td>0</td>\n",
       "      <td>0.0</td>\n",
       "      <td>0.0</td>\n",
       "      <td>0</td>\n",
       "      <td>0</td>\n",
       "      <td>11</td>\n",
       "      <td>5</td>\n",
       "      <td>0</td>\n",
       "      <td>0</td>\n",
       "      <td>2</td>\n",
       "      <td>6.0</td>\n",
       "      <td>0</td>\n",
       "      <td>0</td>\n",
       "      <td>1</td>\n",
       "    </tr>\n",
       "    <tr>\n",
       "      <th>4</th>\n",
       "      <td>0</td>\n",
       "      <td>23.71</td>\n",
       "      <td>0</td>\n",
       "      <td>0</td>\n",
       "      <td>0</td>\n",
       "      <td>28.0</td>\n",
       "      <td>0.0</td>\n",
       "      <td>1</td>\n",
       "      <td>0</td>\n",
       "      <td>4</td>\n",
       "      <td>5</td>\n",
       "      <td>0</td>\n",
       "      <td>1</td>\n",
       "      <td>4</td>\n",
       "      <td>8.0</td>\n",
       "      <td>0</td>\n",
       "      <td>0</td>\n",
       "      <td>0</td>\n",
       "    </tr>\n",
       "  </tbody>\n",
       "</table>\n",
       "</div>"
      ],
      "text/plain": [
       "   HeartDisease    BMI  Smoking  AlcoholDrinking  Stroke  PhysicalHealth  \\\n",
       "0             0  16.60        1                0       0             3.0   \n",
       "1             0  20.34        0                0       1             0.0   \n",
       "2             0  26.58        1                0       0            20.0   \n",
       "3             0  24.21        0                0       0             0.0   \n",
       "4             0  23.71        0                0       0            28.0   \n",
       "\n",
       "   MentalHealth  DiffWalking  Sex  AgeCategory  Race  Diabetic  \\\n",
       "0          30.0            0    0            7     5         2   \n",
       "1           0.0            0    0           12     5         0   \n",
       "2          30.0            0    1            9     5         2   \n",
       "3           0.0            0    0           11     5         0   \n",
       "4           0.0            1    0            4     5         0   \n",
       "\n",
       "   PhysicalActivity  GenHealth  SleepTime  Asthma  KidneyDisease  SkinCancer  \n",
       "0                 1          4        5.0       1              0           1  \n",
       "1                 1          4        7.0       0              0           0  \n",
       "2                 1          1        8.0       1              0           0  \n",
       "3                 0          2        6.0       0              0           1  \n",
       "4                 1          4        8.0       0              0           0  "
      ]
     },
     "execution_count": 17,
     "metadata": {},
     "output_type": "execute_result"
    }
   ],
   "source": [
    "df.head()"
   ]
  },
  {
   "cell_type": "markdown",
   "id": "4cb5ed5f",
   "metadata": {
    "papermill": {
     "duration": 0.078622,
     "end_time": "2022-05-05T19:49:17.617880",
     "exception": false,
     "start_time": "2022-05-05T19:49:17.539258",
     "status": "completed"
    },
    "tags": []
   },
   "source": [
    "## Dividing Dataset into Training and Test Set"
   ]
  },
  {
   "cell_type": "code",
   "execution_count": 18,
   "id": "57d336ce",
   "metadata": {
    "execution": {
     "iopub.execute_input": "2022-05-05T19:49:17.778598Z",
     "iopub.status.busy": "2022-05-05T19:49:17.778313Z",
     "iopub.status.idle": "2022-05-05T19:49:17.851981Z",
     "shell.execute_reply": "2022-05-05T19:49:17.850950Z"
    },
    "papermill": {
     "duration": 0.156292,
     "end_time": "2022-05-05T19:49:17.854381",
     "exception": false,
     "start_time": "2022-05-05T19:49:17.698089",
     "status": "completed"
    },
    "tags": []
   },
   "outputs": [],
   "source": [
    "# iloc[] function is used to select values from the dataset\n",
    "# independent variables\n",
    "X = df.iloc[:,1:].values\n",
    "# dependent variable\n",
    "y = df.iloc[:,0].values"
   ]
  },
  {
   "cell_type": "markdown",
   "id": "48f85710",
   "metadata": {
    "papermill": {
     "duration": 0.078047,
     "end_time": "2022-05-05T19:49:18.011405",
     "exception": false,
     "start_time": "2022-05-05T19:49:17.933358",
     "status": "completed"
    },
    "tags": []
   },
   "source": [
    "## Splitting dataset into Training and Test Set"
   ]
  },
  {
   "cell_type": "code",
   "execution_count": 19,
   "id": "ccb1391c",
   "metadata": {
    "execution": {
     "iopub.execute_input": "2022-05-05T19:49:18.171389Z",
     "iopub.status.busy": "2022-05-05T19:49:18.171113Z",
     "iopub.status.idle": "2022-05-05T19:49:18.271318Z",
     "shell.execute_reply": "2022-05-05T19:49:18.270506Z"
    },
    "papermill": {
     "duration": 0.182401,
     "end_time": "2022-05-05T19:49:18.273712",
     "exception": false,
     "start_time": "2022-05-05T19:49:18.091311",
     "status": "completed"
    },
    "tags": []
   },
   "outputs": [],
   "source": [
    "# train_test_split() is used to divide dataset into training and test set\n",
    "X_train, X_test, y_train, y_test = train_test_split(X, y, test_size=0.2)"
   ]
  },
  {
   "cell_type": "markdown",
   "id": "72fb4276",
   "metadata": {
    "papermill": {
     "duration": 0.07833,
     "end_time": "2022-05-05T19:49:18.431447",
     "exception": false,
     "start_time": "2022-05-05T19:49:18.353117",
     "status": "completed"
    },
    "tags": []
   },
   "source": [
    "## Feature Scaling"
   ]
  },
  {
   "cell_type": "code",
   "execution_count": 20,
   "id": "2e463c2a",
   "metadata": {
    "execution": {
     "iopub.execute_input": "2022-05-05T19:49:18.590768Z",
     "iopub.status.busy": "2022-05-05T19:49:18.590442Z",
     "iopub.status.idle": "2022-05-05T19:49:18.696743Z",
     "shell.execute_reply": "2022-05-05T19:49:18.695836Z"
    },
    "papermill": {
     "duration": 0.189089,
     "end_time": "2022-05-05T19:49:18.699284",
     "exception": false,
     "start_time": "2022-05-05T19:49:18.510195",
     "status": "completed"
    },
    "tags": []
   },
   "outputs": [],
   "source": [
    "# declaring an object of standardscaler class\n",
    "sc = StandardScaler()\n",
    "# fit_transform() method first trains the Scaler on dataset and then transforms it between 0 and 1\n",
    "X_train = sc.fit_transform(X_train)\n",
    "# transform() method only transforms the dataset based on what it has learnt on the dataset before\n",
    "X_test = sc.transform(X_test)"
   ]
  },
  {
   "cell_type": "markdown",
   "id": "fd2a6e23",
   "metadata": {
    "papermill": {
     "duration": 0.079981,
     "end_time": "2022-05-05T19:49:18.857979",
     "exception": false,
     "start_time": "2022-05-05T19:49:18.777998",
     "status": "completed"
    },
    "tags": []
   },
   "source": [
    "## Training Models"
   ]
  },
  {
   "cell_type": "markdown",
   "id": "25bf2f6b",
   "metadata": {
    "papermill": {
     "duration": 0.078942,
     "end_time": "2022-05-05T19:49:19.016310",
     "exception": false,
     "start_time": "2022-05-05T19:49:18.937368",
     "status": "completed"
    },
    "tags": []
   },
   "source": [
    "### 1. Logistic Regression"
   ]
  },
  {
   "cell_type": "code",
   "execution_count": 21,
   "id": "10817362",
   "metadata": {
    "execution": {
     "iopub.execute_input": "2022-05-05T19:49:19.176885Z",
     "iopub.status.busy": "2022-05-05T19:49:19.176363Z",
     "iopub.status.idle": "2022-05-05T19:49:19.729850Z",
     "shell.execute_reply": "2022-05-05T19:49:19.728736Z"
    },
    "papermill": {
     "duration": 0.636928,
     "end_time": "2022-05-05T19:49:19.732972",
     "exception": false,
     "start_time": "2022-05-05T19:49:19.096044",
     "status": "completed"
    },
    "tags": []
   },
   "outputs": [
    {
     "name": "stdout",
     "output_type": "stream",
     "text": [
      "[[58031   470]\n",
      " [ 4957   501]]\n",
      "0.915148767178974\n"
     ]
    }
   ],
   "source": [
    "# declaring a object of Logistic regression class\n",
    "clf1 = LogisticRegression()\n",
    "# fit() function trains the model\n",
    "# fitting the object with the training data\n",
    "clf1.fit(X_train, y_train)\n",
    "# predict() function predicts results from validation data\n",
    "# predicting result using the trained data\n",
    "y_pred1 = clf1.predict(X_test)\n",
    "# confusion_matrix() gives the true_positives, false positives, true negatives, false negatives\n",
    "# making confusion matrix using predicted and given results in validation data\n",
    "cm1=confusion_matrix(y_test,y_pred1)\n",
    "# printing the confusion matrix\n",
    "print(cm1)\n",
    "# accuracy_score() is used to find the accuracy of the model\n",
    "print(accuracy_score(y_test,y_pred1))"
   ]
  },
  {
   "cell_type": "markdown",
   "id": "ff0b5668",
   "metadata": {
    "papermill": {
     "duration": 0.083775,
     "end_time": "2022-05-05T19:49:19.934805",
     "exception": false,
     "start_time": "2022-05-05T19:49:19.851030",
     "status": "completed"
    },
    "tags": []
   },
   "source": [
    "### 2. K Nearest Neighbors"
   ]
  },
  {
   "cell_type": "code",
   "execution_count": 22,
   "id": "cb6fa4c5",
   "metadata": {
    "execution": {
     "iopub.execute_input": "2022-05-05T19:49:20.126172Z",
     "iopub.status.busy": "2022-05-05T19:49:20.125860Z",
     "iopub.status.idle": "2022-05-05T19:55:20.241079Z",
     "shell.execute_reply": "2022-05-05T19:55:20.239931Z"
    },
    "papermill": {
     "duration": 360.298289,
     "end_time": "2022-05-05T19:55:20.329582",
     "exception": false,
     "start_time": "2022-05-05T19:49:20.031293",
     "status": "completed"
    },
    "tags": []
   },
   "outputs": [
    {
     "name": "stdout",
     "output_type": "stream",
     "text": [
      "[[57218  1283]\n",
      " [ 4748   710]]\n",
      "0.9057052174049001\n"
     ]
    }
   ],
   "source": [
    "# declaring a object of K Neighbors Classifier class\n",
    "clf2 = KNeighborsClassifier()\n",
    "clf2.fit(X_train, y_train)\n",
    "y_pred2 = clf2.predict(X_test)\n",
    "cm2 = confusion_matrix(y_test,y_pred2)\n",
    "print(cm2)\n",
    "print(accuracy_score(y_test,y_pred2))"
   ]
  },
  {
   "cell_type": "markdown",
   "id": "1e6e98c0",
   "metadata": {
    "papermill": {
     "duration": 0.081405,
     "end_time": "2022-05-05T19:55:20.493551",
     "exception": false,
     "start_time": "2022-05-05T19:55:20.412146",
     "status": "completed"
    },
    "tags": []
   },
   "source": [
    "### 3. Naive Bayes"
   ]
  },
  {
   "cell_type": "code",
   "execution_count": 23,
   "id": "48263b40",
   "metadata": {
    "execution": {
     "iopub.execute_input": "2022-05-05T19:55:20.656005Z",
     "iopub.status.busy": "2022-05-05T19:55:20.655398Z",
     "iopub.status.idle": "2022-05-05T19:55:20.795148Z",
     "shell.execute_reply": "2022-05-05T19:55:20.794409Z"
    },
    "papermill": {
     "duration": 0.224107,
     "end_time": "2022-05-05T19:55:20.797216",
     "exception": false,
     "start_time": "2022-05-05T19:55:20.573109",
     "status": "completed"
    },
    "tags": []
   },
   "outputs": [
    {
     "name": "stdout",
     "output_type": "stream",
     "text": [
      "[[51703  6798]\n",
      " [ 3000  2458]]\n",
      "0.8468081114463953\n"
     ]
    }
   ],
   "source": [
    "# declaring a object of GaussianNB class\n",
    "clf3 = GaussianNB()\n",
    "clf3.fit(X_train, y_train)\n",
    "y_pred3 = clf3.predict(X_test)\n",
    "cm3 = confusion_matrix(y_test,y_pred3)\n",
    "print(cm3)\n",
    "print(accuracy_score(y_test,y_pred3))"
   ]
  },
  {
   "cell_type": "markdown",
   "id": "27658083",
   "metadata": {
    "papermill": {
     "duration": 0.08076,
     "end_time": "2022-05-05T19:55:20.962458",
     "exception": false,
     "start_time": "2022-05-05T19:55:20.881698",
     "status": "completed"
    },
    "tags": []
   },
   "source": [
    "### 4. Support Vector Machine ( Not Recommended due to very long execution time {more than 4 hours} ) "
   ]
  },
  {
   "cell_type": "code",
   "execution_count": 24,
   "id": "f3002f46",
   "metadata": {
    "execution": {
     "iopub.execute_input": "2022-05-05T19:55:21.127808Z",
     "iopub.status.busy": "2022-05-05T19:55:21.127478Z",
     "iopub.status.idle": "2022-05-05T19:55:21.131100Z",
     "shell.execute_reply": "2022-05-05T19:55:21.130227Z"
    },
    "papermill": {
     "duration": 0.087972,
     "end_time": "2022-05-05T19:55:21.133212",
     "exception": false,
     "start_time": "2022-05-05T19:55:21.045240",
     "status": "completed"
    },
    "tags": []
   },
   "outputs": [],
   "source": [
    "# clf4 = SVC()\n",
    "# clf4.fit(X_train,y_train)\n",
    "# y_pred4 = clf4.predict(X_test)\n",
    "# cm4 = confusion_matrix(y_test,y_pred4)\n",
    "# print(cm4)\n",
    "# print(accuracy_score(y_test,y_pred4))"
   ]
  },
  {
   "cell_type": "code",
   "execution_count": 25,
   "id": "78785613",
   "metadata": {
    "execution": {
     "iopub.execute_input": "2022-05-05T19:55:21.296134Z",
     "iopub.status.busy": "2022-05-05T19:55:21.295572Z",
     "iopub.status.idle": "2022-05-05T19:55:21.299817Z",
     "shell.execute_reply": "2022-05-05T19:55:21.298959Z"
    },
    "papermill": {
     "duration": 0.088021,
     "end_time": "2022-05-05T19:55:21.301898",
     "exception": false,
     "start_time": "2022-05-05T19:55:21.213877",
     "status": "completed"
    },
    "tags": []
   },
   "outputs": [],
   "source": [
    "# rand_grid = {\n",
    "#     'kernel':['linear','poly','rbf','sigmoid'],\n",
    "#     'C':[int(x) for x in np.linspace(start = 2, stop = 10,num = 10)],\n",
    "#     'gamma':[int(x) for x in np.linspace(start = 0.1, stop = 1, num = 5)]\n",
    "# }"
   ]
  },
  {
   "cell_type": "code",
   "execution_count": 26,
   "id": "65e5c3f5",
   "metadata": {
    "execution": {
     "iopub.execute_input": "2022-05-05T19:55:21.470948Z",
     "iopub.status.busy": "2022-05-05T19:55:21.470600Z",
     "iopub.status.idle": "2022-05-05T19:55:21.474205Z",
     "shell.execute_reply": "2022-05-05T19:55:21.473293Z"
    },
    "papermill": {
     "duration": 0.089571,
     "end_time": "2022-05-05T19:55:21.476196",
     "exception": false,
     "start_time": "2022-05-05T19:55:21.386625",
     "status": "completed"
    },
    "tags": []
   },
   "outputs": [],
   "source": [
    "# rcv = RandomizedSearchCV(estimator=clf4,param_distributions=rand_grid,n_iter=100,cv=3,verbose=2,random_state=0,n_jobs=-1)\n",
    "# rcv.fit(X_train, y_train)"
   ]
  },
  {
   "cell_type": "code",
   "execution_count": 27,
   "id": "56395050",
   "metadata": {
    "execution": {
     "iopub.execute_input": "2022-05-05T19:55:21.641262Z",
     "iopub.status.busy": "2022-05-05T19:55:21.640668Z",
     "iopub.status.idle": "2022-05-05T19:55:21.643835Z",
     "shell.execute_reply": "2022-05-05T19:55:21.643199Z"
    },
    "papermill": {
     "duration": 0.087298,
     "end_time": "2022-05-05T19:55:21.645695",
     "exception": false,
     "start_time": "2022-05-05T19:55:21.558397",
     "status": "completed"
    },
    "tags": []
   },
   "outputs": [],
   "source": [
    "# print(rcv.best_params_)\n",
    "# print(rcv.best_estimator_)"
   ]
  },
  {
   "cell_type": "markdown",
   "id": "157e3efe",
   "metadata": {
    "papermill": {
     "duration": 0.080004,
     "end_time": "2022-05-05T19:55:21.805686",
     "exception": false,
     "start_time": "2022-05-05T19:55:21.725682",
     "status": "completed"
    },
    "tags": []
   },
   "source": [
    "### 5. Decision Tree"
   ]
  },
  {
   "cell_type": "code",
   "execution_count": 28,
   "id": "c2892907",
   "metadata": {
    "execution": {
     "iopub.execute_input": "2022-05-05T19:55:21.972677Z",
     "iopub.status.busy": "2022-05-05T19:55:21.972104Z",
     "iopub.status.idle": "2022-05-05T19:55:23.555089Z",
     "shell.execute_reply": "2022-05-05T19:55:23.554076Z"
    },
    "papermill": {
     "duration": 1.668728,
     "end_time": "2022-05-05T19:55:23.557485",
     "exception": false,
     "start_time": "2022-05-05T19:55:21.888757",
     "status": "completed"
    },
    "tags": []
   },
   "outputs": [
    {
     "name": "stdout",
     "output_type": "stream",
     "text": [
      "[[54015  4486]\n",
      " [ 4141  1317]]\n",
      "0.8651167153958005\n"
     ]
    }
   ],
   "source": [
    "# declaring a object of Decision Tree Classifier class\n",
    "clf5 = DecisionTreeClassifier(criterion='entropy')\n",
    "clf5.fit(X_train, y_train)\n",
    "y_pred5 = clf5.predict(X_test)\n",
    "cm5 = confusion_matrix(y_test,y_pred5)\n",
    "print(cm5)\n",
    "print(accuracy_score(y_test,y_pred5))"
   ]
  },
  {
   "cell_type": "markdown",
   "id": "331219cd",
   "metadata": {
    "papermill": {
     "duration": 0.080486,
     "end_time": "2022-05-05T19:55:23.718620",
     "exception": false,
     "start_time": "2022-05-05T19:55:23.638134",
     "status": "completed"
    },
    "tags": []
   },
   "source": [
    "### 6. Random Forest"
   ]
  },
  {
   "cell_type": "code",
   "execution_count": 29,
   "id": "4ded76a7",
   "metadata": {
    "execution": {
     "iopub.execute_input": "2022-05-05T19:55:23.904811Z",
     "iopub.status.busy": "2022-05-05T19:55:23.904484Z",
     "iopub.status.idle": "2022-05-05T19:55:42.270599Z",
     "shell.execute_reply": "2022-05-05T19:55:42.269699Z"
    },
    "papermill": {
     "duration": 18.462087,
     "end_time": "2022-05-05T19:55:42.272898",
     "exception": false,
     "start_time": "2022-05-05T19:55:23.810811",
     "status": "completed"
    },
    "tags": []
   },
   "outputs": [
    {
     "name": "stdout",
     "output_type": "stream",
     "text": [
      "[[57317  1184]\n",
      " [ 4778   680]]\n",
      "0.9067840335214747\n"
     ]
    }
   ],
   "source": [
    "# declaring a object of Random Forest Classifier class\n",
    "clf6 = RandomForestClassifier(criterion='entropy',n_estimators=50)\n",
    "clf6.fit(X_train, y_train)\n",
    "y_pred6 = clf6.predict(X_test)\n",
    "cm6 = confusion_matrix(y_test,y_pred6)\n",
    "print(cm6)\n",
    "print(accuracy_score(y_test,y_pred6))"
   ]
  },
  {
   "cell_type": "markdown",
   "id": "11b51e00",
   "metadata": {
    "papermill": {
     "duration": 0.080297,
     "end_time": "2022-05-05T19:55:42.433832",
     "exception": false,
     "start_time": "2022-05-05T19:55:42.353535",
     "status": "completed"
    },
    "tags": []
   },
   "source": [
    "### Applying Hyperparameter Tuning on Random Forest"
   ]
  },
  {
   "cell_type": "markdown",
   "id": "70248d1f",
   "metadata": {
    "papermill": {
     "duration": 0.080676,
     "end_time": "2022-05-05T19:55:42.594999",
     "exception": false,
     "start_time": "2022-05-05T19:55:42.514323",
     "status": "completed"
    },
    "tags": []
   },
   "source": [
    "### RandomizedSearchCV"
   ]
  },
  {
   "cell_type": "markdown",
   "id": "2571429f",
   "metadata": {
    "papermill": {
     "duration": 0.080568,
     "end_time": "2022-05-05T19:55:42.756892",
     "exception": false,
     "start_time": "2022-05-05T19:55:42.676324",
     "status": "completed"
    },
    "tags": []
   },
   "source": [
    "###     a) Making the Parameter Grid"
   ]
  },
  {
   "cell_type": "code",
   "execution_count": 30,
   "id": "c941365e",
   "metadata": {
    "execution": {
     "iopub.execute_input": "2022-05-05T19:55:42.926465Z",
     "iopub.status.busy": "2022-05-05T19:55:42.926156Z",
     "iopub.status.idle": "2022-05-05T19:55:42.935206Z",
     "shell.execute_reply": "2022-05-05T19:55:42.934020Z"
    },
    "papermill": {
     "duration": 0.095105,
     "end_time": "2022-05-05T19:55:42.937505",
     "exception": false,
     "start_time": "2022-05-05T19:55:42.842400",
     "status": "completed"
    },
    "tags": []
   },
   "outputs": [
    {
     "name": "stdout",
     "output_type": "stream",
     "text": [
      "{'n_estimators': [2, 12, 23, 34, 45, 56, 67, 78, 89, 100], 'max_features': ['auto', 'sqrt', 'log2'], 'max_depth': [10, 120, 230, 340, 450, 560, 670, 780, 890, 1000], 'min_samples_split': [2, 5, 7, 10, 12, 14], 'min_samples_leaf': [1, 2, 4, 6, 8], 'criterion': ['entropy', 'gini']}\n"
     ]
    }
   ],
   "source": [
    "# making the set of parameters to test the RandomizedSearchCV \n",
    "param_grid = {\n",
    "    'n_estimators': [int(x) for x in np.linspace(start=2,stop=100,num=10)],\n",
    "    'max_features': ['auto','sqrt','log2'],\n",
    "    'max_depth': [int(x) for x in np.linspace(10,1000,10)],\n",
    "    'min_samples_split': [2,5,7,10,12,14],\n",
    "    'min_samples_leaf': [1,2,4,6,8],\n",
    "    'criterion': ['entropy','gini']\n",
    "}\n",
    "print(param_grid)"
   ]
  },
  {
   "cell_type": "markdown",
   "id": "0b78c64c",
   "metadata": {
    "papermill": {
     "duration": 0.080629,
     "end_time": "2022-05-05T19:55:43.098961",
     "exception": false,
     "start_time": "2022-05-05T19:55:43.018332",
     "status": "completed"
    },
    "tags": []
   },
   "source": [
    "### b) Running RandomizedSearchCV to find best parameters"
   ]
  },
  {
   "cell_type": "code",
   "execution_count": 31,
   "id": "066ede86",
   "metadata": {
    "execution": {
     "iopub.execute_input": "2022-05-05T19:55:43.262720Z",
     "iopub.status.busy": "2022-05-05T19:55:43.262068Z",
     "iopub.status.idle": "2022-05-05T20:38:14.830469Z",
     "shell.execute_reply": "2022-05-05T20:38:14.829396Z"
    },
    "papermill": {
     "duration": 2551.83551,
     "end_time": "2022-05-05T20:38:15.014945",
     "exception": false,
     "start_time": "2022-05-05T19:55:43.179435",
     "status": "completed"
    },
    "tags": []
   },
   "outputs": [
    {
     "name": "stdout",
     "output_type": "stream",
     "text": [
      "Fitting 5 folds for each of 100 candidates, totalling 500 fits\n",
      "[CV] END criterion=entropy, max_depth=560, max_features=auto, min_samples_leaf=6, min_samples_split=14, n_estimators=34; total time=  15.8s\n",
      "[CV] END criterion=entropy, max_depth=780, max_features=log2, min_samples_leaf=1, min_samples_split=2, n_estimators=89; total time=  45.3s\n",
      "[CV] END criterion=gini, max_depth=780, max_features=auto, min_samples_leaf=1, min_samples_split=7, n_estimators=23; total time=  11.3s\n",
      "[CV] END criterion=gini, max_depth=780, max_features=auto, min_samples_leaf=1, min_samples_split=7, n_estimators=23; total time=  10.7s\n",
      "[CV] END criterion=gini, max_depth=890, max_features=log2, min_samples_leaf=4, min_samples_split=7, n_estimators=100; total time=  44.8s\n",
      "[CV] END criterion=gini, max_depth=890, max_features=log2, min_samples_leaf=4, min_samples_split=7, n_estimators=100; total time=  45.0s\n",
      "[CV] END criterion=entropy, max_depth=10, max_features=auto, min_samples_leaf=6, min_samples_split=7, n_estimators=23; total time=   7.9s\n",
      "[CV] END criterion=entropy, max_depth=10, max_features=auto, min_samples_leaf=6, min_samples_split=7, n_estimators=23; total time=   8.1s\n",
      "[CV] END criterion=entropy, max_depth=10, max_features=auto, min_samples_leaf=6, min_samples_split=7, n_estimators=23; total time=   7.9s\n",
      "[CV] END criterion=entropy, max_depth=1000, max_features=auto, min_samples_leaf=4, min_samples_split=7, n_estimators=2; total time=   1.3s\n",
      "[CV] END criterion=entropy, max_depth=1000, max_features=auto, min_samples_leaf=4, min_samples_split=7, n_estimators=2; total time=   0.9s\n",
      "[CV] END criterion=gini, max_depth=780, max_features=sqrt, min_samples_leaf=4, min_samples_split=5, n_estimators=2; total time=   1.0s\n",
      "[CV] END criterion=gini, max_depth=780, max_features=sqrt, min_samples_leaf=4, min_samples_split=5, n_estimators=2; total time=   1.0s\n",
      "[CV] END criterion=gini, max_depth=120, max_features=sqrt, min_samples_leaf=2, min_samples_split=5, n_estimators=34; total time=  17.1s\n",
      "[CV] END criterion=entropy, max_depth=780, max_features=log2, min_samples_leaf=1, min_samples_split=14, n_estimators=89; total time=  44.7s\n",
      "[CV] END criterion=gini, max_depth=780, max_features=sqrt, min_samples_leaf=1, min_samples_split=2, n_estimators=45; total time=  22.6s\n",
      "[CV] END criterion=gini, max_depth=780, max_features=sqrt, min_samples_leaf=1, min_samples_split=2, n_estimators=45; total time=  23.7s\n",
      "[CV] END criterion=entropy, max_depth=230, max_features=auto, min_samples_leaf=4, min_samples_split=5, n_estimators=89; total time=  43.1s\n",
      "[CV] END criterion=entropy, max_depth=120, max_features=sqrt, min_samples_leaf=6, min_samples_split=5, n_estimators=12; total time=   6.0s\n",
      "[CV] END criterion=entropy, max_depth=780, max_features=auto, min_samples_leaf=8, min_samples_split=10, n_estimators=12; total time=   6.4s\n",
      "[CV] END criterion=gini, max_depth=1000, max_features=sqrt, min_samples_leaf=4, min_samples_split=10, n_estimators=56; total time=  25.3s\n",
      "[CV] END criterion=entropy, max_depth=120, max_features=log2, min_samples_leaf=6, min_samples_split=14, n_estimators=12; total time=   6.3s\n",
      "[CV] END criterion=entropy, max_depth=120, max_features=log2, min_samples_leaf=6, min_samples_split=14, n_estimators=12; total time=   5.5s\n",
      "[CV] END criterion=gini, max_depth=10, max_features=auto, min_samples_leaf=6, min_samples_split=14, n_estimators=45; total time=  14.0s\n",
      "[CV] END criterion=gini, max_depth=10, max_features=auto, min_samples_leaf=6, min_samples_split=14, n_estimators=45; total time=  14.7s\n",
      "[CV] END criterion=gini, max_depth=230, max_features=log2, min_samples_leaf=8, min_samples_split=7, n_estimators=100; total time=  43.8s\n",
      "[CV] END criterion=entropy, max_depth=670, max_features=sqrt, min_samples_leaf=8, min_samples_split=14, n_estimators=12; total time=   5.3s\n",
      "[CV] END criterion=entropy, max_depth=670, max_features=sqrt, min_samples_leaf=8, min_samples_split=14, n_estimators=12; total time=   4.9s\n",
      "[CV] END criterion=gini, max_depth=780, max_features=log2, min_samples_leaf=8, min_samples_split=5, n_estimators=45; total time=  19.8s\n",
      "[CV] END criterion=gini, max_depth=780, max_features=log2, min_samples_leaf=8, min_samples_split=5, n_estimators=45; total time=  19.5s\n",
      "[CV] END criterion=gini, max_depth=670, max_features=sqrt, min_samples_leaf=6, min_samples_split=2, n_estimators=100; total time=  42.4s\n",
      "[CV] END criterion=entropy, max_depth=670, max_features=auto, min_samples_leaf=6, min_samples_split=12, n_estimators=100; total time=  41.4s\n",
      "[CV] END criterion=entropy, max_depth=120, max_features=log2, min_samples_leaf=4, min_samples_split=2, n_estimators=56; total time=  23.8s\n",
      "[CV] END criterion=entropy, max_depth=120, max_features=log2, min_samples_leaf=4, min_samples_split=2, n_estimators=56; total time=  23.9s\n",
      "[CV] END criterion=entropy, max_depth=1000, max_features=auto, min_samples_leaf=8, min_samples_split=2, n_estimators=100; total time=  40.7s\n",
      "[CV] END criterion=entropy, max_depth=890, max_features=sqrt, min_samples_leaf=4, min_samples_split=2, n_estimators=56; total time=  24.7s\n",
      "[CV] END criterion=entropy, max_depth=230, max_features=log2, min_samples_leaf=2, min_samples_split=10, n_estimators=12; total time=   5.5s\n",
      "[CV] END criterion=entropy, max_depth=230, max_features=log2, min_samples_leaf=2, min_samples_split=10, n_estimators=12; total time=   5.2s\n",
      "[CV] END criterion=entropy, max_depth=120, max_features=auto, min_samples_leaf=8, min_samples_split=7, n_estimators=67; total time=  27.1s\n",
      "[CV] END criterion=gini, max_depth=120, max_features=auto, min_samples_leaf=6, min_samples_split=10, n_estimators=89; total time=  35.3s\n",
      "[CV] END criterion=gini, max_depth=230, max_features=log2, min_samples_leaf=1, min_samples_split=10, n_estimators=34; total time=  13.8s\n",
      "[CV] END criterion=gini, max_depth=230, max_features=log2, min_samples_leaf=1, min_samples_split=10, n_estimators=34; total time=  14.1s\n",
      "[CV] END criterion=gini, max_depth=670, max_features=sqrt, min_samples_leaf=6, min_samples_split=5, n_estimators=12; total time=   4.5s\n",
      "[CV] END criterion=gini, max_depth=670, max_features=sqrt, min_samples_leaf=6, min_samples_split=5, n_estimators=12; total time=   4.4s\n",
      "[CV] END criterion=gini, max_depth=450, max_features=auto, min_samples_leaf=4, min_samples_split=7, n_estimators=100; total time=  38.5s\n",
      "[CV] END criterion=gini, max_depth=450, max_features=log2, min_samples_leaf=1, min_samples_split=2, n_estimators=56; total time=  24.9s\n",
      "[CV] END criterion=entropy, max_depth=560, max_features=log2, min_samples_leaf=4, min_samples_split=5, n_estimators=67; total time=  26.3s\n",
      "[CV] END criterion=entropy, max_depth=560, max_features=log2, min_samples_leaf=4, min_samples_split=5, n_estimators=67; total time=  26.7s\n",
      "[CV] END criterion=gini, max_depth=230, max_features=sqrt, min_samples_leaf=8, min_samples_split=7, n_estimators=67; total time=  26.2s\n",
      "[CV] END criterion=gini, max_depth=450, max_features=log2, min_samples_leaf=4, min_samples_split=10, n_estimators=89; total time=  34.8s\n",
      "[CV] END criterion=gini, max_depth=10, max_features=auto, min_samples_leaf=4, min_samples_split=12, n_estimators=12; total time=   3.2s\n",
      "[CV] END criterion=gini, max_depth=10, max_features=auto, min_samples_leaf=4, min_samples_split=12, n_estimators=12; total time=   3.4s\n",
      "[CV] END criterion=entropy, max_depth=890, max_features=log2, min_samples_leaf=4, min_samples_split=5, n_estimators=23; total time=   9.6s\n",
      "[CV] END criterion=entropy, max_depth=890, max_features=log2, min_samples_leaf=4, min_samples_split=5, n_estimators=23; total time=   9.1s\n",
      "[CV] END criterion=entropy, max_depth=1000, max_features=sqrt, min_samples_leaf=4, min_samples_split=7, n_estimators=100; total time=  39.9s\n",
      "[CV] END criterion=gini, max_depth=780, max_features=auto, min_samples_leaf=4, min_samples_split=12, n_estimators=100; total time=  40.7s\n",
      "[CV] END criterion=gini, max_depth=560, max_features=log2, min_samples_leaf=4, min_samples_split=2, n_estimators=2; total time=   1.1s\n",
      "[CV] END criterion=gini, max_depth=560, max_features=log2, min_samples_leaf=4, min_samples_split=2, n_estimators=2; total time=   0.8s\n",
      "[CV] END criterion=gini, max_depth=560, max_features=log2, min_samples_leaf=4, min_samples_split=2, n_estimators=2; total time=   0.8s\n",
      "[CV] END criterion=gini, max_depth=560, max_features=log2, min_samples_leaf=4, min_samples_split=2, n_estimators=2; total time=   0.8s[CV] END criterion=entropy, max_depth=560, max_features=auto, min_samples_leaf=6, min_samples_split=14, n_estimators=34; total time=  15.3s\n",
      "[CV] END criterion=entropy, max_depth=560, max_features=auto, min_samples_leaf=6, min_samples_split=14, n_estimators=34; total time=  14.8s\n",
      "[CV] END criterion=entropy, max_depth=780, max_features=log2, min_samples_leaf=1, min_samples_split=2, n_estimators=89; total time=  44.5s\n",
      "[CV] END criterion=gini, max_depth=780, max_features=auto, min_samples_leaf=1, min_samples_split=7, n_estimators=23; total time=  11.3s\n",
      "[CV] END criterion=gini, max_depth=890, max_features=log2, min_samples_leaf=4, min_samples_split=7, n_estimators=100; total time=  46.2s\n",
      "[CV] END criterion=gini, max_depth=560, max_features=sqrt, min_samples_leaf=2, min_samples_split=5, n_estimators=67; total time=  35.2s\n",
      "[CV] END criterion=gini, max_depth=560, max_features=sqrt, min_samples_leaf=2, min_samples_split=5, n_estimators=67; total time=  32.6s\n",
      "[CV] END criterion=gini, max_depth=780, max_features=sqrt, min_samples_leaf=4, min_samples_split=5, n_estimators=2; total time=   1.0s\n",
      "[CV] END criterion=gini, max_depth=120, max_features=sqrt, min_samples_leaf=2, min_samples_split=5, n_estimators=34; total time=  17.0s\n",
      "[CV] END criterion=entropy, max_depth=780, max_features=log2, min_samples_leaf=1, min_samples_split=14, n_estimators=89; total time=  42.6s\n",
      "[CV] END criterion=entropy, max_depth=780, max_features=log2, min_samples_leaf=1, min_samples_split=14, n_estimators=89; total time=  39.7s\n",
      "[CV] END criterion=entropy, max_depth=230, max_features=auto, min_samples_leaf=4, min_samples_split=5, n_estimators=89; total time=  38.4s\n",
      "[CV] END criterion=entropy, max_depth=120, max_features=sqrt, min_samples_leaf=6, min_samples_split=5, n_estimators=12; total time=   5.0s\n",
      "[CV] END criterion=entropy, max_depth=120, max_features=sqrt, min_samples_leaf=6, min_samples_split=5, n_estimators=12; total time=   4.7s\n",
      "[CV] END criterion=entropy, max_depth=120, max_features=sqrt, min_samples_leaf=6, min_samples_split=5, n_estimators=12; total time=   4.7s\n",
      "[CV] END criterion=entropy, max_depth=780, max_features=auto, min_samples_leaf=8, min_samples_split=10, n_estimators=12; total time=   4.8s\n",
      "[CV] END criterion=entropy, max_depth=780, max_features=auto, min_samples_leaf=8, min_samples_split=10, n_estimators=12; total time=   5.7s\n",
      "[CV] END criterion=gini, max_depth=1000, max_features=sqrt, min_samples_leaf=4, min_samples_split=10, n_estimators=56; total time=  23.9s\n",
      "[CV] END criterion=gini, max_depth=1000, max_features=sqrt, min_samples_leaf=4, min_samples_split=10, n_estimators=56; total time=  24.4s\n",
      "[CV] END criterion=gini, max_depth=10, max_features=auto, min_samples_leaf=6, min_samples_split=14, n_estimators=45; total time=  13.9s\n",
      "[CV] END criterion=gini, max_depth=1000, max_features=log2, min_samples_leaf=6, min_samples_split=10, n_estimators=23; total time=   8.9s\n",
      "[CV] END criterion=gini, max_depth=230, max_features=log2, min_samples_leaf=8, min_samples_split=7, n_estimators=100; total time=  39.5s\n",
      "[CV] END criterion=gini, max_depth=230, max_features=log2, min_samples_leaf=8, min_samples_split=7, n_estimators=100; total time=  38.7s\n",
      "[CV] END criterion=gini, max_depth=670, max_features=sqrt, min_samples_leaf=6, min_samples_split=2, n_estimators=100; total time=  40.7s\n",
      "[CV] END criterion=entropy, max_depth=670, max_features=auto, min_samples_leaf=6, min_samples_split=12, n_estimators=100; total time=  40.4s\n",
      "[CV] END criterion=entropy, max_depth=670, max_features=auto, min_samples_leaf=6, min_samples_split=12, n_estimators=100; total time=  39.0s\n",
      "[CV] END criterion=entropy, max_depth=120, max_features=log2, min_samples_leaf=4, min_samples_split=2, n_estimators=56; total time=  23.6s\n",
      "[CV] END criterion=entropy, max_depth=1000, max_features=auto, min_samples_leaf=8, min_samples_split=2, n_estimators=100; total time=  37.2s\n",
      "[CV] END criterion=entropy, max_depth=890, max_features=sqrt, min_samples_leaf=4, min_samples_split=2, n_estimators=56; total time=  21.8s\n",
      "[CV] END criterion=entropy, max_depth=230, max_features=log2, min_samples_leaf=2, min_samples_split=10, n_estimators=12; total time=   5.2s\n",
      "[CV] END criterion=entropy, max_depth=230, max_features=log2, min_samples_leaf=2, min_samples_split=10, n_estimators=12; total time=   4.7s\n",
      "[CV] END criterion=entropy, max_depth=230, max_features=log2, min_samples_leaf=2, min_samples_split=10, n_estimators=12; total time=   4.8s\n",
      "[CV] END criterion=entropy, max_depth=120, max_features=auto, min_samples_leaf=8, min_samples_split=7, n_estimators=67; total time=  26.2s\n",
      "[CV] END criterion=entropy, max_depth=120, max_features=auto, min_samples_leaf=8, min_samples_split=7, n_estimators=67; total time=  24.8s\n",
      "[CV] END criterion=gini, max_depth=120, max_features=auto, min_samples_leaf=6, min_samples_split=10, n_estimators=89; total time=  32.4s\n",
      "[CV] END criterion=gini, max_depth=230, max_features=log2, min_samples_leaf=1, min_samples_split=10, n_estimators=34; total time=  13.4s\n",
      "[CV] END criterion=gini, max_depth=670, max_features=sqrt, min_samples_leaf=6, min_samples_split=5, n_estimators=12; total time=   4.3s\n",
      "[CV] END criterion=gini, max_depth=450, max_features=auto, min_samples_leaf=4, min_samples_split=7, n_estimators=100; total time=  37.1s\n",
      "[CV] END criterion=gini, max_depth=450, max_features=log2, min_samples_leaf=1, min_samples_split=2, n_estimators=56; total time=  24.4s\n",
      "[CV] END criterion=gini, max_depth=450, max_features=log2, min_samples_leaf=1, min_samples_split=2, n_estimators=56; total time=  24.1s\n",
      "[CV] END criterion=entropy, max_depth=560, max_features=log2, min_samples_leaf=4, min_samples_split=5, n_estimators=67; total time=  26.3s\n",
      "[CV] END criterion=gini, max_depth=230, max_features=sqrt, min_samples_leaf=8, min_samples_split=7, n_estimators=67; total time=  23.9s\n",
      "[CV] END criterion=gini, max_depth=1000, max_features=log2, min_samples_leaf=4, min_samples_split=14, n_estimators=2; total time=   0.8s\n",
      "[CV] END criterion=gini, max_depth=1000, max_features=log2, min_samples_leaf=4, min_samples_split=14, n_estimators=2; total time=   0.8s\n",
      "[CV] END criterion=gini, max_depth=1000, max_features=log2, min_samples_leaf=4, min_samples_split=14, n_estimators=2; total time=   0.9s\n",
      "[CV] END criterion=gini, max_depth=670, max_features=sqrt, min_samples_leaf=2, min_samples_split=2, n_estimators=2; total time=   0.9s\n",
      "[CV] END criterion=gini, max_depth=670, max_features=sqrt, min_samples_leaf=2, min_samples_split=2, n_estimators=2; total time=   0.9s\n",
      "[CV] END criterion=gini, max_depth=450, max_features=log2, min_samples_leaf=4, min_samples_split=10, n_estimators=89; total time=  32.9s\n",
      "[CV] END criterion=gini, max_depth=450, max_features=log2, min_samples_leaf=4, min_samples_split=10, n_estimators=89; total time=  33.2s\n",
      "[CV] END criterion=entropy, max_depth=1000, max_features=sqrt, min_samples_leaf=4, min_samples_split=7, n_estimators=100; total time=  38.2s\n",
      "[CV] END criterion=gini, max_depth=780, max_features=auto, min_samples_leaf=4, min_samples_split=12, n_estimators=100; total time=  42.0s\n",
      "[CV] END criterion=entropy, max_depth=1000, max_features=log2, min_samples_leaf=6, min_samples_split=10, n_estimators=12; total time=   4.9s\n",
      "[CV] END criterion=entropy, max_depth=1000, max_features=log2, min_samples_leaf=6, min_samples_split=10, n_estimators=12; total time=   5.1s\n",
      "[CV] END criterion=entropy, max_depth=1000, max_features=log2, min_samples_leaf=6, min_samples_split=10, n_estimators=12; total time=   5.0s\n",
      "[CV] END criterion=gini, max_depth=230, max_features=sqrt, min_samples_leaf=4, min_samples_split=2, n_estimators=67; total time=  28.1s\n",
      "[CV] END criterion=gini, max_depth=670, max_features=sqrt, min_samples_leaf=1, min_samples_split=7, n_estimators=12; total time=   5.4s\n",
      "[CV] END criterion=gini, max_depth=670, max_features=sqrt, min_samples_leaf=1, min_samples_split=7, n_estimators=12; total time=   5.8s\n",
      "[CV] END criterion=gini, max_depth=670, max_features=sqrt, min_samples_leaf=1, min_samples_split=7, n_estimators=12; total time=   5.3s\n",
      "[CV] END criterion=gini, max_depth=560, max_features=sqrt, min_samples_leaf=2, min_samples_split=10, n_estimators=45; total time=  18.9s\n",
      "[CV] END criterion=gini, max_depth=560, max_features=sqrt, min_samples_leaf=2, min_samples_split=10, n_estimators=45; total time=  19.3s[CV] END criterion=entropy, max_depth=560, max_features=auto, min_samples_leaf=6, min_samples_split=14, n_estimators=34; total time=  15.6s\n",
      "[CV] END criterion=entropy, max_depth=780, max_features=log2, min_samples_leaf=1, min_samples_split=2, n_estimators=89; total time=  47.8s\n",
      "[CV] END criterion=gini, max_depth=780, max_features=auto, min_samples_leaf=1, min_samples_split=7, n_estimators=23; total time=  12.0s\n",
      "[CV] END criterion=gini, max_depth=780, max_features=auto, min_samples_leaf=1, min_samples_split=7, n_estimators=23; total time=  12.1s\n",
      "[CV] END criterion=gini, max_depth=890, max_features=log2, min_samples_leaf=4, min_samples_split=7, n_estimators=100; total time=  49.4s\n",
      "[CV] END criterion=gini, max_depth=560, max_features=sqrt, min_samples_leaf=2, min_samples_split=5, n_estimators=67; total time=  35.1s\n",
      "[CV] END criterion=gini, max_depth=560, max_features=sqrt, min_samples_leaf=2, min_samples_split=5, n_estimators=67; total time=  34.6s\n",
      "[CV] END criterion=gini, max_depth=120, max_features=sqrt, min_samples_leaf=2, min_samples_split=5, n_estimators=34; total time=  16.5s\n",
      "[CV] END criterion=entropy, max_depth=780, max_features=log2, min_samples_leaf=1, min_samples_split=14, n_estimators=89; total time=  47.4s\n",
      "[CV] END criterion=gini, max_depth=780, max_features=sqrt, min_samples_leaf=1, min_samples_split=2, n_estimators=45; total time=  22.3s\n",
      "[CV] END criterion=gini, max_depth=780, max_features=sqrt, min_samples_leaf=1, min_samples_split=2, n_estimators=45; total time=  21.5s\n",
      "[CV] END criterion=entropy, max_depth=230, max_features=auto, min_samples_leaf=4, min_samples_split=5, n_estimators=89; total time=  37.3s\n",
      "[CV] END criterion=entropy, max_depth=120, max_features=sqrt, min_samples_leaf=6, min_samples_split=5, n_estimators=12; total time=   4.9s\n",
      "[CV] END criterion=entropy, max_depth=780, max_features=auto, min_samples_leaf=8, min_samples_split=10, n_estimators=12; total time=   5.2s\n",
      "[CV] END criterion=entropy, max_depth=780, max_features=auto, min_samples_leaf=8, min_samples_split=10, n_estimators=12; total time=   4.9s\n",
      "[CV] END criterion=gini, max_depth=1000, max_features=sqrt, min_samples_leaf=4, min_samples_split=10, n_estimators=56; total time=  23.8s\n",
      "[CV] END criterion=entropy, max_depth=120, max_features=log2, min_samples_leaf=6, min_samples_split=14, n_estimators=12; total time=   5.0s\n",
      "[CV] END criterion=entropy, max_depth=120, max_features=log2, min_samples_leaf=6, min_samples_split=14, n_estimators=12; total time=   5.1s\n",
      "[CV] END criterion=entropy, max_depth=120, max_features=log2, min_samples_leaf=6, min_samples_split=14, n_estimators=12; total time=   5.0s\n",
      "[CV] END criterion=gini, max_depth=10, max_features=auto, min_samples_leaf=6, min_samples_split=14, n_estimators=45; total time=  13.7s\n",
      "[CV] END criterion=gini, max_depth=1000, max_features=log2, min_samples_leaf=6, min_samples_split=10, n_estimators=23; total time=   9.4s\n",
      "[CV] END criterion=gini, max_depth=1000, max_features=log2, min_samples_leaf=6, min_samples_split=10, n_estimators=23; total time=   9.2s\n",
      "[CV] END criterion=gini, max_depth=230, max_features=log2, min_samples_leaf=8, min_samples_split=7, n_estimators=100; total time=  40.9s\n",
      "[CV] END criterion=entropy, max_depth=670, max_features=sqrt, min_samples_leaf=8, min_samples_split=14, n_estimators=12; total time=   4.6s\n",
      "[CV] END criterion=entropy, max_depth=670, max_features=sqrt, min_samples_leaf=8, min_samples_split=14, n_estimators=12; total time=   4.8s\n",
      "[CV] END criterion=gini, max_depth=780, max_features=log2, min_samples_leaf=8, min_samples_split=5, n_estimators=45; total time=  18.1s\n",
      "[CV] END criterion=gini, max_depth=780, max_features=log2, min_samples_leaf=8, min_samples_split=5, n_estimators=45; total time=  18.2s\n",
      "[CV] END criterion=gini, max_depth=670, max_features=sqrt, min_samples_leaf=6, min_samples_split=2, n_estimators=100; total time=  41.1s\n",
      "[CV] END criterion=entropy, max_depth=670, max_features=auto, min_samples_leaf=6, min_samples_split=12, n_estimators=100; total time=  40.1s\n",
      "[CV] END criterion=entropy, max_depth=120, max_features=log2, min_samples_leaf=4, min_samples_split=2, n_estimators=56; total time=  23.4s\n",
      "[CV] END criterion=entropy, max_depth=120, max_features=log2, min_samples_leaf=4, min_samples_split=2, n_estimators=56; total time=  22.0s\n",
      "[CV] END criterion=entropy, max_depth=1000, max_features=auto, min_samples_leaf=8, min_samples_split=2, n_estimators=100; total time=  38.6s\n",
      "[CV] END criterion=entropy, max_depth=890, max_features=sqrt, min_samples_leaf=4, min_samples_split=2, n_estimators=56; total time=  21.2s\n",
      "[CV] END criterion=entropy, max_depth=890, max_features=sqrt, min_samples_leaf=4, min_samples_split=2, n_estimators=56; total time=  21.5s\n",
      "[CV] END criterion=entropy, max_depth=120, max_features=auto, min_samples_leaf=8, min_samples_split=7, n_estimators=67; total time=  25.1s\n",
      "[CV] END criterion=gini, max_depth=120, max_features=auto, min_samples_leaf=6, min_samples_split=10, n_estimators=89; total time=  34.8s\n",
      "[CV] END criterion=gini, max_depth=120, max_features=auto, min_samples_leaf=6, min_samples_split=10, n_estimators=89; total time=  32.4s\n",
      "[CV] END criterion=gini, max_depth=670, max_features=sqrt, min_samples_leaf=6, min_samples_split=5, n_estimators=12; total time=   4.4s\n",
      "[CV] END criterion=gini, max_depth=450, max_features=auto, min_samples_leaf=4, min_samples_split=7, n_estimators=100; total time=  37.4s\n",
      "[CV] END criterion=gini, max_depth=450, max_features=auto, min_samples_leaf=4, min_samples_split=7, n_estimators=100; total time=  37.0s\n",
      "[CV] END criterion=entropy, max_depth=560, max_features=log2, min_samples_leaf=4, min_samples_split=5, n_estimators=67; total time=  25.7s\n",
      "[CV] END criterion=gini, max_depth=670, max_features=log2, min_samples_leaf=4, min_samples_split=10, n_estimators=2; total time=   0.9s\n",
      "[CV] END criterion=gini, max_depth=670, max_features=log2, min_samples_leaf=4, min_samples_split=10, n_estimators=2; total time=   0.9s\n",
      "[CV] END criterion=gini, max_depth=670, max_features=log2, min_samples_leaf=4, min_samples_split=10, n_estimators=2; total time=   0.8s\n",
      "[CV] END criterion=gini, max_depth=670, max_features=log2, min_samples_leaf=4, min_samples_split=10, n_estimators=2; total time=   0.8s\n",
      "[CV] END criterion=gini, max_depth=670, max_features=log2, min_samples_leaf=4, min_samples_split=10, n_estimators=2; total time=   0.8s\n",
      "[CV] END criterion=gini, max_depth=230, max_features=sqrt, min_samples_leaf=8, min_samples_split=7, n_estimators=67; total time=  23.7s\n",
      "[CV] END criterion=gini, max_depth=230, max_features=sqrt, min_samples_leaf=8, min_samples_split=7, n_estimators=67; total time=  23.8s\n",
      "[CV] END criterion=gini, max_depth=450, max_features=log2, min_samples_leaf=4, min_samples_split=10, n_estimators=89; total time=  32.3s\n",
      "[CV] END criterion=gini, max_depth=10, max_features=auto, min_samples_leaf=4, min_samples_split=12, n_estimators=12; total time=   3.6s\n",
      "[CV] END criterion=entropy, max_depth=890, max_features=log2, min_samples_leaf=4, min_samples_split=5, n_estimators=23; total time=   9.3s\n",
      "[CV] END criterion=entropy, max_depth=1000, max_features=sqrt, min_samples_leaf=4, min_samples_split=7, n_estimators=100; total time=  37.9s\n",
      "[CV] END criterion=entropy, max_depth=1000, max_features=sqrt, min_samples_leaf=4, min_samples_split=7, n_estimators=100; total time=  40.7s\n",
      "[CV] END criterion=gini, max_depth=780, max_features=auto, min_samples_leaf=4, min_samples_split=12, n_estimators=100; total time=  39.9s\n",
      "[CV] END criterion=gini, max_depth=230, max_features=sqrt, min_samples_leaf=4, min_samples_split=2, n_estimators=67; total time=  27.3s\n",
      "[CV] END criterion=gini, max_depth=670, max_features=sqrt, min_samples_leaf=1, min_samples_split=7, n_estimators=12; total time=   5.1s\n",
      "[CV] END criterion=gini, max_depth=670, max_features=sqrt, min_samples_leaf=1, min_samples_split=7, n_estimators=12; total time=   5.5s\n",
      "[CV] END criterion=gini, max_depth=560, max_features=sqrt, min_samples_leaf=2, min_samples_split=10, n_estimators=45; total time=  17.4s\n",
      "[CV] END criterion=entropy, max_depth=890, max_features=auto, min_samples_leaf=4, min_samples_split=10, n_estimators=56; total time=  21.6s\n",
      "[CV] END criterion=gini, max_depth=890, max_features=log2, min_samples_leaf=1, min_samples_split=12, n_estimators=56; total time=  21.5s[CV] END criterion=entropy, max_depth=560, max_features=auto, min_samples_leaf=6, min_samples_split=14, n_estimators=34; total time=  15.6s\n",
      "[CV] END criterion=entropy, max_depth=780, max_features=log2, min_samples_leaf=1, min_samples_split=2, n_estimators=89; total time=  44.3s\n",
      "[CV] END criterion=entropy, max_depth=780, max_features=log2, min_samples_leaf=1, min_samples_split=2, n_estimators=89; total time=  45.8s\n",
      "[CV] END criterion=gini, max_depth=890, max_features=log2, min_samples_leaf=4, min_samples_split=7, n_estimators=100; total time=  44.1s\n",
      "[CV] END criterion=gini, max_depth=560, max_features=sqrt, min_samples_leaf=2, min_samples_split=5, n_estimators=67; total time=  31.7s\n",
      "[CV] END criterion=entropy, max_depth=10, max_features=auto, min_samples_leaf=6, min_samples_split=7, n_estimators=23; total time=   7.4s\n",
      "[CV] END criterion=entropy, max_depth=10, max_features=auto, min_samples_leaf=6, min_samples_split=7, n_estimators=23; total time=   7.3s\n",
      "[CV] END criterion=entropy, max_depth=1000, max_features=auto, min_samples_leaf=4, min_samples_split=7, n_estimators=2; total time=   1.4s\n",
      "[CV] END criterion=entropy, max_depth=1000, max_features=auto, min_samples_leaf=4, min_samples_split=7, n_estimators=2; total time=   1.0s\n",
      "[CV] END criterion=entropy, max_depth=1000, max_features=auto, min_samples_leaf=4, min_samples_split=7, n_estimators=2; total time=   1.0s\n",
      "[CV] END criterion=gini, max_depth=780, max_features=sqrt, min_samples_leaf=4, min_samples_split=5, n_estimators=2; total time=   1.0s\n",
      "[CV] END criterion=gini, max_depth=780, max_features=sqrt, min_samples_leaf=4, min_samples_split=5, n_estimators=2; total time=   1.0s\n",
      "[CV] END criterion=gini, max_depth=120, max_features=sqrt, min_samples_leaf=2, min_samples_split=5, n_estimators=34; total time=  15.9s\n",
      "[CV] END criterion=gini, max_depth=120, max_features=sqrt, min_samples_leaf=2, min_samples_split=5, n_estimators=34; total time=  16.7s\n",
      "[CV] END criterion=entropy, max_depth=780, max_features=log2, min_samples_leaf=1, min_samples_split=14, n_estimators=89; total time=  42.0s\n",
      "[CV] END criterion=gini, max_depth=780, max_features=sqrt, min_samples_leaf=1, min_samples_split=2, n_estimators=45; total time=  21.4s\n",
      "[CV] END criterion=entropy, max_depth=230, max_features=auto, min_samples_leaf=4, min_samples_split=5, n_estimators=89; total time=  39.8s\n",
      "[CV] END criterion=entropy, max_depth=230, max_features=auto, min_samples_leaf=4, min_samples_split=5, n_estimators=89; total time=  43.8s\n",
      "[CV] END criterion=gini, max_depth=1000, max_features=sqrt, min_samples_leaf=4, min_samples_split=10, n_estimators=56; total time=  24.5s\n",
      "[CV] END criterion=gini, max_depth=10, max_features=auto, min_samples_leaf=6, min_samples_split=14, n_estimators=45; total time=  13.9s\n",
      "[CV] END criterion=gini, max_depth=1000, max_features=log2, min_samples_leaf=6, min_samples_split=10, n_estimators=23; total time=  10.5s\n",
      "[CV] END criterion=gini, max_depth=1000, max_features=log2, min_samples_leaf=6, min_samples_split=10, n_estimators=23; total time=  10.3s\n",
      "[CV] END criterion=gini, max_depth=230, max_features=log2, min_samples_leaf=8, min_samples_split=7, n_estimators=100; total time=  42.6s\n",
      "[CV] END criterion=entropy, max_depth=670, max_features=sqrt, min_samples_leaf=8, min_samples_split=14, n_estimators=12; total time=   5.7s\n",
      "[CV] END criterion=gini, max_depth=780, max_features=log2, min_samples_leaf=8, min_samples_split=5, n_estimators=45; total time=  21.5s\n",
      "[CV] END criterion=gini, max_depth=670, max_features=sqrt, min_samples_leaf=6, min_samples_split=2, n_estimators=100; total time=  42.1s\n",
      "[CV] END criterion=gini, max_depth=670, max_features=sqrt, min_samples_leaf=6, min_samples_split=2, n_estimators=100; total time=  42.0s\n",
      "[CV] END criterion=entropy, max_depth=670, max_features=auto, min_samples_leaf=6, min_samples_split=12, n_estimators=100; total time=  39.9s\n",
      "[CV] END criterion=entropy, max_depth=1000, max_features=auto, min_samples_leaf=8, min_samples_split=2, n_estimators=100; total time=  38.9s\n",
      "[CV] END criterion=entropy, max_depth=1000, max_features=auto, min_samples_leaf=8, min_samples_split=2, n_estimators=100; total time=  39.5s\n",
      "[CV] END criterion=entropy, max_depth=890, max_features=sqrt, min_samples_leaf=4, min_samples_split=2, n_estimators=56; total time=  23.3s\n",
      "[CV] END criterion=entropy, max_depth=120, max_features=auto, min_samples_leaf=8, min_samples_split=7, n_estimators=67; total time=  26.4s\n",
      "[CV] END criterion=gini, max_depth=120, max_features=auto, min_samples_leaf=6, min_samples_split=10, n_estimators=89; total time=  34.6s\n",
      "[CV] END criterion=gini, max_depth=230, max_features=log2, min_samples_leaf=1, min_samples_split=10, n_estimators=34; total time=  13.7s\n",
      "[CV] END criterion=gini, max_depth=230, max_features=log2, min_samples_leaf=1, min_samples_split=10, n_estimators=34; total time=  13.6s\n",
      "[CV] END criterion=gini, max_depth=670, max_features=sqrt, min_samples_leaf=6, min_samples_split=5, n_estimators=12; total time=   4.5s\n",
      "[CV] END criterion=gini, max_depth=450, max_features=auto, min_samples_leaf=4, min_samples_split=7, n_estimators=100; total time=  38.7s\n",
      "[CV] END criterion=gini, max_depth=450, max_features=log2, min_samples_leaf=1, min_samples_split=2, n_estimators=56; total time=  24.7s\n",
      "[CV] END criterion=gini, max_depth=450, max_features=log2, min_samples_leaf=1, min_samples_split=2, n_estimators=56; total time=  23.7s\n",
      "[CV] END criterion=entropy, max_depth=560, max_features=log2, min_samples_leaf=4, min_samples_split=5, n_estimators=67; total time=  26.3s\n",
      "[CV] END criterion=gini, max_depth=230, max_features=sqrt, min_samples_leaf=8, min_samples_split=7, n_estimators=67; total time=  25.2s\n",
      "[CV] END criterion=gini, max_depth=1000, max_features=log2, min_samples_leaf=4, min_samples_split=14, n_estimators=2; total time=   0.8s\n",
      "[CV] END criterion=gini, max_depth=1000, max_features=log2, min_samples_leaf=4, min_samples_split=14, n_estimators=2; total time=   0.9s\n",
      "[CV] END criterion=gini, max_depth=670, max_features=sqrt, min_samples_leaf=2, min_samples_split=2, n_estimators=2; total time=   0.9s\n",
      "[CV] END criterion=gini, max_depth=670, max_features=sqrt, min_samples_leaf=2, min_samples_split=2, n_estimators=2; total time=   0.9s\n",
      "[CV] END criterion=gini, max_depth=670, max_features=sqrt, min_samples_leaf=2, min_samples_split=2, n_estimators=2; total time=   0.9s\n",
      "[CV] END criterion=gini, max_depth=450, max_features=log2, min_samples_leaf=4, min_samples_split=10, n_estimators=89; total time=  35.3s\n",
      "[CV] END criterion=gini, max_depth=10, max_features=auto, min_samples_leaf=4, min_samples_split=12, n_estimators=12; total time=   3.2s\n",
      "[CV] END criterion=gini, max_depth=10, max_features=auto, min_samples_leaf=4, min_samples_split=12, n_estimators=12; total time=   3.6s\n",
      "[CV] END criterion=entropy, max_depth=890, max_features=log2, min_samples_leaf=4, min_samples_split=5, n_estimators=23; total time=   9.7s\n",
      "[CV] END criterion=entropy, max_depth=890, max_features=log2, min_samples_leaf=4, min_samples_split=5, n_estimators=23; total time=   8.9s\n",
      "[CV] END criterion=entropy, max_depth=1000, max_features=sqrt, min_samples_leaf=4, min_samples_split=7, n_estimators=100; total time=  39.6s\n",
      "[CV] END criterion=gini, max_depth=780, max_features=auto, min_samples_leaf=4, min_samples_split=12, n_estimators=100; total time=  40.6s\n",
      "[CV] END criterion=gini, max_depth=780, max_features=auto, min_samples_leaf=4, min_samples_split=12, n_estimators=100; total time=  39.4s\n",
      "[CV] END criterion=gini, max_depth=230, max_features=sqrt, min_samples_leaf=4, min_samples_split=2, n_estimators=67; total time=  26.6s\n",
      "[CV] END criterion=gini, max_depth=560, max_features=sqrt, min_samples_leaf=2, min_samples_split=10, n_estimators=45; total time=  18.1s\n",
      "[CV] END criterion=entropy, max_depth=890, max_features=auto, min_samples_leaf=4, min_samples_split=10, n_estimators=56; total time=  22.1s\n",
      "[CV] END criterion=entropy, max_depth=890, max_features=auto, min_samples_leaf=4, min_samples_split=10, n_estimators=56; total time=  22.7s\n",
      "[CV] END criterion=gini, max_depth=890, max_features=log2, min_samples_leaf=1, min_samples_split=12, n_estimators=56; total time=  23.6s\n",
      "[CV] END criterion=gini, max_depth=1000, max_features=sqrt, min_samples_leaf=2, min_samples_split=14, n_estimators=100; total time=  39.6s\n",
      "[CV] END criterion=gini, max_depth=560, max_features=log2, min_samples_leaf=4, min_samples_split=2, n_estimators=2; total time=   0.9s\n",
      "[CV] END criterion=entropy, max_depth=1000, max_features=log2, min_samples_leaf=6, min_samples_split=10, n_estimators=12; total time=   4.9s\n",
      "[CV] END criterion=entropy, max_depth=1000, max_features=log2, min_samples_leaf=6, min_samples_split=10, n_estimators=12; total time=   4.8s\n",
      "[CV] END criterion=entropy, max_depth=230, max_features=sqrt, min_samples_leaf=8, min_samples_split=14, n_estimators=2; total time=   0.8s\n",
      "[CV] END criterion=entropy, max_depth=230, max_features=sqrt, min_samples_leaf=8, min_samples_split=14, n_estimators=2; total time=   0.7s\n",
      "[CV] END criterion=entropy, max_depth=230, max_features=sqrt, min_samples_leaf=8, min_samples_split=14, n_estimators=2; total time=   0.8s\n",
      "[CV] END criterion=entropy, max_depth=230, max_features=sqrt, min_samples_leaf=8, min_samples_split=14, n_estimators=2; total time=   0.8s\n",
      "[CV] END criterion=entropy, max_depth=230, max_features=sqrt, min_samples_leaf=8, min_samples_split=14, n_estimators=2; total time=   0.8s\n",
      "[CV] END criterion=gini, max_depth=230, max_features=sqrt, min_samples_leaf=4, min_samples_split=2, n_estimators=67; total time=  26.8s\n",
      "[CV] END criterion=gini, max_depth=230, max_features=sqrt, min_samples_leaf=4, min_samples_split=2, n_estimators=67; total time=  26.8s\n",
      "[CV] END criterion=gini, max_depth=560, max_features=sqrt, min_samples_leaf=2, min_samples_split=10, n_estimators=45; total time=  18.5s\n",
      "[CV] END criterion=entropy, max_depth=890, max_features=auto, min_samples_leaf=4, min_samples_split=10, n_estimators=56; total time=  21.5s\n",
      "[CV] END criterion=gini, max_depth=890, max_features=log2, min_samples_leaf=1, min_samples_split=12, n_estimators=56; total time=  21.4s\n",
      "[CV] END criterion=gini, max_depth=1000, max_features=sqrt, min_samples_leaf=2, min_samples_split=14, n_estimators=100; total time=  37.6s\n",
      "[CV] END criterion=gini, max_depth=1000, max_features=sqrt, min_samples_leaf=2, min_samples_split=14, n_estimators=100; total time=  39.3s\n",
      "[CV] END criterion=entropy, max_depth=780, max_features=auto, min_samples_leaf=4, min_samples_split=10, n_estimators=45; total time=  16.7s\n",
      "[CV] END criterion=entropy, max_depth=230, max_features=auto, min_samples_leaf=6, min_samples_split=2, n_estimators=89; total time=  33.8s\n",
      "[CV] END criterion=gini, max_depth=340, max_features=sqrt, min_samples_leaf=8, min_samples_split=10, n_estimators=78; total time=  29.5s\n",
      "[CV] END criterion=gini, max_depth=560, max_features=sqrt, min_samples_leaf=2, min_samples_split=12, n_estimators=2; total time=   0.8s\n",
      "[CV] END criterion=gini, max_depth=560, max_features=sqrt, min_samples_leaf=2, min_samples_split=12, n_estimators=2; total time=   0.8s\n",
      "[CV] END criterion=gini, max_depth=560, max_features=sqrt, min_samples_leaf=2, min_samples_split=12, n_estimators=2; total time=   0.8s\n",
      "[CV] END criterion=gini, max_depth=560, max_features=sqrt, min_samples_leaf=2, min_samples_split=12, n_estimators=2; total time=   0.8s\n",
      "[CV] END criterion=gini, max_depth=560, max_features=sqrt, min_samples_leaf=2, min_samples_split=12, n_estimators=2; total time=   0.8s\n",
      "[CV] END criterion=gini, max_depth=120, max_features=log2, min_samples_leaf=2, min_samples_split=10, n_estimators=23; total time=   9.5s\n",
      "[CV] END criterion=gini, max_depth=120, max_features=log2, min_samples_leaf=2, min_samples_split=10, n_estimators=23; total time=   9.3s\n",
      "[CV] END criterion=gini, max_depth=120, max_features=log2, min_samples_leaf=2, min_samples_split=10, n_estimators=23; total time=   9.3s\n",
      "[CV] END criterion=entropy, max_depth=340, max_features=log2, min_samples_leaf=6, min_samples_split=5, n_estimators=89; total time=  34.3s\n",
      "[CV] END criterion=entropy, max_depth=120, max_features=sqrt, min_samples_leaf=4, min_samples_split=14, n_estimators=45; total time=  18.7s\n",
      "[CV] END criterion=entropy, max_depth=670, max_features=sqrt, min_samples_leaf=6, min_samples_split=5, n_estimators=2; total time=   0.8s\n",
      "[CV] END criterion=entropy, max_depth=670, max_features=sqrt, min_samples_leaf=6, min_samples_split=5, n_estimators=2; total time=   0.8s\n",
      "[CV] END criterion=entropy, max_depth=670, max_features=sqrt, min_samples_leaf=6, min_samples_split=5, n_estimators=2; total time=   0.8s\n",
      "[CV] END criterion=entropy, max_depth=670, max_features=sqrt, min_samples_leaf=6, min_samples_split=5, n_estimators=2; total time=   0.8s\n",
      "[CV] END criterion=entropy, max_depth=670, max_features=sqrt, min_samples_leaf=6, min_samples_split=5, n_estimators=2; total time=   0.8s\n",
      "[CV] END criterion=gini, max_depth=1000, max_features=log2, min_samples_leaf=4, min_samples_split=2, n_estimators=67; total time=  25.2s\n",
      "[CV] END criterion=gini, max_depth=1000, max_features=log2, min_samples_leaf=4, min_samples_split=2, n_estimators=67; total time=  25.3s\n",
      "[CV] END criterion=gini, max_depth=450, max_features=log2, min_samples_leaf=2, min_samples_split=5, n_estimators=100; total time=  41.1s\n",
      "[CV] END criterion=gini, max_depth=1000, max_features=auto, min_samples_leaf=1, min_samples_split=2, n_estimators=23; total time=  10.0s\n",
      "[CV] END criterion=gini, max_depth=10, max_features=sqrt, min_samples_leaf=2, min_samples_split=5, n_estimators=34; total time=   9.4s\n",
      "[CV] END criterion=gini, max_depth=120, max_features=log2, min_samples_leaf=8, min_samples_split=2, n_estimators=78; total time=  29.9s\n",
      "[CV] END criterion=gini, max_depth=890, max_features=auto, min_samples_leaf=6, min_samples_split=12, n_estimators=78; total time=  31.2s\n",
      "[CV] END criterion=gini, max_depth=890, max_features=auto, min_samples_leaf=6, min_samples_split=12, n_estimators=78; total time=  31.1s\n",
      "[CV] END criterion=entropy, max_depth=10, max_features=sqrt, min_samples_leaf=2, min_samples_split=2, n_estimators=23; total time=   6.2s\n",
      "[CV] END criterion=entropy, max_depth=890, max_features=auto, min_samples_leaf=4, min_samples_split=2, n_estimators=89; total time=  35.4s\n",
      "[CV] END criterion=entropy, max_depth=890, max_features=auto, min_samples_leaf=4, min_samples_split=2, n_estimators=89; total time=  35.0s\n",
      "[CV] END criterion=entropy, max_depth=450, max_features=log2, min_samples_leaf=1, min_samples_split=2, n_estimators=89; total time=  40.4s\n",
      "[CV] END criterion=entropy, max_depth=890, max_features=sqrt, min_samples_leaf=8, min_samples_split=14, n_estimators=67; total time=  27.2s\n",
      "[CV] END criterion=entropy, max_depth=340, max_features=auto, min_samples_leaf=2, min_samples_split=14, n_estimators=100; total time=  41.5s\n",
      "[CV] END criterion=entropy, max_depth=340, max_features=sqrt, min_samples_leaf=8, min_samples_split=10, n_estimators=56; total time=  21.3s\n",
      "[CV] END criterion=entropy, max_depth=340, max_features=sqrt, min_samples_leaf=8, min_samples_split=10, n_estimators=56; total time=  21.1s\n",
      "[CV] END criterion=entropy, max_depth=10, max_features=log2, min_samples_leaf=8, min_samples_split=10, n_estimators=78; total time=  20.2s\n",
      "[CV] END criterion=entropy, max_depth=780, max_features=auto, min_samples_leaf=8, min_samples_split=12, n_estimators=34; total time=  12.6s\n",
      "[CV] END criterion=gini, max_depth=120, max_features=sqrt, min_samples_leaf=6, min_samples_split=5, n_estimators=2; total time=   0.8s\n",
      "[CV] END criterion=gini, max_depth=120, max_features=sqrt, min_samples_leaf=6, min_samples_split=5, n_estimators=2; total time=   0.9s\n",
      "[CV] END criterion=gini, max_depth=120, max_features=sqrt, min_samples_leaf=6, min_samples_split=5, n_estimators=2; total time=   0.7s\n",
      "[CV] END criterion=gini, max_depth=120, max_features=sqrt, min_samples_leaf=6, min_samples_split=5, n_estimators=2; total time=   0.8s\n",
      "[CV] END criterion=entropy, max_depth=10, max_features=sqrt, min_samples_leaf=6, min_samples_split=14, n_estimators=23; total time=   6.1s\n",
      "[CV] END criterion=entropy, max_depth=10, max_features=sqrt, min_samples_leaf=6, min_samples_split=14, n_estimators=23; total time=   6.2s\n",
      "[CV] END criterion=gini, max_depth=1000, max_features=sqrt, min_samples_leaf=2, min_samples_split=5, n_estimators=56; total time=  22.2s\n",
      "[CV] END criterion=entropy, max_depth=450, max_features=auto, min_samples_leaf=8, min_samples_split=12, n_estimators=67; total time=  25.9s\n",
      "[CV] END criterion=entropy, max_depth=890, max_features=log2, min_samples_leaf=1, min_samples_split=10, n_estimators=45; total time=  18.9s\n",
      "[CV] END criterion=gini, max_depth=890, max_features=log2, min_samples_leaf=1, min_samples_split=12, n_estimators=56; total time=  21.6s\n",
      "[CV] END criterion=gini, max_depth=1000, max_features=sqrt, min_samples_leaf=2, min_samples_split=14, n_estimators=100; total time=  38.5s\n",
      "[CV] END criterion=gini, max_depth=1000, max_features=sqrt, min_samples_leaf=2, min_samples_split=12, n_estimators=23; total time=   9.6s\n",
      "[CV] END criterion=gini, max_depth=1000, max_features=sqrt, min_samples_leaf=2, min_samples_split=12, n_estimators=23; total time=   8.8s\n",
      "[CV] END criterion=entropy, max_depth=780, max_features=auto, min_samples_leaf=4, min_samples_split=10, n_estimators=45; total time=  17.2s\n",
      "[CV] END criterion=entropy, max_depth=230, max_features=auto, min_samples_leaf=6, min_samples_split=2, n_estimators=89; total time=  33.6s\n",
      "[CV] END criterion=gini, max_depth=340, max_features=sqrt, min_samples_leaf=8, min_samples_split=10, n_estimators=78; total time=  28.9s\n",
      "[CV] END criterion=gini, max_depth=340, max_features=sqrt, min_samples_leaf=8, min_samples_split=10, n_estimators=78; total time=  29.0s\n",
      "[CV] END criterion=entropy, max_depth=340, max_features=log2, min_samples_leaf=6, min_samples_split=5, n_estimators=89; total time=  34.7s\n",
      "[CV] END criterion=entropy, max_depth=340, max_features=log2, min_samples_leaf=6, min_samples_split=5, n_estimators=89; total time=  33.8s\n",
      "[CV] END criterion=gini, max_depth=1000, max_features=log2, min_samples_leaf=4, min_samples_split=2, n_estimators=67; total time=  25.6s\n",
      "[CV] END criterion=gini, max_depth=450, max_features=log2, min_samples_leaf=2, min_samples_split=5, n_estimators=100; total time=  40.8s\n",
      "[CV] END criterion=gini, max_depth=1000, max_features=auto, min_samples_leaf=1, min_samples_split=2, n_estimators=23; total time=  10.6s\n",
      "[CV] END criterion=gini, max_depth=1000, max_features=auto, min_samples_leaf=1, min_samples_split=2, n_estimators=23; total time=  10.0s\n",
      "[CV] END criterion=gini, max_depth=780, max_features=auto, min_samples_leaf=6, min_samples_split=2, n_estimators=2; total time=   0.8s\n",
      "[CV] END criterion=gini, max_depth=780, max_features=auto, min_samples_leaf=6, min_samples_split=2, n_estimators=2; total time=   0.8s\n",
      "[CV] END criterion=gini, max_depth=780, max_features=auto, min_samples_leaf=6, min_samples_split=2, n_estimators=2; total time=   0.8s\n",
      "[CV] END criterion=gini, max_depth=780, max_features=auto, min_samples_leaf=6, min_samples_split=2, n_estimators=2; total time=   0.8s\n",
      "[CV] END criterion=gini, max_depth=780, max_features=auto, min_samples_leaf=6, min_samples_split=2, n_estimators=2; total time=   0.8s\n",
      "[CV] END criterion=gini, max_depth=10, max_features=sqrt, min_samples_leaf=2, min_samples_split=5, n_estimators=34; total time=   9.4s\n",
      "[CV] END criterion=gini, max_depth=10, max_features=sqrt, min_samples_leaf=2, min_samples_split=5, n_estimators=34; total time=  10.0s\n",
      "[CV] END criterion=gini, max_depth=120, max_features=log2, min_samples_leaf=8, min_samples_split=2, n_estimators=78; total time=  28.9s\n",
      "[CV] END criterion=gini, max_depth=890, max_features=auto, min_samples_leaf=6, min_samples_split=12, n_estimators=78; total time=  31.0s\n",
      "[CV] END criterion=entropy, max_depth=10, max_features=auto, min_samples_leaf=2, min_samples_split=10, n_estimators=45; total time=  12.3s\n",
      "[CV] END criterion=entropy, max_depth=10, max_features=auto, min_samples_leaf=2, min_samples_split=10, n_estimators=45; total time=  12.3s\n",
      "[CV] END criterion=entropy, max_depth=10, max_features=sqrt, min_samples_leaf=2, min_samples_split=2, n_estimators=23; total time=   6.2s\n",
      "[CV] END criterion=entropy, max_depth=10, max_features=sqrt, min_samples_leaf=2, min_samples_split=2, n_estimators=23; total time=   6.7s\n",
      "[CV] END criterion=entropy, max_depth=890, max_features=auto, min_samples_leaf=4, min_samples_split=2, n_estimators=89; total time=  36.4s\n",
      "[CV] END criterion=entropy, max_depth=450, max_features=log2, min_samples_leaf=1, min_samples_split=2, n_estimators=89; total time=  39.2s\n",
      "[CV] END criterion=gini, max_depth=890, max_features=auto, min_samples_leaf=4, min_samples_split=14, n_estimators=23; total time=   9.0s\n",
      "[CV] END criterion=gini, max_depth=890, max_features=auto, min_samples_leaf=4, min_samples_split=14, n_estimators=23; total time=   8.8s\n",
      "[CV] END criterion=gini, max_depth=890, max_features=auto, min_samples_leaf=4, min_samples_split=14, n_estimators=23; total time=   9.2s\n",
      "[CV] END criterion=entropy, max_depth=890, max_features=sqrt, min_samples_leaf=8, min_samples_split=14, n_estimators=67; total time=  26.1s\n",
      "[CV] END criterion=entropy, max_depth=340, max_features=auto, min_samples_leaf=2, min_samples_split=14, n_estimators=100; total time=  40.5s\n",
      "[CV] END criterion=entropy, max_depth=340, max_features=auto, min_samples_leaf=2, min_samples_split=14, n_estimators=100; total time=  41.1s\n",
      "[CV] END criterion=entropy, max_depth=10, max_features=log2, min_samples_leaf=8, min_samples_split=10, n_estimators=78; total time=  21.4s\n",
      "[CV] END criterion=entropy, max_depth=560, max_features=auto, min_samples_leaf=2, min_samples_split=5, n_estimators=2; total time=   0.9s\n",
      "[CV] END criterion=entropy, max_depth=560, max_features=auto, min_samples_leaf=2, min_samples_split=5, n_estimators=2; total time=   0.9s\n",
      "[CV] END criterion=entropy, max_depth=560, max_features=auto, min_samples_leaf=2, min_samples_split=5, n_estimators=2; total time=   0.9s\n",
      "[CV] END criterion=entropy, max_depth=560, max_features=auto, min_samples_leaf=2, min_samples_split=5, n_estimators=2; total time=   0.9s\n",
      "[CV] END criterion=entropy, max_depth=560, max_features=auto, min_samples_leaf=2, min_samples_split=5, n_estimators=2; total time=   0.9s\n",
      "[CV] END criterion=entropy, max_depth=780, max_features=auto, min_samples_leaf=8, min_samples_split=12, n_estimators=34; total time=  13.1s\n",
      "[CV] END criterion=entropy, max_depth=780, max_features=auto, min_samples_leaf=8, min_samples_split=12, n_estimators=34; total time=  12.7s\n",
      "[CV] END criterion=gini, max_depth=1000, max_features=sqrt, min_samples_leaf=2, min_samples_split=5, n_estimators=56; total time=  23.0s\n",
      "[CV] END criterion=gini, max_depth=1000, max_features=sqrt, min_samples_leaf=2, min_samples_split=5, n_estimators=56; total time=  22.5s\n",
      "[CV] END criterion=entropy, max_depth=450, max_features=auto, min_samples_leaf=8, min_samples_split=12, n_estimators=67; total time=  24.9s\n",
      "[CV] END criterion=entropy, max_depth=890, max_features=log2, min_samples_leaf=1, min_samples_split=10, n_estimators=45; total time=  18.8s\n",
      "[CV] END criterion=entropy, max_depth=780, max_features=sqrt, min_samples_leaf=2, min_samples_split=2, n_estimators=34; total time=  14.0s\n",
      "[CV] END criterion=entropy, max_depth=230, max_features=log2, min_samples_leaf=2, min_samples_split=10, n_estimators=23; total time=   9.3s\n",
      "[CV] END criterion=entropy, max_depth=10, max_features=auto, min_samples_leaf=1, min_samples_split=2, n_estimators=56; total time=  15.0s\n",
      "[CV] END criterion=entropy, max_depth=10, max_features=auto, min_samples_leaf=1, min_samples_split=2, n_estimators=56; total time=  15.4s\n",
      "[CV] END criterion=gini, max_depth=10, max_features=log2, min_samples_leaf=6, min_samples_split=2, n_estimators=67; total time=  16.5s\n",
      "[CV] END criterion=entropy, max_depth=1000, max_features=log2, min_samples_leaf=2, min_samples_split=7, n_estimators=67; total time=  26.8s\n",
      "[CV] END criterion=gini, max_depth=890, max_features=auto, min_samples_leaf=4, min_samples_split=7, n_estimators=89; total time=  33.9s\n",
      "[CV] END criterion=entropy, max_depth=450, max_features=sqrt, min_samples_leaf=1, min_samples_split=10, n_estimators=89; total time=  35.8s\n",
      "[CV] END criterion=entropy, max_depth=450, max_features=sqrt, min_samples_leaf=1, min_samples_split=10, n_estimators=89; total time=  37.8s\n",
      "[CV] END criterion=gini, max_depth=890, max_features=log2, min_samples_leaf=6, min_samples_split=2, n_estimators=100; total time=  37.0s\n",
      "[CV] END criterion=gini, max_depth=120, max_features=log2, min_samples_leaf=6, min_samples_split=2, n_estimators=100; total time=  37.4s\n",
      "[CV] END criterion=gini, max_depth=780, max_features=sqrt, min_samples_leaf=2, min_samples_split=2, n_estimators=12; total time=   4.7s\n",
      "[CV] END criterion=gini, max_depth=780, max_features=auto, min_samples_leaf=8, min_samples_split=5, n_estimators=23; total time=   8.4s"
     ]
    },
    {
     "data": {
      "text/plain": [
       "RandomizedSearchCV(cv=5,\n",
       "                   estimator=RandomForestClassifier(criterion='entropy',\n",
       "                                                    n_estimators=50),\n",
       "                   n_iter=100, n_jobs=-1,\n",
       "                   param_distributions={'criterion': ['entropy', 'gini'],\n",
       "                                        'max_depth': [10, 120, 230, 340, 450,\n",
       "                                                      560, 670, 780, 890,\n",
       "                                                      1000],\n",
       "                                        'max_features': ['auto', 'sqrt',\n",
       "                                                         'log2'],\n",
       "                                        'min_samples_leaf': [1, 2, 4, 6, 8],\n",
       "                                        'min_samples_split': [2, 5, 7, 10, 12,\n",
       "                                                              14],\n",
       "                                        'n_estimators': [2, 12, 23, 34, 45, 56,\n",
       "                                                         67, 78, 89, 100]},\n",
       "                   verbose=2)"
      ]
     },
     "execution_count": 31,
     "metadata": {},
     "output_type": "execute_result"
    }
   ],
   "source": [
    "# RandomizedSearchCV randomly assigns a best class and checks if it is best by training the model on those parameters\n",
    "# making an object of the RandomizedSearchCV class\n",
    "rcv = RandomizedSearchCV(estimator=clf6,param_distributions=param_grid,n_iter=100,cv=5,verbose=2,n_jobs=-1)\n",
    "# training the RandomizedSearchCV to find the best parameters\n",
    "rcv.fit(X_train,y_train)"
   ]
  },
  {
   "cell_type": "markdown",
   "id": "a091f428",
   "metadata": {
    "papermill": {
     "duration": 0.085375,
     "end_time": "2022-05-05T20:38:15.185309",
     "exception": false,
     "start_time": "2022-05-05T20:38:15.099934",
     "status": "completed"
    },
    "tags": []
   },
   "source": [
    "### c) Checking Best Parameters"
   ]
  },
  {
   "cell_type": "code",
   "execution_count": 32,
   "id": "af313e43",
   "metadata": {
    "execution": {
     "iopub.execute_input": "2022-05-05T20:38:15.356696Z",
     "iopub.status.busy": "2022-05-05T20:38:15.356327Z",
     "iopub.status.idle": "2022-05-05T20:38:15.363267Z",
     "shell.execute_reply": "2022-05-05T20:38:15.362437Z"
    },
    "papermill": {
     "duration": 0.095519,
     "end_time": "2022-05-05T20:38:15.365348",
     "exception": false,
     "start_time": "2022-05-05T20:38:15.269829",
     "status": "completed"
    },
    "tags": []
   },
   "outputs": [
    {
     "data": {
      "text/plain": [
       "{'n_estimators': 100,\n",
       " 'min_samples_split': 2,\n",
       " 'min_samples_leaf': 6,\n",
       " 'max_features': 'log2',\n",
       " 'max_depth': 890,\n",
       " 'criterion': 'gini'}"
      ]
     },
     "execution_count": 32,
     "metadata": {},
     "output_type": "execute_result"
    }
   ],
   "source": [
    "# this best_params_ attribute prints the best attributes that were found by RandomizedSearchCV\n",
    "rcv.best_params_"
   ]
  },
  {
   "cell_type": "markdown",
   "id": "ff1a8634",
   "metadata": {
    "papermill": {
     "duration": 0.084364,
     "end_time": "2022-05-05T20:38:15.535077",
     "exception": false,
     "start_time": "2022-05-05T20:38:15.450713",
     "status": "completed"
    },
    "tags": []
   },
   "source": [
    "### d) Checking Best Estimator"
   ]
  },
  {
   "cell_type": "code",
   "execution_count": 33,
   "id": "eed712be",
   "metadata": {
    "execution": {
     "iopub.execute_input": "2022-05-05T20:38:15.707303Z",
     "iopub.status.busy": "2022-05-05T20:38:15.706624Z",
     "iopub.status.idle": "2022-05-05T20:38:15.713077Z",
     "shell.execute_reply": "2022-05-05T20:38:15.712384Z"
    },
    "papermill": {
     "duration": 0.094655,
     "end_time": "2022-05-05T20:38:15.714942",
     "exception": false,
     "start_time": "2022-05-05T20:38:15.620287",
     "status": "completed"
    },
    "tags": []
   },
   "outputs": [
    {
     "data": {
      "text/plain": [
       "RandomForestClassifier(max_depth=890, max_features='log2', min_samples_leaf=6)"
      ]
     },
     "execution_count": 33,
     "metadata": {},
     "output_type": "execute_result"
    }
   ],
   "source": [
    "# this best_estimator_ prints the best model that was found by RandomizedSearchCV\n",
    "rcv.best_estimator_"
   ]
  },
  {
   "cell_type": "markdown",
   "id": "8fedab6c",
   "metadata": {
    "papermill": {
     "duration": 0.106579,
     "end_time": "2022-05-05T20:38:15.915526",
     "exception": false,
     "start_time": "2022-05-05T20:38:15.808947",
     "status": "completed"
    },
    "tags": []
   },
   "source": [
    "### e) Training Random Forest with Best Parameters Found"
   ]
  },
  {
   "cell_type": "code",
   "execution_count": 34,
   "id": "f89a7d75",
   "metadata": {
    "execution": {
     "iopub.execute_input": "2022-05-05T20:38:16.115833Z",
     "iopub.status.busy": "2022-05-05T20:38:16.115219Z",
     "iopub.status.idle": "2022-05-05T20:38:26.142767Z",
     "shell.execute_reply": "2022-05-05T20:38:26.141716Z"
    },
    "papermill": {
     "duration": 10.133365,
     "end_time": "2022-05-05T20:38:26.144982",
     "exception": false,
     "start_time": "2022-05-05T20:38:16.011617",
     "status": "completed"
    },
    "tags": []
   },
   "outputs": [
    {
     "name": "stdout",
     "output_type": "stream",
     "text": [
      "[[58339   162]\n",
      " [ 5239   219]]\n",
      "0.9155552775997123\n"
     ]
    }
   ],
   "source": [
    "# making another object of the Random Forest Classifier to test it with the best parameters\n",
    "clf8 = RandomForestClassifier(criterion='gini',n_estimators=56,max_depth=10,max_features='log2',min_samples_split=5,min_samples_leaf=1)\n",
    "clf8.fit(X_train, y_train)\n",
    "y_pred8 = clf8.predict(X_test)\n",
    "cm8 = confusion_matrix(y_test,y_pred8)\n",
    "print(cm8)\n",
    "print(accuracy_score(y_test,y_pred8))"
   ]
  },
  {
   "cell_type": "markdown",
   "id": "b264ca56",
   "metadata": {
    "papermill": {
     "duration": 0.089714,
     "end_time": "2022-05-05T20:38:26.320307",
     "exception": false,
     "start_time": "2022-05-05T20:38:26.230593",
     "status": "completed"
    },
    "tags": []
   },
   "source": [
    "### 7) XGBoost"
   ]
  },
  {
   "cell_type": "code",
   "execution_count": 35,
   "id": "b6dc1264",
   "metadata": {
    "execution": {
     "iopub.execute_input": "2022-05-05T20:38:26.493460Z",
     "iopub.status.busy": "2022-05-05T20:38:26.493197Z",
     "iopub.status.idle": "2022-05-05T20:38:40.598390Z",
     "shell.execute_reply": "2022-05-05T20:38:40.597484Z"
    },
    "papermill": {
     "duration": 14.195322,
     "end_time": "2022-05-05T20:38:40.601596",
     "exception": false,
     "start_time": "2022-05-05T20:38:26.406274",
     "status": "completed"
    },
    "tags": []
   },
   "outputs": [
    {
     "name": "stderr",
     "output_type": "stream",
     "text": [
      "/opt/conda/lib/python3.7/site-packages/xgboost/sklearn.py:1224: UserWarning: The use of label encoder in XGBClassifier is deprecated and will be removed in a future release. To remove this warning, do the following: 1) Pass option use_label_encoder=False when constructing XGBClassifier object; and 2) Encode your labels (y) as integers starting with 0, i.e. 0, 1, 2, ..., [num_class - 1].\n",
      "  warnings.warn(label_encoder_deprecation_msg, UserWarning)\n"
     ]
    },
    {
     "name": "stdout",
     "output_type": "stream",
     "text": [
      "[20:38:26] WARNING: ../src/learner.cc:1115: Starting in XGBoost 1.3.0, the default evaluation metric used with the objective 'binary:logistic' was changed from 'error' to 'logloss'. Explicitly set eval_metric if you'd like to restore the old behavior.\n",
      "[[58042   459]\n",
      " [ 4939   519]]\n",
      "0.915602182648259\n"
     ]
    }
   ],
   "source": [
    "# making an object of the XGBoost class \n",
    "clf7 = XGBClassifier()\n",
    "clf7.fit(X_train, y_train)\n",
    "y_pred7 = clf7.predict(X_test)\n",
    "cm7 = confusion_matrix(y_test,y_pred7)\n",
    "print(cm7)\n",
    "print(accuracy_score(y_test,y_pred7))"
   ]
  },
  {
   "cell_type": "markdown",
   "id": "bb593cdf",
   "metadata": {
    "papermill": {
     "duration": 0.0862,
     "end_time": "2022-05-05T20:38:40.775133",
     "exception": false,
     "start_time": "2022-05-05T20:38:40.688933",
     "status": "completed"
    },
    "tags": []
   },
   "source": [
    "## Here we are able to see that XGBoost Classifier beats even HyperTuned Random Forest Classifier"
   ]
  },
  {
   "cell_type": "markdown",
   "id": "068ff82f",
   "metadata": {
    "papermill": {
     "duration": 0.088546,
     "end_time": "2022-05-05T20:38:40.954507",
     "exception": false,
     "start_time": "2022-05-05T20:38:40.865961",
     "status": "completed"
    },
    "tags": []
   },
   "source": [
    "### XGBoost achieves an accuracy of 91.496%"
   ]
  },
  {
   "cell_type": "markdown",
   "id": "863e06a8",
   "metadata": {
    "papermill": {
     "duration": 0.088046,
     "end_time": "2022-05-05T20:38:41.130817",
     "exception": false,
     "start_time": "2022-05-05T20:38:41.042771",
     "status": "completed"
    },
    "tags": []
   },
   "source": [
    "## Congratulations you have reached the end of this notebook!!!"
   ]
  },
  {
   "cell_type": "markdown",
   "id": "9f010a73",
   "metadata": {
    "papermill": {
     "duration": 0.086961,
     "end_time": "2022-05-05T20:38:41.304734",
     "exception": false,
     "start_time": "2022-05-05T20:38:41.217773",
     "status": "completed"
    },
    "tags": []
   },
   "source": [
    "# Please Upvote if you like it. It motivates me to do more."
   ]
  }
 ],
 "metadata": {
  "kernelspec": {
   "display_name": "Python 3",
   "language": "python",
   "name": "python3"
  },
  "language_info": {
   "codemirror_mode": {
    "name": "ipython",
    "version": 3
   },
   "file_extension": ".py",
   "mimetype": "text/x-python",
   "name": "python",
   "nbconvert_exporter": "python",
   "pygments_lexer": "ipython3",
   "version": "3.7.12"
  },
  "papermill": {
   "default_parameters": {},
   "duration": 3005.152678,
   "end_time": "2022-05-05T20:38:44.018454",
   "environment_variables": {},
   "exception": null,
   "input_path": "__notebook__.ipynb",
   "output_path": "__notebook__.ipynb",
   "parameters": {},
   "start_time": "2022-05-05T19:48:38.865776",
   "version": "2.3.4"
  }
 },
 "nbformat": 4,
 "nbformat_minor": 5
}
